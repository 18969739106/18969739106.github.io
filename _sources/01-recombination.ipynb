{
 "cells": [
  {
   "cell_type": "markdown",
   "id": "21584303",
   "metadata": {
    "slideshow": {
     "slide_type": "slide"
    }
   },
   "source": [
    "# 计算思维：通过拆解和重组学习编程"
   ]
  },
  {
   "cell_type": "markdown",
   "id": "2b40bb3c",
   "metadata": {
    "slideshow": {
     "slide_type": "subslide"
    }
   },
   "source": [
    "**Computational Thinking** is the thought processes involved in formulating problems and their solutions so that the solutions are represented in a form that can be effectively carried out by an information-processing agent [Cuny, Snyder, Wing, 2010]\n"
   ]
  },
  {
   "cell_type": "markdown",
   "id": "ab4ba907",
   "metadata": {
    "slideshow": {
     "slide_type": "subslide"
    }
   },
   "source": [
    "## 计算思维的实现过程\n",
    "\n",
    "- 定义问题\n",
    "- 寻找解决方案\n",
    "- 任务分解\n",
    "- 重组\n",
    "- 自动化实现\n"
   ]
  },
  {
   "cell_type": "markdown",
   "id": "4f808d9d",
   "metadata": {
    "slideshow": {
     "slide_type": "subslide"
    }
   },
   "source": [
    "“The creation of any sort of novelty in art, science, or practical life–consists to a substantial extent of a recombination of conceptual and physical materials that were previously in existence” (Nelson and Winter,1982, p.130)"
   ]
  },
  {
   "cell_type": "markdown",
   "id": "934df395",
   "metadata": {
    "slideshow": {
     "slide_type": "subslide"
    }
   },
   "source": [
    "## 每个人都曾经掌握计算思维"
   ]
  },
  {
   "cell_type": "markdown",
   "id": "b087f506",
   "metadata": {
    "slideshow": {
     "slide_type": "fragment"
    }
   },
   "source": [
    "想一下我们小时候是如何拆玩具的！\n",
    "\n",
    "\n",
    "- 定义问题: 玩具汽车是如何运动的？\n",
    "- 寻找解决方案：拆！\n",
    "- 任务分解：先拆掉螺丝、然后打开、观察\n",
    "- 重组：重新组装起来\n",
    "- 自动化实现：日常生活中一般没有这一步\n"
   ]
  },
  {
   "cell_type": "markdown",
   "id": "cdc2acb7",
   "metadata": {
    "slideshow": {
     "slide_type": "subslide"
    }
   },
   "source": [
    "## 编程也是一个拆开黑盒子并重组的过程！"
   ]
  },
  {
   "cell_type": "markdown",
   "id": "69ed6ee9",
   "metadata": {
    "slideshow": {
     "slide_type": "subslide"
    }
   },
   "source": [
    "- 定义问题: 如何计算一个小说的单词数量？\n",
    "- 寻找解决方案：使用字符串的处理方法\n",
    "- 任务分解：读取小说、去掉标点符号、然后按照空格”分词“、最后列表中的元素数量\n",
    "- 重组：组装起来，写成一个函数\n",
    "- 自动化实现：调用函数"
   ]
  },
  {
   "cell_type": "markdown",
   "id": "7ee2ecbc",
   "metadata": {
    "slideshow": {
     "slide_type": "subslide"
    }
   },
   "source": [
    "## 如果遇到问题怎么办？"
   ]
  },
  {
   "cell_type": "markdown",
   "id": "18638723",
   "metadata": {
    "slideshow": {
     "slide_type": "subslide"
    }
   },
   "source": [
    "- 首先，明确问题是什么。\n",
    "    - Python在出错的时候一般都会告诉我们问题是什么。\n",
    "- 其次，尝试理解问题\n",
    "    - 很多人看到出错就懵了，似乎完美的人生不能容许污点。\n",
    "    - 使用`help`函数\n",
    "- 再次，如果搞不懂可要学会使用搜索引擎\n",
    "    - 很多同学在提问题之前没有搜索过。\n",
    "- 此外，拆开代码找到解决办法后重新组装起来\n",
    "    - 多做案例分析\n",
    "        - 如果是for循环中的代码出问题，可以使用`break`阻断并使用`print`输出结果以便检查\n",
    "    "
   ]
  }
 ],
 "metadata": {
  "celltoolbar": "幻灯片",
  "kernelspec": {
   "display_name": "Python 3 (ipykernel)",
   "language": "python",
   "name": "python3"
  },
  "language_info": {
   "codemirror_mode": {
    "name": "ipython",
    "version": 3
   },
   "file_extension": ".py",
   "mimetype": "text/x-python",
   "name": "python",
   "nbconvert_exporter": "python",
   "pygments_lexer": "ipython3",
   "version": "3.9.7"
  },
  "toc": {
   "base_numbering": 1,
   "nav_menu": {},
   "number_sections": false,
   "sideBar": true,
   "skip_h1_title": false,
   "title_cell": "Table of Contents",
   "title_sidebar": "Contents",
   "toc_cell": false,
   "toc_position": {},
   "toc_section_display": true,
   "toc_window_display": false
  }
 },
 "nbformat": 4,
 "nbformat_minor": 5
}
