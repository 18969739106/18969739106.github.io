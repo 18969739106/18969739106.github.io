{
 "cells": [
  {
   "cell_type": "markdown",
   "metadata": {
    "ExecuteTime": {
     "end_time": "2021-06-11T02:57:02.864712Z",
     "start_time": "2021-06-11T02:57:00.434753Z"
    }
   },
   "source": [
    "# Survival Analysis with Python\n",
    "\n",
    "\n",
    "**lifelines** is a complete survival analysis library, written in pure Python. What benefits does lifelines have?\n",
    "\n",
    "- easy installation\n",
    "- internal plotting methods\n",
    "- simple and intuitive API\n",
    "- handles right, left and interval censored data\n",
    "- contains the most popular parametric, semi-parametric and non-parametric models\n",
    "\n",
    "\n",
    "https://lifelines.readthedocs.io/\n",
    "\n",
    "```\n",
    "pip install lifelines\n",
    "```"
   ]
  },
  {
   "cell_type": "markdown",
   "metadata": {},
   "source": [
    "Cheibub, José Antonio, Jennifer Gandhi, and James Raymond Vreeland. 2010. “Democracy and Dictatorship Revisited.” Public Choice, vol. 143, no. 2-1, pp. 67-101."
   ]
  },
  {
   "cell_type": "code",
   "execution_count": 86,
   "metadata": {
    "ExecuteTime": {
     "end_time": "2021-06-11T03:47:14.098025Z",
     "start_time": "2021-06-11T03:47:14.069417Z"
    }
   },
   "outputs": [
    {
     "data": {
      "text/html": [
       "<div>\n",
       "<style scoped>\n",
       "    .dataframe tbody tr th:only-of-type {\n",
       "        vertical-align: middle;\n",
       "    }\n",
       "\n",
       "    .dataframe tbody tr th {\n",
       "        vertical-align: top;\n",
       "    }\n",
       "\n",
       "    .dataframe thead th {\n",
       "        text-align: right;\n",
       "    }\n",
       "</style>\n",
       "<table border=\"1\" class=\"dataframe\">\n",
       "  <thead>\n",
       "    <tr style=\"text-align: right;\">\n",
       "      <th></th>\n",
       "      <th>ctryname</th>\n",
       "      <th>cowcode2</th>\n",
       "      <th>politycode</th>\n",
       "      <th>un_region_name</th>\n",
       "      <th>un_continent_name</th>\n",
       "      <th>ehead</th>\n",
       "      <th>leaderspellreg</th>\n",
       "      <th>democracy</th>\n",
       "      <th>regime</th>\n",
       "      <th>start_year</th>\n",
       "      <th>duration</th>\n",
       "      <th>observed</th>\n",
       "    </tr>\n",
       "  </thead>\n",
       "  <tbody>\n",
       "    <tr>\n",
       "      <th>0</th>\n",
       "      <td>Afghanistan</td>\n",
       "      <td>700</td>\n",
       "      <td>700.0</td>\n",
       "      <td>Southern Asia</td>\n",
       "      <td>Asia</td>\n",
       "      <td>Mohammad Zahir Shah</td>\n",
       "      <td>Mohammad Zahir Shah.Afghanistan.1946.1952.Mona...</td>\n",
       "      <td>Non-democracy</td>\n",
       "      <td>Monarchy</td>\n",
       "      <td>1946</td>\n",
       "      <td>7</td>\n",
       "      <td>1</td>\n",
       "    </tr>\n",
       "    <tr>\n",
       "      <th>1</th>\n",
       "      <td>Afghanistan</td>\n",
       "      <td>700</td>\n",
       "      <td>700.0</td>\n",
       "      <td>Southern Asia</td>\n",
       "      <td>Asia</td>\n",
       "      <td>Sardar Mohammad Daoud</td>\n",
       "      <td>Sardar Mohammad Daoud.Afghanistan.1953.1962.Ci...</td>\n",
       "      <td>Non-democracy</td>\n",
       "      <td>Civilian Dict</td>\n",
       "      <td>1953</td>\n",
       "      <td>10</td>\n",
       "      <td>1</td>\n",
       "    </tr>\n",
       "    <tr>\n",
       "      <th>2</th>\n",
       "      <td>Afghanistan</td>\n",
       "      <td>700</td>\n",
       "      <td>700.0</td>\n",
       "      <td>Southern Asia</td>\n",
       "      <td>Asia</td>\n",
       "      <td>Mohammad Zahir Shah</td>\n",
       "      <td>Mohammad Zahir Shah.Afghanistan.1963.1972.Mona...</td>\n",
       "      <td>Non-democracy</td>\n",
       "      <td>Monarchy</td>\n",
       "      <td>1963</td>\n",
       "      <td>10</td>\n",
       "      <td>1</td>\n",
       "    </tr>\n",
       "    <tr>\n",
       "      <th>3</th>\n",
       "      <td>Afghanistan</td>\n",
       "      <td>700</td>\n",
       "      <td>700.0</td>\n",
       "      <td>Southern Asia</td>\n",
       "      <td>Asia</td>\n",
       "      <td>Sardar Mohammad Daoud</td>\n",
       "      <td>Sardar Mohammad Daoud.Afghanistan.1973.1977.Ci...</td>\n",
       "      <td>Non-democracy</td>\n",
       "      <td>Civilian Dict</td>\n",
       "      <td>1973</td>\n",
       "      <td>5</td>\n",
       "      <td>0</td>\n",
       "    </tr>\n",
       "    <tr>\n",
       "      <th>4</th>\n",
       "      <td>Afghanistan</td>\n",
       "      <td>700</td>\n",
       "      <td>700.0</td>\n",
       "      <td>Southern Asia</td>\n",
       "      <td>Asia</td>\n",
       "      <td>Nur Mohammad Taraki</td>\n",
       "      <td>Nur Mohammad Taraki.Afghanistan.1978.1978.Civi...</td>\n",
       "      <td>Non-democracy</td>\n",
       "      <td>Civilian Dict</td>\n",
       "      <td>1978</td>\n",
       "      <td>1</td>\n",
       "      <td>0</td>\n",
       "    </tr>\n",
       "  </tbody>\n",
       "</table>\n",
       "</div>"
      ],
      "text/plain": [
       "      ctryname  cowcode2  politycode un_region_name un_continent_name  \\\n",
       "0  Afghanistan       700       700.0  Southern Asia              Asia   \n",
       "1  Afghanistan       700       700.0  Southern Asia              Asia   \n",
       "2  Afghanistan       700       700.0  Southern Asia              Asia   \n",
       "3  Afghanistan       700       700.0  Southern Asia              Asia   \n",
       "4  Afghanistan       700       700.0  Southern Asia              Asia   \n",
       "\n",
       "                   ehead                                     leaderspellreg  \\\n",
       "0    Mohammad Zahir Shah  Mohammad Zahir Shah.Afghanistan.1946.1952.Mona...   \n",
       "1  Sardar Mohammad Daoud  Sardar Mohammad Daoud.Afghanistan.1953.1962.Ci...   \n",
       "2    Mohammad Zahir Shah  Mohammad Zahir Shah.Afghanistan.1963.1972.Mona...   \n",
       "3  Sardar Mohammad Daoud  Sardar Mohammad Daoud.Afghanistan.1973.1977.Ci...   \n",
       "4    Nur Mohammad Taraki  Nur Mohammad Taraki.Afghanistan.1978.1978.Civi...   \n",
       "\n",
       "       democracy         regime  start_year  duration  observed  \n",
       "0  Non-democracy       Monarchy        1946         7         1  \n",
       "1  Non-democracy  Civilian Dict        1953        10         1  \n",
       "2  Non-democracy       Monarchy        1963        10         1  \n",
       "3  Non-democracy  Civilian Dict        1973         5         0  \n",
       "4  Non-democracy  Civilian Dict        1978         1         0  "
      ]
     },
     "execution_count": 86,
     "metadata": {},
     "output_type": "execute_result"
    }
   ],
   "source": [
    "from lifelines.datasets import load_dd\n",
    "\n",
    "data = load_dd()\n",
    "data.head()"
   ]
  },
  {
   "cell_type": "code",
   "execution_count": 5,
   "metadata": {
    "ExecuteTime": {
     "end_time": "2021-06-11T02:57:46.174422Z",
     "start_time": "2021-06-11T02:57:46.168141Z"
    }
   },
   "outputs": [
    {
     "data": {
      "text/plain": [
       "array(['Monarchy', 'Civilian Dict', 'Military Dict', 'Parliamentary Dem',\n",
       "       'Presidential Dem', 'Mixed Dem'], dtype=object)"
      ]
     },
     "execution_count": 5,
     "metadata": {},
     "output_type": "execute_result"
    }
   ],
   "source": [
    "data['regime'].unique()"
   ]
  },
  {
   "cell_type": "code",
   "execution_count": 15,
   "metadata": {
    "ExecuteTime": {
     "end_time": "2021-06-11T03:02:46.604145Z",
     "start_time": "2021-06-11T03:02:46.599364Z"
    }
   },
   "outputs": [
    {
     "data": {
      "text/plain": [
       "array(['Non-democracy', 'Democracy'], dtype=object)"
      ]
     },
     "execution_count": 15,
     "metadata": {},
     "output_type": "execute_result"
    }
   ],
   "source": [
    "data['democracy'].unique()"
   ]
  },
  {
   "cell_type": "code",
   "execution_count": 58,
   "metadata": {
    "ExecuteTime": {
     "end_time": "2021-06-11T03:38:26.335136Z",
     "start_time": "2021-06-11T03:38:26.332445Z"
    }
   },
   "outputs": [],
   "source": [
    "from lifelines import KaplanMeierFitter\n",
    "kmf = KaplanMeierFitter()"
   ]
  },
  {
   "cell_type": "code",
   "execution_count": 59,
   "metadata": {
    "ExecuteTime": {
     "end_time": "2021-06-11T03:38:26.903572Z",
     "start_time": "2021-06-11T03:38:26.882322Z"
    }
   },
   "outputs": [
    {
     "data": {
      "text/plain": [
       "<lifelines.KaplanMeierFitter:\"KM_estimate\", fitted with 1808 total observations, 340 right-censored observations>"
      ]
     },
     "execution_count": 59,
     "metadata": {},
     "output_type": "execute_result"
    }
   ],
   "source": [
    "T = data[\"duration\"]\n",
    "E = data[\"observed\"]\n",
    "\n",
    "kmf.fit(T, event_observed=E)\n"
   ]
  },
  {
   "cell_type": "code",
   "execution_count": 60,
   "metadata": {
    "ExecuteTime": {
     "end_time": "2021-06-11T03:38:31.853733Z",
     "start_time": "2021-06-11T03:38:31.626423Z"
    }
   },
   "outputs": [
    {
     "data": {
      "image/png": "[encoded data removed]",
      "text/plain": [
       "<Figure size 576x576 with 1 Axes>"
      ]
     },
     "metadata": {
      "filenames": {
       "image/png": "/Users/datalab/github/mybook/_build/jupyter_execute/08-09-survival-analysis_7_0.png"
      }
     },
     "output_type": "display_data"
    }
   ],
   "source": [
    "import numpy as np\n",
    "import matplotlib.pyplot as plt\n",
    "plt.style.use('ggplot')\n",
    "plt.figure(figsize = (8, 8))\n",
    "\n",
    "ax = plt.subplot(111)\n",
    "\n",
    "dem = (data[\"democracy\"] == \"Democracy\")\n",
    "\n",
    "t = np.linspace(0, 50, 51)\n",
    "kmf.fit(T[dem], event_observed=E[dem], timeline=t, label=\"Democratic Regimes\")\n",
    "ax = kmf.plot_survival_function(ax=ax)\n",
    "\n",
    "kmf.fit(T[~dem], event_observed=E[~dem], timeline=t, label=\"Non-democratic Regimes\")\n",
    "ax = kmf.plot_survival_function(ax=ax)\n",
    "\n",
    "plt.title(\"Lifespans of different global regimes\");"
   ]
  },
  {
   "cell_type": "code",
   "execution_count": 61,
   "metadata": {
    "ExecuteTime": {
     "end_time": "2021-06-11T03:38:34.096406Z",
     "start_time": "2021-06-11T03:38:33.210218Z"
    }
   },
   "outputs": [
    {
     "data": {
      "image/png": "[encoded data removed]",
      "text/plain": [
       "<Figure size 864x576 with 6 Axes>"
      ]
     },
     "metadata": {
      "filenames": {
       "image/png": "/Users/datalab/github/mybook/_build/jupyter_execute/08-09-survival-analysis_8_0.png"
      }
     },
     "output_type": "display_data"
    }
   ],
   "source": [
    "regime_types = data['regime'].unique()\n",
    "plt.figure(figsize = (12, 8))\n",
    "\n",
    "\n",
    "for i, regime_type in enumerate(regime_types):\n",
    "    ax = plt.subplot(2, 3, i + 1)\n",
    "\n",
    "    ix = data['regime'] == regime_type\n",
    "    kmf.fit(T[ix], E[ix], label=regime_type)\n",
    "    kmf.plot_survival_function(ax=ax, legend=False)\n",
    "\n",
    "    plt.title(regime_type)\n",
    "    plt.xlim(0, 50)\n",
    "\n",
    "    if i==0:\n",
    "        plt.ylabel('Frac. in power after $n$ years')\n",
    "\n",
    "plt.tight_layout()"
   ]
  },
  {
   "cell_type": "code",
   "execution_count": 62,
   "metadata": {
    "ExecuteTime": {
     "end_time": "2021-06-11T03:38:36.206898Z",
     "start_time": "2021-06-11T03:38:36.202000Z"
    }
   },
   "outputs": [
    {
     "data": {
      "text/plain": [
       "array(['Asia', 'Europe', 'Africa', 'Americas', 'Oceania'], dtype=object)"
      ]
     },
     "execution_count": 62,
     "metadata": {},
     "output_type": "execute_result"
    }
   ],
   "source": [
    "data['un_continent_name'].unique()"
   ]
  },
  {
   "cell_type": "code",
   "execution_count": 87,
   "metadata": {
    "ExecuteTime": {
     "end_time": "2021-06-11T03:47:22.142793Z",
     "start_time": "2021-06-11T03:47:22.133078Z"
    }
   },
   "outputs": [
    {
     "data": {
      "text/html": [
       "<div>\n",
       "<style scoped>\n",
       "    .dataframe tbody tr th:only-of-type {\n",
       "        vertical-align: middle;\n",
       "    }\n",
       "\n",
       "    .dataframe tbody tr th {\n",
       "        vertical-align: top;\n",
       "    }\n",
       "\n",
       "    .dataframe thead th {\n",
       "        text-align: right;\n",
       "    }\n",
       "</style>\n",
       "<table border=\"1\" class=\"dataframe\">\n",
       "  <thead>\n",
       "    <tr style=\"text-align: right;\">\n",
       "      <th></th>\n",
       "      <th>Civilian Dict</th>\n",
       "      <th>Military Dict</th>\n",
       "      <th>Mixed Dem</th>\n",
       "      <th>Monarchy</th>\n",
       "      <th>Parliamentary Dem</th>\n",
       "      <th>Presidential Dem</th>\n",
       "    </tr>\n",
       "  </thead>\n",
       "  <tbody>\n",
       "    <tr>\n",
       "      <th>0</th>\n",
       "      <td>0</td>\n",
       "      <td>0</td>\n",
       "      <td>0</td>\n",
       "      <td>1</td>\n",
       "      <td>0</td>\n",
       "      <td>0</td>\n",
       "    </tr>\n",
       "    <tr>\n",
       "      <th>1</th>\n",
       "      <td>1</td>\n",
       "      <td>0</td>\n",
       "      <td>0</td>\n",
       "      <td>0</td>\n",
       "      <td>0</td>\n",
       "      <td>0</td>\n",
       "    </tr>\n",
       "    <tr>\n",
       "      <th>2</th>\n",
       "      <td>0</td>\n",
       "      <td>0</td>\n",
       "      <td>0</td>\n",
       "      <td>1</td>\n",
       "      <td>0</td>\n",
       "      <td>0</td>\n",
       "    </tr>\n",
       "    <tr>\n",
       "      <th>3</th>\n",
       "      <td>1</td>\n",
       "      <td>0</td>\n",
       "      <td>0</td>\n",
       "      <td>0</td>\n",
       "      <td>0</td>\n",
       "      <td>0</td>\n",
       "    </tr>\n",
       "    <tr>\n",
       "      <th>4</th>\n",
       "      <td>1</td>\n",
       "      <td>0</td>\n",
       "      <td>0</td>\n",
       "      <td>0</td>\n",
       "      <td>0</td>\n",
       "      <td>0</td>\n",
       "    </tr>\n",
       "  </tbody>\n",
       "</table>\n",
       "</div>"
      ],
      "text/plain": [
       "   Civilian Dict  Military Dict  Mixed Dem  Monarchy  Parliamentary Dem  \\\n",
       "0              0              0          0         1                  0   \n",
       "1              1              0          0         0                  0   \n",
       "2              0              0          0         1                  0   \n",
       "3              1              0          0         0                  0   \n",
       "4              1              0          0         0                  0   \n",
       "\n",
       "   Presidential Dem  \n",
       "0                 0  \n",
       "1                 0  \n",
       "2                 0  \n",
       "3                 0  \n",
       "4                 0  "
      ]
     },
     "execution_count": 87,
     "metadata": {},
     "output_type": "execute_result"
    }
   ],
   "source": [
    "import pandas as pd\n",
    "df = pd.get_dummies(data['regime'])\n",
    "df.head()"
   ]
  },
  {
   "cell_type": "code",
   "execution_count": 88,
   "metadata": {
    "ExecuteTime": {
     "end_time": "2021-06-11T03:47:22.942729Z",
     "start_time": "2021-06-11T03:47:22.917729Z"
    }
   },
   "outputs": [
    {
     "data": {
      "text/html": [
       "<div>\n",
       "<style scoped>\n",
       "    .dataframe tbody tr th:only-of-type {\n",
       "        vertical-align: middle;\n",
       "    }\n",
       "\n",
       "    .dataframe tbody tr th {\n",
       "        vertical-align: top;\n",
       "    }\n",
       "\n",
       "    .dataframe thead th {\n",
       "        text-align: right;\n",
       "    }\n",
       "</style>\n",
       "<table border=\"1\" class=\"dataframe\">\n",
       "  <thead>\n",
       "    <tr style=\"text-align: right;\">\n",
       "      <th></th>\n",
       "      <th>ctryname</th>\n",
       "      <th>cowcode2</th>\n",
       "      <th>politycode</th>\n",
       "      <th>un_region_name</th>\n",
       "      <th>un_continent_name</th>\n",
       "      <th>ehead</th>\n",
       "      <th>leaderspellreg</th>\n",
       "      <th>democracy</th>\n",
       "      <th>regime</th>\n",
       "      <th>start_year</th>\n",
       "      <th>duration</th>\n",
       "      <th>observed</th>\n",
       "      <th>Civilian Dict</th>\n",
       "      <th>Military Dict</th>\n",
       "      <th>Mixed Dem</th>\n",
       "      <th>Monarchy</th>\n",
       "      <th>Parliamentary Dem</th>\n",
       "      <th>Presidential Dem</th>\n",
       "    </tr>\n",
       "  </thead>\n",
       "  <tbody>\n",
       "    <tr>\n",
       "      <th>0</th>\n",
       "      <td>Afghanistan</td>\n",
       "      <td>700</td>\n",
       "      <td>700.0</td>\n",
       "      <td>Southern Asia</td>\n",
       "      <td>Asia</td>\n",
       "      <td>Mohammad Zahir Shah</td>\n",
       "      <td>Mohammad Zahir Shah.Afghanistan.1946.1952.Mona...</td>\n",
       "      <td>Non-democracy</td>\n",
       "      <td>Monarchy</td>\n",
       "      <td>1946</td>\n",
       "      <td>7</td>\n",
       "      <td>1</td>\n",
       "      <td>0</td>\n",
       "      <td>0</td>\n",
       "      <td>0</td>\n",
       "      <td>1</td>\n",
       "      <td>0</td>\n",
       "      <td>0</td>\n",
       "    </tr>\n",
       "    <tr>\n",
       "      <th>1</th>\n",
       "      <td>Afghanistan</td>\n",
       "      <td>700</td>\n",
       "      <td>700.0</td>\n",
       "      <td>Southern Asia</td>\n",
       "      <td>Asia</td>\n",
       "      <td>Sardar Mohammad Daoud</td>\n",
       "      <td>Sardar Mohammad Daoud.Afghanistan.1953.1962.Ci...</td>\n",
       "      <td>Non-democracy</td>\n",
       "      <td>Civilian Dict</td>\n",
       "      <td>1953</td>\n",
       "      <td>10</td>\n",
       "      <td>1</td>\n",
       "      <td>1</td>\n",
       "      <td>0</td>\n",
       "      <td>0</td>\n",
       "      <td>0</td>\n",
       "      <td>0</td>\n",
       "      <td>0</td>\n",
       "    </tr>\n",
       "    <tr>\n",
       "      <th>2</th>\n",
       "      <td>Afghanistan</td>\n",
       "      <td>700</td>\n",
       "      <td>700.0</td>\n",
       "      <td>Southern Asia</td>\n",
       "      <td>Asia</td>\n",
       "      <td>Mohammad Zahir Shah</td>\n",
       "      <td>Mohammad Zahir Shah.Afghanistan.1963.1972.Mona...</td>\n",
       "      <td>Non-democracy</td>\n",
       "      <td>Monarchy</td>\n",
       "      <td>1963</td>\n",
       "      <td>10</td>\n",
       "      <td>1</td>\n",
       "      <td>0</td>\n",
       "      <td>0</td>\n",
       "      <td>0</td>\n",
       "      <td>1</td>\n",
       "      <td>0</td>\n",
       "      <td>0</td>\n",
       "    </tr>\n",
       "    <tr>\n",
       "      <th>3</th>\n",
       "      <td>Afghanistan</td>\n",
       "      <td>700</td>\n",
       "      <td>700.0</td>\n",
       "      <td>Southern Asia</td>\n",
       "      <td>Asia</td>\n",
       "      <td>Sardar Mohammad Daoud</td>\n",
       "      <td>Sardar Mohammad Daoud.Afghanistan.1973.1977.Ci...</td>\n",
       "      <td>Non-democracy</td>\n",
       "      <td>Civilian Dict</td>\n",
       "      <td>1973</td>\n",
       "      <td>5</td>\n",
       "      <td>0</td>\n",
       "      <td>1</td>\n",
       "      <td>0</td>\n",
       "      <td>0</td>\n",
       "      <td>0</td>\n",
       "      <td>0</td>\n",
       "      <td>0</td>\n",
       "    </tr>\n",
       "    <tr>\n",
       "      <th>4</th>\n",
       "      <td>Afghanistan</td>\n",
       "      <td>700</td>\n",
       "      <td>700.0</td>\n",
       "      <td>Southern Asia</td>\n",
       "      <td>Asia</td>\n",
       "      <td>Nur Mohammad Taraki</td>\n",
       "      <td>Nur Mohammad Taraki.Afghanistan.1978.1978.Civi...</td>\n",
       "      <td>Non-democracy</td>\n",
       "      <td>Civilian Dict</td>\n",
       "      <td>1978</td>\n",
       "      <td>1</td>\n",
       "      <td>0</td>\n",
       "      <td>1</td>\n",
       "      <td>0</td>\n",
       "      <td>0</td>\n",
       "      <td>0</td>\n",
       "      <td>0</td>\n",
       "      <td>0</td>\n",
       "    </tr>\n",
       "    <tr>\n",
       "      <th>...</th>\n",
       "      <td>...</td>\n",
       "      <td>...</td>\n",
       "      <td>...</td>\n",
       "      <td>...</td>\n",
       "      <td>...</td>\n",
       "      <td>...</td>\n",
       "      <td>...</td>\n",
       "      <td>...</td>\n",
       "      <td>...</td>\n",
       "      <td>...</td>\n",
       "      <td>...</td>\n",
       "      <td>...</td>\n",
       "      <td>...</td>\n",
       "      <td>...</td>\n",
       "      <td>...</td>\n",
       "      <td>...</td>\n",
       "      <td>...</td>\n",
       "      <td>...</td>\n",
       "    </tr>\n",
       "    <tr>\n",
       "      <th>1803</th>\n",
       "      <td>Zambia</td>\n",
       "      <td>551</td>\n",
       "      <td>551.0</td>\n",
       "      <td>Eastern Africa</td>\n",
       "      <td>Africa</td>\n",
       "      <td>Levy Patrick Mwanawasa</td>\n",
       "      <td>Levy Patrick Mwanawasa.Zambia.2002.2007.Civili...</td>\n",
       "      <td>Non-democracy</td>\n",
       "      <td>Civilian Dict</td>\n",
       "      <td>2002</td>\n",
       "      <td>6</td>\n",
       "      <td>1</td>\n",
       "      <td>1</td>\n",
       "      <td>0</td>\n",
       "      <td>0</td>\n",
       "      <td>0</td>\n",
       "      <td>0</td>\n",
       "      <td>0</td>\n",
       "    </tr>\n",
       "    <tr>\n",
       "      <th>1804</th>\n",
       "      <td>Zambia</td>\n",
       "      <td>551</td>\n",
       "      <td>551.0</td>\n",
       "      <td>Eastern Africa</td>\n",
       "      <td>Africa</td>\n",
       "      <td>Rupiah Bwezani Banda</td>\n",
       "      <td>Rupiah Bwezani Banda.Zambia.2008.2008.Civilian...</td>\n",
       "      <td>Non-democracy</td>\n",
       "      <td>Civilian Dict</td>\n",
       "      <td>2008</td>\n",
       "      <td>1</td>\n",
       "      <td>0</td>\n",
       "      <td>1</td>\n",
       "      <td>0</td>\n",
       "      <td>0</td>\n",
       "      <td>0</td>\n",
       "      <td>0</td>\n",
       "      <td>0</td>\n",
       "    </tr>\n",
       "    <tr>\n",
       "      <th>1805</th>\n",
       "      <td>Zimbabwe</td>\n",
       "      <td>552</td>\n",
       "      <td>552.0</td>\n",
       "      <td>Eastern Africa</td>\n",
       "      <td>Africa</td>\n",
       "      <td>Ian Smith</td>\n",
       "      <td>Ian Smith.Zimbabwe.1965.1978.Civilian Dict</td>\n",
       "      <td>Non-democracy</td>\n",
       "      <td>Civilian Dict</td>\n",
       "      <td>1965</td>\n",
       "      <td>14</td>\n",
       "      <td>1</td>\n",
       "      <td>1</td>\n",
       "      <td>0</td>\n",
       "      <td>0</td>\n",
       "      <td>0</td>\n",
       "      <td>0</td>\n",
       "      <td>0</td>\n",
       "    </tr>\n",
       "    <tr>\n",
       "      <th>1806</th>\n",
       "      <td>Zimbabwe</td>\n",
       "      <td>552</td>\n",
       "      <td>552.0</td>\n",
       "      <td>Eastern Africa</td>\n",
       "      <td>Africa</td>\n",
       "      <td>Abel Muzorewa</td>\n",
       "      <td>Abel Muzorewa.Zimbabwe.1979.1979.Civilian Dict</td>\n",
       "      <td>Non-democracy</td>\n",
       "      <td>Civilian Dict</td>\n",
       "      <td>1979</td>\n",
       "      <td>1</td>\n",
       "      <td>1</td>\n",
       "      <td>1</td>\n",
       "      <td>0</td>\n",
       "      <td>0</td>\n",
       "      <td>0</td>\n",
       "      <td>0</td>\n",
       "      <td>0</td>\n",
       "    </tr>\n",
       "    <tr>\n",
       "      <th>1807</th>\n",
       "      <td>Zimbabwe</td>\n",
       "      <td>552</td>\n",
       "      <td>552.0</td>\n",
       "      <td>Eastern Africa</td>\n",
       "      <td>Africa</td>\n",
       "      <td>Robert Mugabe</td>\n",
       "      <td>Robert Mugabe.Zimbabwe.1980.2008.Civilian Dict</td>\n",
       "      <td>Non-democracy</td>\n",
       "      <td>Civilian Dict</td>\n",
       "      <td>1980</td>\n",
       "      <td>29</td>\n",
       "      <td>0</td>\n",
       "      <td>1</td>\n",
       "      <td>0</td>\n",
       "      <td>0</td>\n",
       "      <td>0</td>\n",
       "      <td>0</td>\n",
       "      <td>0</td>\n",
       "    </tr>\n",
       "  </tbody>\n",
       "</table>\n",
       "<p>1808 rows × 18 columns</p>\n",
       "</div>"
      ],
      "text/plain": [
       "         ctryname  cowcode2  politycode  un_region_name un_continent_name  \\\n",
       "0     Afghanistan       700       700.0   Southern Asia              Asia   \n",
       "1     Afghanistan       700       700.0   Southern Asia              Asia   \n",
       "2     Afghanistan       700       700.0   Southern Asia              Asia   \n",
       "3     Afghanistan       700       700.0   Southern Asia              Asia   \n",
       "4     Afghanistan       700       700.0   Southern Asia              Asia   \n",
       "...           ...       ...         ...             ...               ...   \n",
       "1803       Zambia       551       551.0  Eastern Africa            Africa   \n",
       "1804       Zambia       551       551.0  Eastern Africa            Africa   \n",
       "1805     Zimbabwe       552       552.0  Eastern Africa            Africa   \n",
       "1806     Zimbabwe       552       552.0  Eastern Africa            Africa   \n",
       "1807     Zimbabwe       552       552.0  Eastern Africa            Africa   \n",
       "\n",
       "                       ehead  \\\n",
       "0        Mohammad Zahir Shah   \n",
       "1      Sardar Mohammad Daoud   \n",
       "2        Mohammad Zahir Shah   \n",
       "3      Sardar Mohammad Daoud   \n",
       "4        Nur Mohammad Taraki   \n",
       "...                      ...   \n",
       "1803  Levy Patrick Mwanawasa   \n",
       "1804    Rupiah Bwezani Banda   \n",
       "1805               Ian Smith   \n",
       "1806           Abel Muzorewa   \n",
       "1807           Robert Mugabe   \n",
       "\n",
       "                                         leaderspellreg      democracy  \\\n",
       "0     Mohammad Zahir Shah.Afghanistan.1946.1952.Mona...  Non-democracy   \n",
       "1     Sardar Mohammad Daoud.Afghanistan.1953.1962.Ci...  Non-democracy   \n",
       "2     Mohammad Zahir Shah.Afghanistan.1963.1972.Mona...  Non-democracy   \n",
       "3     Sardar Mohammad Daoud.Afghanistan.1973.1977.Ci...  Non-democracy   \n",
       "4     Nur Mohammad Taraki.Afghanistan.1978.1978.Civi...  Non-democracy   \n",
       "...                                                 ...            ...   \n",
       "1803  Levy Patrick Mwanawasa.Zambia.2002.2007.Civili...  Non-democracy   \n",
       "1804  Rupiah Bwezani Banda.Zambia.2008.2008.Civilian...  Non-democracy   \n",
       "1805         Ian Smith.Zimbabwe.1965.1978.Civilian Dict  Non-democracy   \n",
       "1806     Abel Muzorewa.Zimbabwe.1979.1979.Civilian Dict  Non-democracy   \n",
       "1807     Robert Mugabe.Zimbabwe.1980.2008.Civilian Dict  Non-democracy   \n",
       "\n",
       "             regime  start_year  duration  observed  Civilian Dict  \\\n",
       "0          Monarchy        1946         7         1              0   \n",
       "1     Civilian Dict        1953        10         1              1   \n",
       "2          Monarchy        1963        10         1              0   \n",
       "3     Civilian Dict        1973         5         0              1   \n",
       "4     Civilian Dict        1978         1         0              1   \n",
       "...             ...         ...       ...       ...            ...   \n",
       "1803  Civilian Dict        2002         6         1              1   \n",
       "1804  Civilian Dict        2008         1         0              1   \n",
       "1805  Civilian Dict        1965        14         1              1   \n",
       "1806  Civilian Dict        1979         1         1              1   \n",
       "1807  Civilian Dict        1980        29         0              1   \n",
       "\n",
       "      Military Dict  Mixed Dem  Monarchy  Parliamentary Dem  Presidential Dem  \n",
       "0                 0          0         1                  0                 0  \n",
       "1                 0          0         0                  0                 0  \n",
       "2                 0          0         1                  0                 0  \n",
       "3                 0          0         0                  0                 0  \n",
       "4                 0          0         0                  0                 0  \n",
       "...             ...        ...       ...                ...               ...  \n",
       "1803              0          0         0                  0                 0  \n",
       "1804              0          0         0                  0                 0  \n",
       "1805              0          0         0                  0                 0  \n",
       "1806              0          0         0                  0                 0  \n",
       "1807              0          0         0                  0                 0  \n",
       "\n",
       "[1808 rows x 18 columns]"
      ]
     },
     "execution_count": 88,
     "metadata": {},
     "output_type": "execute_result"
    }
   ],
   "source": [
    "data = pd.concat([data, df], axis=1)\n",
    "data"
   ]
  },
  {
   "cell_type": "code",
   "execution_count": 89,
   "metadata": {
    "ExecuteTime": {
     "end_time": "2021-06-11T03:47:26.398896Z",
     "start_time": "2021-06-11T03:47:26.394526Z"
    }
   },
   "outputs": [
    {
     "data": {
      "text/plain": [
       "Index(['ctryname', 'cowcode2', 'politycode', 'un_region_name',\n",
       "       'un_continent_name', 'ehead', 'leaderspellreg', 'democracy', 'regime',\n",
       "       'start_year', 'duration', 'observed', 'Civilian Dict', 'Military Dict',\n",
       "       'Mixed Dem', 'Monarchy', 'Parliamentary Dem', 'Presidential Dem'],\n",
       "      dtype='object')"
      ]
     },
     "execution_count": 89,
     "metadata": {},
     "output_type": "execute_result"
    }
   ],
   "source": [
    "data.columns"
   ]
  },
  {
   "cell_type": "code",
   "execution_count": 90,
   "metadata": {
    "ExecuteTime": {
     "end_time": "2021-06-11T03:47:28.697008Z",
     "start_time": "2021-06-11T03:47:28.692461Z"
    }
   },
   "outputs": [],
   "source": [
    "data['Democracy'] = [1  if i == 'Democracy' else 0 for i in data['democracy']]"
   ]
  },
  {
   "cell_type": "code",
   "execution_count": 91,
   "metadata": {
    "ExecuteTime": {
     "end_time": "2021-06-11T03:48:19.350312Z",
     "start_time": "2021-06-11T03:48:19.212059Z"
    }
   },
   "outputs": [
    {
     "data": {
      "text/html": [
       "<div>\n",
       "<style scoped>\n",
       "    .dataframe tbody tr th:only-of-type {\n",
       "        vertical-align: middle;\n",
       "    }\n",
       "\n",
       "    .dataframe tbody tr th {\n",
       "        vertical-align: top;\n",
       "    }\n",
       "\n",
       "    .dataframe thead th {\n",
       "        text-align: right;\n",
       "    }\n",
       "</style>\n",
       "<table border=\"1\" class=\"dataframe\">\n",
       "  <tbody>\n",
       "    <tr>\n",
       "      <th>model</th>\n",
       "      <td>lifelines.CoxPHFitter</td>\n",
       "    </tr>\n",
       "    <tr>\n",
       "      <th>duration col</th>\n",
       "      <td>'duration'</td>\n",
       "    </tr>\n",
       "    <tr>\n",
       "      <th>event col</th>\n",
       "      <td>'observed'</td>\n",
       "    </tr>\n",
       "    <tr>\n",
       "      <th>baseline estimation</th>\n",
       "      <td>breslow</td>\n",
       "    </tr>\n",
       "    <tr>\n",
       "      <th>number of observations</th>\n",
       "      <td>1808</td>\n",
       "    </tr>\n",
       "    <tr>\n",
       "      <th>number of events observed</th>\n",
       "      <td>1468</td>\n",
       "    </tr>\n",
       "    <tr>\n",
       "      <th>partial log-likelihood</th>\n",
       "      <td>-9613.93</td>\n",
       "    </tr>\n",
       "    <tr>\n",
       "      <th>time fit was run</th>\n",
       "      <td>2021-06-11 03:48:19 UTC</td>\n",
       "    </tr>\n",
       "  </tbody>\n",
       "</table>\n",
       "</div><table border=\"1\" class=\"dataframe\">\n",
       "  <thead>\n",
       "    <tr style=\"text-align: right;\">\n",
       "      <th style=\"min-width: 12px;\"></th>\n",
       "      <th style=\"min-width: 12px;\">coef</th>\n",
       "      <th style=\"min-width: 12px;\">exp(coef)</th>\n",
       "      <th style=\"min-width: 12px;\">se(coef)</th>\n",
       "      <th style=\"min-width: 12px;\">coef lower 95%</th>\n",
       "      <th style=\"min-width: 12px;\">coef upper 95%</th>\n",
       "      <th style=\"min-width: 12px;\">exp(coef) lower 95%</th>\n",
       "      <th style=\"min-width: 12px;\">exp(coef) upper 95%</th>\n",
       "      <th style=\"min-width: 12px;\">z</th>\n",
       "      <th style=\"min-width: 12px;\">p</th>\n",
       "      <th style=\"min-width: 12px;\">-log2(p)</th>\n",
       "    </tr>\n",
       "  </thead>\n",
       "  <tbody>\n",
       "    <tr>\n",
       "      <th>start_year</th>\n",
       "      <td>-0.00</td>\n",
       "      <td>1.00</td>\n",
       "      <td>0.00</td>\n",
       "      <td>-0.00</td>\n",
       "      <td>0.00</td>\n",
       "      <td>1.00</td>\n",
       "      <td>1.00</td>\n",
       "      <td>-0.82</td>\n",
       "      <td>0.41</td>\n",
       "      <td>1.28</td>\n",
       "    </tr>\n",
       "    <tr>\n",
       "      <th>Democracy</th>\n",
       "      <td>0.97</td>\n",
       "      <td>2.65</td>\n",
       "      <td>0.06</td>\n",
       "      <td>0.85</td>\n",
       "      <td>1.10</td>\n",
       "      <td>2.34</td>\n",
       "      <td>3.00</td>\n",
       "      <td>15.27</td>\n",
       "      <td>&lt;0.005</td>\n",
       "      <td>172.57</td>\n",
       "    </tr>\n",
       "  </tbody>\n",
       "</table><br><div>\n",
       "<style scoped>\n",
       "    .dataframe tbody tr th:only-of-type {\n",
       "        vertical-align: middle;\n",
       "    }\n",
       "\n",
       "    .dataframe tbody tr th {\n",
       "        vertical-align: top;\n",
       "    }\n",
       "\n",
       "    .dataframe thead th {\n",
       "        text-align: right;\n",
       "    }\n",
       "</style>\n",
       "<table border=\"1\" class=\"dataframe\">\n",
       "  <tbody>\n",
       "    <tr>\n",
       "      <th>Concordance</th>\n",
       "      <td>0.60</td>\n",
       "    </tr>\n",
       "    <tr>\n",
       "      <th>Partial AIC</th>\n",
       "      <td>19231.86</td>\n",
       "    </tr>\n",
       "    <tr>\n",
       "      <th>log-likelihood ratio test</th>\n",
       "      <td>264.70 on 2 df</td>\n",
       "    </tr>\n",
       "    <tr>\n",
       "      <th>-log2(p) of ll-ratio test</th>\n",
       "      <td>190.94</td>\n",
       "    </tr>\n",
       "  </tbody>\n",
       "</table>\n",
       "</div>"
      ],
      "text/latex": [
       "\\begin{tabular}{lrrrrrrrrrr}\n",
       "\\toprule\n",
       "{} &  coef &  exp(coef) &  se(coef) &  coef lower 95\\% &  coef upper 95\\% &  exp(coef) lower 95\\% &  exp(coef) upper 95\\% &     z &    p &  -log2(p) \\\\\n",
       "covariate  &       &            &           &                 &                 &                      &                      &       &      &           \\\\\n",
       "\\midrule\n",
       "start\\_year & -0.00 &       1.00 &      0.00 &           -0.00 &            0.00 &                 1.00 &                 1.00 & -0.82 & 0.41 &      1.28 \\\\\n",
       "Democracy  &  0.97 &       2.65 &      0.06 &            0.85 &            1.10 &                 2.34 &                 3.00 & 15.27 & 0.00 &    172.57 \\\\\n",
       "\\bottomrule\n",
       "\\end{tabular}\n"
      ],
      "text/plain": [
       "<lifelines.CoxPHFitter: fitted with 1808 total observations, 340 right-censored observations>\n",
       "             duration col = 'duration'\n",
       "                event col = 'observed'\n",
       "      baseline estimation = breslow\n",
       "   number of observations = 1808\n",
       "number of events observed = 1468\n",
       "   partial log-likelihood = -9613.93\n",
       "         time fit was run = 2021-06-11 03:48:19 UTC\n",
       "\n",
       "---\n",
       "             coef  exp(coef)   se(coef)   coef lower 95%   coef upper 95%  exp(coef) lower 95%  exp(coef) upper 95%\n",
       "covariate                                                                                                          \n",
       "start_year  -0.00       1.00       0.00            -0.00             0.00                 1.00                 1.00\n",
       "Democracy    0.97       2.65       0.06             0.85             1.10                 2.34                 3.00\n",
       "\n",
       "               z      p   -log2(p)\n",
       "covariate                         \n",
       "start_year -0.82   0.41       1.28\n",
       "Democracy  15.27 <0.005     172.57\n",
       "---\n",
       "Concordance = 0.60\n",
       "Partial AIC = 19231.86\n",
       "log-likelihood ratio test = 264.70 on 2 df\n",
       "-log2(p) of ll-ratio test = 190.94"
      ]
     },
     "metadata": {},
     "output_type": "display_data"
    }
   ],
   "source": [
    "from lifelines import CoxPHFitter\n",
    "\n",
    "cph0 = CoxPHFitter()\n",
    "\n",
    "dat = data[['duration', 'observed', 'start_year','Democracy']]\n",
    "\n",
    "cph0.fit(dat, duration_col='duration', event_col='observed')\n",
    "\n",
    "cph0.print_summary() "
   ]
  },
  {
   "cell_type": "code",
   "execution_count": 82,
   "metadata": {
    "ExecuteTime": {
     "end_time": "2021-06-11T03:44:58.381549Z",
     "start_time": "2021-06-11T03:44:58.210440Z"
    }
   },
   "outputs": [
    {
     "data": {
      "text/html": [
       "<div>\n",
       "<style scoped>\n",
       "    .dataframe tbody tr th:only-of-type {\n",
       "        vertical-align: middle;\n",
       "    }\n",
       "\n",
       "    .dataframe tbody tr th {\n",
       "        vertical-align: top;\n",
       "    }\n",
       "\n",
       "    .dataframe thead th {\n",
       "        text-align: right;\n",
       "    }\n",
       "</style>\n",
       "<table border=\"1\" class=\"dataframe\">\n",
       "  <tbody>\n",
       "    <tr>\n",
       "      <th>model</th>\n",
       "      <td>lifelines.CoxPHFitter</td>\n",
       "    </tr>\n",
       "    <tr>\n",
       "      <th>duration col</th>\n",
       "      <td>'duration'</td>\n",
       "    </tr>\n",
       "    <tr>\n",
       "      <th>event col</th>\n",
       "      <td>'observed'</td>\n",
       "    </tr>\n",
       "    <tr>\n",
       "      <th>baseline estimation</th>\n",
       "      <td>breslow</td>\n",
       "    </tr>\n",
       "    <tr>\n",
       "      <th>number of observations</th>\n",
       "      <td>1808</td>\n",
       "    </tr>\n",
       "    <tr>\n",
       "      <th>number of events observed</th>\n",
       "      <td>1468</td>\n",
       "    </tr>\n",
       "    <tr>\n",
       "      <th>partial log-likelihood</th>\n",
       "      <td>-9576.63</td>\n",
       "    </tr>\n",
       "    <tr>\n",
       "      <th>time fit was run</th>\n",
       "      <td>2021-06-11 03:44:58 UTC</td>\n",
       "    </tr>\n",
       "  </tbody>\n",
       "</table>\n",
       "</div><table border=\"1\" class=\"dataframe\">\n",
       "  <thead>\n",
       "    <tr style=\"text-align: right;\">\n",
       "      <th style=\"min-width: 12px;\"></th>\n",
       "      <th style=\"min-width: 12px;\">coef</th>\n",
       "      <th style=\"min-width: 12px;\">exp(coef)</th>\n",
       "      <th style=\"min-width: 12px;\">se(coef)</th>\n",
       "      <th style=\"min-width: 12px;\">coef lower 95%</th>\n",
       "      <th style=\"min-width: 12px;\">coef upper 95%</th>\n",
       "      <th style=\"min-width: 12px;\">exp(coef) lower 95%</th>\n",
       "      <th style=\"min-width: 12px;\">exp(coef) upper 95%</th>\n",
       "      <th style=\"min-width: 12px;\">z</th>\n",
       "      <th style=\"min-width: 12px;\">p</th>\n",
       "      <th style=\"min-width: 12px;\">-log2(p)</th>\n",
       "    </tr>\n",
       "  </thead>\n",
       "  <tbody>\n",
       "    <tr>\n",
       "      <th>start_year</th>\n",
       "      <td>-0.00</td>\n",
       "      <td>1.00</td>\n",
       "      <td>0.00</td>\n",
       "      <td>-0.01</td>\n",
       "      <td>0.00</td>\n",
       "      <td>0.99</td>\n",
       "      <td>1.00</td>\n",
       "      <td>-1.81</td>\n",
       "      <td>0.07</td>\n",
       "      <td>3.83</td>\n",
       "    </tr>\n",
       "    <tr>\n",
       "      <th>Civilian Dict</th>\n",
       "      <td>1.12</td>\n",
       "      <td>3.05</td>\n",
       "      <td>0.22</td>\n",
       "      <td>0.68</td>\n",
       "      <td>1.56</td>\n",
       "      <td>1.97</td>\n",
       "      <td>4.74</td>\n",
       "      <td>4.97</td>\n",
       "      <td>&lt;0.005</td>\n",
       "      <td>20.52</td>\n",
       "    </tr>\n",
       "    <tr>\n",
       "      <th>Military Dict</th>\n",
       "      <td>1.29</td>\n",
       "      <td>3.63</td>\n",
       "      <td>0.23</td>\n",
       "      <td>0.84</td>\n",
       "      <td>1.73</td>\n",
       "      <td>2.32</td>\n",
       "      <td>5.66</td>\n",
       "      <td>5.67</td>\n",
       "      <td>&lt;0.005</td>\n",
       "      <td>26.05</td>\n",
       "    </tr>\n",
       "    <tr>\n",
       "      <th>Mixed Dem</th>\n",
       "      <td>2.43</td>\n",
       "      <td>11.38</td>\n",
       "      <td>0.23</td>\n",
       "      <td>1.98</td>\n",
       "      <td>2.88</td>\n",
       "      <td>7.26</td>\n",
       "      <td>17.85</td>\n",
       "      <td>10.60</td>\n",
       "      <td>&lt;0.005</td>\n",
       "      <td>84.73</td>\n",
       "    </tr>\n",
       "    <tr>\n",
       "      <th>Parliamentary Dem</th>\n",
       "      <td>1.98</td>\n",
       "      <td>7.26</td>\n",
       "      <td>0.22</td>\n",
       "      <td>1.55</td>\n",
       "      <td>2.42</td>\n",
       "      <td>4.69</td>\n",
       "      <td>11.23</td>\n",
       "      <td>8.91</td>\n",
       "      <td>&lt;0.005</td>\n",
       "      <td>60.73</td>\n",
       "    </tr>\n",
       "    <tr>\n",
       "      <th>Presidential Dem</th>\n",
       "      <td>2.06</td>\n",
       "      <td>7.84</td>\n",
       "      <td>0.23</td>\n",
       "      <td>1.61</td>\n",
       "      <td>2.50</td>\n",
       "      <td>5.02</td>\n",
       "      <td>12.24</td>\n",
       "      <td>9.06</td>\n",
       "      <td>&lt;0.005</td>\n",
       "      <td>62.68</td>\n",
       "    </tr>\n",
       "  </tbody>\n",
       "</table><br><div>\n",
       "<style scoped>\n",
       "    .dataframe tbody tr th:only-of-type {\n",
       "        vertical-align: middle;\n",
       "    }\n",
       "\n",
       "    .dataframe tbody tr th {\n",
       "        vertical-align: top;\n",
       "    }\n",
       "\n",
       "    .dataframe thead th {\n",
       "        text-align: right;\n",
       "    }\n",
       "</style>\n",
       "<table border=\"1\" class=\"dataframe\">\n",
       "  <tbody>\n",
       "    <tr>\n",
       "      <th>Concordance</th>\n",
       "      <td>0.63</td>\n",
       "    </tr>\n",
       "    <tr>\n",
       "      <th>Partial AIC</th>\n",
       "      <td>19165.27</td>\n",
       "    </tr>\n",
       "    <tr>\n",
       "      <th>log-likelihood ratio test</th>\n",
       "      <td>339.29 on 6 df</td>\n",
       "    </tr>\n",
       "    <tr>\n",
       "      <th>-log2(p) of ll-ratio test</th>\n",
       "      <td>230.92</td>\n",
       "    </tr>\n",
       "  </tbody>\n",
       "</table>\n",
       "</div>"
      ],
      "text/latex": [
       "\\begin{tabular}{lrrrrrrrrrr}\n",
       "\\toprule\n",
       "{} &  coef &  exp(coef) &  se(coef) &  coef lower 95\\% &  coef upper 95\\% &  exp(coef) lower 95\\% &  exp(coef) upper 95\\% &     z &    p &  -log2(p) \\\\\n",
       "covariate         &       &            &           &                 &                 &                      &                      &       &      &           \\\\\n",
       "\\midrule\n",
       "start\\_year        & -0.00 &       1.00 &      0.00 &           -0.01 &            0.00 &                 0.99 &                 1.00 & -1.81 & 0.07 &      3.83 \\\\\n",
       "Civilian Dict     &  1.12 &       3.05 &      0.22 &            0.68 &            1.56 &                 1.97 &                 4.74 &  4.97 & 0.00 &     20.52 \\\\\n",
       "Military Dict     &  1.29 &       3.63 &      0.23 &            0.84 &            1.73 &                 2.32 &                 5.66 &  5.67 & 0.00 &     26.05 \\\\\n",
       "Mixed Dem         &  2.43 &      11.38 &      0.23 &            1.98 &            2.88 &                 7.26 &                17.85 & 10.60 & 0.00 &     84.73 \\\\\n",
       "Parliamentary Dem &  1.98 &       7.26 &      0.22 &            1.55 &            2.42 &                 4.69 &                11.23 &  8.91 & 0.00 &     60.73 \\\\\n",
       "Presidential Dem  &  2.06 &       7.84 &      0.23 &            1.61 &            2.50 &                 5.02 &                12.24 &  9.06 & 0.00 &     62.68 \\\\\n",
       "\\bottomrule\n",
       "\\end{tabular}\n"
      ],
      "text/plain": [
       "<lifelines.CoxPHFitter: fitted with 1808 total observations, 340 right-censored observations>\n",
       "             duration col = 'duration'\n",
       "                event col = 'observed'\n",
       "      baseline estimation = breslow\n",
       "   number of observations = 1808\n",
       "number of events observed = 1468\n",
       "   partial log-likelihood = -9576.63\n",
       "         time fit was run = 2021-06-11 03:44:58 UTC\n",
       "\n",
       "---\n",
       "                    coef  exp(coef)   se(coef)   coef lower 95%   coef upper 95%  exp(coef) lower 95%  exp(coef) upper 95%\n",
       "covariate                                                                                                                 \n",
       "start_year         -0.00       1.00       0.00            -0.01             0.00                 0.99                 1.00\n",
       "Civilian Dict       1.12       3.05       0.22             0.68             1.56                 1.97                 4.74\n",
       "Military Dict       1.29       3.63       0.23             0.84             1.73                 2.32                 5.66\n",
       "Mixed Dem           2.43      11.38       0.23             1.98             2.88                 7.26                17.85\n",
       "Parliamentary Dem   1.98       7.26       0.22             1.55             2.42                 4.69                11.23\n",
       "Presidential Dem    2.06       7.84       0.23             1.61             2.50                 5.02                12.24\n",
       "\n",
       "                      z      p   -log2(p)\n",
       "covariate                                \n",
       "start_year        -1.81   0.07       3.83\n",
       "Civilian Dict      4.97 <0.005      20.52\n",
       "Military Dict      5.67 <0.005      26.05\n",
       "Mixed Dem         10.60 <0.005      84.73\n",
       "Parliamentary Dem  8.91 <0.005      60.73\n",
       "Presidential Dem   9.06 <0.005      62.68\n",
       "---\n",
       "Concordance = 0.63\n",
       "Partial AIC = 19165.27\n",
       "log-likelihood ratio test = 339.29 on 6 df\n",
       "-log2(p) of ll-ratio test = 230.92"
      ]
     },
     "metadata": {},
     "output_type": "display_data"
    }
   ],
   "source": [
    "dat = data[['duration', 'observed', 'start_year',\n",
    "     'Civilian Dict', 'Military Dict', #'Monarchy',\n",
    "       'Mixed Dem',  'Parliamentary Dem', 'Presidential Dem'\n",
    "]]\n",
    "\n",
    "from lifelines import CoxPHFitter\n",
    "\n",
    "cph = CoxPHFitter()\n",
    "cph.fit(dat, duration_col='duration', event_col='observed')\n",
    "\n",
    "cph.print_summary() "
   ]
  },
  {
   "cell_type": "code",
   "execution_count": 84,
   "metadata": {
    "ExecuteTime": {
     "end_time": "2021-06-11T03:46:06.718596Z",
     "start_time": "2021-06-11T03:46:06.566579Z"
    }
   },
   "outputs": [
    {
     "data": {
      "image/png": "[encoded data removed]",
      "text/plain": [
       "<Figure size 864x576 with 1 Axes>"
      ]
     },
     "metadata": {
      "filenames": {
       "image/png": "/Users/datalab/github/mybook/_build/jupyter_execute/08-09-survival-analysis_16_0.png"
      }
     },
     "output_type": "display_data"
    }
   ],
   "source": [
    "plt.figure(figsize = (12, 8))\n",
    "cph.plot()\n",
    "plt.show()\n"
   ]
  },
  {
   "cell_type": "code",
   "execution_count": 85,
   "metadata": {
    "ExecuteTime": {
     "end_time": "2021-06-11T03:46:51.210158Z",
     "start_time": "2021-06-11T03:46:51.045959Z"
    }
   },
   "outputs": [
    {
     "data": {
      "image/png": "[encoded data removed]",
      "text/plain": [
       "<Figure size 432x288 with 1 Axes>"
      ]
     },
     "metadata": {
      "filenames": {
       "image/png": "/Users/datalab/github/mybook/_build/jupyter_execute/08-09-survival-analysis_17_0.png"
      }
     },
     "output_type": "display_data"
    }
   ],
   "source": [
    "cph.plot_partial_effects_on_outcome(covariates='Presidential Dem', values=[0, 1], cmap='coolwarm');"
   ]
  },
  {
   "cell_type": "code",
   "execution_count": null,
   "metadata": {},
   "outputs": [],
   "source": []
  }
 ],
 "metadata": {
  "kernelspec": {
   "display_name": "Python 3",
   "language": "python",
   "name": "python3"
  },
  "language_info": {
   "codemirror_mode": {
    "name": "ipython",
    "version": 3
   },
   "file_extension": ".py",
   "mimetype": "text/x-python",
   "name": "python",
   "nbconvert_exporter": "python",
   "pygments_lexer": "ipython3",
   "version": "3.7.6"
  },
  "toc": {
   "base_numbering": 1,
   "nav_menu": {},
   "number_sections": false,
   "sideBar": true,
   "skip_h1_title": false,
   "title_cell": "Table of Contents",
   "title_sidebar": "Contents",
   "toc_cell": false,
   "toc_position": {},
   "toc_section_display": true,
   "toc_window_display": false
  }
 },
 "nbformat": 4,
 "nbformat_minor": 4
}