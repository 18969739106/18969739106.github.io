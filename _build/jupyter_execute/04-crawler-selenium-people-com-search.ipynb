{
 "cells": [
  {
   "cell_type": "markdown",
   "metadata": {
    "slideshow": {
     "slide_type": "slide"
    }
   },
   "source": [
    "\n",
    "# 使用Selenium提取人民网搜索数据\n",
    "\n"
   ]
  },
  {
   "cell_type": "markdown",
   "metadata": {
    "slideshow": {
     "slide_type": "subslide"
    }
   },
   "source": [
    "![image.png](./images/people.png)\n",
    "\n",
    "http://search.people.com.cn/cnpeople/news/getNewsResult.jsp"
   ]
  },
  {
   "cell_type": "markdown",
   "metadata": {
    "slideshow": {
     "slide_type": "subslide"
    }
   },
   "source": [
    "![image.png](./images/people2.png)\n",
    "\n",
    "\n",
    "点击下一页页面的URL不变"
   ]
  },
  {
   "cell_type": "markdown",
   "metadata": {
    "slideshow": {
     "slide_type": "subslide"
    }
   },
   "source": [
    "![image.png](./images/people3.png)\n",
    "\n",
    "\n",
    "鼠标右键查看页码"
   ]
  },
  {
   "cell_type": "code",
   "execution_count": 12,
   "metadata": {
    "ExecuteTime": {
     "end_time": "2020-06-06T04:11:58.375950Z",
     "start_time": "2020-06-06T04:11:58.371619Z"
    },
    "slideshow": {
     "slide_type": "subslide"
    }
   },
   "outputs": [
    {
     "name": "stdout",
     "output_type": "stream",
     "text": [
      "http://search.people.com.cn/cnpeople/search.do?pageNum=27&keyword=%D0%C2%B9%DA+%D6%D0%D2%BD&siteName=news&facetFlag=null&nodeType=belongsId&nodeId=\n",
      "http://search.people.com.cn/cnpeople/search.do?pageNum=28&keyword=%D0%C2%B9%DA+%D6%D0%D2%BD&siteName=news&facetFlag=null&nodeType=belongsId&nodeId=\n",
      "http://search.people.com.cn/cnpeople/search.do?pageNum=29&keyword=%D0%C2%B9%DA+%D6%D0%D2%BD&siteName=news&facetFlag=null&nodeType=belongsId&nodeId=\n"
     ]
    }
   ],
   "source": [
    "url = 'http://search.people.com.cn/cnpeople/search.do?pageNum='\n",
    "path = '&keyword=%D0%C2%B9%DA+%D6%D0%D2%BD&siteName=news&facetFlag=null&nodeType=belongsId&nodeId='\n",
    "page_num = range(1, 30)\n",
    "urls = [url+str(i)+path for i in page_num]\n",
    "for i in urls[-3:]:\n",
    "    print(i)\n",
    "    "
   ]
  },
  {
   "cell_type": "markdown",
   "metadata": {
    "ExecuteTime": {
     "end_time": "2020-05-26T04:14:10.525271Z",
     "start_time": "2020-05-26T04:14:09.880100Z"
    },
    "slideshow": {
     "slide_type": "subslide"
    }
   },
   "source": [
    "## 无法通过requests直接获取\n",
    "\n",
    "提醒：您的访问可能对网站造成危险，已被云防护安全拦截\n",
    "\n",
    "```\n",
    "import requests\n",
    "from bs4 import BeautifulSoup\n",
    "\n",
    "content = requests.get(urls[0])\n",
    "content.encoding = 'utf-8'\n",
    "\n",
    "soup = BeautifulSoup(content.text, 'html.parser') \n",
    "soup\n",
    "```"
   ]
  },
  {
   "cell_type": "code",
   "execution_count": null,
   "metadata": {
    "slideshow": {
     "slide_type": "subslide"
    }
   },
   "outputs": [],
   "source": [
    "import requests\n",
    "from bs4 import BeautifulSoup\n",
    "\n",
    "content = requests.get(urls[0])\n",
    "content.encoding = 'utf-8'\n",
    "soup = BeautifulSoup(content.text, 'html.parser') \n",
    "soup"
   ]
  },
  {
   "cell_type": "code",
   "execution_count": 13,
   "metadata": {
    "ExecuteTime": {
     "end_time": "2020-06-06T04:13:37.568847Z",
     "start_time": "2020-06-06T04:12:27.028518Z"
    },
    "code_folding": [],
    "slideshow": {
     "slide_type": "subslide"
    }
   },
   "outputs": [
    {
     "name": "stdout",
     "output_type": "stream",
     "text": [
      "1\n",
      "2\n",
      "3\n",
      "4\n",
      "5\n",
      "6\n",
      "7\n",
      "8\n",
      "9\n",
      "10\n",
      "11\n",
      "11 null error and retry\n",
      "12\n",
      "13\n",
      "14\n",
      "15\n",
      "16\n",
      "17\n",
      "18\n",
      "19\n",
      "20\n",
      "21\n",
      "22\n",
      "23\n",
      "24\n",
      "25\n",
      "26\n",
      "27\n",
      "28\n",
      "29\n"
     ]
    },
    {
     "data": {
      "text/plain": [
       "1416"
      ]
     },
     "execution_count": 13,
     "metadata": {},
     "output_type": "execute_result"
    }
   ],
   "source": [
    "from selenium import webdriver\n",
    "from bs4 import BeautifulSoup\n",
    "import time\n",
    "\n",
    "browser = webdriver.Chrome()\n",
    "dat = []\n",
    "for k, j in enumerate(urls):\n",
    "    print(k+1)\n",
    "    time.sleep(1)\n",
    "    browser.get(j) \n",
    "    source = browser.page_source\n",
    "    soup = BeautifulSoup(source, 'html.parser') \n",
    "    d = soup.find_all('ul')\n",
    "    while len(d) < 2:\n",
    "        print(k+1, 'null error and retry')\n",
    "        time.sleep(1)\n",
    "        browser.get(j) \n",
    "        source = browser.page_source\n",
    "        soup = BeautifulSoup(source, 'html.parser') \n",
    "        d = soup.find_all('ul')\n",
    "        \n",
    "    for i in d[1:]:\n",
    "        urli = i.find('a')['href']\n",
    "        title = i.find('a').text\n",
    "        time_stamp = i.find_all('li')[-1].text.split('\\xa0')[-1]\n",
    "        dat.append([k+1, urli, title, time_stamp])\n",
    "\n",
    "browser.close()\n",
    "len(dat)"
   ]
  },
  {
   "cell_type": "code",
   "execution_count": 14,
   "metadata": {
    "ExecuteTime": {
     "end_time": "2020-06-06T04:13:43.549809Z",
     "start_time": "2020-06-06T04:13:43.538453Z"
    },
    "slideshow": {
     "slide_type": "slide"
    }
   },
   "outputs": [
    {
     "data": {
      "text/html": [
       "<div>\n",
       "<style scoped>\n",
       "    .dataframe tbody tr th:only-of-type {\n",
       "        vertical-align: middle;\n",
       "    }\n",
       "\n",
       "    .dataframe tbody tr th {\n",
       "        vertical-align: top;\n",
       "    }\n",
       "\n",
       "    .dataframe thead th {\n",
       "        text-align: right;\n",
       "    }\n",
       "</style>\n",
       "<table border=\"1\" class=\"dataframe\">\n",
       "  <thead>\n",
       "    <tr style=\"text-align: right;\">\n",
       "      <th></th>\n",
       "      <th>pagenum</th>\n",
       "      <th>url</th>\n",
       "      <th>title</th>\n",
       "      <th>time</th>\n",
       "    </tr>\n",
       "  </thead>\n",
       "  <tbody>\n",
       "    <tr>\n",
       "      <th>0</th>\n",
       "      <td>1</td>\n",
       "      <td>http://health.people.com.cn/n1/2020/0606/c1473...</td>\n",
       "      <td>[全国首部新型冠状病毒肺炎中医医案类专著在京举行新书首发仪式]</td>\n",
       "      <td>2020-06-06 10:33:49</td>\n",
       "    </tr>\n",
       "    <tr>\n",
       "      <th>1</th>\n",
       "      <td>1</td>\n",
       "      <td>http://health.people.com.cn/n1/2020/0606/c1473...</td>\n",
       "      <td>为维护人民健康提供有力保障</td>\n",
       "      <td>2020-06-06 08:48:46</td>\n",
       "    </tr>\n",
       "    <tr>\n",
       "      <th>2</th>\n",
       "      <td>1</td>\n",
       "      <td>http://politics.people.com.cn/n1/2020/0606/c10...</td>\n",
       "      <td>为维护人民健康提供有力保障</td>\n",
       "      <td>2020-06-06 05:09:28</td>\n",
       "    </tr>\n",
       "    <tr>\n",
       "      <th>3</th>\n",
       "      <td>1</td>\n",
       "      <td>http://opinion.people.com.cn/n1/2020/0606/c100...</td>\n",
       "      <td>人民日报评论员：强化公共卫生体系的科技支撑</td>\n",
       "      <td>2020-06-06 05:07:22</td>\n",
       "    </tr>\n",
       "    <tr>\n",
       "      <th>4</th>\n",
       "      <td>1</td>\n",
       "      <td>http://health.people.com.cn/n1/2020/0605/c1473...</td>\n",
       "      <td>防控疫情，中医药发挥了重要作用</td>\n",
       "      <td>2020-06-05 08:36:27</td>\n",
       "    </tr>\n",
       "  </tbody>\n",
       "</table>\n",
       "</div>"
      ],
      "text/plain": [
       "   pagenum                                                url  \\\n",
       "0        1  http://health.people.com.cn/n1/2020/0606/c1473...   \n",
       "1        1  http://health.people.com.cn/n1/2020/0606/c1473...   \n",
       "2        1  http://politics.people.com.cn/n1/2020/0606/c10...   \n",
       "3        1  http://opinion.people.com.cn/n1/2020/0606/c100...   \n",
       "4        1  http://health.people.com.cn/n1/2020/0605/c1473...   \n",
       "\n",
       "                             title                 time  \n",
       "0  [全国首部新型冠状病毒肺炎中医医案类专著在京举行新书首发仪式]  2020-06-06 10:33:49  \n",
       "1                    为维护人民健康提供有力保障  2020-06-06 08:48:46  \n",
       "2                    为维护人民健康提供有力保障  2020-06-06 05:09:28  \n",
       "3            人民日报评论员：强化公共卫生体系的科技支撑  2020-06-06 05:07:22  \n",
       "4                  防控疫情，中医药发挥了重要作用  2020-06-05 08:36:27  "
      ]
     },
     "execution_count": 14,
     "metadata": {},
     "output_type": "execute_result"
    }
   ],
   "source": [
    "import pandas as pd\n",
    "df = pd.DataFrame(dat, columns = ['pagenum', 'url', 'title', 'time'])\n",
    "df.head()"
   ]
  },
  {
   "cell_type": "code",
   "execution_count": 16,
   "metadata": {
    "ExecuteTime": {
     "end_time": "2020-06-06T04:15:49.824039Z",
     "start_time": "2020-06-06T04:15:49.819740Z"
    },
    "slideshow": {
     "slide_type": "subslide"
    }
   },
   "outputs": [
    {
     "data": {
      "text/plain": [
       "1416"
      ]
     },
     "execution_count": 16,
     "metadata": {},
     "output_type": "execute_result"
    }
   ],
   "source": [
    "len(df)"
   ]
  },
  {
   "cell_type": "code",
   "execution_count": 17,
   "metadata": {
    "ExecuteTime": {
     "end_time": "2020-06-06T04:15:52.191808Z",
     "start_time": "2020-06-06T04:15:52.182077Z"
    },
    "slideshow": {
     "slide_type": "subslide"
    }
   },
   "outputs": [],
   "source": [
    "df.to_csv('../data/people_com_search20200606.csv', index = False)"
   ]
  },
  {
   "cell_type": "markdown",
   "metadata": {},
   "source": [
    "## Reading data with Pandas"
   ]
  },
  {
   "cell_type": "code",
   "execution_count": 20,
   "metadata": {
    "ExecuteTime": {
     "end_time": "2020-06-06T06:27:11.537587Z",
     "start_time": "2020-06-06T06:27:11.527741Z"
    }
   },
   "outputs": [
    {
     "data": {
      "text/plain": [
       "1423"
      ]
     },
     "execution_count": 20,
     "metadata": {},
     "output_type": "execute_result"
    }
   ],
   "source": [
    "with open('../data/people_com_search20200606.csv', 'r') as f:\n",
    "    lines = f.readlines()\n",
    "len(lines)"
   ]
  },
  {
   "cell_type": "code",
   "execution_count": 21,
   "metadata": {
    "ExecuteTime": {
     "end_time": "2020-06-06T10:32:48.592826Z",
     "start_time": "2020-06-06T10:32:48.533769Z"
    }
   },
   "outputs": [
    {
     "data": {
      "text/plain": [
       "1416"
      ]
     },
     "execution_count": 21,
     "metadata": {},
     "output_type": "execute_result"
    }
   ],
   "source": [
    "import pandas as pd\n",
    "df2 = pd.read_csv('../data/people_com_search20200606.csv')\n",
    "df2.head()\n",
    "len(df2)"
   ]
  },
  {
   "cell_type": "code",
   "execution_count": 24,
   "metadata": {
    "ExecuteTime": {
     "end_time": "2020-06-06T10:34:14.501314Z",
     "start_time": "2020-06-06T10:34:14.494980Z"
    }
   },
   "outputs": [
    {
     "name": "stdout",
     "output_type": "stream",
     "text": [
      "http://health.people.com.cn/n1/2020/0606/c14739-31737564.html\n",
      "http://health.people.com.cn/n1/2020/0606/c14739-31737424.html\n",
      "http://politics.people.com.cn/n1/2020/0606/c1001-31737282.html\n",
      "http://opinion.people.com.cn/n1/2020/0606/c1003-31737274.html\n",
      "http://health.people.com.cn/n1/2020/0605/c14739-31736476.html\n",
      "http://politics.people.com.cn/n1/2020/0605/c1001-31735966.html\n",
      "http://world.people.com.cn/n1/2020/0604/c1002-31735815.html\n",
      "http://www.people.com.cn/n1/2020/0604/c32306-31735734.html\n",
      "http://cpc.people.com.cn/n1/2020/0604/c419242-31735244.html\n",
      "http://health.people.com.cn/n1/2020/0604/c14739-31734772.html\n"
     ]
    }
   ],
   "source": [
    "for i in df2['url'].tolist()[:10]:\n",
    "    print(i)"
   ]
  },
  {
   "cell_type": "code",
   "execution_count": null,
   "metadata": {},
   "outputs": [],
   "source": []
  }
 ],
 "metadata": {
  "celltoolbar": "Slideshow",
  "kernelspec": {
   "display_name": "Python 3",
   "language": "python",
   "name": "python3"
  },
  "language_info": {
   "codemirror_mode": {
    "name": "ipython",
    "version": 3
   },
   "file_extension": ".py",
   "mimetype": "text/x-python",
   "name": "python",
   "nbconvert_exporter": "python",
   "pygments_lexer": "ipython3",
   "version": "3.7.6"
  },
  "toc": {
   "base_numbering": 1,
   "nav_menu": {},
   "number_sections": false,
   "sideBar": true,
   "skip_h1_title": false,
   "title_cell": "Table of Contents",
   "title_sidebar": "Contents",
   "toc_cell": false,
   "toc_position": {},
   "toc_section_display": true,
   "toc_window_display": true
  }
 },
 "nbformat": 4,
 "nbformat_minor": 4
}