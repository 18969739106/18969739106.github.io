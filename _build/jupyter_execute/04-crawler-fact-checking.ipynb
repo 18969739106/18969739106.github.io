{
 "cells": [
  {
   "cell_type": "markdown",
   "metadata": {
    "slideshow": {
     "slide_type": "slide"
    }
   },
   "source": [
    "# 抓取实时辟谣数据\n",
    "\n",
    "\n",
    "https://vp.fact.qq.com/home"
   ]
  },
  {
   "cell_type": "markdown",
   "metadata": {
    "ExecuteTime": {
     "end_time": "2020-03-03T14:37:17.153858Z",
     "start_time": "2020-03-03T14:37:17.150432Z"
    },
    "slideshow": {
     "slide_type": "subslide"
    }
   },
   "source": [
    "\n",
    "\n",
    "![image.png](./images/fact.png)\n",
    "\n",
    "https://vp.fact.qq.com/article?id=be3aea585b07c193778985e180cf164b\n",
    "\n"
   ]
  },
  {
   "cell_type": "markdown",
   "metadata": {
    "slideshow": {
     "slide_type": "subslide"
    }
   },
   "source": [
    "https://vp.fact.qq.com/loadmore?artnum=0&page=0\n",
    "\n",
    "![image.png](./images/fact2.png)\n"
   ]
  },
  {
   "cell_type": "markdown",
   "metadata": {
    "slideshow": {
     "slide_type": "subslide"
    }
   },
   "source": [
    "https://vp.fact.qq.com/loadmore?artnum=0&page=0\n",
    "\n",
    "![image.png](./images/fact3.png)"
   ]
  },
  {
   "cell_type": "code",
   "execution_count": 3,
   "metadata": {
    "ExecuteTime": {
     "end_time": "2021-05-15T03:42:50.801337Z",
     "start_time": "2021-05-15T03:42:50.582611Z"
    },
    "slideshow": {
     "slide_type": "slide"
    }
   },
   "outputs": [],
   "source": [
    "import requests\n",
    "from bs4 import BeautifulSoup\n",
    "\n",
    "path = 'https://vp.fact.qq.com/loadmore?artnum=0&token=U2FsdGVkX18vf24Ll8I4bLXafIv7BY3GfCU0q9PJ%252FhM2kTmyPKf78WYKL5KP%252BGx4&page='\n",
    "url = path + '0'\n",
    "content = requests.get(url)\n",
    "d = content.json()"
   ]
  },
  {
   "cell_type": "code",
   "execution_count": 4,
   "metadata": {
    "ExecuteTime": {
     "end_time": "2021-05-15T03:42:51.365621Z",
     "start_time": "2021-05-15T03:42:51.355624Z"
    },
    "slideshow": {
     "slide_type": "subslide"
    }
   },
   "outputs": [
    {
     "data": {
      "text/plain": [
       "{'title': '现阶段接种新冠疫苗后就不需要再戴口罩了',\n",
       " 'author': '健康中国',\n",
       " 'authordesc': '健康中国',\n",
       " 'id': '6883746aa79c6203d57d6553f2626927',\n",
       " 'date': '2021-05-06',\n",
       " 'markstyle': 'fake',\n",
       " 'result': '假',\n",
       " 'explain': '谣言',\n",
       " 'abstract': '对于个人来说，接种疫苗的保护效果不是100％，并且产生保护性抗体也需要一定的时间；对于群体来说，在没有形成免疫屏障的情况下，新冠病毒依然容易传播。\\n要防止新冠肺炎疫情反弹，现阶段一些防控措施仍然要坚持，包括戴口罩、保持社交距离、勤洗手、通风等防护措施。',\n",
       " 'tag': ['新冠疫苗', '口罩'],\n",
       " 'type': 1,\n",
       " 'videourl': '',\n",
       " 'cover': '//jiaozhen-70111.picnjc.qpic.cn/6ZBozQyyqzBtWuzCUHjazX?imageView2/2/w/150/h/90',\n",
       " 'coverrect': '//jiaozhen-70111.picnjc.qpic.cn/6ZBozQyyqzBtWuzCUHjazX',\n",
       " 'coversqual': '//jiaozhen-70111.picnjc.qpic.cn/6ZBozQyyqzBtWuzCUHjazX?imageView2/2/w/300/h/300',\n",
       " 'section': '',\n",
       " 'iscolled': False,\n",
       " 'arttype': 'normal'}"
      ]
     },
     "execution_count": 4,
     "metadata": {},
     "output_type": "execute_result"
    }
   ],
   "source": [
    "d['content'][0]"
   ]
  },
  {
   "cell_type": "code",
   "execution_count": 6,
   "metadata": {
    "ExecuteTime": {
     "end_time": "2021-05-15T03:43:15.483916Z",
     "start_time": "2021-05-15T03:43:15.475326Z"
    },
    "slideshow": {
     "slide_type": "subslide"
    }
   },
   "outputs": [
    {
     "name": "stdout",
     "output_type": "stream",
     "text": [
      "0 1 2 3 4 5 6 7 8 9 10 11 12 13 14 15 16 17 18 19 20 21 22 23 24 25 26 27 28 29 30 31 32 33 34 35 36 37 38 39 40 41 42 43 44 45 46 47 48 49 50 51 52 53 54 55 56 57 58 59 60 61 62 63 64 65 66 67 68 69 70 71 72 73\n"
     ]
    }
   ],
   "source": [
    "print(*range(74))"
   ]
  },
  {
   "cell_type": "code",
   "execution_count": 7,
   "metadata": {
    "ExecuteTime": {
     "end_time": "2021-05-15T03:43:21.608803Z",
     "start_time": "2021-05-15T03:43:21.604942Z"
    },
    "slideshow": {
     "slide_type": "subslide"
    }
   },
   "outputs": [
    {
     "data": {
      "text/plain": [
       "0.8587583054308262"
      ]
     },
     "execution_count": 7,
     "metadata": {},
     "output_type": "execute_result"
    }
   ],
   "source": [
    "import random\n",
    "\n",
    "random.random()"
   ]
  },
  {
   "cell_type": "code",
   "execution_count": 8,
   "metadata": {
    "ExecuteTime": {
     "end_time": "2021-05-15T03:44:59.885645Z",
     "start_time": "2021-05-15T03:44:07.259552Z"
    },
    "slideshow": {
     "slide_type": "subslide"
    }
   },
   "outputs": [
    {
     "name": "stdout",
     "output_type": "stream",
     "text": [
      "0\n",
      "1\n",
      "2\n",
      "3\n",
      "4\n",
      "5\n",
      "6\n",
      "7\n",
      "8\n",
      "9\n",
      "10\n",
      "11\n",
      "12\n",
      "13\n",
      "14\n",
      "15\n",
      "16\n",
      "17\n",
      "18\n",
      "19\n",
      "20\n",
      "21\n",
      "22\n",
      "23\n",
      "24\n",
      "25\n",
      "26\n",
      "27\n",
      "28\n",
      "29\n",
      "30\n",
      "31\n",
      "32\n",
      "33\n",
      "34\n",
      "35\n",
      "36\n",
      "37\n",
      "38\n",
      "39\n",
      "40\n",
      "41\n",
      "42\n",
      "43\n",
      "44\n",
      "45\n",
      "46\n",
      "47\n",
      "48\n",
      "49\n",
      "50\n",
      "51\n",
      "52\n",
      "53\n",
      "54\n",
      "55\n",
      "56\n",
      "57\n",
      "58\n",
      "59\n",
      "60\n",
      "61\n",
      "62\n",
      "63\n",
      "64\n",
      "65\n",
      "66\n",
      "67\n",
      "68\n",
      "69\n",
      "70\n",
      "71\n",
      "72\n",
      "73\n"
     ]
    }
   ],
   "source": [
    "from time import sleep\n",
    "import random\n",
    "\n",
    "jsons = []\n",
    "for i in range(74):\n",
    "    print(i)\n",
    "    sleep(random.random())\n",
    "    path = 'https://vp.fact.qq.com/loadmore?artnum=0&token=U2FsdGVkX18vf24Ll8I4bLXafIv7BY3GfCU0q9PJ%252FhM2kTmyPKf78WYKL5KP%252BGx4&page='\n",
    "    url = path + str(i)\n",
    "    content = requests.get(url)\n",
    "    d = content.json()\n",
    "    for j in d['content']:\n",
    "        jsons.append(j)"
   ]
  },
  {
   "cell_type": "code",
   "execution_count": 9,
   "metadata": {
    "ExecuteTime": {
     "end_time": "2021-05-15T03:45:03.548516Z",
     "start_time": "2021-05-15T03:45:03.544821Z"
    },
    "slideshow": {
     "slide_type": "subslide"
    }
   },
   "outputs": [
    {
     "data": {
      "text/plain": [
       "730"
      ]
     },
     "execution_count": 9,
     "metadata": {},
     "output_type": "execute_result"
    }
   ],
   "source": [
    "len(jsons)"
   ]
  },
  {
   "cell_type": "code",
   "execution_count": 10,
   "metadata": {
    "ExecuteTime": {
     "end_time": "2021-05-15T03:45:12.420232Z",
     "start_time": "2021-05-15T03:45:11.636628Z"
    },
    "slideshow": {
     "slide_type": "subslide"
    }
   },
   "outputs": [
    {
     "data": {
      "text/html": [
       "<div>\n",
       "<style scoped>\n",
       "    .dataframe tbody tr th:only-of-type {\n",
       "        vertical-align: middle;\n",
       "    }\n",
       "\n",
       "    .dataframe tbody tr th {\n",
       "        vertical-align: top;\n",
       "    }\n",
       "\n",
       "    .dataframe thead th {\n",
       "        text-align: right;\n",
       "    }\n",
       "</style>\n",
       "<table border=\"1\" class=\"dataframe\">\n",
       "  <thead>\n",
       "    <tr style=\"text-align: right;\">\n",
       "      <th></th>\n",
       "      <th>title</th>\n",
       "      <th>author</th>\n",
       "      <th>authordesc</th>\n",
       "      <th>id</th>\n",
       "      <th>date</th>\n",
       "      <th>markstyle</th>\n",
       "      <th>result</th>\n",
       "      <th>explain</th>\n",
       "      <th>abstract</th>\n",
       "      <th>tag</th>\n",
       "      <th>type</th>\n",
       "      <th>videourl</th>\n",
       "      <th>cover</th>\n",
       "      <th>coverrect</th>\n",
       "      <th>coversqual</th>\n",
       "      <th>section</th>\n",
       "      <th>iscolled</th>\n",
       "      <th>arttype</th>\n",
       "    </tr>\n",
       "  </thead>\n",
       "  <tbody>\n",
       "    <tr>\n",
       "      <th>0</th>\n",
       "      <td>现阶段接种新冠疫苗后就不需要再戴口罩了</td>\n",
       "      <td>健康中国</td>\n",
       "      <td>健康中国</td>\n",
       "      <td>6883746aa79c6203d57d6553f2626927</td>\n",
       "      <td>2021-05-06</td>\n",
       "      <td>fake</td>\n",
       "      <td>假</td>\n",
       "      <td>谣言</td>\n",
       "      <td>对于个人来说，接种疫苗的保护效果不是100％，并且产生保护性抗体也需要一定的时间；对于群体来...</td>\n",
       "      <td>[新冠疫苗, 口罩]</td>\n",
       "      <td>1</td>\n",
       "      <td></td>\n",
       "      <td>//jiaozhen-70111.picnjc.qpic.cn/6ZBozQyyqzBtWu...</td>\n",
       "      <td>//jiaozhen-70111.picnjc.qpic.cn/6ZBozQyyqzBtWu...</td>\n",
       "      <td>//jiaozhen-70111.picnjc.qpic.cn/6ZBozQyyqzBtWu...</td>\n",
       "      <td></td>\n",
       "      <td>False</td>\n",
       "      <td>normal</td>\n",
       "    </tr>\n",
       "    <tr>\n",
       "      <th>1</th>\n",
       "      <td>国内新冠疫情已经平息，接种疫苗意义不大</td>\n",
       "      <td>健康中国</td>\n",
       "      <td>健康中国</td>\n",
       "      <td>be8eb254c795d6058f3ff9f0c923b8ff</td>\n",
       "      <td>2021-05-06</td>\n",
       "      <td>fake</td>\n",
       "      <td>假</td>\n",
       "      <td>谣言</td>\n",
       "      <td>在全球新冠肺炎疫情仍在流行的背景下，尽管国内感染风险较低，但疫情输入传播风险依然存在，所以还...</td>\n",
       "      <td>[新冠疫情, 新冠疫苗]</td>\n",
       "      <td>1</td>\n",
       "      <td></td>\n",
       "      <td>//jiaozhen-70111.picnjc.qpic.cn/9Hm7Y9hVRN6Qmc...</td>\n",
       "      <td>//jiaozhen-70111.picnjc.qpic.cn/9Hm7Y9hVRN6Qmc...</td>\n",
       "      <td>//jiaozhen-70111.picnjc.qpic.cn/9Hm7Y9hVRN6Qmc...</td>\n",
       "      <td></td>\n",
       "      <td>False</td>\n",
       "      <td>normal</td>\n",
       "    </tr>\n",
       "    <tr>\n",
       "      <th>2</th>\n",
       "      <td>别人都接种了疫苗，我就没必要接种了</td>\n",
       "      <td>健康中国</td>\n",
       "      <td>健康中国</td>\n",
       "      <td>7aa217ce6dd76992c2138083f7a7f69a</td>\n",
       "      <td>2021-05-06</td>\n",
       "      <td>fake</td>\n",
       "      <td>假</td>\n",
       "      <td>谣言</td>\n",
       "      <td>接种疫苗后，绝大部分人可以获得免疫力，从而有效降低发病、重症和死亡的风险。接种疫苗的人越多，...</td>\n",
       "      <td>[新冠疫苗, 免疫]</td>\n",
       "      <td>1</td>\n",
       "      <td></td>\n",
       "      <td>//jiaozhen-70111.picnjc.qpic.cn/gXJ6jgfvojbk9w...</td>\n",
       "      <td>//jiaozhen-70111.picnjc.qpic.cn/gXJ6jgfvojbk9w...</td>\n",
       "      <td>//jiaozhen-70111.picnjc.qpic.cn/gXJ6jgfvojbk9w...</td>\n",
       "      <td></td>\n",
       "      <td>False</td>\n",
       "      <td>normal</td>\n",
       "    </tr>\n",
       "    <tr>\n",
       "      <th>3</th>\n",
       "      <td>接种新冠病毒疫苗期间，不能注射狂犬病等其他疫苗</td>\n",
       "      <td>健康中国</td>\n",
       "      <td>健康中国</td>\n",
       "      <td>6175da06e58d1a2bb2f0e2d8b915791f</td>\n",
       "      <td>2021-05-06</td>\n",
       "      <td>doubt</td>\n",
       "      <td>疑</td>\n",
       "      <td>有失实</td>\n",
       "      <td>新冠病毒疫苗是新疫苗，为了便于识别或区别可能出现的疑似疫苗不良反应，目前不建议新冠病毒疫苗与...</td>\n",
       "      <td>[新冠疫苗, 免疫]</td>\n",
       "      <td>1</td>\n",
       "      <td></td>\n",
       "      <td>//jiaozhen-70111.picnjc.qpic.cn/s6Tmxe2U6vk22s...</td>\n",
       "      <td>//jiaozhen-70111.picnjc.qpic.cn/s6Tmxe2U6vk22s...</td>\n",
       "      <td>//jiaozhen-70111.picnjc.qpic.cn/s6Tmxe2U6vk22s...</td>\n",
       "      <td></td>\n",
       "      <td>False</td>\n",
       "      <td>normal</td>\n",
       "    </tr>\n",
       "    <tr>\n",
       "      <th>4</th>\n",
       "      <td>加拿大禁止航班进出，每日新冠死亡人数超1000</td>\n",
       "      <td>福建日报社东南网承办</td>\n",
       "      <td>福建日报社东南网承办</td>\n",
       "      <td>820277109aad5a7a708f7e8b0607f4bc</td>\n",
       "      <td>2021-04-29</td>\n",
       "      <td>fake</td>\n",
       "      <td>假</td>\n",
       "      <td>谣言</td>\n",
       "      <td>加拿大并没有禁止航班的进出，只是根据疫情防控的需要，某个时间段内暂停部分国家的航班。\\n20...</td>\n",
       "      <td>[加拿大, 新冠病毒]</td>\n",
       "      <td>1</td>\n",
       "      <td></td>\n",
       "      <td>//jiaozhen-70111.picnjc.qpic.cn/emJa9jbrvoF1Xy...</td>\n",
       "      <td>//jiaozhen-70111.picnjc.qpic.cn/emJa9jbrvoF1Xy...</td>\n",
       "      <td>//jiaozhen-70111.picnjc.qpic.cn/emJa9jbrvoF1Xy...</td>\n",
       "      <td></td>\n",
       "      <td>False</td>\n",
       "      <td>normal</td>\n",
       "    </tr>\n",
       "  </tbody>\n",
       "</table>\n",
       "</div>"
      ],
      "text/plain": [
       "                     title      author  authordesc  \\\n",
       "0      现阶段接种新冠疫苗后就不需要再戴口罩了        健康中国        健康中国   \n",
       "1      国内新冠疫情已经平息，接种疫苗意义不大        健康中国        健康中国   \n",
       "2        别人都接种了疫苗，我就没必要接种了        健康中国        健康中国   \n",
       "3  接种新冠病毒疫苗期间，不能注射狂犬病等其他疫苗        健康中国        健康中国   \n",
       "4  加拿大禁止航班进出，每日新冠死亡人数超1000  福建日报社东南网承办  福建日报社东南网承办   \n",
       "\n",
       "                                 id        date markstyle result explain  \\\n",
       "0  6883746aa79c6203d57d6553f2626927  2021-05-06      fake      假      谣言   \n",
       "1  be8eb254c795d6058f3ff9f0c923b8ff  2021-05-06      fake      假      谣言   \n",
       "2  7aa217ce6dd76992c2138083f7a7f69a  2021-05-06      fake      假      谣言   \n",
       "3  6175da06e58d1a2bb2f0e2d8b915791f  2021-05-06     doubt      疑     有失实   \n",
       "4  820277109aad5a7a708f7e8b0607f4bc  2021-04-29      fake      假      谣言   \n",
       "\n",
       "                                            abstract           tag  type  \\\n",
       "0  对于个人来说，接种疫苗的保护效果不是100％，并且产生保护性抗体也需要一定的时间；对于群体来...    [新冠疫苗, 口罩]     1   \n",
       "1  在全球新冠肺炎疫情仍在流行的背景下，尽管国内感染风险较低，但疫情输入传播风险依然存在，所以还...  [新冠疫情, 新冠疫苗]     1   \n",
       "2  接种疫苗后，绝大部分人可以获得免疫力，从而有效降低发病、重症和死亡的风险。接种疫苗的人越多，...    [新冠疫苗, 免疫]     1   \n",
       "3  新冠病毒疫苗是新疫苗，为了便于识别或区别可能出现的疑似疫苗不良反应，目前不建议新冠病毒疫苗与...    [新冠疫苗, 免疫]     1   \n",
       "4  加拿大并没有禁止航班的进出，只是根据疫情防控的需要，某个时间段内暂停部分国家的航班。\\n20...   [加拿大, 新冠病毒]     1   \n",
       "\n",
       "  videourl                                              cover  \\\n",
       "0           //jiaozhen-70111.picnjc.qpic.cn/6ZBozQyyqzBtWu...   \n",
       "1           //jiaozhen-70111.picnjc.qpic.cn/9Hm7Y9hVRN6Qmc...   \n",
       "2           //jiaozhen-70111.picnjc.qpic.cn/gXJ6jgfvojbk9w...   \n",
       "3           //jiaozhen-70111.picnjc.qpic.cn/s6Tmxe2U6vk22s...   \n",
       "4           //jiaozhen-70111.picnjc.qpic.cn/emJa9jbrvoF1Xy...   \n",
       "\n",
       "                                           coverrect  \\\n",
       "0  //jiaozhen-70111.picnjc.qpic.cn/6ZBozQyyqzBtWu...   \n",
       "1  //jiaozhen-70111.picnjc.qpic.cn/9Hm7Y9hVRN6Qmc...   \n",
       "2  //jiaozhen-70111.picnjc.qpic.cn/gXJ6jgfvojbk9w...   \n",
       "3  //jiaozhen-70111.picnjc.qpic.cn/s6Tmxe2U6vk22s...   \n",
       "4  //jiaozhen-70111.picnjc.qpic.cn/emJa9jbrvoF1Xy...   \n",
       "\n",
       "                                          coversqual section  iscolled arttype  \n",
       "0  //jiaozhen-70111.picnjc.qpic.cn/6ZBozQyyqzBtWu...             False  normal  \n",
       "1  //jiaozhen-70111.picnjc.qpic.cn/9Hm7Y9hVRN6Qmc...             False  normal  \n",
       "2  //jiaozhen-70111.picnjc.qpic.cn/gXJ6jgfvojbk9w...             False  normal  \n",
       "3  //jiaozhen-70111.picnjc.qpic.cn/s6Tmxe2U6vk22s...             False  normal  \n",
       "4  //jiaozhen-70111.picnjc.qpic.cn/emJa9jbrvoF1Xy...             False  normal  "
      ]
     },
     "execution_count": 10,
     "metadata": {},
     "output_type": "execute_result"
    }
   ],
   "source": [
    "import pandas as pd\n",
    "df = pd.DataFrame(jsons)\n",
    "df.head()"
   ]
  },
  {
   "cell_type": "code",
   "execution_count": 11,
   "metadata": {
    "ExecuteTime": {
     "end_time": "2021-05-15T03:46:47.928860Z",
     "start_time": "2021-05-15T03:46:47.549263Z"
    },
    "slideshow": {
     "slide_type": "subslide"
    }
   },
   "outputs": [],
   "source": [
    "df.to_excel('./data/vpqq2021-05-15.xlsx')"
   ]
  },
  {
   "cell_type": "code",
   "execution_count": null,
   "metadata": {},
   "outputs": [],
   "source": []
  }
 ],
 "metadata": {
  "celltoolbar": "Slideshow",
  "kernelspec": {
   "display_name": "Python 3",
   "language": "python",
   "name": "python3"
  },
  "language_info": {
   "codemirror_mode": {
    "name": "ipython",
    "version": 3
   },
   "file_extension": ".py",
   "mimetype": "text/x-python",
   "name": "python",
   "nbconvert_exporter": "python",
   "pygments_lexer": "ipython3",
   "version": "3.7.6"
  },
  "latex_envs": {
   "LaTeX_envs_menu_present": true,
   "autoclose": false,
   "autocomplete": true,
   "bibliofile": "biblio.bib",
   "cite_by": "apalike",
   "current_citInitial": 1,
   "eqLabelWithNumbers": true,
   "eqNumInitial": 1,
   "hotkeys": {
    "equation": "Ctrl-E",
    "itemize": "Ctrl-I"
   },
   "labels_anchors": false,
   "latex_user_defs": false,
   "report_style_numbering": false,
   "user_envs_cfg": false
  },
  "toc": {
   "base_numbering": 1,
   "nav_menu": {},
   "number_sections": false,
   "sideBar": true,
   "skip_h1_title": false,
   "title_cell": "Table of Contents",
   "title_sidebar": "Contents",
   "toc_cell": false,
   "toc_position": {},
   "toc_section_display": true,
   "toc_window_display": false
  }
 },
 "nbformat": 4,
 "nbformat_minor": 2
}