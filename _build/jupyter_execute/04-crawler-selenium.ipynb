{
 "cells": [
  {
   "cell_type": "markdown",
   "metadata": {
    "slideshow": {
     "slide_type": "slide"
    }
   },
   "source": [
    "\n",
    "\n",
    "# 使用Selenium操纵浏览器\n",
    "\n",
    "\n",
    "\n",
    "王成军 \n",
    "\n",
    "![](./images/author.png)\n",
    "\n"
   ]
  },
  {
   "cell_type": "markdown",
   "metadata": {
    "slideshow": {
     "slide_type": "subslide"
    }
   },
   "source": [
    "Selenium 是一套完整的web应用程序测试系统，包含了\n",
    "- 测试的录制（selenium IDE）\n",
    "- 编写及运行（Selenium Remote Control）\n",
    "- 测试的并行处理（Selenium Grid）。\n",
    "\n",
    "Selenium的核心Selenium Core基于JsUnit，完全由JavaScript编写，因此可以用于任何支持JavaScript的浏览器上。selenium可以模拟真实浏览器，自动化测试工具，支持多种浏览器，爬虫中主要用来解决JavaScript渲染问题。https://www.cnblogs.com/zhaof/p/6953241.html"
   ]
  },
  {
   "cell_type": "markdown",
   "metadata": {
    "slideshow": {
     "slide_type": "subslide"
    }
   },
   "source": [
    "上面我们知道了selenium支持很多的浏览器，但是如果想要声明并调用浏览器则需要：\n",
    "https://pypi.org/project/selenium/"
   ]
  },
  {
   "cell_type": "code",
   "execution_count": 10,
   "metadata": {
    "ExecuteTime": {
     "end_time": "2021-11-01T07:07:11.741430Z",
     "start_time": "2021-11-01T07:07:08.367946Z"
    },
    "slideshow": {
     "slide_type": "subslide"
    }
   },
   "outputs": [
    {
     "name": "stdout",
     "output_type": "stream",
     "text": [
      "Requirement already up-to-date: selenium in /opt/anaconda3/lib/python3.7/site-packages (4.0.0)\n",
      "Requirement already satisfied, skipping upgrade: trio-websocket~=0.9 in /opt/anaconda3/lib/python3.7/site-packages (from selenium) (0.9.2)\n",
      "Requirement already satisfied, skipping upgrade: urllib3[secure]~=1.26 in /opt/anaconda3/lib/python3.7/site-packages (from selenium) (1.26.7)\n",
      "Requirement already satisfied, skipping upgrade: trio~=0.17 in /opt/anaconda3/lib/python3.7/site-packages (from selenium) (0.19.0)\n",
      "Requirement already satisfied, skipping upgrade: wsproto>=0.14 in /opt/anaconda3/lib/python3.7/site-packages (from trio-websocket~=0.9->selenium) (1.0.0)\n",
      "Requirement already satisfied, skipping upgrade: async-generator>=1.10 in /opt/anaconda3/lib/python3.7/site-packages (from trio-websocket~=0.9->selenium) (1.10)\n",
      "Requirement already satisfied, skipping upgrade: certifi; extra == \"secure\" in /opt/anaconda3/lib/python3.7/site-packages (from urllib3[secure]~=1.26->selenium) (2019.11.28)\n",
      "Requirement already satisfied, skipping upgrade: idna>=2.0.0; extra == \"secure\" in /opt/anaconda3/lib/python3.7/site-packages (from urllib3[secure]~=1.26->selenium) (2.8)\n",
      "Requirement already satisfied, skipping upgrade: cryptography>=1.3.4; extra == \"secure\" in /opt/anaconda3/lib/python3.7/site-packages (from urllib3[secure]~=1.26->selenium) (2.8)\n",
      "Requirement already satisfied, skipping upgrade: pyOpenSSL>=0.14; extra == \"secure\" in /opt/anaconda3/lib/python3.7/site-packages (from urllib3[secure]~=1.26->selenium) (19.1.0)\n",
      "Requirement already satisfied, skipping upgrade: outcome in /opt/anaconda3/lib/python3.7/site-packages (from trio~=0.17->selenium) (1.1.0)\n",
      "Requirement already satisfied, skipping upgrade: sortedcontainers in /opt/anaconda3/lib/python3.7/site-packages (from trio~=0.17->selenium) (2.1.0)\n",
      "Requirement already satisfied, skipping upgrade: sniffio in /opt/anaconda3/lib/python3.7/site-packages (from trio~=0.17->selenium) (1.2.0)\n",
      "Requirement already satisfied, skipping upgrade: attrs>=19.2.0 in /opt/anaconda3/lib/python3.7/site-packages (from trio~=0.17->selenium) (21.2.0)\n",
      "Requirement already satisfied, skipping upgrade: h11<1,>=0.9.0 in /opt/anaconda3/lib/python3.7/site-packages (from wsproto>=0.14->trio-websocket~=0.9->selenium) (0.12.0)\n",
      "Requirement already satisfied, skipping upgrade: cffi!=1.11.3,>=1.8 in /opt/anaconda3/lib/python3.7/site-packages (from cryptography>=1.3.4; extra == \"secure\"->urllib3[secure]~=1.26->selenium) (1.14.0)\n",
      "Requirement already satisfied, skipping upgrade: six>=1.4.1 in /opt/anaconda3/lib/python3.7/site-packages (from cryptography>=1.3.4; extra == \"secure\"->urllib3[secure]~=1.26->selenium) (1.12.0)\n",
      "Requirement already satisfied, skipping upgrade: pycparser in /opt/anaconda3/lib/python3.7/site-packages (from cffi!=1.11.3,>=1.8->cryptography>=1.3.4; extra == \"secure\"->urllib3[secure]~=1.26->selenium) (2.19)\n",
      "Note: you may need to restart the kernel to use updated packages.\n"
     ]
    }
   ],
   "source": [
    "pip install -U selenium"
   ]
  },
  {
   "cell_type": "markdown",
   "metadata": {
    "slideshow": {
     "slide_type": "subslide"
    }
   },
   "source": [
    "## Webdriver\n",
    "- 主要用的是selenium的Webdriver\n",
    "- 我们可以通过下面的方式先看看Selenium.Webdriver支持哪些浏览器\n",
    "\n"
   ]
  },
  {
   "cell_type": "code",
   "execution_count": 11,
   "metadata": {
    "ExecuteTime": {
     "end_time": "2021-11-01T07:07:57.504637Z",
     "start_time": "2021-11-01T07:07:57.475289Z"
    },
    "slideshow": {
     "slide_type": "fragment"
    }
   },
   "outputs": [],
   "source": [
    "from selenium import webdriver"
   ]
  },
  {
   "cell_type": "code",
   "execution_count": 3,
   "metadata": {
    "ExecuteTime": {
     "end_time": "2021-05-15T06:47:37.397766Z",
     "start_time": "2021-05-15T06:47:37.391588Z"
    },
    "scrolled": true,
    "slideshow": {
     "slide_type": "subslide"
    }
   },
   "outputs": [
    {
     "name": "stdout",
     "output_type": "stream",
     "text": [
      "Help on package selenium.webdriver in selenium:\n",
      "\n",
      "NAME\n",
      "    selenium.webdriver\n",
      "\n",
      "DESCRIPTION\n",
      "    # Licensed to the Software Freedom Conservancy (SFC) under one\n",
      "    # or more contributor license agreements.  See the NOTICE file\n",
      "    # distributed with this work for additional information\n",
      "    # regarding copyright ownership.  The SFC licenses this file\n",
      "    # to you under the Apache License, Version 2.0 (the\n",
      "    # \"License\"); you may not use this file except in compliance\n",
      "    # with the License.  You may obtain a copy of the License at\n",
      "    #\n",
      "    #   http://www.apache.org/licenses/LICENSE-2.0\n",
      "    #\n",
      "    # Unless required by applicable law or agreed to in writing,\n",
      "    # software distributed under the License is distributed on an\n",
      "    # \"AS IS\" BASIS, WITHOUT WARRANTIES OR CONDITIONS OF ANY\n",
      "    # KIND, either express or implied.  See the License for the\n",
      "    # specific language governing permissions and limitations\n",
      "    # under the License.\n",
      "\n",
      "PACKAGE CONTENTS\n",
      "    android (package)\n",
      "    blackberry (package)\n",
      "    chrome (package)\n",
      "    common (package)\n",
      "    edge (package)\n",
      "    firefox (package)\n",
      "    ie (package)\n",
      "    opera (package)\n",
      "    phantomjs (package)\n",
      "    remote (package)\n",
      "    safari (package)\n",
      "    support (package)\n",
      "    webkitgtk (package)\n",
      "\n",
      "VERSION\n",
      "    3.14.1\n",
      "\n",
      "FILE\n",
      "    /opt/anaconda3/lib/python3.7/site-packages/selenium/webdriver/__init__.py\n",
      "\n",
      "\n"
     ]
    }
   ],
   "source": [
    "help(webdriver) "
   ]
  },
  {
   "cell_type": "markdown",
   "metadata": {
    "slideshow": {
     "slide_type": "subslide"
    }
   },
   "source": [
    "### 下载和设置Webdriver\n",
    "\n",
    "1. 对于Chrome需要的webdriver下载地址，**一定要确保版本正确**。\n",
    "\n",
    "http://chromedriver.storage.googleapis.com/index.html\n",
    "\n",
    "2. 需要将webdriver放在系统路径下：\n",
    "    - 比如,把下载的webdriver 放在`Anaconda的bin文件夹`下\n",
    "\n",
    "![image.png](./images/selenium.png)"
   ]
  },
  {
   "cell_type": "markdown",
   "metadata": {
    "slideshow": {
     "slide_type": "slide"
    }
   },
   "source": [
    "## 访问页面"
   ]
  },
  {
   "cell_type": "code",
   "execution_count": 9,
   "metadata": {
    "ExecuteTime": {
     "end_time": "2021-05-15T07:14:28.325788Z",
     "start_time": "2021-05-15T07:14:28.323614Z"
    }
   },
   "outputs": [],
   "source": [
    "#from selenium import webdriver\n",
    "#browser = webdriver.Chrome(executable_path = '/opt/anaconda3/bin/chromedriver')\n"
   ]
  },
  {
   "cell_type": "code",
   "execution_count": 14,
   "metadata": {
    "ExecuteTime": {
     "end_time": "2021-11-01T07:13:44.062629Z",
     "start_time": "2021-11-01T07:13:44.006400Z"
    },
    "slideshow": {
     "slide_type": "subslide"
    }
   },
   "outputs": [
    {
     "name": "stdout",
     "output_type": "stream",
     "text": [
      "i am fine!\n"
     ]
    }
   ],
   "source": [
    "from selenium import webdriver\n",
    "\n",
    "browser = webdriver.Chrome(executable_path = '/opt/anaconda3/bin/chromedriver')\n",
    "browser.get(\"http://music.163.com\") \n",
    "#print(browser.page_source)\n",
    "print('i am fine!')\n",
    "#browser.close() "
   ]
  },
  {
   "cell_type": "code",
   "execution_count": 15,
   "metadata": {
    "ExecuteTime": {
     "end_time": "2021-11-01T07:14:48.860919Z",
     "start_time": "2021-11-01T07:14:48.792504Z"
    },
    "slideshow": {
     "slide_type": "subslide"
    }
   },
   "outputs": [],
   "source": [
    "browser.close() "
   ]
  },
  {
   "cell_type": "markdown",
   "metadata": {
    "slideshow": {
     "slide_type": "slide"
    }
   },
   "source": [
    "## 查找元素\n",
    "单个元素查找"
   ]
  },
  {
   "cell_type": "markdown",
   "metadata": {
    "slideshow": {
     "slide_type": "subslide"
    }
   },
   "source": [
    "这里我们通过三种不同的方式去获取响应的元素，第一种是通过id的方式，第二个是CSS选择器，第三种是xpath选择器，结果都是相同的。\n",
    "\n",
    "![image.png](./images/selenium2.png)\n"
   ]
  },
  {
   "cell_type": "code",
   "execution_count": 16,
   "metadata": {
    "ExecuteTime": {
     "end_time": "2021-11-01T07:16:49.347550Z",
     "start_time": "2021-11-01T07:16:45.332128Z"
    },
    "slideshow": {
     "slide_type": "subslide"
    }
   },
   "outputs": [
    {
     "name": "stdout",
     "output_type": "stream",
     "text": [
      "<selenium.webdriver.remote.webelement.WebElement (session=\"5fbfe76344d1c1d52efdf1233f94b167\", element=\"5e3f1ce2-7beb-4bbf-9577-5eea00eebb72\")>\n",
      "<selenium.webdriver.remote.webelement.WebElement (session=\"5fbfe76344d1c1d52efdf1233f94b167\", element=\"5e3f1ce2-7beb-4bbf-9577-5eea00eebb72\")>\n",
      "<selenium.webdriver.remote.webelement.WebElement (session=\"5fbfe76344d1c1d52efdf1233f94b167\", element=\"5e3f1ce2-7beb-4bbf-9577-5eea00eebb72\")>\n"
     ]
    },
    {
     "name": "stderr",
     "output_type": "stream",
     "text": [
      "/opt/anaconda3/lib/python3.7/site-packages/ipykernel_launcher.py:5: DeprecationWarning: find_element_by_* commands are deprecated. Please use find_element() instead\n",
      "  \"\"\"\n",
      "/opt/anaconda3/lib/python3.7/site-packages/ipykernel_launcher.py:7: DeprecationWarning: find_element_by_* commands are deprecated. Please use find_element() instead\n",
      "  import sys\n",
      "/opt/anaconda3/lib/python3.7/site-packages/ipykernel_launcher.py:9: DeprecationWarning: find_element_by_* commands are deprecated. Please use find_element() instead\n",
      "  if __name__ == '__main__':\n"
     ]
    }
   ],
   "source": [
    "# from selenium import webdriver\n",
    "browser = webdriver.Chrome()\n",
    "browser.get(\"http://music.163.com\")\n",
    "# <input type=\"text\" name=\"srch\" id=\"srch\" class=\"txt j-flag\" value=\"\" style=\"opacity: 1;\">\n",
    "input_first = browser.find_element_by_id(\"srch\") \n",
    "#srch\n",
    "input_second = browser.find_element_by_css_selector(\"#srch\")\n",
    "# //*[@id=\"srch\"]\n",
    "input_third = browser.find_element_by_xpath('//*[@id=\"srch\"]')\n",
    "print(input_first)\n",
    "print(input_second)\n",
    "print(input_third)\n",
    "browser.close()\n"
   ]
  },
  {
   "cell_type": "markdown",
   "metadata": {
    "slideshow": {
     "slide_type": "subslide"
    }
   },
   "source": [
    "## 常用的查找元素方法：\n",
    "\n",
    "- find_element_by_name\n",
    "- find_element_by_id\n",
    "- find_element_by_xpath\n",
    "- find_element_by_link_text\n",
    "- find_element_by_partial_link_text\n",
    "- find_element_by_tag_name\n",
    "- find_element_by_class_name\n",
    "- find_element_by_css_selector"
   ]
  },
  {
   "cell_type": "code",
   "execution_count": 17,
   "metadata": {
    "ExecuteTime": {
     "end_time": "2021-11-01T07:17:19.382188Z",
     "start_time": "2021-11-01T07:17:19.379526Z"
    },
    "slideshow": {
     "slide_type": "subslide"
    }
   },
   "outputs": [],
   "source": [
    "# 下面这种方式是比较通用的一种方式：这里需要记住By模块所以需要导入\n",
    "from selenium.webdriver.common.by import By"
   ]
  },
  {
   "cell_type": "code",
   "execution_count": 18,
   "metadata": {
    "ExecuteTime": {
     "end_time": "2021-11-01T07:17:32.387663Z",
     "start_time": "2021-11-01T07:17:28.477056Z"
    },
    "slideshow": {
     "slide_type": "fragment"
    }
   },
   "outputs": [
    {
     "name": "stdout",
     "output_type": "stream",
     "text": [
      "<selenium.webdriver.remote.webelement.WebElement (session=\"e3a669935a63ce535140fbca9860413a\", element=\"0cbf3c21-adf9-4704-aa61-396dadad994b\")>\n"
     ]
    }
   ],
   "source": [
    "browser = webdriver.Chrome()\n",
    "browser.get(\"http://music.163.com\")\n",
    "#<input type=\"text\" name=\"srch\" id=\"srch\" class=\"txt j-flag\" value=\"\" style=\"opacity: 1;\">\n",
    "input_first = browser.find_element(By.ID,\"srch\")\n",
    "print(input_first)\n",
    "browser.close()"
   ]
  },
  {
   "cell_type": "markdown",
   "metadata": {
    "slideshow": {
     "slide_type": "subslide"
    }
   },
   "source": [
    "## 多个元素查找\n",
    "\n",
    "其实多个元素和单个元素的区别，举个例子：find_elements,单个元素是find_element,其他使用上没什么区别，通过其中的一个例子演示："
   ]
  },
  {
   "cell_type": "code",
   "execution_count": 19,
   "metadata": {
    "ExecuteTime": {
     "end_time": "2021-11-01T07:17:58.153146Z",
     "start_time": "2021-11-01T07:17:53.123805Z"
    },
    "slideshow": {
     "slide_type": "subslide"
    }
   },
   "outputs": [
    {
     "name": "stdout",
     "output_type": "stream",
     "text": [
      "[<selenium.webdriver.remote.webelement.WebElement (session=\"66a976ee712ccad1c7b8c8e3102e1799\", element=\"b6dd16e3-99ed-48e0-9524-c9ff02661593\")>]\n"
     ]
    },
    {
     "name": "stderr",
     "output_type": "stream",
     "text": [
      "/opt/anaconda3/lib/python3.7/site-packages/ipykernel_launcher.py:3: DeprecationWarning: find_elements_by_* commands are deprecated. Please use find_elements() instead\n",
      "  This is separate from the ipykernel package so we can avoid doing imports until\n"
     ]
    }
   ],
   "source": [
    "browser = webdriver.Chrome()\n",
    "browser.get(\"http://music.163.com\")\n",
    "lis = browser.find_elements_by_css_selector('body')\n",
    "print(lis)\n",
    "browser.close() "
   ]
  },
  {
   "cell_type": "markdown",
   "metadata": {
    "slideshow": {
     "slide_type": "subslide"
    }
   },
   "source": [
    "当然上面的方式也是可以通过导入`from selenium.webdriver.common.by import By` 这种方式实现\n",
    "\n",
    "> lis = browser.find_elements(By.CSS_SELECTOR,'.service-bd li')\n",
    "\n",
    "同样的在单个元素中查找的方法在多个元素查找中同样存在：\n",
    "- find_elements_by_name\n",
    "- find_elements_by_id\n",
    "- find_elements_by_xpath\n",
    "- find_elements_by_link_text\n",
    "- find_elements_by_partial_link_text\n",
    "- find_elements_by_tag_name\n",
    "- find_elements_by_class_name\n",
    "- find_elements_by_css_selector"
   ]
  },
  {
   "cell_type": "markdown",
   "metadata": {
    "slideshow": {
     "slide_type": "slide"
    }
   },
   "source": [
    "## 元素交互操作\n",
    "对于获取的元素调用交互方法"
   ]
  },
  {
   "cell_type": "code",
   "execution_count": 20,
   "metadata": {
    "ExecuteTime": {
     "end_time": "2021-11-01T07:19:22.572753Z",
     "start_time": "2021-11-01T07:19:12.725169Z"
    },
    "slideshow": {
     "slide_type": "subslide"
    }
   },
   "outputs": [
    {
     "name": "stderr",
     "output_type": "stream",
     "text": [
      "/opt/anaconda3/lib/python3.7/site-packages/ipykernel_launcher.py:6: DeprecationWarning: find_element_by_* commands are deprecated. Please use find_element() instead\n",
      "  \n"
     ]
    }
   ],
   "source": [
    "from selenium import webdriver\n",
    "import time\n",
    "browser = webdriver.Chrome()\n",
    "\n",
    "browser.get(\"https://music.163.com/\")\n",
    "input_str = browser.find_element_by_id('srch')\n",
    "input_str.send_keys(\"周杰伦\")\n",
    "time.sleep(3) #休眠，模仿人工搜索\n",
    "input_str.clear()\n",
    "input_str.send_keys(\"林俊杰\")\n",
    "time.sleep(3)\n",
    "#browser.close()"
   ]
  },
  {
   "cell_type": "markdown",
   "metadata": {
    "slideshow": {
     "slide_type": "subslide"
    }
   },
   "source": [
    "运行的结果可以看出程序会自动打开Chrome浏览器并打开淘宝输入ipad,然后删除，重新输入MacBook pro，并点击搜索\n",
    "\n",
    "Selenium所有的api文档：http://selenium-python.readthedocs.io/api.html#module-selenium.webdriver.common.action_chains"
   ]
  },
  {
   "cell_type": "markdown",
   "metadata": {
    "slideshow": {
     "slide_type": "slide"
    }
   },
   "source": [
    "## 执行JavaScript\n",
    "这是一个非常有用的方法，这里就可以直接调用js方法来实现一些操作，\n",
    "下面的例子是通过登录知乎然后通过js翻到页面底部，并弹框提示"
   ]
  },
  {
   "cell_type": "code",
   "execution_count": 21,
   "metadata": {
    "ExecuteTime": {
     "end_time": "2021-11-01T07:20:08.041630Z",
     "start_time": "2021-11-01T07:20:01.048709Z"
    },
    "slideshow": {
     "slide_type": "subslide"
    }
   },
   "outputs": [],
   "source": [
    "from selenium import webdriver\n",
    "browser = webdriver.Chrome()\n",
    "browser.get(\"https://www.zhihu.com/explore/\")\n",
    "browser.execute_script('window.scrollTo(0, document.body.scrollHeight)')\n",
    "#browser.execute_script('alert(\"To Bottom\")')\n",
    "time.sleep(3)\n",
    "browser.close()"
   ]
  },
  {
   "cell_type": "markdown",
   "metadata": {
    "slideshow": {
     "slide_type": "slide"
    }
   },
   "source": [
    "\n",
    "![discuss.gif](./images/end.png)"
   ]
  },
  {
   "cell_type": "code",
   "execution_count": 13,
   "metadata": {
    "ExecuteTime": {
     "end_time": "2021-11-01T05:18:29.204763Z",
     "start_time": "2021-11-01T05:18:23.928807Z"
    }
   },
   "outputs": [],
   "source": [
    "from selenium import webdriver\n",
    "\n",
    "options = webdriver.ChromeOptions()\n",
    "options.add_argument(\"disable-infobars\")\n",
    "options.add_argument('--profile-directory=Default')\n",
    "options.add_argument(\"--disable-extensions\")\n",
    "options.add_argument('incognito')\n",
    "options.add_argument('disable-geolocation')\n",
    "options.add_argument('ignore-certificate-errors')\n",
    "options.add_argument('disable-popup-blocking')\n",
    "options.add_argument('disable-web-security')\n",
    "options.add_argument('--disable-infobars')\n",
    "options.add_argument('disable-translate')\n",
    "browser = webdriver.Chrome(options=options, executable_path = '/opt/anaconda3/bin/chromedriver')\n",
    "browser.get(\"https://github.com\")"
   ]
  },
  {
   "cell_type": "code",
   "execution_count": 1,
   "metadata": {
    "ExecuteTime": {
     "end_time": "2021-11-01T04:56:55.357684Z",
     "start_time": "2021-11-01T04:56:37.822757Z"
    }
   },
   "outputs": [],
   "source": [
    "from selenium import webdriver\n",
    "options = webdriver.ChromeOptions()\n",
    "options.add_argument(\"disable-infobars\")\n",
    "options.add_argument('--profile-directory=Default')\n",
    "#options.add_argument(\"--user-data-dir=~/Library/Application\\ Support/Google/Chrome/Default/\")\n",
    "browser = webdriver.Chrome(options=options, executable_path=r\"chromedriver\")\n",
    "browser.get('https://mail.google.com/mail/u/0/')"
   ]
  },
  {
   "cell_type": "code",
   "execution_count": 15,
   "metadata": {
    "ExecuteTime": {
     "end_time": "2021-11-01T05:19:48.703686Z",
     "start_time": "2021-11-01T05:19:46.996698Z"
    }
   },
   "outputs": [
    {
     "name": "stdout",
     "output_type": "stream",
     "text": [
      "Requirement already satisfied: pyppeteer in /usr/local/lib/python3.7/site-packages (0.0.25)\r\n",
      "Requirement already satisfied: websockets in /usr/local/lib/python3.7/site-packages (from pyppeteer) (8.1)\r\n",
      "Requirement already satisfied: tqdm in /usr/local/lib/python3.7/site-packages (from pyppeteer) (4.43.0)\r\n",
      "Requirement already satisfied: pyee in /usr/local/lib/python3.7/site-packages (from pyppeteer) (7.0.1)\r\n",
      "Requirement already satisfied: urllib3 in /usr/local/lib/python3.7/site-packages (from pyppeteer) (1.25.8)\r\n",
      "Requirement already satisfied: appdirs in /usr/local/lib/python3.7/site-packages (from pyppeteer) (1.4.3)\r\n"
     ]
    }
   ],
   "source": [
    "!pip3 install pyppeteer"
   ]
  },
  {
   "cell_type": "code",
   "execution_count": 6,
   "metadata": {
    "ExecuteTime": {
     "end_time": "2021-11-01T05:34:58.867213Z",
     "start_time": "2021-11-01T05:34:58.862228Z"
    }
   },
   "outputs": [],
   "source": [
    "import nest_asyncio\n",
    "nest_asyncio.apply()"
   ]
  },
  {
   "cell_type": "code",
   "execution_count": 7,
   "metadata": {
    "ExecuteTime": {
     "end_time": "2021-11-01T05:36:45.299336Z",
     "start_time": "2021-11-01T05:35:02.341053Z"
    }
   },
   "outputs": [],
   "source": [
    "import asyncio\n",
    "from pyppeteer import launch\n",
    "\n",
    "width, height = 1366, 768\n",
    "\n",
    "async def main():\n",
    "    browser = await launch(headless=False,\n",
    "                           args=[f'--window-size={width},{height}'])\n",
    "    page = await browser.newPage()\n",
    "    await page.setViewport({'width': width, 'height': height})\n",
    "    await page.goto('https://www.taobao.com')\n",
    "    await asyncio.sleep(100)\n",
    "\n",
    "asyncio.get_event_loop().run_until_complete(main())\n"
   ]
  },
  {
   "cell_type": "code",
   "execution_count": 8,
   "metadata": {
    "ExecuteTime": {
     "end_time": "2021-11-01T05:38:28.574101Z",
     "start_time": "2021-11-01T05:36:45.306276Z"
    }
   },
   "outputs": [],
   "source": [
    "import asyncio\n",
    "from pyppeteer import launch\n",
    "\n",
    "\n",
    "async def main():\n",
    "    browser = await launch(headless=False, args=['--disable-infobars'])\n",
    "    page = await browser.newPage()\n",
    "    await page.goto('https://login.taobao.com/member/login.jhtml?redirectURL=https://www.taobao.com/')\n",
    "    await page.evaluate(\n",
    "        '''() =>{ Object.defineProperties(navigator,{ webdriver:{ get: () => false } }) }''')\n",
    "    await asyncio.sleep(100)\n",
    "\n",
    "asyncio.get_event_loop().run_until_complete(main())"
   ]
  },
  {
   "cell_type": "code",
   "execution_count": null,
   "metadata": {},
   "outputs": [],
   "source": []
  },
  {
   "cell_type": "code",
   "execution_count": null,
   "metadata": {},
   "outputs": [],
   "source": []
  },
  {
   "cell_type": "code",
   "execution_count": null,
   "metadata": {},
   "outputs": [],
   "source": []
  },
  {
   "cell_type": "code",
   "execution_count": null,
   "metadata": {},
   "outputs": [],
   "source": []
  },
  {
   "cell_type": "code",
   "execution_count": null,
   "metadata": {},
   "outputs": [],
   "source": []
  },
  {
   "cell_type": "markdown",
   "metadata": {
    "ExecuteTime": {
     "end_time": "2019-06-08T06:32:02.234295Z",
     "start_time": "2019-06-08T06:30:56.716427Z"
    },
    "slideshow": {
     "slide_type": "subslide"
    }
   },
   "source": [
    "```\n",
    "from selenium import webdriver\n",
    "\n",
    "browser = webdriver.Chrome()\n",
    "browser.get(\"https://www.privco.com/home/login\") #需要翻墙打开网址\n",
    "username = 'fake_username'\n",
    "password =  'fake_password'\n",
    "browser.find_element_by_id(\"username\").clear()\n",
    "browser.find_element_by_id(\"username\").send_keys(username) \n",
    "browser.find_element_by_id(\"password\").clear()\n",
    "browser.find_element_by_id(\"password\").send_keys(password)\n",
    "browser.find_element_by_css_selector(\"#login-form > div:nth-child(5) > div > button\").click()\n",
    "```"
   ]
  },
  {
   "cell_type": "code",
   "execution_count": 27,
   "metadata": {
    "ExecuteTime": {
     "end_time": "2019-06-08T06:33:11.197128Z",
     "start_time": "2019-06-08T06:33:11.169229Z"
    },
    "slideshow": {
     "slide_type": "subslide"
    }
   },
   "outputs": [],
   "source": [
    "# url = \"https://www.privco.com/private-company/329463\"\n",
    "def download_excel(url):\n",
    "    browser.get(url)\n",
    "    name = url.split('/')[-1]\n",
    "    title = browser.title\n",
    "    source = browser.page_source\n",
    "    with open(name+'.html', 'w') as f:\n",
    "        f.write(source)\n",
    "    try:\n",
    "        soup = BeautifulSoup(source, 'html.parser')\n",
    "        url_new = soup.find('span', {'class', 'profile-name'}).a['href']\n",
    "        url_excel = url_new + '/export'\n",
    "        browser.get(url_excel)\n",
    "    except Exception as e:\n",
    "        print(url, 'no excel')\n",
    "        pass\n",
    "        \n",
    "    "
   ]
  },
  {
   "cell_type": "code",
   "execution_count": 25,
   "metadata": {
    "ExecuteTime": {
     "end_time": "2019-06-08T06:32:13.789332Z",
     "start_time": "2019-06-08T06:32:13.785931Z"
    },
    "slideshow": {
     "slide_type": "subslide"
    }
   },
   "outputs": [],
   "source": [
    "urls = [ 'https://www.privco.com/private-company/1135789',\n",
    "            'https://www.privco.com/private-company/542756',\n",
    "            'https://www.privco.com/private-company/137908',\n",
    "            'https://www.privco.com/private-company/137138']"
   ]
  },
  {
   "cell_type": "code",
   "execution_count": 28,
   "metadata": {
    "ExecuteTime": {
     "end_time": "2019-06-08T06:33:19.547094Z",
     "start_time": "2019-06-08T06:33:15.569463Z"
    },
    "slideshow": {
     "slide_type": "subslide"
    }
   },
   "outputs": [
    {
     "name": "stdout",
     "output_type": "stream",
     "text": [
      "0\n",
      "https://www.privco.com/private-company/1135789 no excel\n",
      "1\n",
      "https://www.privco.com/private-company/542756 no excel\n",
      "2\n",
      "https://www.privco.com/private-company/137908 no excel\n",
      "3\n",
      "https://www.privco.com/private-company/137138 no excel\n"
     ]
    }
   ],
   "source": [
    "for k, url in enumerate(urls):\n",
    "    print(k)\n",
    "    try:\n",
    "        download_excel(url)\n",
    "    except Exception as e:\n",
    "        print(url, e)"
   ]
  }
 ],
 "metadata": {
  "celltoolbar": "Slideshow",
  "kernelspec": {
   "display_name": "Python 3",
   "language": "python",
   "name": "python3"
  },
  "language_info": {
   "codemirror_mode": {
    "name": "ipython",
    "version": 3
   },
   "file_extension": ".py",
   "mimetype": "text/x-python",
   "name": "python",
   "nbconvert_exporter": "python",
   "pygments_lexer": "ipython3",
   "version": "3.7.6"
  },
  "latex_envs": {
   "LaTeX_envs_menu_present": true,
   "autoclose": false,
   "autocomplete": true,
   "bibliofile": "biblio.bib",
   "cite_by": "apalike",
   "current_citInitial": 1,
   "eqLabelWithNumbers": true,
   "eqNumInitial": 0,
   "hotkeys": {
    "equation": "Ctrl-E",
    "itemize": "Ctrl-I"
   },
   "labels_anchors": false,
   "latex_user_defs": false,
   "report_style_numbering": false,
   "user_envs_cfg": false
  },
  "toc": {
   "base_numbering": 1,
   "nav_menu": {},
   "number_sections": false,
   "sideBar": false,
   "skip_h1_title": false,
   "title_cell": "Table of Contents",
   "title_sidebar": "Contents",
   "toc_cell": false,
   "toc_position": {
    "height": "47.5875px",
    "left": "1376.64px",
    "top": "54px",
    "width": "159.363px"
   },
   "toc_section_display": false,
   "toc_window_display": true
  }
 },
 "nbformat": 4,
 "nbformat_minor": 1
}