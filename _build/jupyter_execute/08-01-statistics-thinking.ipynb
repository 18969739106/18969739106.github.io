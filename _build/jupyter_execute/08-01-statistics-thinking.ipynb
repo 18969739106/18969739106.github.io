{
 "cells": [
  {
   "cell_type": "markdown",
   "metadata": {
    "slideshow": {
     "slide_type": "slide"
    }
   },
   "source": [
    "\n",
    "# 第五章 统计思维\n",
    "\n",
    "\n",
    "![image.png](./images/author.png)\n",
    "\n"
   ]
  },
  {
   "cell_type": "markdown",
   "metadata": {
    "cell_style": "center",
    "slideshow": {
     "slide_type": "subslide"
    }
   },
   "source": [
    "![](./img/stats/preface2.png)\n",
    "\n",
    "\n",
    "1. Introduction\n",
    "2. A Crash Course in Python\n",
    "3. Visualizing Data\n",
    "4. Linear Algebra\n",
    "5. Statistics\n",
    "6. Probability\n",
    "7. Hypothesis and Inference\n",
    "8. Gradient Descent\n",
    "\n",
    "\n"
   ]
  },
  {
   "cell_type": "markdown",
   "metadata": {
    "slideshow": {
     "slide_type": "slide"
    }
   },
   "source": [
    "<img src = './img/stats/school.png' width = '800px' > \n",
    "\n",
    "**The School of Athens** by Raphael (1509–1510), fresco at the Apostolic Palace, Vatican City. https://en.wikipedia.org/wiki/Platonic_Academy"
   ]
  },
  {
   "cell_type": "markdown",
   "metadata": {
    "slideshow": {
     "slide_type": "subslide"
    }
   },
   "source": [
    "<img src = './img/stats/socrats2.png' width = '800px' > \n",
    "\n",
    "The School of Athens by Raphael (1509–1510), fresco at the Apostolic Palace, Vatican City. https://en.wikipedia.org/wiki/Platonic_Academy"
   ]
  },
  {
   "cell_type": "markdown",
   "metadata": {
    "ExecuteTime": {
     "end_time": "2019-02-01T09:24:24.188217Z",
     "start_time": "2019-02-01T09:24:24.161432Z"
    },
    "slideshow": {
     "slide_type": "subslide"
    }
   },
   "source": [
    "<img src = './img/stats/plato.jpg' width = '150px' align = 'right'> \n",
    "\n",
    "## Plato & Typological Thinking\n",
    "\n",
    "Pythagoras held that \n",
    "- all things are number\n",
    "- the cosmos comes from numerical principles. \n",
    "    \n",
    "`The theory of Forms` or `theory of Ideas` is a philosophical theory, concept, or world-view, attributed to Plato, that the `physical world` is not as real or true as timeless, absolute, unchangeable `ideas`."
   ]
  },
  {
   "cell_type": "markdown",
   "metadata": {
    "ExecuteTime": {
     "end_time": "2019-02-01T09:24:24.188217Z",
     "start_time": "2019-02-01T09:24:24.161432Z"
    },
    "slideshow": {
     "slide_type": "subslide"
    }
   },
   "source": [
    "<img src = './img/stats/plato2.png' width = '150px' align = 'right'> \n",
    "真实的知识存在于普遍而永恒的法则之中。\n",
    "\n",
    "The physical world of becoming is an imitation of the mathematical world of being.\n",
    "- the realm of being 本质世界(理念世界)\n",
    "    - perfect, eternal, and changeless forms, \n",
    "- sensible world of becoming  现实世界\n",
    "    - imperfect\n"
   ]
  },
  {
   "cell_type": "markdown",
   "metadata": {
    "slideshow": {
     "slide_type": "subslide"
    }
   },
   "source": [
    "### Social Physics: Taking Physics as a Role Model\n",
    "- French social thinker **Henri de Saint-Simon** 1803 described the idea of describing society using laws similar to those of the physical and biological sciences.\n",
    "- His student and collaborator was **Auguste Comte**, a French philosopher, the founder of sociology, who first defined the term \n",
    "\n",
    "> Social physics is that science which occupies itself with social phenomena, considered in the same light as astronomical, physical, chemical, and physiological phenomena, that is to say as being subject to **natural and invariable laws**, the discovery of which is the special object of its researches.\n",
    "\n",
    "- Computational Social Science\n",
    "\n",
    "https://en.wikipedia.org/wiki/Social_physics\n",
    "\n"
   ]
  },
  {
   "cell_type": "markdown",
   "metadata": {
    "slideshow": {
     "slide_type": "subslide"
    }
   },
   "source": [
    "<img src = './img/stats/Adolphe_Quételet.jpg' width = '200px' align = 'right'> \n",
    "\n",
    "**Lambert Adolphe Jacques Quetelet** (1796-1874)\n",
    "introducing statistical methods to the social sciences in his book titled **Essays on Social Physics**, \n",
    "- the concept of the \"average man\" \n",
    "- characterized by the mean values \n",
    "- follow a normal distribution. \n",
    "- He collected data about many such variables.\n",
    "    - developed the body mass index scale\n",
    "        \n",
    "> “His goal was to understand the statistical laws underlying such phenomena as crime rates, marriage rates or suicide rates. He wanted to explain the values of these variables by other social factors”."
   ]
  },
  {
   "cell_type": "markdown",
   "metadata": {
    "slideshow": {
     "slide_type": "subslide"
    }
   },
   "source": [
    "\n",
    "<img src = './img/stats/darwin.jpg' width = '200px' align = 'right'> \n",
    "\n",
    "## **Population Thinking**\n",
    "\n",
    "**Charles Robert Darwin** (12 February 1809 – 19 April 1882)\n",
    "\n",
    "> favourable variations would make organisms better at surviving and passing the variations on to their offspring, while unfavourable variations would be lost.\n",
    "\n",
    "- Variation is the basis of natural seletion. \n",
    "\n",
    "> 在类型逻辑中平均数是主要的内容。在总体逻辑中重要的是差异，平均数只是总体的一个特征值，是探讨真实原因的手段，而不是原因本身。"
   ]
  },
  {
   "cell_type": "markdown",
   "metadata": {
    "slideshow": {
     "slide_type": "slide"
    }
   },
   "source": [
    "Statisticism  or Damn Lies\n",
    "\n",
    "\"统计至上主义\"天真地以为统计学是科学方法的完备基础。\n",
    "- 改进测量工具\n",
    "- 研究设计、概念化\n",
    "\n",
    "Duncan, O.D. 1984. Notes on Social Measurement, Historical and Critical. New York: Russell Sage Fundation, p.226."
   ]
  },
  {
   "cell_type": "markdown",
   "metadata": {
    "slideshow": {
     "slide_type": "subslide"
    }
   },
   "source": [
    "The Paradigm of Demography\n",
    "\n",
    "\n",
    "Otis Dudley Duncan (1921-2004) 确立一种新的学术传统\n",
    "- 蔑视模仿自然科学试图寻找普遍规律的做法；\n",
    "- 记录和理解真实人口中的经验模式是第一要务；\n",
    "- 变异是人类社会的本质。\n",
    "    - 柏拉图：变异是对本质世界的拙劣复制。"
   ]
  },
  {
   "cell_type": "markdown",
   "metadata": {
    "slideshow": {
     "slide_type": "subslide"
    }
   },
   "source": [
    "<img src = './img/stats/aristotle2.png' width = '600px' > \n",
    "\n",
    "The School of Athens by Raphael (1509–1510), fresco at the Apostolic Palace, Vatican City. https://en.wikipedia.org/wiki/Platonic_Academy"
   ]
  },
  {
   "cell_type": "markdown",
   "metadata": {
    "slideshow": {
     "slide_type": "subslide"
    }
   },
   "source": [
    "<img src = './img/stats/galton.jpg' width = '200px' align = 'right'>\n",
    "\n",
    "### 本体论： 世界的本质\n",
    "\n",
    "> “我认为自然科学是以“挖掘”本质的世界中的真理为最终目的，这也是其精华所在。而社会科学是以“了解”形成的世界为最终目的。历史上很多人想在社会科学领域找到一种真理，能够适用于各个方面，并且做过许多这方面的尝试。我认为社会科学不应该是这样的。在社会科学中，我们的目的是要了解现实世界，而不是去挖掘永恒的真理。这可能和你们的想象不一样。......既然差异是世界的本质，那差异就应该是研究的对象。” --- 谢宇 \n",
    "\n",
    "- 高尔顿认为凯特莱的社会物理学用处不大，普通人不是万能的。\n",
    "    - 左手入冰，右手入火，平均温度？\n",
    "- 高尔顿说（社会）科学的探索必须关注变异和共变。\n",
    "    - variation & Co-variation\n"
   ]
  },
  {
   "cell_type": "markdown",
   "metadata": {
    "slideshow": {
     "slide_type": "subslide"
    }
   },
   "source": [
    "\n",
    "The measurements have both \n",
    "- a central tendency, or mean, and \n",
    "- a spread around this central value, or variance. \n",
    "<img src = './img/stats/galton.jpg' width = '200px' align = 'right'>\n",
    "   \n",
    "   - In the late 1860s, Galton conceived of a measure to quantify normal variation: \n",
    "        - the **standard deviation**.\n",
    "- \"Regression to mediocrity\"\n",
    "\n"
   ]
  },
  {
   "cell_type": "markdown",
   "metadata": {
    "slideshow": {
     "slide_type": "subslide"
    }
   },
   "source": [
    "### 认识论： 人类知识的起源、本质、方法及局限\n",
    "\n",
    "谢宇：“你到底能知道什么，你怎样认识世界。\"\n",
    "- 自然科学追求永恒真理，关注典型现象；\n",
    "    - 典型现象 & 平均人\n",
    "- 社会科学关注所有个案组成的总体的状况。"
   ]
  },
  {
   "cell_type": "markdown",
   "metadata": {
    "slideshow": {
     "slide_type": "subslide"
    }
   },
   "source": [
    "### 方法论： 使用什么方法\n",
    "\n",
    "谢宇：“社会科学之所以复杂，是因为我们运用的数据是通过观察所得，而观察所得的数据必然受到外来因素的影响，这些外来因素都可能解释你的数据。“\n",
    "- 自然科学使用实验来隔离外来因素的影响；\n",
    "- “社会科学可以使用统计排除一些外来影响，但你不能排除所有的外来因素”。"
   ]
  },
  {
   "cell_type": "markdown",
   "metadata": {
    "slideshow": {
     "slide_type": "subslide"
    }
   },
   "source": [
    "### Three Basic Principles of Social Science Research\n",
    "\n",
    "- Variability Principle\n",
    "    - Social Grouping Principle\n",
    "        - Social Context Principle"
   ]
  },
  {
   "cell_type": "markdown",
   "metadata": {
    "slideshow": {
     "slide_type": "slide"
    }
   },
   "source": [
    "\n",
    "## Statistics for Describing Data\n",
    "\n",
    "\n",
    "The mathematics and techniques with which we understand data."
   ]
  },
  {
   "cell_type": "code",
   "execution_count": 58,
   "metadata": {
    "ExecuteTime": {
     "end_time": "2020-06-07T01:34:31.595402Z",
     "start_time": "2020-06-07T01:34:31.590488Z"
    },
    "slideshow": {
     "slide_type": "subslide"
    }
   },
   "outputs": [],
   "source": [
    "from collections import Counter\n",
    "import math\n",
    "import numpy as np\n",
    "import matplotlib.pyplot as plt\n",
    "import matplotlib\n",
    "\n",
    "matplotlib.style.use('ggplot')"
   ]
  },
  {
   "cell_type": "code",
   "execution_count": 5,
   "metadata": {
    "ExecuteTime": {
     "end_time": "2020-06-07T00:46:00.662193Z",
     "start_time": "2020-06-07T00:46:00.658191Z"
    },
    "cell_style": "center",
    "slideshow": {
     "slide_type": "slide"
    }
   },
   "outputs": [],
   "source": [
    "def dot(v, w):\n",
    "    \"\"\"v_1 * w_1 + ... + v_n * w_n\"\"\"\n",
    "    return sum(v_i * w_i for v_i, w_i in zip(v, w))\n",
    "\n",
    "def sum_of_squares(v):\n",
    "    \"\"\"v_1 * v_1 + ... + v_n * v_n\"\"\"\n",
    "    return dot(v, v)\n"
   ]
  },
  {
   "cell_type": "code",
   "execution_count": 6,
   "metadata": {
    "ExecuteTime": {
     "end_time": "2020-06-07T00:46:01.388537Z",
     "start_time": "2020-06-07T00:46:01.377788Z"
    },
    "cell_style": "center",
    "slideshow": {
     "slide_type": "subslide"
    }
   },
   "outputs": [],
   "source": [
    "daily_minutes = [1,68.77,51.25,52.08,38.36,44.54,57.13,\n",
    "                 51.4,41.42,31.22,34.76,54.01,38.79,\n",
    "                 47.59,49.1,27.66,41.03,36.73,48.65,28.12,\n",
    "                 46.62,35.57,32.98,35,26.07,23.77,39.73,\n",
    "                 40.57,31.65,31.21,36.32,20.45,21.93,26.02,\n",
    "                 27.34,23.49,46.94,30.5,33.8,24.23,21.4,27.94,\n",
    "                 32.24,40.57,25.07,19.42,22.39,18.42,46.96,23.72,\n",
    "                 26.41,26.97,36.76,40.32,35.02,29.47,30.2,31,\n",
    "                 38.11,38.18,36.31,21.03,30.86,36.07,28.66,\n",
    "                 29.08,37.28,15.28,24.17,22.31,30.17,25.53,\n",
    "                 19.85,35.37,44.6,17.23,13.47,26.33,35.02,\n",
    "                 32.09,24.81,19.33,28.77,24.26,31.98,25.73,\n",
    "                 24.86,16.28,34.51,15.23,39.72,40.8,26.06,\n",
    "                 35.76,34.76,16.13,44.04,18.03,19.65,32.62,\n",
    "                 35.59,39.43,14.18,35.24,40.13,41.82,35.45,\n",
    "                 36.07,43.67,24.61,20.9,21.9,18.79,27.61,27.21,\n",
    "                 26.61,29.77,20.59,27.53,13.82,33.2,25,33.1,36.65,\n",
    "                 18.63,14.87,22.2,36.81,25.53,24.62,26.25,18.21,\n",
    "                 28.08,19.42,29.79,32.8,35.99,28.32,27.79,35.88,29.06,\n",
    "                 36.28,14.1,36.63,37.49,26.9,18.58,38.48,24.48,\n",
    "                 18.95,33.55,14.24,29.04,32.51,25.63,22.22,19,\n",
    "                 32.73,15.16,13.9,27.2,32.01,29.27,33,13.74,20.42,\n",
    "                 27.32,18.23,35.35,28.48,9.08,24.62,20.12,35.26,\n",
    "                 19.92,31.02,16.49,12.16,30.7,31.22,34.65,13.13,\n",
    "                 27.51,33.2,31.57,14.1,33.42,17.44,10.12,24.42,\n",
    "                 9.82,23.39,30.93,15.03,21.67,31.09,33.29,22.61,\n",
    "                 26.89,23.48,8.38,27.81,32.35,23.84]\n"
   ]
  },
  {
   "cell_type": "code",
   "execution_count": 7,
   "metadata": {
    "ExecuteTime": {
     "end_time": "2020-06-07T00:46:02.024658Z",
     "start_time": "2020-06-07T00:46:02.014964Z"
    },
    "slideshow": {
     "slide_type": "subslide"
    }
   },
   "outputs": [],
   "source": [
    "num_friends = [100,49,41,40,25,21,21,19,19,18,\n",
    "               18,16,15,15,15,15,14,14,13,13,\n",
    "               13,13,12,12,11,10,10,10,10,10,\n",
    "               10,10,10,10,10,10,10,10,10,10,\n",
    "               9,9,9,9,9,9,9,9,9,9,9,9,9,9,9,\n",
    "               9,9,9,8,8,8,8,8,8,8,8,8,8,8,8,8\n",
    "               ,7,7,7,7,7,7,7,7,7,7,7,7,7,7,7,\n",
    "               6,6,6,6,6,6,6,6,6,6,6,6,6,6,6,6,\n",
    "               6,6,6,6,6,6,5,5,5,5,5,5,5,5,5,5,\n",
    "               5,5,5,5,5,5,5,4,4,4,4,4,4,4,4,4,\n",
    "               4,4,4,4,4,4,4,4,4,4,4,3,3,3,3,\n",
    "               3,3,3,3,3,3,3,3,3,3,3,3,3,3,3,3,\n",
    "               2,2,2,2,2,2,2,2,2,2,2,2,2,2,2,2,2,\n",
    "               1,1,1,1,1,1,1,1,1,1,1,1,1,1,1,\n",
    "               1,1,1,1,1,1,1]"
   ]
  },
  {
   "cell_type": "markdown",
   "metadata": {
    "slideshow": {
     "slide_type": "slide"
    }
   },
   "source": [
    "### Distribution and Histogram"
   ]
  },
  {
   "cell_type": "code",
   "execution_count": 8,
   "metadata": {
    "ExecuteTime": {
     "end_time": "2020-06-07T00:46:03.628775Z",
     "start_time": "2020-06-07T00:46:03.351786Z"
    },
    "cell_style": "split",
    "slideshow": {
     "slide_type": "subslide"
    }
   },
   "outputs": [
    {
     "data": {
      "image/png": "[encoded data removed]",
      "text/plain": [
       "<Figure size 432x288 with 1 Axes>"
      ]
     },
     "metadata": {
      "filenames": {
       "image/png": "/Users/datalab/github/mybook/_build/jupyter_execute/08-01-statistics-thinking_23_0.png"
      }
     },
     "output_type": "display_data"
    }
   ],
   "source": [
    "time_counts = Counter(map(int, daily_minutes))\n",
    "xs = range(69)\n",
    "ys = [time_counts[x] for x in xs]\n",
    "plt.bar(xs, ys)\n",
    "plt.axis([0,69,0,14])\n",
    "plt.title(\"Histogram of Time Counts\")\n",
    "plt.xlabel(\"# of Time\")\n",
    "plt.ylabel(\"# of people\")\n",
    "plt.show()"
   ]
  },
  {
   "cell_type": "code",
   "execution_count": 9,
   "metadata": {
    "ExecuteTime": {
     "end_time": "2020-06-07T00:46:04.744273Z",
     "start_time": "2020-06-07T00:46:04.470589Z"
    },
    "cell_style": "split",
    "scrolled": true,
    "slideshow": {
     "slide_type": "fragment"
    }
   },
   "outputs": [
    {
     "data": {
      "image/png": "[encoded data removed]",
      "text/plain": [
       "<Figure size 432x288 with 1 Axes>"
      ]
     },
     "metadata": {
      "filenames": {
       "image/png": "/Users/datalab/github/mybook/_build/jupyter_execute/08-01-statistics-thinking_24_0.png"
      }
     },
     "output_type": "display_data"
    }
   ],
   "source": [
    "friend_counts = Counter(num_friends)\n",
    "xs = range(101)\n",
    "ys = [friend_counts[x] for x in xs]\n",
    "plt.bar(xs, ys)\n",
    "plt.axis([0,101,0,25])\n",
    "plt.title(\"Histogram of Friend Counts\")\n",
    "plt.xlabel(\"# of friends\")\n",
    "plt.ylabel(\"# of people\")\n",
    "plt.show()"
   ]
  },
  {
   "cell_type": "markdown",
   "metadata": {
    "cell_style": "center",
    "slideshow": {
     "slide_type": "subslide"
    }
   },
   "source": [
    "We can also draw them with ``plt.hist``"
   ]
  },
  {
   "cell_type": "code",
   "execution_count": 59,
   "metadata": {
    "ExecuteTime": {
     "end_time": "2020-06-07T01:39:55.939842Z",
     "start_time": "2020-06-07T01:39:55.617221Z"
    },
    "cell_style": "split",
    "slideshow": {
     "slide_type": "subslide"
    }
   },
   "outputs": [
    {
     "data": {
      "image/png": "[encoded data removed]",
      "text/plain": [
       "<Figure size 432x288 with 1 Axes>"
      ]
     },
     "metadata": {
      "filenames": {
       "image/png": "/Users/datalab/github/mybook/_build/jupyter_execute/08-01-statistics-thinking_26_0.png"
      }
     },
     "output_type": "display_data"
    }
   ],
   "source": [
    "plt.hist(daily_minutes, bins = 50)\n",
    "plt.xlabel('Daily minutes')\n",
    "plt.ylabel('Frequency')\n",
    "plt.show()"
   ]
  },
  {
   "cell_type": "code",
   "execution_count": 61,
   "metadata": {
    "ExecuteTime": {
     "end_time": "2020-06-07T01:40:32.011967Z",
     "start_time": "2020-06-07T01:40:31.704022Z"
    },
    "cell_style": "split",
    "slideshow": {
     "slide_type": "fragment"
    }
   },
   "outputs": [
    {
     "data": {
      "image/png": "[encoded data removed]",
      "text/plain": [
       "<Figure size 432x288 with 1 Axes>"
      ]
     },
     "metadata": {
      "filenames": {
       "image/png": "/Users/datalab/github/mybook/_build/jupyter_execute/08-01-statistics-thinking_27_0.png"
      }
     },
     "output_type": "display_data"
    }
   ],
   "source": [
    "plt.hist(num_friends, bins= 50)\n",
    "plt.xlabel(\"# of friends\")\n",
    "plt.ylabel('Frequency')\n",
    "plt.show()"
   ]
  },
  {
   "cell_type": "markdown",
   "metadata": {
    "slideshow": {
     "slide_type": "subslide"
    }
   },
   "source": [
    "Unfortunately, this chart is still too difficult to interpret. \n",
    "- So you start generating some statistics. "
   ]
  },
  {
   "cell_type": "markdown",
   "metadata": {
    "ExecuteTime": {
     "end_time": "2019-01-30T04:21:07.745547Z",
     "start_time": "2019-01-30T04:21:07.742911Z"
    },
    "slideshow": {
     "slide_type": "slide"
    }
   },
   "source": [
    "### From Max to Min"
   ]
  },
  {
   "cell_type": "code",
   "execution_count": 12,
   "metadata": {
    "ExecuteTime": {
     "end_time": "2020-06-07T00:46:14.883473Z",
     "start_time": "2020-06-07T00:46:14.879718Z"
    },
    "slideshow": {
     "slide_type": "subslide"
    }
   },
   "outputs": [
    {
     "name": "stdout",
     "output_type": "stream",
     "text": [
      "204 100 1\n"
     ]
    }
   ],
   "source": [
    "num_points = len(num_friends)               # 204\n",
    "\n",
    "largest_value = max(num_friends)            # 100\n",
    "smallest_value = min(num_friends)           # 1\n",
    "\n",
    "print(num_points, largest_value, smallest_value)"
   ]
  },
  {
   "cell_type": "code",
   "execution_count": 13,
   "metadata": {
    "ExecuteTime": {
     "end_time": "2020-06-07T00:46:15.515153Z",
     "start_time": "2020-06-07T00:46:15.511981Z"
    },
    "slideshow": {
     "slide_type": "subslide"
    }
   },
   "outputs": [],
   "source": [
    "sorted_values = sorted(num_friends)\n",
    "smallest_value = sorted_values[0]           # 1\n",
    "\n",
    "second_smallest_value = sorted_values[1]    # 1\n",
    "second_largest_value = sorted_values[-2]    # 49"
   ]
  },
  {
   "cell_type": "markdown",
   "metadata": {
    "slideshow": {
     "slide_type": "slide"
    }
   },
   "source": [
    "### Mean, Median, Mode, and Quantile"
   ]
  },
  {
   "cell_type": "code",
   "execution_count": 14,
   "metadata": {
    "ExecuteTime": {
     "end_time": "2020-06-07T00:46:16.617731Z",
     "start_time": "2020-06-07T00:46:16.614866Z"
    },
    "slideshow": {
     "slide_type": "subslide"
    }
   },
   "outputs": [],
   "source": [
    "def mean(x):\n",
    "    return sum(x) / len(x)"
   ]
  },
  {
   "cell_type": "code",
   "execution_count": 15,
   "metadata": {
    "ExecuteTime": {
     "end_time": "2020-06-07T00:46:17.155281Z",
     "start_time": "2020-06-07T00:46:17.151515Z"
    },
    "slideshow": {
     "slide_type": "subslide"
    }
   },
   "outputs": [
    {
     "name": "stdout",
     "output_type": "stream",
     "text": [
      "mean(num_friends) 7.333333333333333\n"
     ]
    }
   ],
   "source": [
    "print(\"mean(num_friends)\", mean(num_friends))"
   ]
  },
  {
   "cell_type": "code",
   "execution_count": 16,
   "metadata": {
    "ExecuteTime": {
     "end_time": "2020-06-07T00:46:17.731475Z",
     "start_time": "2020-06-07T00:46:17.726590Z"
    },
    "slideshow": {
     "slide_type": "fragment"
    }
   },
   "outputs": [
    {
     "data": {
      "text/plain": [
       "7.333333333333333"
      ]
     },
     "execution_count": 16,
     "metadata": {},
     "output_type": "execute_result"
    }
   ],
   "source": [
    "np.mean(num_friends)"
   ]
  },
  {
   "cell_type": "code",
   "execution_count": 17,
   "metadata": {
    "ExecuteTime": {
     "end_time": "2020-06-07T00:46:18.387429Z",
     "start_time": "2020-06-07T00:46:18.383207Z"
    },
    "slideshow": {
     "slide_type": "subslide"
    }
   },
   "outputs": [],
   "source": [
    "def median(v):\n",
    "    \"\"\"finds the 'middle-most' value of v\"\"\"\n",
    "    n = len(v)\n",
    "    sorted_v = sorted(v)\n",
    "    midpoint = n // 2\n",
    "\n",
    "    if n % 2 == 1:\n",
    "        # if odd, return the middle value\n",
    "        return sorted_v[midpoint]\n",
    "    else:\n",
    "        # if even, return the average of the middle values\n",
    "        lo = midpoint - 1\n",
    "        hi = midpoint\n",
    "        return (sorted_v[lo] + sorted_v[hi]) / 2"
   ]
  },
  {
   "cell_type": "code",
   "execution_count": 18,
   "metadata": {
    "ExecuteTime": {
     "end_time": "2020-06-07T00:46:19.099791Z",
     "start_time": "2020-06-07T00:46:19.095634Z"
    },
    "slideshow": {
     "slide_type": "subslide"
    }
   },
   "outputs": [
    {
     "name": "stdout",
     "output_type": "stream",
     "text": [
      "median(num_friends) 6.0\n"
     ]
    }
   ],
   "source": [
    "print(\"median(num_friends)\", median(num_friends))"
   ]
  },
  {
   "cell_type": "code",
   "execution_count": 19,
   "metadata": {
    "ExecuteTime": {
     "end_time": "2020-06-07T00:46:19.668072Z",
     "start_time": "2020-06-07T00:46:19.664088Z"
    },
    "slideshow": {
     "slide_type": "fragment"
    }
   },
   "outputs": [
    {
     "data": {
      "text/plain": [
       "6.0"
      ]
     },
     "execution_count": 19,
     "metadata": {},
     "output_type": "execute_result"
    }
   ],
   "source": [
    "np.median(num_friends)"
   ]
  },
  {
   "cell_type": "code",
   "execution_count": 20,
   "metadata": {
    "ExecuteTime": {
     "end_time": "2020-06-07T00:46:20.258159Z",
     "start_time": "2020-06-07T00:46:20.254999Z"
    },
    "slideshow": {
     "slide_type": "subslide"
    }
   },
   "outputs": [],
   "source": [
    "def quantile(x, p):\n",
    "    \"\"\"returns the pth-percentile value in x\"\"\"\n",
    "    p_index = int(p * len(x))\n",
    "    return sorted(x)[p_index]"
   ]
  },
  {
   "cell_type": "code",
   "execution_count": 21,
   "metadata": {
    "ExecuteTime": {
     "end_time": "2020-06-07T00:46:20.921738Z",
     "start_time": "2020-06-07T00:46:20.916324Z"
    },
    "slideshow": {
     "slide_type": "fragment"
    }
   },
   "outputs": [
    {
     "name": "stdout",
     "output_type": "stream",
     "text": [
      "quantile(num_friends, 0.10) 1\n",
      "quantile(num_friends, 0.25) 3\n",
      "quantile(num_friends, 0.50) 6\n",
      "quantile(num_friends, 0.75) 9\n",
      "quantile(num_friends, 0.90) 13\n"
     ]
    }
   ],
   "source": [
    "print(\"quantile(num_friends, 0.10)\", quantile(num_friends, 0.10))\n",
    "print(\"quantile(num_friends, 0.25)\", quantile(num_friends, 0.25))\n",
    "print(\"quantile(num_friends, 0.50)\", quantile(num_friends, 0.50))\n",
    "print(\"quantile(num_friends, 0.75)\", quantile(num_friends, 0.75))\n",
    "print(\"quantile(num_friends, 0.90)\", quantile(num_friends, 0.90))"
   ]
  },
  {
   "cell_type": "code",
   "execution_count": 22,
   "metadata": {
    "ExecuteTime": {
     "end_time": "2020-06-07T00:46:21.547774Z",
     "start_time": "2020-06-07T00:46:21.543418Z"
    },
    "slideshow": {
     "slide_type": "subslide"
    }
   },
   "outputs": [
    {
     "data": {
      "text/plain": [
       "13.0"
      ]
     },
     "execution_count": 22,
     "metadata": {},
     "output_type": "execute_result"
    }
   ],
   "source": [
    "np.percentile(num_friends, 90)"
   ]
  },
  {
   "cell_type": "code",
   "execution_count": 23,
   "metadata": {
    "ExecuteTime": {
     "end_time": "2020-06-07T00:46:22.288607Z",
     "start_time": "2020-06-07T00:46:22.284808Z"
    },
    "slideshow": {
     "slide_type": "subslide"
    }
   },
   "outputs": [],
   "source": [
    "def mode(x):\n",
    "    \"\"\"returns a list, might be more than one mode\"\"\"\n",
    "    counts = Counter(x)\n",
    "    max_count = max(counts.values())\n",
    "    return [x_i for x_i, count in counts.items()\n",
    "            if count == max_count]"
   ]
  },
  {
   "cell_type": "code",
   "execution_count": 24,
   "metadata": {
    "ExecuteTime": {
     "end_time": "2020-06-07T00:46:22.857712Z",
     "start_time": "2020-06-07T00:46:22.854217Z"
    },
    "slideshow": {
     "slide_type": "subslide"
    }
   },
   "outputs": [
    {
     "name": "stdout",
     "output_type": "stream",
     "text": [
      "mode(num_friends) [6, 1]\n"
     ]
    }
   ],
   "source": [
    "print(\"mode(num_friends)\", mode(num_friends))"
   ]
  },
  {
   "cell_type": "code",
   "execution_count": 25,
   "metadata": {
    "ExecuteTime": {
     "end_time": "2020-06-07T00:46:23.498166Z",
     "start_time": "2020-06-07T00:46:23.494484Z"
    },
    "slideshow": {
     "slide_type": "fragment"
    }
   },
   "outputs": [
    {
     "data": {
      "text/plain": [
       "1"
      ]
     },
     "execution_count": 25,
     "metadata": {},
     "output_type": "execute_result"
    }
   ],
   "source": [
    "np.argmax(np.bincount(num_friends))\n",
    "# Only the first occurrence is returned."
   ]
  },
  {
   "cell_type": "code",
   "execution_count": 26,
   "metadata": {
    "ExecuteTime": {
     "end_time": "2020-06-07T00:46:24.313036Z",
     "start_time": "2020-06-07T00:46:24.308848Z"
    },
    "slideshow": {
     "slide_type": "skip"
    }
   },
   "outputs": [
    {
     "data": {
      "text/plain": [
       "array([ 0, 22, 17, 20, 20, 17, 22, 15, 13, 18, 15,  1,  2,  4,  2,  4,  1,\n",
       "        0,  2,  2,  0,  2,  0,  0,  0,  1,  0,  0,  0,  0,  0,  0,  0,  0,\n",
       "        0,  0,  0,  0,  0,  0,  1,  1,  0,  0,  0,  0,  0,  0,  0,  1,  0,\n",
       "        0,  0,  0,  0,  0,  0,  0,  0,  0,  0,  0,  0,  0,  0,  0,  0,  0,\n",
       "        0,  0,  0,  0,  0,  0,  0,  0,  0,  0,  0,  0,  0,  0,  0,  0,  0,\n",
       "        0,  0,  0,  0,  0,  0,  0,  0,  0,  0,  0,  0,  0,  0,  0,  1])"
      ]
     },
     "execution_count": 26,
     "metadata": {},
     "output_type": "execute_result"
    }
   ],
   "source": [
    "np.bincount(num_friends)"
   ]
  },
  {
   "cell_type": "code",
   "execution_count": 27,
   "metadata": {
    "ExecuteTime": {
     "end_time": "2020-06-07T00:46:25.561921Z",
     "start_time": "2020-06-07T00:46:25.057163Z"
    },
    "slideshow": {
     "slide_type": "subslide"
    }
   },
   "outputs": [
    {
     "data": {
      "text/plain": [
       "ModeResult(mode=array([1]), count=array([22]))"
      ]
     },
     "execution_count": 27,
     "metadata": {},
     "output_type": "execute_result"
    }
   ],
   "source": [
    "from scipy import stats\n",
    "stats.mode(num_friends, axis=None)"
   ]
  },
  {
   "cell_type": "code",
   "execution_count": 28,
   "metadata": {
    "ExecuteTime": {
     "end_time": "2020-06-07T00:46:26.969984Z",
     "start_time": "2020-06-07T00:46:26.967385Z"
    },
    "slideshow": {
     "slide_type": "subslide"
    }
   },
   "outputs": [],
   "source": [
    "def data_range(x):\n",
    "    return max(x) - min(x)"
   ]
  },
  {
   "cell_type": "code",
   "execution_count": 29,
   "metadata": {
    "ExecuteTime": {
     "end_time": "2020-06-07T00:46:27.634462Z",
     "start_time": "2020-06-07T00:46:27.631247Z"
    },
    "slideshow": {
     "slide_type": "fragment"
    }
   },
   "outputs": [
    {
     "name": "stdout",
     "output_type": "stream",
     "text": [
      "data_range(num_friends) 99\n"
     ]
    }
   ],
   "source": [
    "print(\"data_range(num_friends)\", data_range(num_friends))"
   ]
  },
  {
   "cell_type": "code",
   "execution_count": 37,
   "metadata": {
    "ExecuteTime": {
     "end_time": "2020-06-07T00:46:48.682924Z",
     "start_time": "2020-06-07T00:46:48.678754Z"
    },
    "slideshow": {
     "slide_type": "subslide"
    }
   },
   "outputs": [
    {
     "name": "stdout",
     "output_type": "stream",
     "text": [
      "interquartile_range(num_friends) 6\n"
     ]
    }
   ],
   "source": [
    "def interquartile_range(x):\n",
    "    return quantile(x, 0.75) - quantile(x, 0.25)\n",
    "print(\"interquartile_range(num_friends)\", interquartile_range(num_friends))\n"
   ]
  },
  {
   "cell_type": "markdown",
   "metadata": {
    "ExecuteTime": {
     "end_time": "2019-10-31T01:02:16.315716Z",
     "start_time": "2019-10-31T01:02:16.198370Z"
    },
    "slideshow": {
     "slide_type": "slide"
    }
   },
   "source": [
    "\n",
    "<img src = './img/stats/boxplot.png' width = '600px' > "
   ]
  },
  {
   "cell_type": "code",
   "execution_count": 30,
   "metadata": {
    "ExecuteTime": {
     "end_time": "2020-06-07T00:46:29.835815Z",
     "start_time": "2020-06-07T00:46:29.124179Z"
    },
    "cell_style": "split",
    "slideshow": {
     "slide_type": "subslide"
    }
   },
   "outputs": [
    {
     "data": {
      "image/png": "[encoded data removed]",
      "text/plain": [
       "<Figure size 432x288 with 1 Axes>"
      ]
     },
     "metadata": {
      "filenames": {
       "image/png": "/Users/datalab/github/mybook/_build/jupyter_execute/08-01-statistics-thinking_51_0.png"
      }
     },
     "output_type": "display_data"
    }
   ],
   "source": [
    "import seaborn as sns\n",
    "sns.set(style=\"ticks\", palette=\"pastel\")\n",
    "sns.boxplot(y = daily_minutes);"
   ]
  },
  {
   "cell_type": "code",
   "execution_count": 31,
   "metadata": {
    "ExecuteTime": {
     "end_time": "2020-06-07T00:46:30.890225Z",
     "start_time": "2020-06-07T00:46:30.759548Z"
    },
    "cell_style": "split",
    "slideshow": {
     "slide_type": "fragment"
    }
   },
   "outputs": [
    {
     "data": {
      "image/png": "[encoded data removed]",
      "text/plain": [
       "<Figure size 432x288 with 1 Axes>"
      ]
     },
     "metadata": {
      "filenames": {
       "image/png": "/Users/datalab/github/mybook/_build/jupyter_execute/08-01-statistics-thinking_52_0.png"
      }
     },
     "output_type": "display_data"
    }
   ],
   "source": [
    "import seaborn as sns\n",
    "sns.set(style=\"ticks\", palette=\"pastel\")\n",
    "sns.boxplot(y = num_friends);"
   ]
  },
  {
   "cell_type": "markdown",
   "metadata": {
    "slideshow": {
     "slide_type": "slide"
    }
   },
   "source": [
    "### Variance and Standard Deviation"
   ]
  },
  {
   "cell_type": "markdown",
   "metadata": {
    "slideshow": {
     "slide_type": "subslide"
    }
   },
   "source": [
    "$$\\sigma = \\sqrt{\\frac{\\sum_{i=1}^N (x_i - \\overline{x})^2}{N-1} }$$\n",
    "\n",
    "$$\\sigma ^ 2 = \\frac{\\sum_{i=1}^N (x_i - \\overline{x})^2}{N-1} $$\n",
    "\n",
    "[样本方差为何除以n-1?](https://blog.csdn.net/hearthougan/article/details/77859173)\n",
    "\n",
    "![](./images/variance.png)\n",
    "\n"
   ]
  },
  {
   "cell_type": "code",
   "execution_count": 32,
   "metadata": {
    "ExecuteTime": {
     "end_time": "2020-06-07T00:46:44.940821Z",
     "start_time": "2020-06-07T00:46:44.936539Z"
    },
    "slideshow": {
     "slide_type": "subslide"
    }
   },
   "outputs": [],
   "source": [
    "def de_mean(x):\n",
    "    \"\"\"translate x by subtracting its mean \n",
    "    so the result has mean 0\"\"\"\n",
    "    x_bar = mean(x)\n",
    "    return [x_i - x_bar for x_i in x]"
   ]
  },
  {
   "cell_type": "code",
   "execution_count": 33,
   "metadata": {
    "ExecuteTime": {
     "end_time": "2020-06-07T00:46:45.467704Z",
     "start_time": "2020-06-07T00:46:45.463461Z"
    },
    "slideshow": {
     "slide_type": "subslide"
    }
   },
   "outputs": [
    {
     "name": "stdout",
     "output_type": "stream",
     "text": [
      "variance(num_friends) 81.54351395730716\n"
     ]
    }
   ],
   "source": [
    "def variance(x):\n",
    "    \"\"\"assumes x has at least two elements\"\"\"\n",
    "    n = len(x)\n",
    "    deviations = de_mean(x)\n",
    "    return sum_of_squares(deviations) / (n - 1)\n",
    "\n",
    "print(\"variance(num_friends)\", variance(num_friends))"
   ]
  },
  {
   "cell_type": "code",
   "execution_count": 34,
   "metadata": {
    "ExecuteTime": {
     "end_time": "2020-06-07T00:46:46.040828Z",
     "start_time": "2020-06-07T00:46:46.037238Z"
    },
    "slideshow": {
     "slide_type": "skip"
    }
   },
   "outputs": [
    {
     "name": "stdout",
     "output_type": "stream",
     "text": [
      "81.14379084967321\n"
     ]
    }
   ],
   "source": [
    "print(np.var(num_friends))"
   ]
  },
  {
   "cell_type": "code",
   "execution_count": 35,
   "metadata": {
    "ExecuteTime": {
     "end_time": "2020-06-07T00:46:46.525407Z",
     "start_time": "2020-06-07T00:46:46.521994Z"
    },
    "slideshow": {
     "slide_type": "subslide"
    }
   },
   "outputs": [
    {
     "name": "stdout",
     "output_type": "stream",
     "text": [
      "standard_deviation(num_friends) 9.03014473623248\n"
     ]
    }
   ],
   "source": [
    "def standard_deviation(x):\n",
    "    return math.sqrt(variance(x))\n",
    "\n",
    "print(\"standard_deviation(num_friends)\", standard_deviation(num_friends))\n"
   ]
  },
  {
   "cell_type": "code",
   "execution_count": 36,
   "metadata": {
    "ExecuteTime": {
     "end_time": "2020-06-07T00:46:47.170199Z",
     "start_time": "2020-06-07T00:46:47.166097Z"
    },
    "slideshow": {
     "slide_type": "fragment"
    }
   },
   "outputs": [
    {
     "data": {
      "text/plain": [
       "9.007984838446012"
      ]
     },
     "execution_count": 36,
     "metadata": {},
     "output_type": "execute_result"
    }
   ],
   "source": [
    "np.std(num_friends)"
   ]
  },
  {
   "cell_type": "markdown",
   "metadata": {
    "slideshow": {
     "slide_type": "subslide"
    }
   },
   "source": [
    "### Covariance, Correlation, and Scatter Plot"
   ]
  },
  {
   "cell_type": "code",
   "execution_count": 47,
   "metadata": {
    "ExecuteTime": {
     "end_time": "2020-06-07T00:47:44.515057Z",
     "start_time": "2020-06-07T00:47:44.318473Z"
    },
    "cell_style": "split",
    "slideshow": {
     "slide_type": "subslide"
    }
   },
   "outputs": [
    {
     "data": {
      "image/png": "[encoded data removed]",
      "text/plain": [
       "<Figure size 432x288 with 1 Axes>"
      ]
     },
     "metadata": {
      "filenames": {
       "image/png": "/Users/datalab/github/mybook/_build/jupyter_execute/08-01-statistics-thinking_61_0.png"
      }
     },
     "output_type": "display_data"
    }
   ],
   "source": [
    "matplotlib.style.use('ggplot')\n",
    "plt.scatter(num_friends, daily_minutes, \n",
    "            alpha = .1)\n",
    "plt.xlabel('number of friends')\n",
    "plt.ylabel('daily minutes')\n",
    "plt.title('outliers')\n",
    "plt.show()"
   ]
  },
  {
   "cell_type": "code",
   "execution_count": 43,
   "metadata": {
    "ExecuteTime": {
     "end_time": "2020-06-07T00:47:12.419944Z",
     "start_time": "2020-06-07T00:47:11.189052Z"
    },
    "cell_style": "split",
    "slideshow": {
     "slide_type": "fragment"
    }
   },
   "outputs": [
    {
     "data": {
      "image/png": "[encoded data removed]",
      "text/plain": [
       "<Figure size 504x504 with 3 Axes>"
      ]
     },
     "metadata": {
      "filenames": {
       "image/png": "/Users/datalab/github/mybook/_build/jupyter_execute/08-01-statistics-thinking_62_0.png"
      }
     },
     "output_type": "display_data"
    }
   ],
   "source": [
    "import seaborn as sns\n",
    "sns.set(style=\"white\")\n",
    "g = sns.jointplot(num_friends, daily_minutes, \n",
    "                  kind=\"kde\", height=7, space=0)"
   ]
  },
  {
   "cell_type": "code",
   "execution_count": 38,
   "metadata": {
    "ExecuteTime": {
     "end_time": "2020-06-07T00:46:49.183367Z",
     "start_time": "2020-06-07T00:46:49.179586Z"
    },
    "slideshow": {
     "slide_type": "subslide"
    }
   },
   "outputs": [
    {
     "name": "stdout",
     "output_type": "stream",
     "text": [
      "covariance(num_friends, daily_minutes) 22.425435139573064\n"
     ]
    }
   ],
   "source": [
    "def covariance(x, y):\n",
    "    n = len(x)\n",
    "    return dot(de_mean(x), de_mean(y)) / (n - 1)\n",
    "\n",
    "print(\"covariance(num_friends, daily_minutes)\", covariance(num_friends, daily_minutes))\n"
   ]
  },
  {
   "cell_type": "code",
   "execution_count": 39,
   "metadata": {
    "ExecuteTime": {
     "end_time": "2020-06-07T00:46:49.724301Z",
     "start_time": "2020-06-07T00:46:49.717907Z"
    },
    "slideshow": {
     "slide_type": "subslide"
    }
   },
   "outputs": [
    {
     "data": {
      "text/plain": [
       "array([[ 81.54351396,  22.42543514],\n",
       "       [ 22.42543514, 100.78589895]])"
      ]
     },
     "execution_count": 39,
     "metadata": {},
     "output_type": "execute_result"
    }
   ],
   "source": [
    "np.cov(num_friends, daily_minutes) "
   ]
  },
  {
   "cell_type": "code",
   "execution_count": 40,
   "metadata": {
    "ExecuteTime": {
     "end_time": "2020-06-07T00:46:51.019045Z",
     "start_time": "2020-06-07T00:46:51.013981Z"
    },
    "slideshow": {
     "slide_type": "subslide"
    }
   },
   "outputs": [
    {
     "name": "stdout",
     "output_type": "stream",
     "text": [
      "correlation(num_friends, daily_minutes) 0.24736957366478218\n"
     ]
    }
   ],
   "source": [
    "def correlation(x, y):\n",
    "    stdev_x = standard_deviation(x)\n",
    "    stdev_y = standard_deviation(y)\n",
    "    if stdev_x > 0 and stdev_y > 0:\n",
    "        return covariance(x, y) / stdev_x / stdev_y\n",
    "    else:\n",
    "        return 0 # if no variation, correlation is zero\n",
    "print(\"correlation(num_friends, daily_minutes)\", correlation(num_friends, daily_minutes))\n"
   ]
  },
  {
   "cell_type": "code",
   "execution_count": 44,
   "metadata": {
    "ExecuteTime": {
     "end_time": "2020-06-07T00:47:16.634930Z",
     "start_time": "2020-06-07T00:47:16.085890Z"
    },
    "cell_style": "center",
    "scrolled": true,
    "slideshow": {
     "slide_type": "subslide"
    }
   },
   "outputs": [
    {
     "data": {
      "image/png": "[encoded data removed]",
      "text/plain": [
       "<Figure size 432x288 with 1 Axes>"
      ]
     },
     "metadata": {
      "filenames": {
       "image/png": "/Users/datalab/github/mybook/_build/jupyter_execute/08-01-statistics-thinking_66_0.png"
      }
     },
     "output_type": "display_data"
    }
   ],
   "source": [
    "import seaborn as sns\n",
    "sns.set(style=\"ticks\", palette=\"pastel\")\n",
    "sns.boxplot(x=num_friends, y=daily_minutes)\n",
    "sns.despine(offset=10, trim=True)"
   ]
  },
  {
   "cell_type": "code",
   "execution_count": 112,
   "metadata": {
    "ExecuteTime": {
     "end_time": "2020-04-27T14:36:11.455927Z",
     "start_time": "2020-04-27T14:36:11.448111Z"
    },
    "slideshow": {
     "slide_type": "subslide"
    }
   },
   "outputs": [
    {
     "data": {
      "text/plain": [
       "array([[1.        , 0.24736957],\n",
       "       [0.24736957, 1.        ]])"
      ]
     },
     "execution_count": 112,
     "metadata": {},
     "output_type": "execute_result"
    }
   ],
   "source": [
    "np.corrcoef(num_friends, daily_minutes)"
   ]
  },
  {
   "cell_type": "code",
   "execution_count": 113,
   "metadata": {
    "ExecuteTime": {
     "end_time": "2020-04-27T14:36:22.799638Z",
     "start_time": "2020-04-27T14:36:22.751284Z"
    },
    "slideshow": {
     "slide_type": "subslide"
    }
   },
   "outputs": [
    {
     "data": {
      "text/plain": [
       "(0.24736957366478224, 0.0003610473973450633)"
      ]
     },
     "execution_count": 113,
     "metadata": {},
     "output_type": "execute_result"
    }
   ],
   "source": [
    "from scipy.stats.stats import pearsonr   \n",
    "  \n",
    "pearsonr(num_friends, daily_minutes)"
   ]
  },
  {
   "cell_type": "code",
   "execution_count": 45,
   "metadata": {
    "ExecuteTime": {
     "end_time": "2020-06-07T00:47:22.851773Z",
     "start_time": "2020-06-07T00:47:22.847239Z"
    },
    "slideshow": {
     "slide_type": "subslide"
    }
   },
   "outputs": [
    {
     "name": "stdout",
     "output_type": "stream",
     "text": [
      "correlation(num_friends_good, daily_minutes_good) 0.5736792115665573\n"
     ]
    }
   ],
   "source": [
    "outlier = num_friends.index(100) # index of outlier\n",
    "\n",
    "num_friends_good = [x\n",
    "                    for i, x in enumerate(num_friends)\n",
    "                    if i != outlier]\n",
    "\n",
    "daily_minutes_good = [x\n",
    "                      for i, x in enumerate(daily_minutes)\n",
    "                      if i != outlier]\n",
    "\n",
    "\n",
    "print(\"correlation(num_friends_good, daily_minutes_good)\", \\\n",
    "      correlation(num_friends_good, daily_minutes_good))\n"
   ]
  },
  {
   "cell_type": "markdown",
   "metadata": {
    "slideshow": {
     "slide_type": "slide"
    }
   },
   "source": [
    "### Regression Analysis"
   ]
  },
  {
   "cell_type": "code",
   "execution_count": 48,
   "metadata": {
    "ExecuteTime": {
     "end_time": "2020-06-07T00:47:56.160422Z",
     "start_time": "2020-06-07T00:47:55.982068Z"
    },
    "slideshow": {
     "slide_type": "subslide"
    }
   },
   "outputs": [
    {
     "name": "stdout",
     "output_type": "stream",
     "text": [
      "0.9038659456058652 22.947552413469026 0.5736792115665575 3.676825862770313e-19\n"
     ]
    },
    {
     "data": {
      "image/png": "[encoded data removed]",
      "text/plain": [
       "<Figure size 432x288 with 1 Axes>"
      ]
     },
     "metadata": {
      "filenames": {
       "image/png": "/Users/datalab/github/mybook/_build/jupyter_execute/08-01-statistics-thinking_71_1.png"
      }
     },
     "output_type": "display_data"
    }
   ],
   "source": [
    "slope, intercept, r_value, p_value, std_err = stats.linregress(num_friends_good,daily_minutes_good)\n",
    "print(slope, intercept, r_value, p_value)\n",
    "xi = range(1,np.max(num_friends_good)+1)\n",
    "# plotting the line\n",
    "matplotlib.style.use('ggplot')\n",
    "y_fit = slope*xi+intercept\n",
    "plt.scatter(num_friends,daily_minutes)\n",
    "plt.plot(xi,y_fit,'r-', label = '$Linear\\,Fit$')\n",
    "plt.xlabel('$x_i$', fontsize = 20)\n",
    "plt.ylabel('$y$', fontsize = 20)\n",
    "plt.legend(loc=0,numpoints=1,fontsize=13)\n",
    "plt.show()"
   ]
  },
  {
   "cell_type": "markdown",
   "metadata": {
    "slideshow": {
     "slide_type": "slide"
    }
   },
   "source": [
    "### 比较均值：T检验\n",
    "\n",
    "![image.png](./images/end2.png)"
   ]
  },
  {
   "cell_type": "code",
   "execution_count": 49,
   "metadata": {
    "ExecuteTime": {
     "end_time": "2020-06-07T00:48:06.242928Z",
     "start_time": "2020-06-07T00:48:06.238261Z"
    },
    "slideshow": {
     "slide_type": "subslide"
    }
   },
   "outputs": [
    {
     "name": "stdout",
     "output_type": "stream",
     "text": [
      "2750.0 7100.0\n"
     ]
    }
   ],
   "source": [
    "income_male = [1000, 1500, 2000, 3000, 2500, 4000, 5000, 3500]\n",
    "income_female=[6000, 6200, 7000, 7100, 9000, 10000, 12000]\n",
    "income_male_median = np.median(income_male)\n",
    "income_female_median = np.median(income_female)\n",
    "print(income_male_median, income_female_median)"
   ]
  },
  {
   "cell_type": "code",
   "execution_count": 50,
   "metadata": {
    "ExecuteTime": {
     "end_time": "2020-06-07T00:48:07.483280Z",
     "start_time": "2020-06-07T00:48:07.340532Z"
    },
    "slideshow": {
     "slide_type": "subslide"
    }
   },
   "outputs": [
    {
     "data": {
      "image/png": "[encoded data removed]",
      "text/plain": [
       "<Figure size 432x288 with 1 Axes>"
      ]
     },
     "metadata": {
      "filenames": {
       "image/png": "/Users/datalab/github/mybook/_build/jupyter_execute/08-01-statistics-thinking_74_0.png"
      },
      "needs_background": "light"
     },
     "output_type": "display_data"
    }
   ],
   "source": [
    "# Plot the boxplot to see\n",
    "# minimum value, 25%,50%,75% percentile, maximum value\n",
    "%matplotlib inline\n",
    "import matplotlib.pyplot as plt\n",
    "plt.boxplot([income_male, income_female], # meanline=True,showmeans=True,\n",
    "            labels = ['$male$', '$female$'])\n",
    "plt.show()"
   ]
  },
  {
   "cell_type": "code",
   "execution_count": 4,
   "metadata": {
    "ExecuteTime": {
     "end_time": "2020-04-27T09:18:35.551783Z",
     "start_time": "2020-04-27T09:18:35.036234Z"
    },
    "slideshow": {
     "slide_type": "subslide"
    }
   },
   "outputs": [
    {
     "data": {
      "text/plain": [
       "Ttest_indResult(statistic=-5.757056463981614, pvalue=6.631425817426509e-05)"
      ]
     },
     "execution_count": 4,
     "metadata": {},
     "output_type": "execute_result"
    }
   ],
   "source": [
    "from scipy import stats\n",
    "stats.ttest_ind(income_male, income_female)"
   ]
  },
  {
   "cell_type": "markdown",
   "metadata": {
    "slideshow": {
     "slide_type": "slide"
    }
   },
   "source": [
    "### 单因素方差分析（one-way ANOVA）\n",
    "\n",
    "ANOVA: Analysis of Variance\n",
    "\n",
    "假设：有k组实验数据，彼此之间相互独立且服从正态分布，均值分别为$\\mu_1,\\mu_2,...\\mu_k$，方差都为$\\sigma^2$\n",
    "- H0:假设两组或者多组数据之间有相同的均值\n",
    "- H1:至少有两个均值不相等\n",
    "\n",
    "![image.png](./images/chi2.png)\n",
    "\n",
    "https://en.wikipedia.org/wiki/One-way_analysis_of_variance"
   ]
  },
  {
   "cell_type": "markdown",
   "metadata": {
    "slideshow": {
     "slide_type": "subslide"
    }
   },
   "source": [
    "Consider an experiment to study the effect of three different levels of a factor on a response (e.g. three levels of a fertilizer on plant growth). If we had 6 observations for each level, we could write the outcome of the experiment in a table like this, where a1, a2, and a3 are the three levels of the factor being studied.\n",
    "\n",
    "```\n",
    "a1\ta2\ta3\n",
    "6\t8\t13\n",
    "8\t12\t9\n",
    "4\t9\t11\n",
    "5\t11\t8\n",
    "3\t6\t7\n",
    "4\t8\t12\n",
    "```\n",
    "\n",
    "The null hypothesis, denoted H0, for the overall F-test for this experiment would be that all three levels of the factor produce the same response, on average. "
   ]
  },
  {
   "cell_type": "markdown",
   "metadata": {
    "slideshow": {
     "slide_type": "subslide"
    }
   },
   "source": [
    "To calculate the F-ratio:\n",
    "\n",
    "Step 1: Calculate the mean within each group:\n",
    "\n",
    "\\begin{aligned}{\\overline {Y}}_{1}&={\\frac {1}{6}}\\sum Y_{1i}={\\frac {6+8+4+5+3+4}{6}}=5\\\\{\\overline {Y}}_{2}&={\\frac {1}{6}}\\sum Y_{2i}={\\frac {8+12+9+11+6+8}{6}}=9\\\\{\\overline {Y}}_{3}&={\\frac {1}{6}}\\sum Y_{3i}={\\frac {13+9+11+8+7+12}{6}}=10\\end{aligned}\n",
    "\n",
    "\n",
    "\n",
    "Step 2: Calculate the overall mean:\n",
    "$\\overline{Y}=\\frac{\\sum _{i} \\overline{Y_i}}{a}=\\frac {\\overline{Y_1}+\\overline{Y_2}+\\overline{Y_3}}{a}=\\frac {5+9+10}{3}=8$ where a is the number of groups."
   ]
  },
  {
   "cell_type": "markdown",
   "metadata": {
    "slideshow": {
     "slide_type": "subslide"
    }
   },
   "source": [
    "Step 3: Calculate the \"between-group\" sum of squared differences:\n",
    "\n",
    "\\begin{aligned}S_{B}&=n({\\overline {Y}}_{1}-{\\overline {Y}})^{2}+n({\\overline {Y}}_{2}-{\\overline {Y}})^{2}+n({\\overline {Y}}_{3}-{\\overline {Y}})^{2}\\\\[8pt]&=6(5-8)^{2}+6(9-8)^{2}+6(10-8)^{2}=84\\end{aligned}\n",
    "\n",
    "where n is the number of data values per group.\n",
    "\n",
    "The between-group degrees of freedom is one less than the number of groups $f_{b}=3-1=2$\n",
    "\n",
    "The between-group mean square value is\n",
    "$MS_{B}=84/2=42$"
   ]
  },
  {
   "cell_type": "markdown",
   "metadata": {
    "slideshow": {
     "slide_type": "subslide"
    }
   },
   "source": [
    "Step 4: Calculate the \"within-group\" sum of squares. Begin by centering the data in each group\n",
    "\n",
    "```\n",
    "a1\ta2\ta3\n",
    "6−5=1\t8−9=−1\t13−10=3\n",
    "8−5=3\t12−9=3\t9−10=−1\n",
    "4−5=−1\t9−9=0\t11−10=1\n",
    "5−5=0\t11−9=2\t8−10=−2\n",
    "3−5=−2\t6−9=−3\t7−10=−3\n",
    "4−5=−1\t8−9=−1\t12−10=2\n",
    "```\n",
    "\n",
    "The within-group sum of squares:\n",
    "\n",
    "\\begin{aligned}S_{W}=&(1)^{2}+(3)^{2}+(-1)^{2}+(0)^{2}+(-2)^{2}+(-1)^{2}+\\\\&(-1)^{2}+(3)^{2}+(0)^{2}+(2)^{2}+(-3)^{2}+(-1)^{2}+\\\\&(3)^{2}+(-1)^{2}+(1)^{2}+(-2)^{2}+(-3)^{2}+(2)^{2}= 68\\\\\\end{aligned}"
   ]
  },
  {
   "cell_type": "markdown",
   "metadata": {
    "slideshow": {
     "slide_type": "subslide"
    }
   },
   "source": [
    "The within-group degrees of freedom is\n",
    "\n",
    "$f_{W}=a(n-1)=3(6-1)=15$\n",
    "\n",
    "Thus the within-group mean square value is\n",
    "\n",
    "$MS_{W}=S_{W}/f_{W}=68/15\\approx 4.5$\n",
    "\n",
    "Step 5: The F-ratio is\n",
    "\n",
    "$ F={\\frac {MS_{B}}{MS_{W}}}\\approx 42/4.5\\approx 9.3$"
   ]
  },
  {
   "cell_type": "markdown",
   "metadata": {
    "slideshow": {
     "slide_type": "subslide"
    }
   },
   "source": [
    "$F_{crit}(2,15) = 3.68$ at α = 0.05. The results are significant at the 5% significance level. \n",
    "\n",
    "![image.png](./images/anova.png)"
   ]
  },
  {
   "cell_type": "code",
   "execution_count": 181,
   "metadata": {
    "ExecuteTime": {
     "end_time": "2020-05-08T16:35:24.544193Z",
     "start_time": "2020-05-08T16:35:24.539906Z"
    },
    "slideshow": {
     "slide_type": "subslide"
    }
   },
   "outputs": [
    {
     "name": "stdout",
     "output_type": "stream",
     "text": [
      "9.264705882352942 0.0023987773293929083\n"
     ]
    }
   ],
   "source": [
    "a1 = [6, 8, 4, 5, 3, 4]\n",
    "a2 = [8, 12, 9, 11, 6, 8]\n",
    "a3 = [13, 9, 11, 8, 7, 12]\n",
    "\n",
    "f,p = stats.f_oneway(a1, a2, a3)\n",
    "print(f,p)"
   ]
  },
  {
   "cell_type": "code",
   "execution_count": 51,
   "metadata": {
    "ExecuteTime": {
     "end_time": "2020-06-07T00:48:17.379037Z",
     "start_time": "2020-06-07T00:48:17.374589Z"
    },
    "slideshow": {
     "slide_type": "subslide"
    }
   },
   "outputs": [],
   "source": [
    "# 5个地方的蚌壳长度的均值是否都一样呢？\n",
    "from scipy import stats\n",
    "tillamook = [0.0571, 0.0813, 0.0831, 0.0976, 0.0817, 0.0859, 0.0735, 0.0659, 0.0923, 0.0836]\n",
    "newport = [0.0873, 0.0662, 0.0672, 0.0819, 0.0749, 0.0649, 0.0835,0.0725]\n",
    "petersburg = [0.0974, 0.1352, 0.0817, 0.1016, 0.0968, 0.1064, 0.105]\n",
    "magadan = [0.1033, 0.0915, 0.0781, 0.0685, 0.0677, 0.0697, 0.0764, 0.0689]\n",
    "tvarminne = [0.0703, 0.1026, 0.0956, 0.0973, 0.1039, 0.1045]"
   ]
  },
  {
   "cell_type": "code",
   "execution_count": 52,
   "metadata": {
    "ExecuteTime": {
     "end_time": "2020-06-07T00:48:18.324857Z",
     "start_time": "2020-06-07T00:48:18.137181Z"
    },
    "slideshow": {
     "slide_type": "subslide"
    }
   },
   "outputs": [
    {
     "data": {
      "image/png": "[encoded data removed]",
      "text/plain": [
       "<Figure size 432x288 with 1 Axes>"
      ]
     },
     "metadata": {
      "filenames": {
       "image/png": "/Users/datalab/github/mybook/_build/jupyter_execute/08-01-statistics-thinking_85_0.png"
      },
      "needs_background": "light"
     },
     "output_type": "display_data"
    }
   ],
   "source": [
    "plt.boxplot([tillamook, newport, petersburg, magadan, tvarminne], # meanline=True,showmeans=True,\n",
    "            labels = ['tillamook', 'newport', 'petersburg', 'magadan', 'tvarminne'])\n",
    "plt.show()"
   ]
  },
  {
   "cell_type": "code",
   "execution_count": 151,
   "metadata": {
    "ExecuteTime": {
     "end_time": "2020-05-08T12:19:36.879658Z",
     "start_time": "2020-05-08T12:19:36.874081Z"
    },
    "slideshow": {
     "slide_type": "subslide"
    }
   },
   "outputs": [
    {
     "name": "stdout",
     "output_type": "stream",
     "text": [
      "7.121019471642447 0.0002812242314534544\n"
     ]
    }
   ],
   "source": [
    "f,p = stats.f_oneway(tillamook, newport, petersburg, magadan, tvarminne)\n",
    "print(f,p)"
   ]
  },
  {
   "cell_type": "code",
   "execution_count": 54,
   "metadata": {
    "ExecuteTime": {
     "end_time": "2020-06-07T00:48:35.012647Z",
     "start_time": "2020-06-07T00:48:34.845171Z"
    },
    "code_folding": [],
    "slideshow": {
     "slide_type": "subslide"
    }
   },
   "outputs": [
    {
     "name": "stdout",
     "output_type": "stream",
     "text": [
      "                df    sum_sq   mean_sq         F    PR(>F)\n",
      "C(treatment)   4.0  0.004520  0.001130  7.121019  0.000281\n",
      "Residual      34.0  0.005395  0.000159       NaN       NaN\n"
     ]
    }
   ],
   "source": [
    "from statsmodels.formula.api import ols\n",
    "from statsmodels.stats.anova import anova_lm\n",
    "import pandas as pd\n",
    "\n",
    "df = []\n",
    "labels = ['tillamook', 'newport', 'petersburg', 'magadan', 'tvarminne']\n",
    "for k, i in enumerate([tillamook, newport, petersburg, magadan, tvarminne]):\n",
    "    for j in i:\n",
    "        df.append([labels[k],j])\n",
    "        \n",
    "df = pd.DataFrame(df, columns = ['treatment', 'value'])\n",
    "model = ols('value ~ C(treatment)', df).fit()\n",
    "print(anova_lm(model)) "
   ]
  },
  {
   "cell_type": "markdown",
   "metadata": {
    "ExecuteTime": {
     "end_time": "2020-05-08T12:39:53.488586Z",
     "start_time": "2020-05-08T12:39:53.478902Z"
    },
    "slideshow": {
     "slide_type": "slide"
    }
   },
   "source": [
    "### Two-way ANOVA\n",
    "ANOVA with interaction\n",
    "\n",
    "Measurement of fetal head circumference **hs**, by four observers in three fetuses."
   ]
  },
  {
   "cell_type": "code",
   "execution_count": 55,
   "metadata": {
    "ExecuteTime": {
     "end_time": "2020-06-07T00:48:36.759290Z",
     "start_time": "2020-06-07T00:48:36.746888Z"
    },
    "slideshow": {
     "slide_type": "subslide"
    }
   },
   "outputs": [
    {
     "data": {
      "text/html": [
       "<div>\n",
       "<style scoped>\n",
       "    .dataframe tbody tr th:only-of-type {\n",
       "        vertical-align: middle;\n",
       "    }\n",
       "\n",
       "    .dataframe tbody tr th {\n",
       "        vertical-align: top;\n",
       "    }\n",
       "\n",
       "    .dataframe thead th {\n",
       "        text-align: right;\n",
       "    }\n",
       "</style>\n",
       "<table border=\"1\" class=\"dataframe\">\n",
       "  <thead>\n",
       "    <tr style=\"text-align: right;\">\n",
       "      <th></th>\n",
       "      <th>hs</th>\n",
       "      <th>fetus</th>\n",
       "      <th>observer</th>\n",
       "    </tr>\n",
       "  </thead>\n",
       "  <tbody>\n",
       "    <tr>\n",
       "      <th>0</th>\n",
       "      <td>14.3</td>\n",
       "      <td>1</td>\n",
       "      <td>1</td>\n",
       "    </tr>\n",
       "    <tr>\n",
       "      <th>1</th>\n",
       "      <td>14.0</td>\n",
       "      <td>1</td>\n",
       "      <td>1</td>\n",
       "    </tr>\n",
       "    <tr>\n",
       "      <th>2</th>\n",
       "      <td>14.8</td>\n",
       "      <td>1</td>\n",
       "      <td>1</td>\n",
       "    </tr>\n",
       "    <tr>\n",
       "      <th>3</th>\n",
       "      <td>13.6</td>\n",
       "      <td>1</td>\n",
       "      <td>2</td>\n",
       "    </tr>\n",
       "    <tr>\n",
       "      <th>4</th>\n",
       "      <td>13.6</td>\n",
       "      <td>1</td>\n",
       "      <td>2</td>\n",
       "    </tr>\n",
       "  </tbody>\n",
       "</table>\n",
       "</div>"
      ],
      "text/plain": [
       "     hs  fetus  observer\n",
       "0  14.3      1         1\n",
       "1  14.0      1         1\n",
       "2  14.8      1         1\n",
       "3  13.6      1         2\n",
       "4  13.6      1         2"
      ]
     },
     "execution_count": 55,
     "metadata": {},
     "output_type": "execute_result"
    }
   ],
   "source": [
    "# https://raw.githubusercontent.com/thomas-haslwanter/statsintro_python/master/ipynb/Data/data_altman/altman_12_6.txt\n",
    "df = pd.read_csv('../data/altman_12_6.txt', names=['hs', 'fetus', 'observer'])\n",
    "df.head()"
   ]
  },
  {
   "cell_type": "code",
   "execution_count": 56,
   "metadata": {
    "ExecuteTime": {
     "end_time": "2020-06-07T00:48:38.503814Z",
     "start_time": "2020-06-07T00:48:38.228290Z"
    },
    "slideshow": {
     "slide_type": "subslide"
    }
   },
   "outputs": [
    {
     "data": {
      "image/png": "[encoded data removed]",
      "text/plain": [
       "<Figure size 576x432 with 1 Axes>"
      ]
     },
     "metadata": {
      "filenames": {
       "image/png": "/Users/datalab/github/mybook/_build/jupyter_execute/08-01-statistics-thinking_90_0.png"
      },
      "needs_background": "light"
     },
     "output_type": "display_data"
    }
   ],
   "source": [
    "from statsmodels.graphics.api import interaction_plot\n",
    "plt.figure(figsize=(8,6))\n",
    "fig = interaction_plot(df['fetus'], df['observer'], df['hs'],\n",
    "        ms=10, ax=plt.gca())"
   ]
  },
  {
   "cell_type": "code",
   "execution_count": 169,
   "metadata": {
    "ExecuteTime": {
     "end_time": "2020-05-08T12:41:11.111513Z",
     "start_time": "2020-05-08T12:41:11.092149Z"
    },
    "slideshow": {
     "slide_type": "subslide"
    }
   },
   "outputs": [
    {
     "name": "stdout",
     "output_type": "stream",
     "text": [
      "                        df      sum_sq     mean_sq            F        PR(>F)\n",
      "C(fetus)               2.0  324.008889  162.004444  2113.101449  1.051039e-27\n",
      "C(observer)            3.0    1.198611    0.399537     5.211353  6.497055e-03\n",
      "C(fetus):C(observer)   6.0    0.562222    0.093704     1.222222  3.295509e-01\n",
      "Residual              24.0    1.840000    0.076667          NaN           NaN\n"
     ]
    }
   ],
   "source": [
    "formula = 'hs ~ C(fetus) + C(observer) + C(fetus):C(observer)'\n",
    "lm = ols(formula, df).fit()\n",
    "print(anova_lm(lm))"
   ]
  },
  {
   "cell_type": "markdown",
   "metadata": {
    "slideshow": {
     "slide_type": "slide"
    }
   },
   "source": [
    "\n",
    "###  卡方检验 A chi-squared test\n",
    "\n",
    "https://en.wikipedia.org/wiki/Chi-squared_test\n",
    "\n",
    "\n",
    "Suppose we look at the House of Representatives for the 113th Congress. This data is taken from [www.senate.gov](https://www.senate.gov).\n",
    "\n",
    "|        | Republican | Democrat | Total |\n",
    "| :----- | :--------: | :------: | :---: |\n",
    "| Male   |    215     |   143    |  358  |\n",
    "| Female |     19     |    64    |  83   |\n",
    "| Total  |    234     |   207    |  441  |"
   ]
  },
  {
   "cell_type": "markdown",
   "metadata": {
    "slideshow": {
     "slide_type": "subslide"
    }
   },
   "source": [
    "\n",
    "- also referred to as χ² test (or chi-square test), is any statistical hypothesis test in which the sampling distribution of the test statistic is a chi-square distribution when the null hypothesis is true.\n",
    "- A chi-squared test can then be used to reject the null hypothesis that the data are independent.\n",
    "- Test statistics that follow a chi-squared distribution arise from an assumption of independent normally distributed data, which is valid in many cases due to the central limit theorem.\n",
    "- Chi-squared tests are often constructed from a sum of squared errors, or through the sample variance.\n"
   ]
  },
  {
   "cell_type": "markdown",
   "metadata": {
    "slideshow": {
     "slide_type": "subslide"
    }
   },
   "source": [
    "### Chi-Square Formula\n",
    "\n",
    "$Χ^2 = \\frac{\\sum (O − E)^2}{E} $\n",
    "\n",
    "- $\\sum$ means to sum up (see Sigma Notation)\n",
    "- O = each Observed (actual) value\n",
    "- E = each Expected value\n",
    "\n",
    "So we calculate  $(O−E)^2/E$ for each pair of observed and expected values then sum them all up.\n",
    "\n",
    " "
   ]
  },
  {
   "cell_type": "code",
   "execution_count": 129,
   "metadata": {
    "ExecuteTime": {
     "end_time": "2020-04-28T04:46:14.309639Z",
     "start_time": "2020-04-28T04:46:14.305255Z"
    },
    "slideshow": {
     "slide_type": "subslide"
    }
   },
   "outputs": [
    {
     "name": "stdout",
     "output_type": "stream",
     "text": [
      "189.9591836734694 168.04081632653063 \n",
      " 44.04081632653061 38.95918367346939\n"
     ]
    }
   ],
   "source": [
    "total = 441\n",
    "republican_prob = 234.0/441\n",
    "democrat_prob = 207.0/441\n",
    "\n",
    "male_prob = 358.0/441\n",
    "female_prob = 83.0/441\n",
    "male_republican_expected = republican_prob * male_prob * total\n",
    "male_democrat_expected = democrat_prob * male_prob * total\n",
    "female_republican_expected = republican_prob * female_prob * total\n",
    "female_democrat_expected = democrat_prob * female_prob * total\n",
    "print(male_republican_expected, male_democrat_expected,'\\n', \n",
    "      female_republican_expected, female_democrat_expected)"
   ]
  },
  {
   "cell_type": "markdown",
   "metadata": {
    "slideshow": {
     "slide_type": "subslide"
    }
   },
   "source": [
    "Under the null hypothesis, it has approximately a chi-square distribution whose number of degrees of freedom are\n",
    "\n",
    "(number of rows−1)(number of columns−1)=(2−1)(2−1)=1.\n",
    "\n",
    "Then in that \"cell\" of the table, we have\n",
    "\n",
    "$$\\frac{(observed−expected)^2}{expected}=\\frac{(215−189.9)^2}{189.9} = 3.3$$\n",
    "\n",
    "The sum of these quantities over all of the cells is the Chi-square statistic.\n",
    "\n",
    "3.30093271 + 13.12279349 + 222.36009343 + 277.84184475 = 37.37\n",
    "\n"
   ]
  },
  {
   "cell_type": "markdown",
   "metadata": {
    "slideshow": {
     "slide_type": "subslide"
    }
   },
   "source": [
    "Observed\n",
    "\n",
    "|        | Republican | Democrat |\n",
    "| :----- | :--------: | :------: | \n",
    "| Male   |    215     |   143    | \n",
    "| Female |     19     |    64    |  \n",
    "\n",
    "\n",
    "Expected\n",
    "\n",
    "|        | Republican | Democrat | \n",
    "| :----- | :--------: | :------: | \n",
    "| Male   |    189.9     |   168.0    | \n",
    "| Female |     44.0     |    38.9    | \n",
    "\n",
    "\n",
    "Chi Square\n",
    "\n",
    "|        | Republican   |     Democrat   | \n",
    "| :------- | :-------: | :-----------: | \n",
    "| Male   |$\\frac{(215-189.9)^2}{189.9} $|   $\\frac{(143-168.0)^2}{168.0}  $   | \n",
    "| Female |     $\\frac{(19-44.0)^2}{44.0}$    |    $\\frac{(64-38.9)^2}{38.9}$   | \n"
   ]
  },
  {
   "cell_type": "code",
   "execution_count": 142,
   "metadata": {
    "ExecuteTime": {
     "end_time": "2020-04-28T05:19:43.195546Z",
     "start_time": "2020-04-28T05:19:43.191492Z"
    },
    "slideshow": {
     "slide_type": "subslide"
    }
   },
   "outputs": [
    {
     "name": "stdout",
     "output_type": "stream",
     "text": [
      "37.365036593000426\n"
     ]
    }
   ],
   "source": [
    "observed = [215, 143, 19, 64]\n",
    "expected = [male_republican_expected, male_democrat_expected,\n",
    "            female_republican_expected, female_democrat_expected]\n",
    "# The sum of these quantities over all of the cells is the test statistic.\n",
    "chi_square = np.sum( [(observed[k] - i)**2/i for k, i in enumerate(expected)] )\n",
    "print(chi_square)"
   ]
  },
  {
   "cell_type": "code",
   "execution_count": 133,
   "metadata": {
    "ExecuteTime": {
     "end_time": "2020-04-28T04:53:46.786298Z",
     "start_time": "2020-04-28T04:53:46.780957Z"
    },
    "slideshow": {
     "slide_type": "subslide"
    }
   },
   "outputs": [
    {
     "name": "stdout",
     "output_type": "stream",
     "text": [
      "Test Statistic: 37.36503659300042\n",
      "p-value: 9.796267016333982e-10\n",
      "Degrees of Freedom: 1\n",
      "\n",
      "[[189.95918367 168.04081633]\n",
      " [ 44.04081633  38.95918367]]\n"
     ]
    }
   ],
   "source": [
    "import scipy\n",
    "house = [ [ 215, 143 ], [ 19, 64 ] ]\n",
    "chi2, p, ddof, expected = scipy.stats.chi2_contingency( house, correction = False)\n",
    "msg = \"Test Statistic: {}\\np-value: {}\\nDegrees of Freedom: {}\\n\"\n",
    "print( msg.format( chi2, p, ddof ) )\n",
    "print( expected )"
   ]
  },
  {
   "cell_type": "code",
   "execution_count": 132,
   "metadata": {
    "ExecuteTime": {
     "end_time": "2020-04-28T04:53:15.412564Z",
     "start_time": "2020-04-28T04:53:15.351622Z"
    },
    "slideshow": {
     "slide_type": "skip"
    }
   },
   "outputs": [],
   "source": [
    "scipy.stats.chi2_contingency?"
   ]
  },
  {
   "cell_type": "markdown",
   "metadata": {
    "slideshow": {
     "slide_type": "slide"
    }
   },
   "source": [
    "- Suppose there is a city of 1 million residents with four neighborhoods: A, B, C, and D.\n",
    "- A random sample of 650 residents of the city is taken and their occupation is recorded as \"blue collar\", \"white collar\", or \"no collar\".\n",
    "- The null hypothesis is that each person's neighborhood of residence is independent of the person's occupational classification. The data are tabulated as:\n",
    "\n",
    "|              |  A   |  B   |  C   |    D | Total |\n",
    "| :----------- | :--: | :--: | :--: | ---: | ----: |\n",
    "| White collar |  90  |  60  | 104  |   95 |   349 |\n",
    "| Blue collar  |  30  |  50  |  51  |   20 |   151 |\n",
    "| No coloar    |  30  |  40  |  45  |   35 |   150 |\n",
    "| Total        | 150  | 150  | 200  |  150 |   650 |\n"
   ]
  },
  {
   "cell_type": "markdown",
   "metadata": {
    "slideshow": {
     "slide_type": "subslide"
    }
   },
   "source": [
    "- 住在A社区的概率：Let us take the sample living in neighborhood A, 150/650, to estimate what proportion of the whole 1 million people live in neighborhood A.\n",
    "- 白领的概率：Similarly we take 349/650 to estimate what proportion of the 1 million people are white-collar workers.\n",
    "- 住在A社区的白领的数量：By the assumption of independence under the hypothesis we should \"expect\" the number of white-collar workers in neighborhood A to be\n",
    "\n",
    "$$\\frac{150}{650}\\frac{349}{650}650=80.54$$\n",
    "\n"
   ]
  },
  {
   "cell_type": "markdown",
   "metadata": {
    "slideshow": {
     "slide_type": "subslide"
    }
   },
   "source": [
    "Then in that \"cell\" of the table, we have\n",
    "\n",
    "$$\\frac{(observed−expected)^2}{expected}=\\frac{(90−80.54)^2}{80.54} = 1.11$$\n",
    "\n",
    "The sum of these quantities over all of the cells is the test statistic.\n",
    "\n",
    "Under the null hypothesis, it has approximately a chi-square distribution whose number of degrees of freedom are\n",
    "\n",
    "(number of rows−1)(number of columns−1)=(3−1)(4−1)=6."
   ]
  },
  {
   "cell_type": "code",
   "execution_count": 117,
   "metadata": {
    "ExecuteTime": {
     "end_time": "2020-04-27T14:47:56.511347Z",
     "start_time": "2020-04-27T14:47:56.505096Z"
    },
    "slideshow": {
     "slide_type": "subslide"
    }
   },
   "outputs": [
    {
     "name": "stdout",
     "output_type": "stream",
     "text": [
      "Test Statistic: 24.5712028585826\n",
      " p-value: 0.0004098425861096696\n",
      " Degrees of Freedom: 6\n",
      "\n",
      "[[ 80.53846154  80.53846154 107.38461538  80.53846154]\n",
      " [ 34.84615385  34.84615385  46.46153846  34.84615385]\n",
      " [ 34.61538462  34.61538462  46.15384615  34.61538462]]\n"
     ]
    }
   ],
   "source": [
    "house = [ [ 90, 60, 104, 95 ], [ 30, 50, 51, 20 ], [30, 40, 45, 35] ]\n",
    "chi2, p, ddof, expected = scipy.stats.chi2_contingency( house )\n",
    "msg = \"Test Statistic: {}\\n p-value: {}\\n Degrees of Freedom: {}\\n\"\n",
    "print( msg.format( chi2, p, ddof ) )\n",
    "print( expected )"
   ]
  },
  {
   "cell_type": "markdown",
   "metadata": {
    "slideshow": {
     "slide_type": "subslide"
    }
   },
   "source": [
    "![image.png](./images/statistics.png)"
   ]
  },
  {
   "cell_type": "markdown",
   "metadata": {
    "slideshow": {
     "slide_type": "slide"
    }
   },
   "source": [
    "![image.png](./images/end.png)"
   ]
  },
  {
   "cell_type": "markdown",
   "metadata": {},
   "source": [
    "\n",
    "```{toctree}\n",
    ":hidden:\n",
    ":titlesonly:\n",
    "\n",
    "\n",
    "08-02-linear-algebra\n",
    "08-03-distributions\n",
    "08-03-probability\n",
    "08-04-hypothesis-inference\n",
    "08-05-gradient-descent\n",
    "08-06-regression\n",
    "08-06-statsmodels\n",
    "08-07-analyzing-titanic-dataset\n",
    "08-07-covid19-pew-survey\n",
    "08-08-covid19-grangercausality\n",
    "```\n"
   ]
  }
 ],
 "metadata": {
  "celltoolbar": "Slideshow",
  "kernelspec": {
   "display_name": "Python 3",
   "language": "python",
   "name": "python3"
  },
  "language_info": {
   "codemirror_mode": {
    "name": "ipython",
    "version": 3
   },
   "file_extension": ".py",
   "mimetype": "text/x-python",
   "name": "python",
   "nbconvert_exporter": "python",
   "pygments_lexer": "ipython3",
   "version": "3.7.6"
  },
  "latex_envs": {
   "LaTeX_envs_menu_present": true,
   "autoclose": false,
   "autocomplete": true,
   "bibliofile": "biblio.bib",
   "cite_by": "apalike",
   "current_citInitial": 1,
   "eqLabelWithNumbers": true,
   "eqNumInitial": 1,
   "hotkeys": {
    "equation": "Ctrl-E",
    "itemize": "Ctrl-I"
   },
   "labels_anchors": false,
   "latex_user_defs": false,
   "report_style_numbering": false,
   "user_envs_cfg": false
  },
  "toc": {
   "base_numbering": 1,
   "nav_menu": {},
   "number_sections": false,
   "sideBar": true,
   "skip_h1_title": false,
   "title_cell": "Table of Contents",
   "title_sidebar": "Contents",
   "toc_cell": false,
   "toc_position": {
    "height": "415px",
    "left": "1016px",
    "top": "110px",
    "width": "329.344px"
   },
   "toc_section_display": true,
   "toc_window_display": true
  }
 },
 "nbformat": 4,
 "nbformat_minor": 2
}