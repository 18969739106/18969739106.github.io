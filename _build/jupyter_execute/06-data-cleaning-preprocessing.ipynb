{
 "cells": [
  {
   "cell_type": "markdown",
   "metadata": {
    "slideshow": {
     "slide_type": "slide"
    }
   },
   "source": [
    "\n",
    "# 对大数据进行预处理\n",
    "\n",
    "以占领华尔街推特数据为例\n",
    "\n",
    "\n",
    "\n",
    "![image.png](./images/author.png)"
   ]
  },
  {
   "cell_type": "markdown",
   "metadata": {
    "slideshow": {
     "slide_type": "subslide"
    }
   },
   "source": [
    "## 字节（Byte /bait/）\n",
    "\n",
    "计算机信息技术用于计量存储容量的一种计量单位，通常情况下一字节等于有八位， [1]  也表示一些计算机编程语言中的数据类型和语言字符。\n",
    "- 1B（byte，字节）= 8 bit；\n",
    "- 1KB=1000B；1MB=1000KB=1000×1000B。其中1000=10^3。\n",
    "- 1KB（kilobyte，千字节）=1000B= 10^3 B；\n",
    "- 1MB（Megabyte，兆字节，百万字节，简称“兆”）=1000KB= 10^6 B；\n",
    "- 1GB（Gigabyte，吉字节，十亿字节，又称“千兆”）=1000MB= 10^9 B；"
   ]
  },
  {
   "cell_type": "markdown",
   "metadata": {
    "slideshow": {
     "slide_type": "slide"
    }
   },
   "source": [
    "## 按照Chunk读取数据并进行处理\n",
    "\n",
    "Lazy Method for Reading Big File in Python?"
   ]
  },
  {
   "cell_type": "code",
   "execution_count": 1,
   "metadata": {
    "ExecuteTime": {
     "end_time": "2021-05-15T08:28:55.785372Z",
     "start_time": "2021-05-15T08:28:42.980772Z"
    }
   },
   "outputs": [
    {
     "name": "stdout",
     "output_type": "stream",
     "text": [
      "10000\n",
      "20000\n",
      "30000\n",
      "40000\n",
      "50000\n",
      "60000\n",
      "70000\n",
      "80000\n",
      "90000\n",
      "100000\n",
      "110000\n",
      "120000\n",
      "130000\n",
      "140000\n",
      "150000\n",
      "160000\n",
      "170000\n",
      "180000\n",
      "190000\n",
      "200000\n",
      "210000\n",
      "220000\n",
      "230000\n",
      "240000\n",
      "250000\n",
      "260000\n",
      "270000\n",
      "280000\n",
      "290000\n",
      "300000\n",
      "310000\n",
      "320000\n",
      "330000\n",
      "340000\n",
      "350000\n",
      "360000\n",
      "370000\n",
      "380000\n",
      "390000\n",
      "400000\n",
      "410000\n",
      "420000\n",
      "430000\n",
      "440000\n",
      "450000\n",
      "460000\n",
      "470000\n",
      "480000\n",
      "490000\n",
      "500000\n",
      "510000\n",
      "520000\n",
      "530000\n",
      "540000\n",
      "550000\n",
      "560000\n",
      "570000\n",
      "580000\n",
      "590000\n",
      "600000\n",
      "610000\n",
      "620000\n",
      "630000\n",
      "640000\n",
      "650000\n",
      "660000\n",
      "670000\n",
      "680000\n",
      "690000\n",
      "700000\n",
      "710000\n",
      "720000\n",
      "730000\n",
      "740000\n",
      "750000\n",
      "760000\n",
      "770000\n",
      "780000\n",
      "790000\n",
      "800000\n",
      "810000\n",
      "820000\n",
      "830000\n",
      "840000\n",
      "850000\n",
      "860000\n",
      "870000\n",
      "880000\n",
      "890000\n",
      "900000\n",
      "910000\n",
      "920000\n",
      "930000\n",
      "940000\n",
      "950000\n",
      "960000\n",
      "970000\n",
      "980000\n",
      "990000\n",
      "1000000\n",
      "1010000\n",
      "1020000\n",
      "1030000\n",
      "1040000\n",
      "1050000\n",
      "1060000\n",
      "1070000\n",
      "1080000\n",
      "1090000\n",
      "1100000\n",
      "1110000\n",
      "1120000\n",
      "1130000\n",
      "1140000\n",
      "1150000\n",
      "1160000\n",
      "1170000\n",
      "1180000\n",
      "1190000\n",
      "1200000\n",
      "1210000\n",
      "1220000\n",
      "1230000\n",
      "1240000\n",
      "1250000\n",
      "1260000\n",
      "1270000\n",
      "1280000\n",
      "1290000\n",
      "1300000\n",
      "1310000\n",
      "1320000\n",
      "1330000\n",
      "1340000\n",
      "1350000\n",
      "1360000\n",
      "1370000\n",
      "1380000\n",
      "1390000\n",
      "1400000\n",
      "1410000\n",
      "1420000\n",
      "1430000\n",
      "1440000\n",
      "1450000\n",
      "1460000\n",
      "1470000\n",
      "1480000\n",
      "1490000\n",
      "1500000\n",
      "1510000\n",
      "1520000\n",
      "1530000\n",
      "1540000\n",
      "1550000\n",
      "1560000\n",
      "1570000\n",
      "1580000\n",
      "1590000\n",
      "1600000\n",
      "1610000\n",
      "1620000\n",
      "1630000\n",
      "1640000\n",
      "1650000\n",
      "1660000\n",
      "1670000\n",
      "1680000\n",
      "1690000\n",
      "1700000\n",
      "1710000\n",
      "1720000\n",
      "1730000\n",
      "1740000\n",
      "1750000\n",
      "1760000\n",
      "1770000\n",
      "1780000\n",
      "1790000\n",
      "1800000\n",
      "1810000\n",
      "1820000\n",
      "1830000\n",
      "1840000\n",
      "1850000\n",
      "1860000\n",
      "1870000\n",
      "1880000\n",
      "1890000\n",
      "1900000\n",
      "1910000\n",
      "1920000\n",
      "1930000\n",
      "1940000\n",
      "1950000\n",
      "1960000\n",
      "1970000\n",
      "1980000\n",
      "1990000\n",
      "2000000\n",
      "2010000\n",
      "2020000\n",
      "2030000\n",
      "2040000\n",
      "2050000\n",
      "2060000\n",
      "2070000\n",
      "2080000\n",
      "2090000\n",
      "2100000\n",
      "2110000\n",
      "2120000\n",
      "2130000\n",
      "2140000\n",
      "2150000\n",
      "2160000\n",
      "2170000\n",
      "2180000\n",
      "2190000\n",
      "2200000\n",
      "2210000\n",
      "2220000\n",
      "2230000\n",
      "2240000\n",
      "2250000\n",
      "2260000\n",
      "2270000\n",
      "2280000\n",
      "2290000\n",
      "2300000\n",
      "2310000\n",
      "2320000\n",
      "2330000\n",
      "2340000\n",
      "2350000\n",
      "2360000\n",
      "2370000\n",
      "2380000\n",
      "2390000\n",
      "2400000\n",
      "2410000\n",
      "2420000\n",
      "2430000\n",
      "2440000\n",
      "2450000\n",
      "2460000\n",
      "2470000\n",
      "2480000\n",
      "2490000\n",
      "2500000\n",
      "2510000\n",
      "2520000\n",
      "2530000\n",
      "2540000\n",
      "2550000\n",
      "2560000\n",
      "2570000\n",
      "2580000\n",
      "2590000\n",
      "2600000\n",
      "2610000\n",
      "2620000\n",
      "2630000\n",
      "2640000\n",
      "2650000\n",
      "2660000\n",
      "2670000\n",
      "2680000\n",
      "2690000\n",
      "2700000\n",
      "2710000\n",
      "2720000\n",
      "2730000\n",
      "2740000\n",
      "2750000\n",
      "2760000\n",
      "2770000\n",
      "2780000\n",
      "2790000\n",
      "2800000\n",
      "2810000\n",
      "2820000\n",
      "2830000\n",
      "2840000\n",
      "2850000\n",
      "2860000\n",
      "2870000\n",
      "2880000\n",
      "2890000\n",
      "2900000\n",
      "2910000\n",
      "2920000\n",
      "2930000\n",
      "2940000\n",
      "2950000\n",
      "2960000\n",
      "2970000\n",
      "2980000\n",
      "2990000\n",
      "3000000\n",
      "3010000\n",
      "3020000\n",
      "3030000\n",
      "3040000\n",
      "3050000\n",
      "3060000\n",
      "3070000\n",
      "3080000\n",
      "3090000\n",
      "3100000\n",
      "3110000\n",
      "3120000\n",
      "3130000\n",
      "3140000\n",
      "3150000\n",
      "3160000\n",
      "3170000\n",
      "3180000\n",
      "3190000\n",
      "3200000\n",
      "3210000\n",
      "3220000\n",
      "3230000\n",
      "3240000\n",
      "3250000\n",
      "3260000\n",
      "3270000\n",
      "3280000\n",
      "3290000\n",
      "3300000\n",
      "3310000\n",
      "3320000\n",
      "3330000\n",
      "3340000\n",
      "3350000\n",
      "3360000\n",
      "3370000\n",
      "3380000\n",
      "3390000\n",
      "3400000\n",
      "3410000\n",
      "3420000\n",
      "3430000\n",
      "3440000\n",
      "3450000\n",
      "3460000\n",
      "3470000\n",
      "3480000\n",
      "3490000\n",
      "3500000\n",
      "3510000\n",
      "3520000\n",
      "3530000\n",
      "3540000\n",
      "3550000\n",
      "3560000\n",
      "3570000\n",
      "3580000\n",
      "3590000\n",
      "3600000\n",
      "3610000\n",
      "3620000\n",
      "3630000\n",
      "3640000\n",
      "3650000\n",
      "3660000\n",
      "3670000\n",
      "3680000\n",
      "3690000\n",
      "3700000\n",
      "3710000\n",
      "3720000\n",
      "3730000\n",
      "3740000\n",
      "3750000\n",
      "3760000\n",
      "3770000\n",
      "3780000\n",
      "3790000\n",
      "3800000\n",
      "3810000\n",
      "3820000\n",
      "3830000\n",
      "3840000\n",
      "3850000\n",
      "3860000\n",
      "3870000\n",
      "3880000\n",
      "3890000\n",
      "3900000\n",
      "3910000\n",
      "3920000\n",
      "3930000\n",
      "3940000\n",
      "3950000\n",
      "3960000\n",
      "3970000\n",
      "3980000\n",
      "3990000\n",
      "4000000\n",
      "4010000\n",
      "4020000\n",
      "4030000\n",
      "4040000\n",
      "4050000\n",
      "4060000\n",
      "4070000\n",
      "4080000\n",
      "4090000\n",
      "4100000\n",
      "4110000\n",
      "4120000\n",
      "4130000\n",
      "4140000\n",
      "4150000\n",
      "4160000\n",
      "4170000\n",
      "4180000\n",
      "4190000\n",
      "4200000\n",
      "4210000\n",
      "4220000\n",
      "4230000\n",
      "4240000\n",
      "4250000\n",
      "4260000\n",
      "4270000\n",
      "4280000\n",
      "4290000\n",
      "4300000\n",
      "4310000\n",
      "4320000\n",
      "4330000\n",
      "4340000\n",
      "4350000\n",
      "4360000\n",
      "4370000\n",
      "4380000\n",
      "4390000\n",
      "4400000\n",
      "4410000\n",
      "4420000\n",
      "4430000\n",
      "4440000\n",
      "4450000\n",
      "4460000\n",
      "4470000\n",
      "4480000\n",
      "4490000\n",
      "4500000\n",
      "4510000\n",
      "4520000\n",
      "4530000\n",
      "4540000\n",
      "4550000\n",
      "4560000\n",
      "4570000\n",
      "4580000\n",
      "4590000\n",
      "4600000\n",
      "4610000\n",
      "4620000\n",
      "4630000\n",
      "4640000\n",
      "4650000\n",
      "4660000\n",
      "4670000\n",
      "4680000\n",
      "4690000\n",
      "4700000\n",
      "4710000\n",
      "4720000\n",
      "4730000\n",
      "4740000\n",
      "4750000\n",
      "4760000\n",
      "4770000\n",
      "4780000\n",
      "4790000\n",
      "4800000\n",
      "4810000\n",
      "4820000\n",
      "4830000\n",
      "4840000\n",
      "4850000\n",
      "4860000\n",
      "4870000\n",
      "4880000\n",
      "4890000\n",
      "4900000\n",
      "4910000\n",
      "4920000\n",
      "4930000\n",
      "4940000\n",
      "4950000\n",
      "4960000\n",
      "4970000\n",
      "4980000\n",
      "4990000\n",
      "5000000\n",
      "5010000\n",
      "5020000\n",
      "5030000\n",
      "5040000\n",
      "5050000\n",
      "5060000\n",
      "5070000\n",
      "5080000\n",
      "5090000\n",
      "5100000\n",
      "5110000\n",
      "5120000\n",
      "5130000\n",
      "5140000\n",
      "5150000\n",
      "5160000\n",
      "5170000\n",
      "5180000\n",
      "5190000\n",
      "5200000\n",
      "5210000\n",
      "5220000\n",
      "5230000\n",
      "5240000\n",
      "5250000\n",
      "5260000\n",
      "5270000\n",
      "5280000\n",
      "5290000\n",
      "5300000\n",
      "5310000\n",
      "5320000\n",
      "5330000\n",
      "5340000\n",
      "5350000\n",
      "5360000\n",
      "5370000\n",
      "5380000\n",
      "5390000\n",
      "5400000\n",
      "5410000\n",
      "5420000\n",
      "5430000\n",
      "5440000\n",
      "5450000\n",
      "5460000\n",
      "5470000\n",
      "5480000\n",
      "5490000\n",
      "5500000\n",
      "5510000\n",
      "5520000\n",
      "5530000\n",
      "5540000\n",
      "5550000\n",
      "5560000\n",
      "5570000\n",
      "5580000\n",
      "5590000\n",
      "5600000\n",
      "5610000\n",
      "5620000\n",
      "5630000\n",
      "5640000\n",
      "5650000\n",
      "5660000\n",
      "5670000\n",
      "5680000\n",
      "5690000\n",
      "5700000\n",
      "5710000\n",
      "5720000\n",
      "5730000\n",
      "5740000\n",
      "5750000\n",
      "5760000\n",
      "5770000\n",
      "5780000\n",
      "5790000\n",
      "5800000\n",
      "5810000\n",
      "5820000\n",
      "5830000\n",
      "5840000\n",
      "5850000\n",
      "5860000\n",
      "5870000\n",
      "5880000\n",
      "5890000\n",
      "5900000\n",
      "5910000\n",
      "5920000\n",
      "5930000\n",
      "5940000\n",
      "5950000\n",
      "5960000\n",
      "5970000\n",
      "5980000\n",
      "5990000\n",
      "6000000\n",
      "6010000\n",
      "6020000\n",
      "6030000\n",
      "6040000\n",
      "6050000\n",
      "6060000\n",
      "6070000\n",
      "6080000\n",
      "6090000\n",
      "6100000\n",
      "6110000\n",
      "6120000\n",
      "6130000\n",
      "6140000\n",
      "6150000\n",
      "6160000\n",
      "6170000\n",
      "6180000\n",
      "6190000\n",
      "6200000\n",
      "6210000\n",
      "6220000\n",
      "6230000\n",
      "6240000\n",
      "6250000\n",
      "6260000\n",
      "6270000\n",
      "6280000\n",
      "6290000\n",
      "6300000\n",
      "6310000\n",
      "6320000\n",
      "6330000\n",
      "6340000\n",
      "6350000\n",
      "6360000\n",
      "6370000\n",
      "6380000\n",
      "6390000\n",
      "6400000\n",
      "6410000\n",
      "6420000\n",
      "6430000\n",
      "6440000\n",
      "6450000\n",
      "6460000\n",
      "6470000\n",
      "6480000\n",
      "6490000\n",
      "6500000\n",
      "6510000\n",
      "6520000\n",
      "6530000\n",
      "6540000\n",
      "6550000\n",
      "6560000\n",
      "6570000\n",
      "6580000\n",
      "6590000\n",
      "6600000\n",
      "6610000\n",
      "6620000\n",
      "6630000\n",
      "6640000\n",
      "6650000\n",
      "6660000\n",
      "6670000\n",
      "6680000\n",
      "6690000\n",
      "6700000\n",
      "6710000\n",
      "6720000\n",
      "6730000\n",
      "6740000\n",
      "6750000\n",
      "6760000\n",
      "6770000\n",
      "6780000\n",
      "6790000\n",
      "6800000\n",
      "6810000\n",
      "6820000\n",
      "6830000\n",
      "6840000\n",
      "6850000\n",
      "6860000\n",
      "6870000\n",
      "6880000\n",
      "6890000\n",
      "6900000\n",
      "6910000\n"
     ]
    }
   ],
   "source": [
    "# 按行读取数据\n",
    "line_num = 0\n",
    "cops_num = 0\n",
    "with open('/Users/datalab/bigdata/cjc/ows-raw.txt', 'r') as f:\n",
    "    for i in f:\n",
    "        line_num += 1\n",
    "        if 'cops' in i:\n",
    "            cops_num += 1\n",
    "        if line_num % 100000 ==0:\n",
    "            print(line_num)"
   ]
  },
  {
   "cell_type": "code",
   "execution_count": 2,
   "metadata": {
    "ExecuteTime": {
     "end_time": "2021-05-15T08:29:06.407867Z",
     "start_time": "2021-05-15T08:29:06.397317Z"
    }
   },
   "outputs": [
    {
     "data": {
      "text/plain": [
       "6911408"
      ]
     },
     "execution_count": 2,
     "metadata": {},
     "output_type": "execute_result"
    }
   ],
   "source": [
    "line_num"
   ]
  },
  {
   "cell_type": "code",
   "execution_count": 4,
   "metadata": {
    "ExecuteTime": {
     "end_time": "2021-05-15T08:29:33.392854Z",
     "start_time": "2021-05-15T08:29:33.389303Z"
    }
   },
   "outputs": [
    {
     "data": {
      "text/plain": [
       "0.011413448605551865"
      ]
     },
     "execution_count": 4,
     "metadata": {},
     "output_type": "execute_result"
    }
   ],
   "source": [
    "cops_num/line_num"
   ]
  },
  {
   "cell_type": "code",
   "execution_count": 1,
   "metadata": {
    "ExecuteTime": {
     "end_time": "2020-10-20T01:33:49.310206Z",
     "start_time": "2020-10-20T01:33:49.296288Z"
    },
    "slideshow": {
     "slide_type": "fragment"
    }
   },
   "outputs": [
    {
     "name": "stdout",
     "output_type": "stream",
     "text": [
      "2754\n"
     ]
    }
   ],
   "source": [
    "bigfile = open('/Users/datalab/bigdata/cjc/ows-raw.txt', 'r')\n",
    "chunkSize = 1000000\n",
    "chunk = bigfile.readlines(chunkSize)\n",
    "print(len(chunk))\n",
    "# with open(\"../data/ows_tweets_sample.txt\", 'w') as f:\n",
    "#     for i in chunk:\n",
    "#         f.write(i)  "
   ]
  },
  {
   "cell_type": "code",
   "execution_count": 5,
   "metadata": {
    "ExecuteTime": {
     "end_time": "2020-10-20T01:48:30.428016Z",
     "start_time": "2020-10-20T01:48:30.363808Z"
    }
   },
   "outputs": [],
   "source": [
    "bigfile.readlines?"
   ]
  },
  {
   "cell_type": "code",
   "execution_count": 8,
   "metadata": {
    "ExecuteTime": {
     "end_time": "2020-10-20T01:50:03.152797Z",
     "start_time": "2020-10-20T01:50:03.149044Z"
    }
   },
   "outputs": [
    {
     "data": {
      "text/plain": [
       "0"
      ]
     },
     "execution_count": 8,
     "metadata": {},
     "output_type": "execute_result"
    }
   ],
   "source": [
    "5%5"
   ]
  },
  {
   "cell_type": "code",
   "execution_count": 5,
   "metadata": {
    "ExecuteTime": {
     "end_time": "2021-05-15T08:37:16.057486Z",
     "start_time": "2021-05-15T08:36:24.733823Z"
    },
    "slideshow": {
     "slide_type": "subslide"
    }
   },
   "outputs": [
    {
     "name": "stdout",
     "output_type": "stream",
     "text": [
      "0 262665\n",
      "5 1574666\n",
      "10 2880857\n",
      "15 4189419\n",
      "20 5492578\n",
      "25 6602141\n"
     ]
    }
   ],
   "source": [
    "# https://stackoverflow.com/questions/519633/lazy-method-for-reading-big-file-in-python?lq=1\n",
    "import csv\n",
    "bigfile = open('/Users/datalab/bigdata/cjc/ows-raw.txt', 'r')\n",
    "chunkSize = 10**8\n",
    "chunk = bigfile.readlines(chunkSize)\n",
    "num_chunk, num_lines = 0, 0\n",
    "while chunk:\n",
    "    lines = csv.reader((line.replace('\\x00','') for line in chunk), \n",
    "                       delimiter=',', quotechar='\"')\n",
    "    #do sth.\n",
    "    num_lines += len(list(lines))\n",
    "    if num_chunk % 5 ==0:\n",
    "        print(num_chunk, num_lines)\n",
    "    num_chunk += 1\n",
    "    chunk = bigfile.readlines(chunkSize) # read another chunk"
   ]
  },
  {
   "cell_type": "code",
   "execution_count": 4,
   "metadata": {
    "ExecuteTime": {
     "end_time": "2020-10-20T01:47:05.242288Z",
     "start_time": "2020-10-20T01:47:05.233335Z"
    }
   },
   "outputs": [
    {
     "data": {
      "text/plain": [
       "6602141"
      ]
     },
     "execution_count": 4,
     "metadata": {},
     "output_type": "execute_result"
    }
   ],
   "source": [
    "num_lines"
   ]
  },
  {
   "cell_type": "markdown",
   "metadata": {
    "slideshow": {
     "slide_type": "slide"
    }
   },
   "source": [
    "## 用Pandas的get_chunk功能来处理亿级数据\n",
    "\n",
    "> 只有在超过5TB数据量的规模下，Hadoop才是一个合理的技术选择。"
   ]
  },
  {
   "cell_type": "code",
   "execution_count": 14,
   "metadata": {
    "ExecuteTime": {
     "end_time": "2020-06-06T08:39:32.629430Z",
     "start_time": "2020-06-06T08:39:31.503242Z"
    },
    "slideshow": {
     "slide_type": "subslide"
    }
   },
   "outputs": [
    {
     "data": {
      "text/plain": [
       "100000"
      ]
     },
     "execution_count": 14,
     "metadata": {},
     "output_type": "execute_result"
    }
   ],
   "source": [
    "import pandas as pd\n",
    "\n",
    "f = open('/Users/datalab/bigdata/cjc/ows-raw.txt',encoding='utf-8')\n",
    "reader = pd.read_table(f,  sep=',',  quotechar='\"', iterator=True, error_bad_lines=False) #跳过报错行\n",
    "chunkSize = 100000\n",
    "chunk = reader.get_chunk(chunkSize)\n",
    "len(chunk)\n",
    "\n",
    "#pd.read_table?"
   ]
  },
  {
   "cell_type": "code",
   "execution_count": 15,
   "metadata": {
    "ExecuteTime": {
     "end_time": "2020-06-06T08:39:55.945174Z",
     "start_time": "2020-06-06T08:39:55.896742Z"
    },
    "slideshow": {
     "slide_type": "subslide"
    }
   },
   "outputs": [
    {
     "data": {
      "text/html": [
       "<div>\n",
       "<style scoped>\n",
       "    .dataframe tbody tr th:only-of-type {\n",
       "        vertical-align: middle;\n",
       "    }\n",
       "\n",
       "    .dataframe tbody tr th {\n",
       "        vertical-align: top;\n",
       "    }\n",
       "\n",
       "    .dataframe thead th {\n",
       "        text-align: right;\n",
       "    }\n",
       "</style>\n",
       "<table border=\"1\" class=\"dataframe\">\n",
       "  <thead>\n",
       "    <tr style=\"text-align: right;\">\n",
       "      <th></th>\n",
       "      <th>Twitter ID</th>\n",
       "      <th>Text</th>\n",
       "      <th>Profile Image URL</th>\n",
       "      <th>Day</th>\n",
       "      <th>Hour</th>\n",
       "      <th>Minute</th>\n",
       "      <th>Created At</th>\n",
       "      <th>Geo</th>\n",
       "      <th>From User</th>\n",
       "      <th>From User ID</th>\n",
       "      <th>Language</th>\n",
       "      <th>To User</th>\n",
       "      <th>To User ID</th>\n",
       "      <th>Source</th>\n",
       "    </tr>\n",
       "  </thead>\n",
       "  <tbody>\n",
       "    <tr>\n",
       "      <th>0</th>\n",
       "      <td>121813144174727168</td>\n",
       "      <td>RT @AnonKitsu: ALERT!!!!!!!!!!COPS ARE KETTLIN...</td>\n",
       "      <td>http://a2.twimg.com/profile_images/1539375713/...</td>\n",
       "      <td>2011-10-06</td>\n",
       "      <td>5</td>\n",
       "      <td>4</td>\n",
       "      <td>2011-10-06 05:04:51</td>\n",
       "      <td>N;</td>\n",
       "      <td>Anonops_Cop</td>\n",
       "      <td>401240477</td>\n",
       "      <td>en</td>\n",
       "      <td>NaN</td>\n",
       "      <td>0</td>\n",
       "      <td>&amp;lt;a href=&amp;quot;http://twitter.com/&amp;quot;&amp;gt;...</td>\n",
       "    </tr>\n",
       "    <tr>\n",
       "      <th>1</th>\n",
       "      <td>121813146137657344</td>\n",
       "      <td>@jamiekilstein @allisonkilkenny Interesting in...</td>\n",
       "      <td>http://a2.twimg.com/profile_images/1574715503/...</td>\n",
       "      <td>2011-10-06</td>\n",
       "      <td>5</td>\n",
       "      <td>4</td>\n",
       "      <td>2011-10-06 05:04:51</td>\n",
       "      <td>N;</td>\n",
       "      <td>KittyHybrid</td>\n",
       "      <td>34532053</td>\n",
       "      <td>en</td>\n",
       "      <td>jamiekilstein</td>\n",
       "      <td>2149053</td>\n",
       "      <td>&amp;lt;a href=&amp;quot;http://twitter.com/&amp;quot;&amp;gt;...</td>\n",
       "    </tr>\n",
       "    <tr>\n",
       "      <th>2</th>\n",
       "      <td>121813150000619521</td>\n",
       "      <td>@Seductivpancake Right! Those guys have a vict...</td>\n",
       "      <td>http://a1.twimg.com/profile_images/1241412831/...</td>\n",
       "      <td>2011-10-06</td>\n",
       "      <td>5</td>\n",
       "      <td>4</td>\n",
       "      <td>2011-10-06 05:04:52</td>\n",
       "      <td>N;</td>\n",
       "      <td>nerdsherpa</td>\n",
       "      <td>95067344</td>\n",
       "      <td>en</td>\n",
       "      <td>Seductivpancake</td>\n",
       "      <td>19695580</td>\n",
       "      <td>&amp;lt;a href=&amp;quot;http://www.echofon.com/&amp;quot;...</td>\n",
       "    </tr>\n",
       "    <tr>\n",
       "      <th>3</th>\n",
       "      <td>121813150701072385</td>\n",
       "      <td>RT @bembel &amp;quot;Occupy Wall Street&amp;quot; als ...</td>\n",
       "      <td>http://a0.twimg.com/profile_images/1106399092/...</td>\n",
       "      <td>2011-10-06</td>\n",
       "      <td>5</td>\n",
       "      <td>4</td>\n",
       "      <td>2011-10-06 05:04:52</td>\n",
       "      <td>N;</td>\n",
       "      <td>hamudistan</td>\n",
       "      <td>35862923</td>\n",
       "      <td>en</td>\n",
       "      <td>NaN</td>\n",
       "      <td>0</td>\n",
       "      <td>&amp;lt;a href=&amp;quot;http://levelupstudio.com&amp;quot...</td>\n",
       "    </tr>\n",
       "    <tr>\n",
       "      <th>4</th>\n",
       "      <td>121813163778899968</td>\n",
       "      <td>#ows White shirt= Brown shirt.</td>\n",
       "      <td>http://a2.twimg.com/profile_images/1568117871/...</td>\n",
       "      <td>2011-10-06</td>\n",
       "      <td>5</td>\n",
       "      <td>4</td>\n",
       "      <td>2011-10-06 05:04:56</td>\n",
       "      <td>N;</td>\n",
       "      <td>kl_knox</td>\n",
       "      <td>419580636</td>\n",
       "      <td>en</td>\n",
       "      <td>NaN</td>\n",
       "      <td>0</td>\n",
       "      <td>&amp;lt;a href=&amp;quot;http://twitter.com/&amp;quot;&amp;gt;...</td>\n",
       "    </tr>\n",
       "  </tbody>\n",
       "</table>\n",
       "</div>"
      ],
      "text/plain": [
       "           Twitter ID                                               Text  \\\n",
       "0  121813144174727168  RT @AnonKitsu: ALERT!!!!!!!!!!COPS ARE KETTLIN...   \n",
       "1  121813146137657344  @jamiekilstein @allisonkilkenny Interesting in...   \n",
       "2  121813150000619521  @Seductivpancake Right! Those guys have a vict...   \n",
       "3  121813150701072385  RT @bembel &quot;Occupy Wall Street&quot; als ...   \n",
       "4  121813163778899968                     #ows White shirt= Brown shirt.   \n",
       "\n",
       "                                   Profile Image URL         Day  Hour  \\\n",
       "0  http://a2.twimg.com/profile_images/1539375713/...  2011-10-06     5   \n",
       "1  http://a2.twimg.com/profile_images/1574715503/...  2011-10-06     5   \n",
       "2  http://a1.twimg.com/profile_images/1241412831/...  2011-10-06     5   \n",
       "3  http://a0.twimg.com/profile_images/1106399092/...  2011-10-06     5   \n",
       "4  http://a2.twimg.com/profile_images/1568117871/...  2011-10-06     5   \n",
       "\n",
       "   Minute           Created At Geo    From User  From User ID Language  \\\n",
       "0       4  2011-10-06 05:04:51  N;  Anonops_Cop     401240477       en   \n",
       "1       4  2011-10-06 05:04:51  N;  KittyHybrid      34532053       en   \n",
       "2       4  2011-10-06 05:04:52  N;   nerdsherpa      95067344       en   \n",
       "3       4  2011-10-06 05:04:52  N;   hamudistan      35862923       en   \n",
       "4       4  2011-10-06 05:04:56  N;      kl_knox     419580636       en   \n",
       "\n",
       "           To User  To User ID  \\\n",
       "0              NaN           0   \n",
       "1    jamiekilstein     2149053   \n",
       "2  Seductivpancake    19695580   \n",
       "3              NaN           0   \n",
       "4              NaN           0   \n",
       "\n",
       "                                              Source  \n",
       "0  &lt;a href=&quot;http://twitter.com/&quot;&gt;...  \n",
       "1  &lt;a href=&quot;http://twitter.com/&quot;&gt;...  \n",
       "2  &lt;a href=&quot;http://www.echofon.com/&quot;...  \n",
       "3  &lt;a href=&quot;http://levelupstudio.com&quot...  \n",
       "4  &lt;a href=&quot;http://twitter.com/&quot;&gt;...  "
      ]
     },
     "execution_count": 15,
     "metadata": {},
     "output_type": "execute_result"
    }
   ],
   "source": [
    "chunk.head()"
   ]
  },
  {
   "cell_type": "code",
   "execution_count": 2,
   "metadata": {
    "ExecuteTime": {
     "end_time": "2020-10-20T01:45:00.835168Z",
     "start_time": "2020-10-20T01:44:25.200769Z"
    },
    "slideshow": {
     "slide_type": "subslide"
    }
   },
   "outputs": [
    {
     "name": "stdout",
     "output_type": "stream",
     "text": [
      "0 100000\n",
      "1 200000\n",
      "2 300000\n",
      "3 400000\n",
      "4 500000\n",
      "5 600000\n",
      "6 700000\n",
      "7 800000\n",
      "8 900000\n",
      "9 1000000\n",
      "10 1100000\n",
      "11 1200000\n",
      "12 1300000\n",
      "13 1400000\n",
      "14 1500000\n",
      "15 1600000\n",
      "16 1700000\n",
      "17 1800000\n",
      "18 1900000\n",
      "19 2000000\n",
      "20 2100000\n",
      "21 2200000\n",
      "22 2300000\n",
      "23 2400000\n",
      "24 2500000\n",
      "25 2600000\n",
      "26 2700000\n",
      "27 2800000\n",
      "28 2900000\n",
      "29 3000000\n",
      "30 3100000\n",
      "31 3200000\n",
      "32 3300000\n",
      "33 3400000\n",
      "34 3500000\n",
      "35 3600000\n",
      "36 3700000\n",
      "37 3800000\n",
      "38 3900000\n",
      "39 4000000\n",
      "40 4100000\n",
      "41 4200000\n",
      "42 4300000\n",
      "43 4400000\n",
      "44 4500000\n",
      "45 4600000\n",
      "46 4700000\n",
      "47 4800000\n",
      "48 4900000\n",
      "49 5000000\n"
     ]
    },
    {
     "name": "stderr",
     "output_type": "stream",
     "text": [
      "b'Skipping line 5051743: expected 14 fields, saw 15\\n'\n"
     ]
    },
    {
     "name": "stdout",
     "output_type": "stream",
     "text": [
      "50 5100000\n",
      "51 5200000\n"
     ]
    },
    {
     "name": "stderr",
     "output_type": "stream",
     "text": [
      "b'Skipping line 5254718: expected 14 fields, saw 15\\n'\n",
      "b'Skipping line 5281095: expected 14 fields, saw 15\\n'\n"
     ]
    },
    {
     "name": "stdout",
     "output_type": "stream",
     "text": [
      "52 5300000\n",
      "53 5400000\n"
     ]
    },
    {
     "name": "stderr",
     "output_type": "stream",
     "text": [
      "b'Skipping line 5481759: expected 14 fields, saw 15\\nSkipping line 5482014: expected 14 fields, saw 15\\nSkipping line 5482532: expected 14 fields, saw 15\\n'\n"
     ]
    },
    {
     "name": "stdout",
     "output_type": "stream",
     "text": [
      "54 5500000\n"
     ]
    },
    {
     "name": "stderr",
     "output_type": "stream",
     "text": [
      "b'Skipping line 5516605: expected 14 fields, saw 15\\n'\n"
     ]
    },
    {
     "name": "stdout",
     "output_type": "stream",
     "text": [
      "55 5600000\n",
      "56 5700000\n"
     ]
    },
    {
     "name": "stderr",
     "output_type": "stream",
     "text": [
      "b'Skipping line 5709055: expected 14 fields, saw 15\\n'\n",
      "b'Skipping line 5796658: expected 14 fields, saw 15\\n'\n"
     ]
    },
    {
     "name": "stdout",
     "output_type": "stream",
     "text": [
      "57 5800000\n",
      "58 5900000\n"
     ]
    },
    {
     "name": "stderr",
     "output_type": "stream",
     "text": [
      "b'Skipping line 5927412: expected 14 fields, saw 15\\nSkipping line 5927419: expected 14 fields, saw 15\\nSkipping line 5927421: expected 14 fields, saw 15\\nSkipping line 5927451: expected 14 fields, saw 15\\nSkipping line 5927478: expected 14 fields, saw 15\\n'\n"
     ]
    },
    {
     "name": "stdout",
     "output_type": "stream",
     "text": [
      "59 6000000\n",
      "60 6100000\n",
      "61 6200000\n"
     ]
    },
    {
     "name": "stderr",
     "output_type": "stream",
     "text": [
      "b'Skipping line 6229621: expected 14 fields, saw 16\\nSkipping line 6245861: expected 14 fields, saw 17\\n'\n",
      "b'Skipping line 6278728: expected 14 fields, saw 15\\n'\n"
     ]
    },
    {
     "name": "stdout",
     "output_type": "stream",
     "text": [
      "62 6300000\n"
     ]
    },
    {
     "name": "stderr",
     "output_type": "stream",
     "text": [
      "b'Skipping line 6350262: expected 14 fields, saw 15\\n'\n",
      "b'Skipping line 6387321: expected 14 fields, saw 15\\nSkipping line 6388879: expected 14 fields, saw 15\\n'\n"
     ]
    },
    {
     "name": "stdout",
     "output_type": "stream",
     "text": [
      "63 6400000\n",
      "64 6500000\n",
      "65 6600000\n",
      "66 6602120\n",
      "Iteration is stopped.\n"
     ]
    }
   ],
   "source": [
    "import pandas as pd\n",
    "\n",
    "f = open('/Users/datalab/bigdata/cjc/ows-raw.txt',encoding='utf-8')\n",
    "reader = pd.read_table(f,  sep=',',  quotechar='\"', \n",
    "                       iterator=True, error_bad_lines=False) #跳过报错行\n",
    "chunkSize = 100000\n",
    "loop = True\n",
    "#data = []\n",
    "num_chunk, num_lines = 0, 0\n",
    "while loop:\n",
    "    try:\n",
    "        chunk = reader.get_chunk(chunkSize)\n",
    "        # dat = data_cleaning_funtion(chunk) # do sth.\n",
    "        num_lines += len(chunk)\n",
    "        print(num_chunk, num_lines)\n",
    "        num_chunk +=1\n",
    "        #data.append(dat) \n",
    "    except StopIteration:\n",
    "        loop = False\n",
    "        print(\"Iteration is stopped.\")\n",
    "#df = pd.concat(data, ignore_index=True)"
   ]
  },
  {
   "cell_type": "markdown",
   "metadata": {
    "slideshow": {
     "slide_type": "slide"
    }
   },
   "source": [
    "![image.png](./images/end.png)"
   ]
  }
 ],
 "metadata": {
  "celltoolbar": "Slideshow",
  "kernelspec": {
   "display_name": "Python 3",
   "language": "python",
   "name": "python3"
  },
  "language_info": {
   "codemirror_mode": {
    "name": "ipython",
    "version": 3
   },
   "file_extension": ".py",
   "mimetype": "text/x-python",
   "name": "python",
   "nbconvert_exporter": "python",
   "pygments_lexer": "ipython3",
   "version": "3.7.6"
  },
  "latex_envs": {
   "LaTeX_envs_menu_present": true,
   "autoclose": false,
   "autocomplete": true,
   "bibliofile": "biblio.bib",
   "cite_by": "apalike",
   "current_citInitial": 1,
   "eqLabelWithNumbers": true,
   "eqNumInitial": 0,
   "hotkeys": {
    "equation": "Ctrl-E",
    "itemize": "Ctrl-I"
   },
   "labels_anchors": false,
   "latex_user_defs": false,
   "report_style_numbering": false,
   "user_envs_cfg": false
  },
  "toc": {
   "base_numbering": 1,
   "nav_menu": {},
   "number_sections": false,
   "sideBar": false,
   "skip_h1_title": false,
   "title_cell": "Table of Contents",
   "title_sidebar": "Contents",
   "toc_cell": false,
   "toc_position": {
    "height": "1260px",
    "left": "1835px",
    "top": "224px",
    "width": "512px"
   },
   "toc_section_display": false,
   "toc_window_display": true
  }
 },
 "nbformat": 4,
 "nbformat_minor": 1
}