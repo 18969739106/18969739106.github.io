{
 "cells": [
  {
   "cell_type": "markdown",
   "metadata": {
    "slideshow": {
     "slide_type": "slide"
    }
   },
   "source": [
    "# 抓取实时辟谣数据\n",
    "\n",
    "\n",
    "https://vp.fact.qq.com/home"
   ]
  },
  {
   "cell_type": "markdown",
   "metadata": {
    "ExecuteTime": {
     "end_time": "2020-03-03T14:37:17.153858Z",
     "start_time": "2020-03-03T14:37:17.150432Z"
    },
    "slideshow": {
     "slide_type": "subslide"
    }
   },
   "source": [
    "\n",
    "\n",
    "![image.png](./images/fact.png)\n",
    "\n",
    "https://vp.fact.qq.com/article?id=be3aea585b07c193778985e180cf164b\n",
    "\n"
   ]
  },
  {
   "cell_type": "markdown",
   "metadata": {
    "slideshow": {
     "slide_type": "subslide"
    }
   },
   "source": [
    "https://vp.fact.qq.com/loadmore?artnum=0&page=0\n",
    "\n",
    "![image.png](./images/fact2.png)\n"
   ]
  },
  {
   "cell_type": "markdown",
   "metadata": {
    "slideshow": {
     "slide_type": "subslide"
    }
   },
   "source": [
    "https://vp.fact.qq.com/loadmore?artnum=0&page=0\n",
    "\n",
    "![image.png](./images/fact3.png)"
   ]
  },
  {
   "cell_type": "markdown",
   "metadata": {
    "slideshow": {
     "slide_type": "subslide"
    }
   },
   "source": [
    "## 如何使用快捷键打开开发者工具\n",
    "\n",
    "To open the developer console in Google Chrome, open the Chrome Menu in the upper-right-hand corner of the browser window and select More Tools > Developer Tools. You can also use `Option + ⌘ + J` (on macOS), or `Shift + CTRL + J` (on Windows/Linux)."
   ]
  },
  {
   "cell_type": "markdown",
   "metadata": {
    "slideshow": {
     "slide_type": "subslide"
    }
   },
   "source": [
    "https://vp.fact.qq.com/api/article/list?page=100&locale=zh-CN&token=U2FsdGVkX186uQh1zecOEhKWJnvgDYAkh7N%252BVBnRrbNgyzif9Sj5PmJ1vRBoqtIo\n",
    "\n",
    "![image.png](./images/fact4.png)"
   ]
  },
  {
   "cell_type": "markdown",
   "metadata": {
    "slideshow": {
     "slide_type": "subslide"
    }
   },
   "source": [
    "![image.png](./images/fact5.png)"
   ]
  },
  {
   "cell_type": "code",
   "execution_count": 4,
   "metadata": {
    "ExecuteTime": {
     "end_time": "2021-10-25T08:22:37.028485Z",
     "start_time": "2021-10-25T08:22:36.609925Z"
    },
    "slideshow": {
     "slide_type": "slide"
    }
   },
   "outputs": [],
   "source": [
    "import requests\n",
    "from bs4 import BeautifulSoup\n",
    "\n",
    "path = 'https://vp.fact.qq.com/api/article/list?locale=zh-CN&token=U2FsdGVkX1%252BSf5tazIgNXUkfSRI81VMClXBoG5lAMez6vJJWe%252BfsQqejh9QTvts7&page='\n",
    "\n",
    "url = path + '100'\n",
    "content = requests.get(url)\n",
    "d = content.json()"
   ]
  },
  {
   "cell_type": "code",
   "execution_count": 8,
   "metadata": {
    "ExecuteTime": {
     "end_time": "2021-10-25T08:22:43.422017Z",
     "start_time": "2021-10-25T08:22:43.412875Z"
    },
    "slideshow": {
     "slide_type": "subslide"
    }
   },
   "outputs": [
    {
     "data": {
      "text/plain": [
       "19"
      ]
     },
     "execution_count": 8,
     "metadata": {},
     "output_type": "execute_result"
    }
   ],
   "source": [
    "len(d['data']['list'][0])"
   ]
  },
  {
   "cell_type": "code",
   "execution_count": 26,
   "metadata": {},
   "outputs": [
    {
     "name": "stdout",
     "output_type": "stream",
     "text": [
      "Help on built-in function print in module builtins:\n",
      "\n",
      "print(...)\n",
      "    print(value, ..., sep=' ', end='\\n', file=sys.stdout, flush=False)\n",
      "    \n",
      "    Prints the values to a stream, or to sys.stdout by default.\n",
      "    Optional keyword arguments:\n",
      "    file:  a file-like object (stream); defaults to the current sys.stdout.\n",
      "    sep:   string inserted between values, default a space.\n",
      "    end:   string appended after the last value, default a newline.\n",
      "    flush: whether to forcibly flush the stream.\n",
      "\n"
     ]
    }
   ],
   "source": [
    "help(print)"
   ]
  },
  {
   "cell_type": "code",
   "execution_count": 9,
   "metadata": {
    "ExecuteTime": {
     "end_time": "2021-10-25T08:23:21.147241Z",
     "start_time": "2021-10-25T08:23:21.136660Z"
    },
    "slideshow": {
     "slide_type": "subslide"
    }
   },
   "outputs": [
    {
     "name": "stdout",
     "output_type": "stream",
     "text": [
      "100\r"
     ]
    }
   ],
   "source": [
    "from time import sleep\n",
    "import random\n",
    "\n",
    "for i in range(1, 100+1):\n",
    "    sleep(random.random())\n",
    "    print(i, end = '\\r')"
   ]
  },
  {
   "cell_type": "code",
   "execution_count": 4,
   "metadata": {
    "ExecuteTime": {
     "end_time": "2021-10-25T08:23:31.788908Z",
     "start_time": "2021-10-25T08:23:31.784831Z"
    },
    "slideshow": {
     "slide_type": "subslide"
    }
   },
   "outputs": [
    {
     "data": {
      "text/plain": [
       "0.7456690859449465"
      ]
     },
     "execution_count": 4,
     "metadata": {},
     "output_type": "execute_result"
    }
   ],
   "source": [
    "import random\n",
    "\n",
    "random.random()"
   ]
  },
  {
   "cell_type": "code",
   "execution_count": 10,
   "metadata": {
    "ExecuteTime": {
     "end_time": "2021-10-25T08:27:31.318031Z",
     "start_time": "2021-10-25T08:26:33.785943Z"
    },
    "slideshow": {
     "slide_type": "subslide"
    }
   },
   "outputs": [
    {
     "name": "stdout",
     "output_type": "stream",
     "text": [
      "100\r"
     ]
    }
   ],
   "source": [
    "from time import sleep\n",
    "import random\n",
    "\n",
    "jsons = []\n",
    "for i in range(1, 100+1):\n",
    "    print(i, end= '\\r')\n",
    "    sleep(random.random())\n",
    "    path = 'https://vp.fact.qq.com/api/article/list?locale=zh-CN&token=U2FsdGVkX1%252BSf5tazIgNXUkfSRI81VMClXBoG5lAMez6vJJWe%252BfsQqejh9QTvts7&page='\n",
    "    url = path + str(i)\n",
    "    content = requests.get(url)\n",
    "    d = content.json()\n",
    "    for j in d['data']['list']:\n",
    "        jsons.append(j)"
   ]
  },
  {
   "cell_type": "code",
   "execution_count": 11,
   "metadata": {
    "ExecuteTime": {
     "end_time": "2021-10-25T08:27:36.893800Z",
     "start_time": "2021-10-25T08:27:36.890238Z"
    },
    "slideshow": {
     "slide_type": "subslide"
    }
   },
   "outputs": [
    {
     "data": {
      "text/plain": [
       "972"
      ]
     },
     "execution_count": 11,
     "metadata": {},
     "output_type": "execute_result"
    }
   ],
   "source": [
    "len(jsons)"
   ]
  },
  {
   "cell_type": "code",
   "execution_count": 12,
   "metadata": {
    "ExecuteTime": {
     "end_time": "2021-10-25T08:27:43.032814Z",
     "start_time": "2021-10-25T08:27:42.330764Z"
    },
    "slideshow": {
     "slide_type": "subslide"
    }
   },
   "outputs": [
    {
     "data": {
      "text/html": [
       "<div>\n",
       "<style scoped>\n",
       "    .dataframe tbody tr th:only-of-type {\n",
       "        vertical-align: middle;\n",
       "    }\n",
       "\n",
       "    .dataframe tbody tr th {\n",
       "        vertical-align: top;\n",
       "    }\n",
       "\n",
       "    .dataframe thead th {\n",
       "        text-align: right;\n",
       "    }\n",
       "</style>\n",
       "<table border=\"1\" class=\"dataframe\">\n",
       "  <thead>\n",
       "    <tr style=\"text-align: right;\">\n",
       "      <th></th>\n",
       "      <th>title</th>\n",
       "      <th>author</th>\n",
       "      <th>authordesc</th>\n",
       "      <th>id</th>\n",
       "      <th>Author</th>\n",
       "      <th>date</th>\n",
       "      <th>markstyle</th>\n",
       "      <th>result</th>\n",
       "      <th>explain</th>\n",
       "      <th>abstract</th>\n",
       "      <th>tag</th>\n",
       "      <th>type</th>\n",
       "      <th>videourl</th>\n",
       "      <th>cover</th>\n",
       "      <th>coverrect</th>\n",
       "      <th>coversqual</th>\n",
       "      <th>section</th>\n",
       "      <th>iscolled</th>\n",
       "      <th>arttype</th>\n",
       "    </tr>\n",
       "  </thead>\n",
       "  <tbody>\n",
       "    <tr>\n",
       "      <th>0</th>\n",
       "      <td>出公共场所再扫场所码可避免成为密接者</td>\n",
       "      <td>中央网信办违法和不良信息举报中心主办、新华网承办的辟谣平台</td>\n",
       "      <td>中央网信办违法和不良信息举报中心主办、新华网承办的辟谣平台</td>\n",
       "      <td>5537b7c1cad11570829276829d433f66</td>\n",
       "      <td>{'id': 964, 'name': '中国互联网联合辟谣平台', 'desc': '中央...</td>\n",
       "      <td>2022-10-10</td>\n",
       "      <td>fake</td>\n",
       "      <td>假</td>\n",
       "      <td>谣言</td>\n",
       "      <td>宁波市防控办对网传说法辟谣：扫场所码是为方便流调工作，确保一旦发现阳性病例，密接、次密接、时...</td>\n",
       "      <td>[场所码, 密接]</td>\n",
       "      <td>1</td>\n",
       "      <td></td>\n",
       "      <td>//jiaozhen-70111.picnjc.qpic.cn/x8kmEe2UrVaozy...</td>\n",
       "      <td>//jiaozhen-70111.picnjc.qpic.cn/x8kmEe2UrVaozy...</td>\n",
       "      <td>//jiaozhen-70111.picnjc.qpic.cn/x8kmEe2UrVaozy...</td>\n",
       "      <td></td>\n",
       "      <td>False</td>\n",
       "      <td>normal</td>\n",
       "    </tr>\n",
       "    <tr>\n",
       "      <th>1</th>\n",
       "      <td>太原防疫短信带核酸结果“查询链接”，可以点击查询</td>\n",
       "      <td>中央人民广播电台广播新闻网</td>\n",
       "      <td>中央人民广播电台广播新闻网</td>\n",
       "      <td>667477e34d8ffc970dccd2256521c466</td>\n",
       "      <td>{'id': 1195, 'name': '央广网', 'desc': '中央人民广播电台广...</td>\n",
       "      <td>2022-10-10</td>\n",
       "      <td>fake</td>\n",
       "      <td>假</td>\n",
       "      <td>疑似诈骗</td>\n",
       "      <td>10月4日，经与太原市反诈骗中心核实，附有查询链接的该短信为诈骗链接，点击后会跳转至某钓鱼网...</td>\n",
       "      <td>[短信, 诈骗]</td>\n",
       "      <td>1</td>\n",
       "      <td></td>\n",
       "      <td>//jiaozhen-70111.picnjc.qpic.cn/snc972bZU4sMFX...</td>\n",
       "      <td>//jiaozhen-70111.picnjc.qpic.cn/snc972bZU4sMFX...</td>\n",
       "      <td>//jiaozhen-70111.picnjc.qpic.cn/snc972bZU4sMFX...</td>\n",
       "      <td></td>\n",
       "      <td>False</td>\n",
       "      <td>normal</td>\n",
       "    </tr>\n",
       "    <tr>\n",
       "      <th>2</th>\n",
       "      <td>上海有人“持红码到酒吧蹦迪”数千人惨变密接</td>\n",
       "      <td>中央网信办违法和不良信息举报中心主办</td>\n",
       "      <td>中央网信办违法和不良信息举报中心主办</td>\n",
       "      <td>2faa44138715b91b2e8dc957fd2a6aab</td>\n",
       "      <td>{'id': 398, 'name': '中国互联网联合辟谣平台', 'desc': '中央...</td>\n",
       "      <td>2022-10-10</td>\n",
       "      <td>fake</td>\n",
       "      <td>假</td>\n",
       "      <td>谣言</td>\n",
       "      <td>所谓“持红码到酒吧蹦迪”的说法系误传。根据上海警方调查，视频中出现的红码图片实为两名当事人存...</td>\n",
       "      <td>[红码, 蹦迪]</td>\n",
       "      <td>1</td>\n",
       "      <td></td>\n",
       "      <td>//jiaozhen-70111.picnjc.qpic.cn/7BKjGqTcXywwnz...</td>\n",
       "      <td>//jiaozhen-70111.picnjc.qpic.cn/7BKjGqTcXywwnz...</td>\n",
       "      <td>//jiaozhen-70111.picnjc.qpic.cn/7BKjGqTcXywwnz...</td>\n",
       "      <td></td>\n",
       "      <td>False</td>\n",
       "      <td>normal</td>\n",
       "    </tr>\n",
       "    <tr>\n",
       "      <th>3</th>\n",
       "      <td>上海游客遇新疆疫情，变身葡萄采摘工</td>\n",
       "      <td>中央网信办违法和不良信息举报中心主办、新华网承办的辟谣平台</td>\n",
       "      <td>中央网信办违法和不良信息举报中心主办、新华网承办的辟谣平台</td>\n",
       "      <td>abb50569bc1f464504caac8a2b864d76</td>\n",
       "      <td>{'id': 964, 'name': '中国互联网联合辟谣平台', 'desc': '中央...</td>\n",
       "      <td>2022-10-10</td>\n",
       "      <td>fake</td>\n",
       "      <td>假</td>\n",
       "      <td>谣言</td>\n",
       "      <td>吐鲁番市农业农村局、林草局等相关部门核实，有关部门未采取过将滞留人员留在本地就业采摘葡萄的措...</td>\n",
       "      <td>[新疆, 游客]</td>\n",
       "      <td>1</td>\n",
       "      <td></td>\n",
       "      <td>//jiaozhen-70111.picnjc.qpic.cn/iwStcGMpqU94pY...</td>\n",
       "      <td>//jiaozhen-70111.picnjc.qpic.cn/iwStcGMpqU94pY...</td>\n",
       "      <td>//jiaozhen-70111.picnjc.qpic.cn/iwStcGMpqU94pY...</td>\n",
       "      <td></td>\n",
       "      <td>False</td>\n",
       "      <td>normal</td>\n",
       "    </tr>\n",
       "    <tr>\n",
       "      <th>4</th>\n",
       "      <td>体检查出肺结节，是打新冠疫苗打出来的</td>\n",
       "      <td>国家执业医师，神经科学硕士</td>\n",
       "      <td>国家执业医师，神经科学硕士</td>\n",
       "      <td>93dad175b3694399912fcac67a7e6f2c</td>\n",
       "      <td>{'id': 754, 'name': '庄时利和', 'desc': '国家执业医师，神经...</td>\n",
       "      <td>2022-09-23</td>\n",
       "      <td>fake</td>\n",
       "      <td>假</td>\n",
       "      <td>谣言</td>\n",
       "      <td>人群中肺结节的检出率其实并不低，绝大多数肺结节是良性的；肺结节除了关注大小以外，还应当关注数...</td>\n",
       "      <td>[新冠疫苗, 肺结节]</td>\n",
       "      <td>1</td>\n",
       "      <td></td>\n",
       "      <td>//jiaozhen-70111.picnjc.qpic.cn/qXboJt4mr1JRiD...</td>\n",
       "      <td>//jiaozhen-70111.picnjc.qpic.cn/qXboJt4mr1JRiD...</td>\n",
       "      <td>//jiaozhen-70111.picnjc.qpic.cn/qXboJt4mr1JRiD...</td>\n",
       "      <td></td>\n",
       "      <td>False</td>\n",
       "      <td>normal</td>\n",
       "    </tr>\n",
       "  </tbody>\n",
       "</table>\n",
       "</div>"
      ],
      "text/plain": [
       "                      title                         author  \\\n",
       "0        出公共场所再扫场所码可避免成为密接者  中央网信办违法和不良信息举报中心主办、新华网承办的辟谣平台   \n",
       "1  太原防疫短信带核酸结果“查询链接”，可以点击查询                  中央人民广播电台广播新闻网   \n",
       "2     上海有人“持红码到酒吧蹦迪”数千人惨变密接             中央网信办违法和不良信息举报中心主办   \n",
       "3         上海游客遇新疆疫情，变身葡萄采摘工  中央网信办违法和不良信息举报中心主办、新华网承办的辟谣平台   \n",
       "4        体检查出肺结节，是打新冠疫苗打出来的                  国家执业医师，神经科学硕士   \n",
       "\n",
       "                      authordesc                                id  \\\n",
       "0  中央网信办违法和不良信息举报中心主办、新华网承办的辟谣平台  5537b7c1cad11570829276829d433f66   \n",
       "1                  中央人民广播电台广播新闻网  667477e34d8ffc970dccd2256521c466   \n",
       "2             中央网信办违法和不良信息举报中心主办  2faa44138715b91b2e8dc957fd2a6aab   \n",
       "3  中央网信办违法和不良信息举报中心主办、新华网承办的辟谣平台  abb50569bc1f464504caac8a2b864d76   \n",
       "4                  国家执业医师，神经科学硕士  93dad175b3694399912fcac67a7e6f2c   \n",
       "\n",
       "                                              Author        date markstyle  \\\n",
       "0  {'id': 964, 'name': '中国互联网联合辟谣平台', 'desc': '中央...  2022-10-10      fake   \n",
       "1  {'id': 1195, 'name': '央广网', 'desc': '中央人民广播电台广...  2022-10-10      fake   \n",
       "2  {'id': 398, 'name': '中国互联网联合辟谣平台', 'desc': '中央...  2022-10-10      fake   \n",
       "3  {'id': 964, 'name': '中国互联网联合辟谣平台', 'desc': '中央...  2022-10-10      fake   \n",
       "4  {'id': 754, 'name': '庄时利和', 'desc': '国家执业医师，神经...  2022-09-23      fake   \n",
       "\n",
       "  result explain                                           abstract  \\\n",
       "0      假      谣言  宁波市防控办对网传说法辟谣：扫场所码是为方便流调工作，确保一旦发现阳性病例，密接、次密接、时...   \n",
       "1      假    疑似诈骗  10月4日，经与太原市反诈骗中心核实，附有查询链接的该短信为诈骗链接，点击后会跳转至某钓鱼网...   \n",
       "2      假      谣言  所谓“持红码到酒吧蹦迪”的说法系误传。根据上海警方调查，视频中出现的红码图片实为两名当事人存...   \n",
       "3      假      谣言  吐鲁番市农业农村局、林草局等相关部门核实，有关部门未采取过将滞留人员留在本地就业采摘葡萄的措...   \n",
       "4      假      谣言  人群中肺结节的检出率其实并不低，绝大多数肺结节是良性的；肺结节除了关注大小以外，还应当关注数...   \n",
       "\n",
       "           tag  type videourl  \\\n",
       "0    [场所码, 密接]     1            \n",
       "1     [短信, 诈骗]     1            \n",
       "2     [红码, 蹦迪]     1            \n",
       "3     [新疆, 游客]     1            \n",
       "4  [新冠疫苗, 肺结节]     1            \n",
       "\n",
       "                                               cover  \\\n",
       "0  //jiaozhen-70111.picnjc.qpic.cn/x8kmEe2UrVaozy...   \n",
       "1  //jiaozhen-70111.picnjc.qpic.cn/snc972bZU4sMFX...   \n",
       "2  //jiaozhen-70111.picnjc.qpic.cn/7BKjGqTcXywwnz...   \n",
       "3  //jiaozhen-70111.picnjc.qpic.cn/iwStcGMpqU94pY...   \n",
       "4  //jiaozhen-70111.picnjc.qpic.cn/qXboJt4mr1JRiD...   \n",
       "\n",
       "                                           coverrect  \\\n",
       "0  //jiaozhen-70111.picnjc.qpic.cn/x8kmEe2UrVaozy...   \n",
       "1  //jiaozhen-70111.picnjc.qpic.cn/snc972bZU4sMFX...   \n",
       "2  //jiaozhen-70111.picnjc.qpic.cn/7BKjGqTcXywwnz...   \n",
       "3  //jiaozhen-70111.picnjc.qpic.cn/iwStcGMpqU94pY...   \n",
       "4  //jiaozhen-70111.picnjc.qpic.cn/qXboJt4mr1JRiD...   \n",
       "\n",
       "                                          coversqual section  iscolled arttype  \n",
       "0  //jiaozhen-70111.picnjc.qpic.cn/x8kmEe2UrVaozy...             False  normal  \n",
       "1  //jiaozhen-70111.picnjc.qpic.cn/snc972bZU4sMFX...             False  normal  \n",
       "2  //jiaozhen-70111.picnjc.qpic.cn/7BKjGqTcXywwnz...             False  normal  \n",
       "3  //jiaozhen-70111.picnjc.qpic.cn/iwStcGMpqU94pY...             False  normal  \n",
       "4  //jiaozhen-70111.picnjc.qpic.cn/qXboJt4mr1JRiD...             False  normal  "
      ]
     },
     "execution_count": 12,
     "metadata": {},
     "output_type": "execute_result"
    }
   ],
   "source": [
    "import pandas as pd\n",
    "df = pd.DataFrame(jsons)\n",
    "df.head()"
   ]
  },
  {
   "cell_type": "code",
   "execution_count": 34,
   "metadata": {
    "ExecuteTime": {
     "end_time": "2021-05-15T03:46:47.928860Z",
     "start_time": "2021-05-15T03:46:47.549263Z"
    },
    "slideshow": {
     "slide_type": "subslide"
    }
   },
   "outputs": [],
   "source": [
    "df.to_excel('./data/vpqq2022-11-1.xlsx')"
   ]
  },
  {
   "cell_type": "code",
   "execution_count": null,
   "metadata": {},
   "outputs": [],
   "source": []
  }
 ],
 "metadata": {
  "celltoolbar": "幻灯片",
  "kernelspec": {
   "display_name": "Python 3 (ipykernel)",
   "language": "python",
   "name": "python3"
  },
  "language_info": {
   "codemirror_mode": {
    "name": "ipython",
    "version": 3
   },
   "file_extension": ".py",
   "mimetype": "text/x-python",
   "name": "python",
   "nbconvert_exporter": "python",
   "pygments_lexer": "ipython3",
   "version": "3.9.7"
  },
  "latex_envs": {
   "LaTeX_envs_menu_present": true,
   "autoclose": false,
   "autocomplete": true,
   "bibliofile": "biblio.bib",
   "cite_by": "apalike",
   "current_citInitial": 1,
   "eqLabelWithNumbers": true,
   "eqNumInitial": 1,
   "hotkeys": {
    "equation": "Ctrl-E",
    "itemize": "Ctrl-I"
   },
   "labels_anchors": false,
   "latex_user_defs": false,
   "report_style_numbering": false,
   "user_envs_cfg": false
  },
  "toc": {
   "base_numbering": 1,
   "nav_menu": {},
   "number_sections": false,
   "sideBar": true,
   "skip_h1_title": false,
   "title_cell": "Table of Contents",
   "title_sidebar": "Contents",
   "toc_cell": false,
   "toc_position": {},
   "toc_section_display": true,
   "toc_window_display": false
  }
 },
 "nbformat": 4,
 "nbformat_minor": 2
}
