{
 "cells": [
  {
   "cell_type": "code",
   "execution_count": 17,
   "metadata": {
    "ExecuteTime": {
     "end_time": "2020-11-11T10:17:12.647379Z",
     "start_time": "2020-11-11T10:17:09.180059Z"
    }
   },
   "outputs": [
    {
     "name": "stdout",
     "output_type": "stream",
     "text": [
      "Requirement already satisfied: pdfkit in /opt/anaconda3/lib/python3.7/site-packages (0.6.1)\n",
      "Note: you may need to restart the kernel to use updated packages.\n"
     ]
    }
   ],
   "source": [
    "pip install pdfkit"
   ]
  },
  {
   "cell_type": "code",
   "execution_count": 14,
   "metadata": {
    "ExecuteTime": {
     "end_time": "2020-11-11T10:12:43.382887Z",
     "start_time": "2020-11-11T10:12:43.375716Z"
    }
   },
   "outputs": [
    {
     "name": "stdout",
     "output_type": "stream",
     "text": [
      "/Users/datalab/github/mybook/_build/html\n"
     ]
    }
   ],
   "source": [
    "cd '_build/html/'"
   ]
  },
  {
   "cell_type": "code",
   "execution_count": 15,
   "metadata": {
    "ExecuteTime": {
     "end_time": "2020-11-11T10:12:45.238503Z",
     "start_time": "2020-11-11T10:12:45.107854Z"
    }
   },
   "outputs": [
    {
     "name": "stdout",
     "output_type": "stream",
     "text": [
      "0-jupyter-notebook.html\r\n",
      "0-matplotlib-chinese.html\r\n",
      "0-slides.html\r\n",
      "0-turicreate.html\r\n",
      "01-intro2cjc.html\r\n",
      "02-bigdata.html\r\n",
      "03-python-intro.html\r\n",
      "04-crawler-13chambers.html\r\n",
      "04-crawler-beautifulsoup.html\r\n",
      "04-crawler-cppcc.html\r\n",
      "04-crawler-douban.html\r\n",
      "04-crawler-fact-checking.html\r\n",
      "04-crawler-gov-report.html\r\n",
      "04-crawler-netease-music.html\r\n",
      "04-crawler-selenium-music-history.html\r\n",
      "04-crawler-selenium-people-com-search.html\r\n",
      "04-crawler-selenium.html\r\n",
      "04-crawler-tripadvisor.html\r\n",
      "04-crawler-wechat.html\r\n",
      "06-data-cleaning-intro.html\r\n",
      "06-data-cleaning-music-list.html\r\n",
      "06-data-cleaning-occupy-central-news.html\r\n",
      "06-data-cleaning-pandas.html\r\n",
      "06-data-cleaning-preprocessing.html\r\n",
      "06-data-cleaning-tweets.html\r\n",
      "08-01-statistics-thinking.html\r\n",
      "08-02-linear-algebra.html\r\n",
      "08-03-distributions.html\r\n",
      "08-03-probability.html\r\n",
      "08-04-hypothesis-inference.html\r\n",
      "08-05-gradient-descent.html\r\n",
      "08-06-regression.html\r\n",
      "08-06-statsmodels.html\r\n",
      "08-07-analyzing-titanic-dataset.html\r\n",
      "08-07-covid19-pew-survey.html\r\n",
      "08-08-covid19-grangercausality.html\r\n",
      "09-01-machine-learning-with-sklearn.html\r\n",
      "09-03-hyperparameters-and-model-validation.html\r\n",
      "09-04-feature-engineering.html\r\n",
      "09-05-naive-bayes.html\r\n",
      "09-06-linear-regression.html\r\n",
      "09-07-support-vector-machines.html\r\n",
      "09-08-random-forests.html\r\n",
      "09-10-future-employment.html\r\n",
      "09-11-neural-network-intro.html\r\n",
      "09-12-hand-written-digits.html\r\n",
      "09-13-cnn.html\r\n",
      "09-14-rnn.html\r\n",
      "10-text-minning-gov-report.html\r\n",
      "10-word2vec.html\r\n",
      "11-1-sentiment-analysis-with-dict.html\r\n",
      "11-2-emotion-dict.html\r\n",
      "11-3-NRC-Chinese-dict.html\r\n",
      "11-3-textblob.html\r\n",
      "11-4-sentiment-classifier.html\r\n",
      "12-topic-models-update.html\r\n",
      "12-topic-models-with-turicreate.html\r\n",
      "13-recsys-intro-surprise.html\r\n",
      "13-recsys-intro.html\r\n",
      "13-recsys-latent-factor-model.html\r\n",
      "14-millionsong.html\r\n",
      "14-movielens.html\r\n",
      "15-network-science-intro.html\r\n",
      "16-network-science-models.html\r\n",
      "17-networkx.html\r\n",
      "18-02-network-diffusion.html\r\n",
      "18-03-network-epidemics.html\r\n",
      "18-04-seir-hcd-model.html\r\n",
      "18-network-analysis-of-tianya-bbs.html\r\n",
      "19-facebook-ego-netwrok-visualization.html\r\n",
      "19-visualization-datapane.html\r\n",
      "19-visualization-datashader.html\r\n",
      "19-visualization-maps-using-folium.html\r\n",
      "19-visualization-with-pyecharts.html\r\n",
      "19-visualization-with-seaborn.html\r\n",
      "genindex.html\r\n",
      "index.html\r\n",
      "search.html\r\n"
     ]
    }
   ],
   "source": [
    "ls *.html"
   ]
  },
  {
   "cell_type": "code",
   "execution_count": null,
   "metadata": {
    "ExecuteTime": {
     "start_time": "2020-11-11T10:17:51.960Z"
    }
   },
   "outputs": [],
   "source": [
    "import pdfkit \n",
    "pdfkit.from_file('index.html', '../pdf/index.pdf')"
   ]
  },
  {
   "cell_type": "code",
   "execution_count": null,
   "metadata": {},
   "outputs": [],
   "source": []
  }
 ],
 "metadata": {
  "kernelspec": {
   "display_name": "Python 3",
   "language": "python",
   "name": "python3"
  },
  "language_info": {
   "codemirror_mode": {
    "name": "ipython",
    "version": 3
   },
   "file_extension": ".py",
   "mimetype": "text/x-python",
   "name": "python",
   "nbconvert_exporter": "python",
   "pygments_lexer": "ipython3",
   "version": "3.7.6"
  },
  "toc": {
   "base_numbering": 1,
   "nav_menu": {},
   "number_sections": false,
   "sideBar": true,
   "skip_h1_title": false,
   "title_cell": "Table of Contents",
   "title_sidebar": "Contents",
   "toc_cell": false,
   "toc_position": {},
   "toc_section_display": true,
   "toc_window_display": false
  }
 },
 "nbformat": 4,
 "nbformat_minor": 4
}
