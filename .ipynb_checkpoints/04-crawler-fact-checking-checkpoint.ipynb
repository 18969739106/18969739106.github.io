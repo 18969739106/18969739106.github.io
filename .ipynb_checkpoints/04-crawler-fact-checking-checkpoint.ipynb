{
 "cells": [
  {
   "cell_type": "markdown",
   "metadata": {
    "slideshow": {
     "slide_type": "slide"
    }
   },
   "source": [
    "# 抓取实时辟谣数据\n",
    "\n",
    "\n",
    "https://vp.fact.qq.com/home"
   ]
  },
  {
   "cell_type": "markdown",
   "metadata": {
    "ExecuteTime": {
     "end_time": "2020-03-03T14:37:17.153858Z",
     "start_time": "2020-03-03T14:37:17.150432Z"
    },
    "slideshow": {
     "slide_type": "subslide"
    }
   },
   "source": [
    "\n",
    "\n",
    "![image.png](./images/fact.png)\n",
    "\n",
    "https://vp.fact.qq.com/article?id=be3aea585b07c193778985e180cf164b\n",
    "\n"
   ]
  },
  {
   "cell_type": "markdown",
   "metadata": {
    "slideshow": {
     "slide_type": "subslide"
    }
   },
   "source": [
    "https://vp.fact.qq.com/loadmore?artnum=0&page=0\n",
    "\n",
    "![image.png](./images/fact2.png)\n"
   ]
  },
  {
   "cell_type": "markdown",
   "metadata": {
    "slideshow": {
     "slide_type": "subslide"
    }
   },
   "source": [
    "https://vp.fact.qq.com/loadmore?artnum=0&page=0\n",
    "\n",
    "![image.png](./images/fact3.png)"
   ]
  },
  {
   "cell_type": "code",
   "execution_count": 1,
   "metadata": {
    "ExecuteTime": {
     "end_time": "2020-06-06T02:42:14.485294Z",
     "start_time": "2020-06-06T02:42:13.484769Z"
    },
    "slideshow": {
     "slide_type": "slide"
    }
   },
   "outputs": [],
   "source": [
    "import requests\n",
    "from bs4 import BeautifulSoup\n",
    "\n",
    "path = 'https://vp.fact.qq.com/loadmore?artnum=0&page='\n",
    "url = path + '0'\n",
    "content = requests.get(url)\n",
    "d = content.json()"
   ]
  },
  {
   "cell_type": "code",
   "execution_count": 9,
   "metadata": {
    "ExecuteTime": {
     "end_time": "2020-06-06T02:43:20.315822Z",
     "start_time": "2020-06-06T02:43:20.296535Z"
    },
    "slideshow": {
     "slide_type": "subslide"
    }
   },
   "outputs": [
    {
     "data": {
      "text/plain": [
       "{'title': '疫情期间杭州给外籍人士发5000元疫情补助',\n",
       " 'author': '解放日报•上观新闻运营的辟谣新闻和辟谣服务网络平台',\n",
       " 'authordesc': '解放日报•上观新闻运营的辟谣新闻和辟谣服务网络平台',\n",
       " 'id': 'be3aea585b07c193778985e180cf164b',\n",
       " 'date': '2020-06-05',\n",
       " 'markstyle': 'fake',\n",
       " 'result': '假',\n",
       " 'explain': '谣言',\n",
       " 'abstract': '网传一越南女子在接受媒体采访时称，疫情期间杭州给外籍人士发5000元疫情补助，经记者查证该说法不实。该女子发微博解释这是个误会，是电视台配音员将500念错成了5000，而这500元是杭州企业员工租房补贴。杭州市委、市人民政府于2020年2月20日曾发布相关政策，对当地按规定缴纳社会保险费、2019年全年工资收入低于7.2万元、未承租公租房和未享受政府住房补贴且在外租住房屋的企业员工，政府给予每人500元租房补贴。',\n",
       " 'tag': ['新冠疫情', '杭州'],\n",
       " 'type': 1,\n",
       " 'videourl': '',\n",
       " 'cover': '//jiaozhen-70111.pictestsz.qpic.cn/qs4rraKq4GPvUCekBedwUX?imageView2/2/w/150/h/90',\n",
       " 'coverrect': '//jiaozhen-70111.pictestsz.qpic.cn/qs4rraKq4GPvUCekBedwUX',\n",
       " 'coversqual': '//jiaozhen-70111.pictestsz.qpic.cn/qs4rraKq4GPvUCekBedwUX?imageView2/2/w/300/h/300',\n",
       " 'section': '',\n",
       " 'iscolled': False,\n",
       " 'arttype': 'normal'}"
      ]
     },
     "execution_count": 9,
     "metadata": {},
     "output_type": "execute_result"
    }
   ],
   "source": [
    "d['content'][0]"
   ]
  },
  {
   "cell_type": "code",
   "execution_count": 11,
   "metadata": {
    "ExecuteTime": {
     "end_time": "2020-06-06T02:44:12.601170Z",
     "start_time": "2020-06-06T02:44:12.577693Z"
    },
    "slideshow": {
     "slide_type": "subslide"
    }
   },
   "outputs": [
    {
     "name": "stdout",
     "output_type": "stream",
     "text": [
      "0 1 2 3 4 5 6 7 8 9 10 11 12 13 14 15 16 17 18 19 20 21 22 23 24 25 26 27 28 29 30 31 32 33 34 35 36 37 38 39 40 41 42 43 44 45 46 47 48 49 50 51 52 53 54 55 56 57 58 59 60\n"
     ]
    }
   ],
   "source": [
    "print(*range(61))"
   ]
  },
  {
   "cell_type": "code",
   "execution_count": 13,
   "metadata": {
    "ExecuteTime": {
     "end_time": "2020-06-06T02:45:39.901183Z",
     "start_time": "2020-06-06T02:45:39.887302Z"
    },
    "slideshow": {
     "slide_type": "subslide"
    }
   },
   "outputs": [
    {
     "data": {
      "text/plain": [
       "0.5783708392532593"
      ]
     },
     "execution_count": 13,
     "metadata": {},
     "output_type": "execute_result"
    }
   ],
   "source": [
    "import random\n",
    "\n",
    "random.random()"
   ]
  },
  {
   "cell_type": "code",
   "execution_count": 14,
   "metadata": {
    "ExecuteTime": {
     "end_time": "2020-06-06T02:46:50.068358Z",
     "start_time": "2020-06-06T02:46:07.675404Z"
    },
    "slideshow": {
     "slide_type": "subslide"
    }
   },
   "outputs": [
    {
     "name": "stdout",
     "output_type": "stream",
     "text": [
      "0\n",
      "1\n",
      "2\n",
      "3\n",
      "4\n",
      "5\n",
      "6\n",
      "7\n",
      "8\n",
      "9\n",
      "10\n",
      "11\n",
      "12\n",
      "13\n",
      "14\n",
      "15\n",
      "16\n",
      "17\n",
      "18\n",
      "19\n",
      "20\n",
      "21\n",
      "22\n",
      "23\n",
      "24\n",
      "25\n",
      "26\n",
      "27\n",
      "28\n",
      "29\n",
      "30\n",
      "31\n",
      "32\n",
      "33\n",
      "34\n",
      "35\n",
      "36\n",
      "37\n",
      "38\n",
      "39\n",
      "40\n",
      "41\n",
      "42\n",
      "43\n",
      "44\n",
      "45\n",
      "46\n",
      "47\n",
      "48\n",
      "49\n",
      "50\n",
      "51\n",
      "52\n",
      "53\n",
      "54\n",
      "55\n",
      "56\n",
      "57\n",
      "58\n",
      "59\n",
      "60\n"
     ]
    }
   ],
   "source": [
    "from time import sleep\n",
    "import random\n",
    "\n",
    "jsons = []\n",
    "for i in range(61):\n",
    "    print(i)\n",
    "    sleep(random.random())\n",
    "    path = 'https://vp.fact.qq.com/loadmore?artnum=0&page='\n",
    "    url = path + str(i)\n",
    "    content = requests.get(url)\n",
    "    d = content.json()\n",
    "    for j in d['content']:\n",
    "        jsons.append(j)"
   ]
  },
  {
   "cell_type": "code",
   "execution_count": 15,
   "metadata": {
    "ExecuteTime": {
     "end_time": "2020-06-06T02:47:01.360190Z",
     "start_time": "2020-06-06T02:47:01.339752Z"
    },
    "slideshow": {
     "slide_type": "subslide"
    }
   },
   "outputs": [
    {
     "data": {
      "text/plain": [
       "609"
      ]
     },
     "execution_count": 15,
     "metadata": {},
     "output_type": "execute_result"
    }
   ],
   "source": [
    "len(jsons)"
   ]
  },
  {
   "cell_type": "code",
   "execution_count": 16,
   "metadata": {
    "ExecuteTime": {
     "end_time": "2020-06-06T02:47:32.824044Z",
     "start_time": "2020-06-06T02:47:31.504611Z"
    },
    "slideshow": {
     "slide_type": "subslide"
    }
   },
   "outputs": [
    {
     "data": {
      "text/html": [
       "<div>\n",
       "<style scoped>\n",
       "    .dataframe tbody tr th:only-of-type {\n",
       "        vertical-align: middle;\n",
       "    }\n",
       "\n",
       "    .dataframe tbody tr th {\n",
       "        vertical-align: top;\n",
       "    }\n",
       "\n",
       "    .dataframe thead th {\n",
       "        text-align: right;\n",
       "    }\n",
       "</style>\n",
       "<table border=\"1\" class=\"dataframe\">\n",
       "  <thead>\n",
       "    <tr style=\"text-align: right;\">\n",
       "      <th></th>\n",
       "      <th>title</th>\n",
       "      <th>author</th>\n",
       "      <th>authordesc</th>\n",
       "      <th>id</th>\n",
       "      <th>date</th>\n",
       "      <th>markstyle</th>\n",
       "      <th>result</th>\n",
       "      <th>explain</th>\n",
       "      <th>abstract</th>\n",
       "      <th>tag</th>\n",
       "      <th>type</th>\n",
       "      <th>videourl</th>\n",
       "      <th>cover</th>\n",
       "      <th>coverrect</th>\n",
       "      <th>coversqual</th>\n",
       "      <th>section</th>\n",
       "      <th>iscolled</th>\n",
       "      <th>arttype</th>\n",
       "    </tr>\n",
       "  </thead>\n",
       "  <tbody>\n",
       "    <tr>\n",
       "      <th>0</th>\n",
       "      <td>疫情期间杭州给外籍人士发5000元疫情补助</td>\n",
       "      <td>解放日报•上观新闻运营的辟谣新闻和辟谣服务网络平台</td>\n",
       "      <td>解放日报•上观新闻运营的辟谣新闻和辟谣服务网络平台</td>\n",
       "      <td>be3aea585b07c193778985e180cf164b</td>\n",
       "      <td>2020-06-05</td>\n",
       "      <td>fake</td>\n",
       "      <td>假</td>\n",
       "      <td>谣言</td>\n",
       "      <td>网传一越南女子在接受媒体采访时称，疫情期间杭州给外籍人士发5000元疫情补助，经记者查证该说...</td>\n",
       "      <td>[新冠疫情, 杭州]</td>\n",
       "      <td>1</td>\n",
       "      <td></td>\n",
       "      <td>//jiaozhen-70111.pictestsz.qpic.cn/qs4rraKq4GP...</td>\n",
       "      <td>//jiaozhen-70111.pictestsz.qpic.cn/qs4rraKq4GP...</td>\n",
       "      <td>//jiaozhen-70111.pictestsz.qpic.cn/qs4rraKq4GP...</td>\n",
       "      <td></td>\n",
       "      <td>False</td>\n",
       "      <td>normal</td>\n",
       "    </tr>\n",
       "    <tr>\n",
       "      <th>1</th>\n",
       "      <td>患普通感冒有助于抗新冠病毒</td>\n",
       "      <td>医学博士</td>\n",
       "      <td>医学博士</td>\n",
       "      <td>4ff0cdf7eb98873c62b4565bdbce3a22</td>\n",
       "      <td>2020-06-03</td>\n",
       "      <td>doubt</td>\n",
       "      <td>疑</td>\n",
       "      <td>尚无定论</td>\n",
       "      <td>最近发表于“CELL”杂志的一项研究显示，研究人员在从未接触过新冠病毒的人群体内检测到了抗新...</td>\n",
       "      <td>[新冠病毒, 感冒]</td>\n",
       "      <td>1</td>\n",
       "      <td></td>\n",
       "      <td>//jiaozhen-70111.pictestsz.qpic.cn/q7xbT2KVtHY...</td>\n",
       "      <td>//jiaozhen-70111.pictestsz.qpic.cn/q7xbT2KVtHY...</td>\n",
       "      <td>//jiaozhen-70111.pictestsz.qpic.cn/q7xbT2KVtHY...</td>\n",
       "      <td></td>\n",
       "      <td>False</td>\n",
       "      <td>normal</td>\n",
       "    </tr>\n",
       "    <tr>\n",
       "      <th>2</th>\n",
       "      <td>新冠抗体重大突破，100%抑制病毒，4天内清除</td>\n",
       "      <td>医学博士</td>\n",
       "      <td>医学博士</td>\n",
       "      <td>f46f04bf6af9bc19272fc6b4b796573a</td>\n",
       "      <td>2020-05-22</td>\n",
       "      <td>fake</td>\n",
       "      <td>假</td>\n",
       "      <td>谣言</td>\n",
       "      <td>这个结论目前只是基于实验室细胞实验得出的，要证明该抗体是否真的对人体有效，还有待进一步的动物...</td>\n",
       "      <td>[新冠病毒, 抗体]</td>\n",
       "      <td>1</td>\n",
       "      <td></td>\n",
       "      <td>//jiaozhen-70111.picnjc.qpic.cn/rtHMVkC4NGwa8j...</td>\n",
       "      <td>//jiaozhen-70111.picnjc.qpic.cn/rtHMVkC4NGwa8j...</td>\n",
       "      <td>//jiaozhen-70111.picnjc.qpic.cn/rtHMVkC4NGwa8j...</td>\n",
       "      <td></td>\n",
       "      <td>False</td>\n",
       "      <td>normal</td>\n",
       "    </tr>\n",
       "    <tr>\n",
       "      <th>3</th>\n",
       "      <td>荷兰以色列已开发出能使新冠病毒失效阻断感染的抗体</td>\n",
       "      <td>宾夕法尼亚大学医学院病理及实验医药系研究副教授</td>\n",
       "      <td>宾夕法尼亚大学医学院病理及实验医药系研究副教授</td>\n",
       "      <td>5ef622d7cb575f318234416513c50437</td>\n",
       "      <td>2020-05-15</td>\n",
       "      <td>fake</td>\n",
       "      <td>假</td>\n",
       "      <td>谣言</td>\n",
       "      <td>这篇报道极具误导性。荷兰以色列两国确实正在开发抗体，但目前只是进行了体外实验，还没有证据显示...</td>\n",
       "      <td>[新型冠状病毒, 抗体]</td>\n",
       "      <td>1</td>\n",
       "      <td></td>\n",
       "      <td>//jiaozhen-70111.picnjc.qpic.cn/xu7GyborFf2UCf...</td>\n",
       "      <td>//jiaozhen-70111.picnjc.qpic.cn/xu7GyborFf2UCf...</td>\n",
       "      <td>//jiaozhen-70111.picnjc.qpic.cn/xu7GyborFf2UCf...</td>\n",
       "      <td></td>\n",
       "      <td>False</td>\n",
       "      <td>normal</td>\n",
       "    </tr>\n",
       "    <tr>\n",
       "      <th>4</th>\n",
       "      <td>黑龙江省规定疫情期间乘电梯要背对背</td>\n",
       "      <td>黑龙江日报</td>\n",
       "      <td>黑龙江省第一政经大报</td>\n",
       "      <td>0cb1834d749e68e1f61edbb25a88b79b</td>\n",
       "      <td>2020-05-14</td>\n",
       "      <td>fake</td>\n",
       "      <td>假</td>\n",
       "      <td>谣言</td>\n",
       "      <td>网传的“乘客进入电梯后要背对背站立”系误读，黑龙江省电梯行业协会制定并发布的《新型冠状病毒疫...</td>\n",
       "      <td>[黑龙江, 电梯]</td>\n",
       "      <td>1</td>\n",
       "      <td></td>\n",
       "      <td>//jiaozhen-70111.picnjc.qpic.cn/mug3jVjJsoCmg3...</td>\n",
       "      <td>//jiaozhen-70111.picnjc.qpic.cn/mug3jVjJsoCmg3...</td>\n",
       "      <td>//jiaozhen-70111.picnjc.qpic.cn/mug3jVjJsoCmg3...</td>\n",
       "      <td></td>\n",
       "      <td>False</td>\n",
       "      <td>normal</td>\n",
       "    </tr>\n",
       "  </tbody>\n",
       "</table>\n",
       "</div>"
      ],
      "text/plain": [
       "                      title                     author  \\\n",
       "0     疫情期间杭州给外籍人士发5000元疫情补助  解放日报•上观新闻运营的辟谣新闻和辟谣服务网络平台   \n",
       "1             患普通感冒有助于抗新冠病毒                       医学博士   \n",
       "2   新冠抗体重大突破，100%抑制病毒，4天内清除                       医学博士   \n",
       "3  荷兰以色列已开发出能使新冠病毒失效阻断感染的抗体    宾夕法尼亚大学医学院病理及实验医药系研究副教授   \n",
       "4         黑龙江省规定疫情期间乘电梯要背对背                      黑龙江日报   \n",
       "\n",
       "                  authordesc                                id        date  \\\n",
       "0  解放日报•上观新闻运营的辟谣新闻和辟谣服务网络平台  be3aea585b07c193778985e180cf164b  2020-06-05   \n",
       "1                       医学博士  4ff0cdf7eb98873c62b4565bdbce3a22  2020-06-03   \n",
       "2                       医学博士  f46f04bf6af9bc19272fc6b4b796573a  2020-05-22   \n",
       "3    宾夕法尼亚大学医学院病理及实验医药系研究副教授  5ef622d7cb575f318234416513c50437  2020-05-15   \n",
       "4                 黑龙江省第一政经大报  0cb1834d749e68e1f61edbb25a88b79b  2020-05-14   \n",
       "\n",
       "  markstyle result explain                                           abstract  \\\n",
       "0      fake      假      谣言  网传一越南女子在接受媒体采访时称，疫情期间杭州给外籍人士发5000元疫情补助，经记者查证该说...   \n",
       "1     doubt      疑    尚无定论  最近发表于“CELL”杂志的一项研究显示，研究人员在从未接触过新冠病毒的人群体内检测到了抗新...   \n",
       "2      fake      假      谣言  这个结论目前只是基于实验室细胞实验得出的，要证明该抗体是否真的对人体有效，还有待进一步的动物...   \n",
       "3      fake      假      谣言  这篇报道极具误导性。荷兰以色列两国确实正在开发抗体，但目前只是进行了体外实验，还没有证据显示...   \n",
       "4      fake      假      谣言  网传的“乘客进入电梯后要背对背站立”系误读，黑龙江省电梯行业协会制定并发布的《新型冠状病毒疫...   \n",
       "\n",
       "            tag  type videourl  \\\n",
       "0    [新冠疫情, 杭州]     1            \n",
       "1    [新冠病毒, 感冒]     1            \n",
       "2    [新冠病毒, 抗体]     1            \n",
       "3  [新型冠状病毒, 抗体]     1            \n",
       "4     [黑龙江, 电梯]     1            \n",
       "\n",
       "                                               cover  \\\n",
       "0  //jiaozhen-70111.pictestsz.qpic.cn/qs4rraKq4GP...   \n",
       "1  //jiaozhen-70111.pictestsz.qpic.cn/q7xbT2KVtHY...   \n",
       "2  //jiaozhen-70111.picnjc.qpic.cn/rtHMVkC4NGwa8j...   \n",
       "3  //jiaozhen-70111.picnjc.qpic.cn/xu7GyborFf2UCf...   \n",
       "4  //jiaozhen-70111.picnjc.qpic.cn/mug3jVjJsoCmg3...   \n",
       "\n",
       "                                           coverrect  \\\n",
       "0  //jiaozhen-70111.pictestsz.qpic.cn/qs4rraKq4GP...   \n",
       "1  //jiaozhen-70111.pictestsz.qpic.cn/q7xbT2KVtHY...   \n",
       "2  //jiaozhen-70111.picnjc.qpic.cn/rtHMVkC4NGwa8j...   \n",
       "3  //jiaozhen-70111.picnjc.qpic.cn/xu7GyborFf2UCf...   \n",
       "4  //jiaozhen-70111.picnjc.qpic.cn/mug3jVjJsoCmg3...   \n",
       "\n",
       "                                          coversqual section  iscolled arttype  \n",
       "0  //jiaozhen-70111.pictestsz.qpic.cn/qs4rraKq4GP...             False  normal  \n",
       "1  //jiaozhen-70111.pictestsz.qpic.cn/q7xbT2KVtHY...             False  normal  \n",
       "2  //jiaozhen-70111.picnjc.qpic.cn/rtHMVkC4NGwa8j...             False  normal  \n",
       "3  //jiaozhen-70111.picnjc.qpic.cn/xu7GyborFf2UCf...             False  normal  \n",
       "4  //jiaozhen-70111.picnjc.qpic.cn/mug3jVjJsoCmg3...             False  normal  "
      ]
     },
     "execution_count": 16,
     "metadata": {},
     "output_type": "execute_result"
    }
   ],
   "source": [
    "import pandas as pd\n",
    "df = pd.DataFrame(jsons)\n",
    "df.head()"
   ]
  },
  {
   "cell_type": "code",
   "execution_count": 17,
   "metadata": {
    "ExecuteTime": {
     "end_time": "2020-06-06T02:48:35.021093Z",
     "start_time": "2020-06-06T02:48:34.121851Z"
    },
    "slideshow": {
     "slide_type": "subslide"
    }
   },
   "outputs": [],
   "source": [
    "df.to_excel('../data/vpqq2020-06-06.xlsx')"
   ]
  }
 ],
 "metadata": {
  "celltoolbar": "Slideshow",
  "kernelspec": {
   "display_name": "Python 3",
   "language": "python",
   "name": "python3"
  },
  "language_info": {
   "codemirror_mode": {
    "name": "ipython",
    "version": 3
   },
   "file_extension": ".py",
   "mimetype": "text/x-python",
   "name": "python",
   "nbconvert_exporter": "python",
   "pygments_lexer": "ipython3",
   "version": "3.7.6"
  },
  "latex_envs": {
   "LaTeX_envs_menu_present": true,
   "autoclose": false,
   "autocomplete": true,
   "bibliofile": "biblio.bib",
   "cite_by": "apalike",
   "current_citInitial": 1,
   "eqLabelWithNumbers": true,
   "eqNumInitial": 1,
   "hotkeys": {
    "equation": "Ctrl-E",
    "itemize": "Ctrl-I"
   },
   "labels_anchors": false,
   "latex_user_defs": false,
   "report_style_numbering": false,
   "user_envs_cfg": false
  },
  "toc": {
   "base_numbering": 1,
   "nav_menu": {},
   "number_sections": false,
   "sideBar": true,
   "skip_h1_title": false,
   "title_cell": "Table of Contents",
   "title_sidebar": "Contents",
   "toc_cell": false,
   "toc_position": {},
   "toc_section_display": true,
   "toc_window_display": false
  }
 },
 "nbformat": 4,
 "nbformat_minor": 2
}
