{
 "cells": [
  {
   "cell_type": "markdown",
   "metadata": {},
   "source": [
    "# Doc2Vec\n",
    "\n",
    "Le and Mikolov in 2014 introduced the Doc2Vec algorithm, which usually outperforms such simple-averaging of Word2Vec vectors.\n",
    "\n",
    "https://cs.stanford.edu/~quocle/paragraph_vector.pdf\n",
    "\n",
    "The basic idea is: act as if a document has another floating word-like vector, which contributes to all training predictions, and is updated like other word-vectors, but we will call it a doc-vector. Gensim’s Doc2Vec class implements this algorithm.\n",
    "\n",
    "\n",
    "https://radimrehurek.com/gensim/models/doc2vec.html\n"
   ]
  },
  {
   "cell_type": "code",
   "execution_count": 1,
   "metadata": {
    "ExecuteTime": {
     "end_time": "2021-07-04T07:31:51.371380Z",
     "start_time": "2021-07-04T07:31:50.589389Z"
    }
   },
   "outputs": [],
   "source": [
    "from gensim.test.utils import common_texts\n",
    "from gensim.models.doc2vec import Doc2Vec, TaggedDocument\n",
    "import numpy as np\n",
    "import matplotlib.pyplot as plt\n",
    "plt.style.use('ggplot')"
   ]
  },
  {
   "cell_type": "code",
   "execution_count": 30,
   "metadata": {
    "ExecuteTime": {
     "end_time": "2021-07-04T07:38:50.640018Z",
     "start_time": "2021-07-04T07:38:50.621987Z"
    }
   },
   "outputs": [],
   "source": [
    "documents = [TaggedDocument(doc, [i]) for i, doc in enumerate(common_texts)]\n",
    "model = Doc2Vec(documents, vector_size=10, window=3, min_count=1, workers=4)"
   ]
  },
  {
   "cell_type": "code",
   "execution_count": 31,
   "metadata": {
    "ExecuteTime": {
     "end_time": "2021-07-04T07:38:51.193311Z",
     "start_time": "2021-07-04T07:38:51.188919Z"
    }
   },
   "outputs": [
    {
     "data": {
      "text/plain": [
       "[['human', 'interface', 'computer'],\n",
       " ['survey', 'user', 'computer', 'system', 'response', 'time'],\n",
       " ['eps', 'user', 'interface', 'system'],\n",
       " ['system', 'human', 'system', 'eps'],\n",
       " ['user', 'response', 'time'],\n",
       " ['trees'],\n",
       " ['graph', 'trees'],\n",
       " ['graph', 'minors', 'trees'],\n",
       " ['graph', 'minors', 'survey']]"
      ]
     },
     "execution_count": 31,
     "metadata": {},
     "output_type": "execute_result"
    }
   ],
   "source": [
    "common_texts"
   ]
  },
  {
   "cell_type": "code",
   "execution_count": 32,
   "metadata": {
    "ExecuteTime": {
     "end_time": "2021-07-04T07:38:51.681663Z",
     "start_time": "2021-07-04T07:38:51.677318Z"
    }
   },
   "outputs": [],
   "source": [
    "# duplicated \"user\"\n",
    "duplicated_texts= [\n",
    "     ['human', 'interface', 'computer'],\n",
    "     ['survey', 'user', 'user','user', 'user','user', 'user','user', 'user','computer', 'system', 'response', 'time'],\n",
    "     ['eps', 'user', 'user','user', 'user','user', 'user','user', 'user','interface', 'system'],\n",
    "     ['system', 'human', 'system', 'eps'],\n",
    "     ['user', 'user','user', 'user','user', 'user','user', 'user','response', 'time'],\n",
    "     ['graph','trees'],\n",
    "     ['trees'],\n",
    "     ['graph', 'minors', 'trees'],\n",
    "     ['graph', 'minors', 'survey']]"
   ]
  },
  {
   "cell_type": "code",
   "execution_count": 41,
   "metadata": {
    "ExecuteTime": {
     "end_time": "2021-07-04T07:39:46.479316Z",
     "start_time": "2021-07-04T07:39:46.461498Z"
    }
   },
   "outputs": [],
   "source": [
    "documents2 = [TaggedDocument(doc, [i]) for i, doc in enumerate(duplicated_texts)]\n",
    "model2 = Doc2Vec(documents2, vector_size=10, window=2, min_count=1, workers=4)"
   ]
  },
  {
   "cell_type": "code",
   "execution_count": 42,
   "metadata": {
    "ExecuteTime": {
     "end_time": "2021-07-04T07:39:46.998336Z",
     "start_time": "2021-07-04T07:39:46.994352Z"
    }
   },
   "outputs": [
    {
     "data": {
      "text/plain": [
       "[TaggedDocument(words=['human', 'interface', 'computer'], tags=[0]),\n",
       " TaggedDocument(words=['survey', 'user', 'user', 'user', 'user', 'computer', 'system', 'response', 'time'], tags=[1]),\n",
       " TaggedDocument(words=['eps', 'user', 'user', 'user', 'user', 'interface', 'system'], tags=[2]),\n",
       " TaggedDocument(words=['system', 'human', 'system', 'eps'], tags=[3]),\n",
       " TaggedDocument(words=['user', 'user', 'user', 'user', 'response', 'time'], tags=[4]),\n",
       " TaggedDocument(words=['graph', 'trees'], tags=[5]),\n",
       " TaggedDocument(words=['trees'], tags=[6]),\n",
       " TaggedDocument(words=['graph', 'minors', 'trees'], tags=[7]),\n",
       " TaggedDocument(words=['graph', 'minors', 'survey'], tags=[8])]"
      ]
     },
     "execution_count": 42,
     "metadata": {},
     "output_type": "execute_result"
    }
   ],
   "source": [
    "documents2"
   ]
  },
  {
   "cell_type": "code",
   "execution_count": 61,
   "metadata": {
    "ExecuteTime": {
     "end_time": "2021-07-04T07:56:08.474943Z",
     "start_time": "2021-07-04T07:56:08.357203Z"
    }
   },
   "outputs": [
    {
     "data": {
      "image/png": "[encoded data removed]",
      "text/plain": [
       "<Figure size 432x288 with 1 Axes>"
      ]
     },
     "metadata": {},
     "output_type": "display_data"
    }
   ],
   "source": [
    "plt.plot(model.wv['user'], model2.wv['user'], 'r->', markersize = 20);"
   ]
  },
  {
   "cell_type": "code",
   "execution_count": 49,
   "metadata": {
    "ExecuteTime": {
     "end_time": "2021-07-04T07:42:52.487831Z",
     "start_time": "2021-07-04T07:42:52.483493Z"
    }
   },
   "outputs": [
    {
     "data": {
      "text/plain": [
       "(array([ 0.01325482, -0.04183851,  0.03241574,  0.03334502,  0.04889943,\n",
       "        -0.01245254, -0.03380762,  0.00218296,  0.04741215,  0.04564406],\n",
       "       dtype=float32),\n",
       " array([ 0.01325895, -0.04183811,  0.0324073 ,  0.03333776,  0.04889992,\n",
       "        -0.01244713, -0.03380696,  0.00218958,  0.04740244,  0.04564832],\n",
       "       dtype=float32))"
      ]
     },
     "execution_count": 49,
     "metadata": {},
     "output_type": "execute_result"
    }
   ],
   "source": [
    "model.wv['user'], model2.wv['user']"
   ]
  },
  {
   "cell_type": "code",
   "execution_count": 50,
   "metadata": {
    "ExecuteTime": {
     "end_time": "2021-07-04T07:43:03.081730Z",
     "start_time": "2021-07-04T07:43:03.075905Z"
    }
   },
   "outputs": [],
   "source": [
    "# 将词向量投影到二维空间\n",
    "rawWordVec = []\n",
    "word2ind = {}\n",
    "ind2word= {}\n",
    "for i, w in enumerate(model.wv.vocab):\n",
    "    rawWordVec.append(model[w])\n",
    "    word2ind[w] = i\n",
    "    ind2word[i] = w\n",
    "    \n",
    "rawWordVec = np.array(rawWordVec)\n",
    "\n",
    "rawWordVec2 = []\n",
    "word2ind2 = {}\n",
    "ind2word2= {}\n",
    "for i, w in enumerate(model2.wv.vocab):\n",
    "    rawWordVec2.append(model2[w])\n",
    "    word2ind2[w] = i\n",
    "    ind2word2[i] = w\n",
    "    \n",
    "rawWordVec2 = np.array(rawWordVec2)"
   ]
  },
  {
   "cell_type": "code",
   "execution_count": 60,
   "metadata": {
    "ExecuteTime": {
     "end_time": "2021-07-04T07:55:28.007098Z",
     "start_time": "2021-07-04T07:55:27.884739Z"
    }
   },
   "outputs": [
    {
     "data": {
      "image/png": "[encoded data removed]",
      "text/plain": [
       "<Figure size 432x288 with 1 Axes>"
      ]
     },
     "metadata": {},
     "output_type": "display_data"
    }
   ],
   "source": [
    "plt.plot(rawWordVec[0], rawWordVec2[0], 'r->', markersize = 20);"
   ]
  },
  {
   "cell_type": "code",
   "execution_count": 11,
   "metadata": {
    "ExecuteTime": {
     "end_time": "2021-07-04T07:31:52.232213Z",
     "start_time": "2021-07-04T07:31:51.916754Z"
    }
   },
   "outputs": [
    {
     "ename": "ValueError",
     "evalue": "too many values to unpack (expected 2)",
     "output_type": "error",
     "traceback": [
      "\u001b[0;31m---------------------------------------------------------------------------\u001b[0m",
      "\u001b[0;31mValueError\u001b[0m                                Traceback (most recent call last)",
      "\u001b[0;32m<ipython-input-11-044b28ee5395>\u001b[0m in \u001b[0;36m<module>\u001b[0;34m\u001b[0m\n\u001b[1;32m      5\u001b[0m \u001b[0;34m\u001b[0m\u001b[0m\n\u001b[1;32m      6\u001b[0m \u001b[0;32mfor\u001b[0m \u001b[0mi\u001b[0m \u001b[0;32min\u001b[0m \u001b[0;34m[\u001b[0m\u001b[0;34m'survey'\u001b[0m\u001b[0;34m,\u001b[0m \u001b[0;34m'computer'\u001b[0m\u001b[0;34m,\u001b[0m \u001b[0;34m'eps'\u001b[0m\u001b[0;34m,\u001b[0m \u001b[0;34m'interface'\u001b[0m\u001b[0;34m,\u001b[0m \u001b[0;34m'response'\u001b[0m\u001b[0;34m]\u001b[0m\u001b[0;34m:\u001b[0m\u001b[0;34m\u001b[0m\u001b[0;34m\u001b[0m\u001b[0m\n\u001b[0;32m----> 7\u001b[0;31m     \u001b[0mx1\u001b[0m\u001b[0;34m,\u001b[0m \u001b[0my1\u001b[0m \u001b[0;34m=\u001b[0m \u001b[0mrawWordVec\u001b[0m\u001b[0;34m[\u001b[0m\u001b[0mword2ind\u001b[0m\u001b[0;34m[\u001b[0m\u001b[0;34m'user'\u001b[0m\u001b[0;34m]\u001b[0m\u001b[0;34m]\u001b[0m\u001b[0;34m\u001b[0m\u001b[0;34m\u001b[0m\u001b[0m\n\u001b[0m\u001b[1;32m      8\u001b[0m     \u001b[0mx2\u001b[0m\u001b[0;34m,\u001b[0m \u001b[0my2\u001b[0m \u001b[0;34m=\u001b[0m \u001b[0mrawWordVec\u001b[0m\u001b[0;34m[\u001b[0m\u001b[0mword2ind\u001b[0m\u001b[0;34m[\u001b[0m\u001b[0mi\u001b[0m\u001b[0;34m]\u001b[0m\u001b[0;34m]\u001b[0m\u001b[0;34m\u001b[0m\u001b[0;34m\u001b[0m\u001b[0m\n\u001b[1;32m      9\u001b[0m     \u001b[0max\u001b[0m\u001b[0;34m.\u001b[0m\u001b[0mplot\u001b[0m\u001b[0;34m(\u001b[0m\u001b[0;34m[\u001b[0m\u001b[0mx1\u001b[0m\u001b[0;34m,\u001b[0m \u001b[0mx2\u001b[0m\u001b[0;34m]\u001b[0m\u001b[0;34m,\u001b[0m \u001b[0;34m[\u001b[0m\u001b[0my1\u001b[0m\u001b[0;34m,\u001b[0m \u001b[0my2\u001b[0m\u001b[0;34m]\u001b[0m\u001b[0;34m,\u001b[0m \u001b[0;34m'r--'\u001b[0m\u001b[0;34m)\u001b[0m\u001b[0;34m\u001b[0m\u001b[0;34m\u001b[0m\u001b[0m\n",
      "\u001b[0;31mValueError\u001b[0m: too many values to unpack (expected 2)"
     ]
    },
    {
     "data": {
      "image/png": "[encoded data removed]",
      "text/plain": [
       "<Figure size 432x432 with 1 Axes>"
      ]
     },
     "metadata": {},
     "output_type": "display_data"
    }
   ],
   "source": [
    "fig = plt.figure(figsize = (6, 6))\n",
    "ax = fig.gca()\n",
    "ax.set_facecolor('white')\n",
    "ax.plot(rawWordVec[:, 0], rawWordVec[:, 1], 's', markersize = 5, alpha = 0.5, color = 'red')\n",
    "\n",
    "for i in ['survey', 'computer', 'eps', 'interface', 'response']:\n",
    "    x1, y1 = rawWordVec[word2ind['user']]\n",
    "    x2, y2 = rawWordVec[word2ind[i]]\n",
    "    ax.plot([x1, x2], [y1, y2], 'r--')\n",
    "\n",
    "# 设置中文字体，否则无法在图形上显示中文\n",
    "#zhfont1 = matplotlib.font_manager.FontProperties(fname='/Library/Fonts/华文仿宋.ttf', size=26)\n",
    "for k in ind2word:\n",
    "    x,y = rawWordVec[k]\n",
    "    if ind2word[k] in ['survey', 'computer', 'eps', 'interface', 'response', 'user']:\n",
    "        plt.text(x, y, ind2word[k], alpha = 1, color = 'purple', fontsize = 16, rotation=0)\n",
    "    else:\n",
    "        plt.text(x, y, ind2word[k], alpha = 1, color = 'black', fontsize = 16, rotation=0)\n",
    "\n",
    "plt.axis('off');"
   ]
  },
  {
   "cell_type": "code",
   "execution_count": null,
   "metadata": {
    "ExecuteTime": {
     "end_time": "2021-07-04T07:31:52.233796Z",
     "start_time": "2021-07-04T07:31:50.608Z"
    }
   },
   "outputs": [],
   "source": [
    "fig = plt.figure(figsize = (6, 6))\n",
    "ax = fig.gca()\n",
    "ax.set_facecolor('white')\n",
    "ax.plot(rawWordVec2[:, 0], rawWordVec2[:, 1], 's', markersize = 5, alpha = 0.5, color = 'red')\n",
    "\n",
    "for i in ['survey', 'computer', 'eps', 'interface', 'response']:\n",
    "    x1, y1 = rawWordVec2[word2ind['user']]\n",
    "    x2, y2 = rawWordVec2[word2ind[i]]\n",
    "    ax.plot([x1, x2], [y1, y2], 'r--')\n",
    "\n",
    "# 设置中文字体，否则无法在图形上显示中文\n",
    "#zhfont1 = matplotlib.font_manager.FontProperties(fname='/Library/Fonts/华文仿宋.ttf', size=26)\n",
    "for k in ind2word2:\n",
    "    x,y = rawWordVec2[k]\n",
    "    if ind2word2[k] in ['survey', 'computer', 'eps', 'interface', 'response', 'user']:\n",
    "        plt.text(x, y, ind2word2[k], alpha = 1, color = 'purple', fontsize = 16, rotation=0)\n",
    "    else:\n",
    "        plt.text(x, y, ind2word2[k], alpha = 1, color = 'black', fontsize = 16, rotation=0)\n",
    "\n",
    "plt.axis('off');"
   ]
  },
  {
   "cell_type": "code",
   "execution_count": null,
   "metadata": {
    "ExecuteTime": {
     "end_time": "2021-07-04T07:31:52.234983Z",
     "start_time": "2021-07-04T07:31:50.610Z"
    }
   },
   "outputs": [],
   "source": [
    "tsne = TSNE(n_components=2, n_iter=10000000)\n",
    "X_tsne = tsne.fit_transform(rawWordVec)\n",
    "\n",
    "tsne2 = TSNE(n_components=2, n_iter=10000000)\n",
    "X_tsne2 = tsne2.fit_transform(rawWordVec2)"
   ]
  },
  {
   "cell_type": "code",
   "execution_count": null,
   "metadata": {
    "ExecuteTime": {
     "end_time": "2021-07-04T07:31:52.235969Z",
     "start_time": "2021-07-04T07:31:50.612Z"
    }
   },
   "outputs": [],
   "source": [
    "fig = plt.figure(figsize = (6, 6))\n",
    "ax = fig.gca()\n",
    "ax.set_facecolor('white')\n",
    "ax.plot(X_tsne[:, 0], X_tsne[:, 1], 's', markersize = 5, alpha = 0.5, color = 'red')\n",
    "\n",
    "for i in ['survey', 'computer', 'eps', 'interface', 'response']:\n",
    "    x1, y1 = X_tsne[word2ind['user']]\n",
    "    x2, y2 = X_tsne[word2ind[i]]\n",
    "    ax.plot([x1, x2], [y1, y2], 'r--')\n",
    "\n",
    "# 设置中文字体，否则无法在图形上显示中文\n",
    "#zhfont1 = matplotlib.font_manager.FontProperties(fname='/Library/Fonts/华文仿宋.ttf', size=26)\n",
    "for k in ind2word:\n",
    "    x,y = X_tsne[k]\n",
    "    if ind2word[k] in ['survey', 'computer', 'eps', 'interface', 'response', 'user']:\n",
    "        plt.text(x, y, ind2word[k], alpha = 1, color = 'purple', fontsize = 16, rotation=0)\n",
    "    else:\n",
    "        plt.text(x, y, ind2word[k], alpha = 1, color = 'black', fontsize = 16, rotation=0)\n",
    "\n",
    "plt.axis('off');"
   ]
  },
  {
   "cell_type": "code",
   "execution_count": null,
   "metadata": {
    "ExecuteTime": {
     "end_time": "2021-07-04T07:31:52.237233Z",
     "start_time": "2021-07-04T07:31:50.614Z"
    },
    "code_folding": []
   },
   "outputs": [],
   "source": [
    "# 2\n",
    "fig = plt.figure(figsize = (6, 6))\n",
    "ax = fig.gca()\n",
    "ax.set_facecolor('white')\n",
    "ax.plot(X_tsne2[:, 0], X_tsne2[:, 1], 's', markersize = 5, alpha = 0.5, color = 'red')\n",
    "\n",
    "for i in ['survey', 'computer', 'eps', 'interface', 'response']:\n",
    "    x1, y1 = X_tsne2[word2ind2['user']]\n",
    "    x2, y2 = X_tsne2[word2ind2[i]]\n",
    "    ax.plot([x1, x2], [y1, y2], 'r--')\n",
    "\n",
    "# 设置中文字体，否则无法在图形上显示中文\n",
    "#zhfont1 = matplotlib.font_manager.FontProperties(fname='/Library/Fonts/华文仿宋.ttf', size=26)\n",
    "for k in ind2word2:\n",
    "    x,y = X_tsne2[k]\n",
    "    if ind2word2[k] in ['survey', 'computer', 'eps', 'interface', 'response', 'user']:\n",
    "        plt.text(x, y, ind2word2[k], alpha = 1, color = 'purple', fontsize = 16, rotation=0)\n",
    "    else:\n",
    "        plt.text(x, y, ind2word2[k], alpha = 1, color = 'black', fontsize = 16, rotation=0)\n",
    "\n",
    "plt.axis('off');\n"
   ]
  },
  {
   "cell_type": "markdown",
   "metadata": {},
   "source": [
    "![](img/word2vec/w2v.png)"
   ]
  },
  {
   "cell_type": "code",
   "execution_count": null,
   "metadata": {},
   "outputs": [],
   "source": []
  }
 ],
 "metadata": {
  "kernelspec": {
   "display_name": "Python 3",
   "language": "python",
   "name": "python3"
  },
  "language_info": {
   "codemirror_mode": {
    "name": "ipython",
    "version": 3
   },
   "file_extension": ".py",
   "mimetype": "text/x-python",
   "name": "python",
   "nbconvert_exporter": "python",
   "pygments_lexer": "ipython3",
   "version": "3.7.6"
  },
  "toc": {
   "base_numbering": 1,
   "nav_menu": {},
   "number_sections": false,
   "sideBar": true,
   "skip_h1_title": false,
   "title_cell": "Table of Contents",
   "title_sidebar": "Contents",
   "toc_cell": false,
   "toc_position": {},
   "toc_section_display": true,
   "toc_window_display": false
  }
 },
 "nbformat": 4,
 "nbformat_minor": 4
}
