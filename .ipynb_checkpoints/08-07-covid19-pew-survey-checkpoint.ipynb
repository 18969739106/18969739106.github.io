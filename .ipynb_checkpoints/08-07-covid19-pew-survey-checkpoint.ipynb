{
 "cells": [
  {
   "cell_type": "markdown",
   "metadata": {
    "slideshow": {
     "slide_type": "slide"
    }
   },
   "source": [
    "\n",
    "# Analysing the Pew Survey Data of COVID19\n",
    "\n",
    "\n",
    "\n",
    "![image.png](./images/author.png)"
   ]
  },
  {
   "cell_type": "markdown",
   "metadata": {
    "slideshow": {
     "slide_type": "subslide"
    }
   },
   "source": [
    "阅读 https://www.journalism.org/dataset/election-news-pathways-april-2020-survey/\n",
    "\n",
    "1. 下载Pathways-April-2020-ATP-W66-1.zip 数据，该数据来自pewresearch针对2020年总统选举所做的panel study中的一次，其中加入了关于covid19的部分问题。\n"
   ]
  },
  {
   "attachments": {},
   "cell_type": "markdown",
   "metadata": {
    "slideshow": {
     "slide_type": "subslide"
    }
   },
   "source": [
    "![image.png](./images/pew.png)"
   ]
  },
  {
   "attachments": {},
   "cell_type": "markdown",
   "metadata": {
    "slideshow": {
     "slide_type": "subslide"
    }
   },
   "source": [
    "![image.png](./images/pew2.png)\n",
    "\n",
    "https://www.journalism.org/2020/05/08/americans-views-of-the-news-media-during-the-covid-19-outbreak/"
   ]
  },
  {
   "attachments": {},
   "cell_type": "markdown",
   "metadata": {
    "slideshow": {
     "slide_type": "subslide"
    }
   },
   "source": [
    "![image.png](./images/pew3.png)"
   ]
  },
  {
   "cell_type": "code",
   "execution_count": 1,
   "metadata": {
    "ExecuteTime": {
     "end_time": "2020-05-19T01:20:21.669695Z",
     "start_time": "2020-05-19T01:20:18.122032Z"
    },
    "slideshow": {
     "slide_type": "subslide"
    }
   },
   "outputs": [],
   "source": [
    "# the statsmodels.api uses numpy array notation\n",
    "# statsmodels.formula.api use formula notation (similar to R's formula notation)\n",
    "import numpy as np\n",
    "import pandas as pd\n",
    "import matplotlib.pyplot as plt\n",
    "import seaborn as sns\n",
    "import statsmodels.api as sm\n",
    "import statsmodels.formula.api as smf"
   ]
  },
  {
   "cell_type": "code",
   "execution_count": 2,
   "metadata": {
    "ExecuteTime": {
     "end_time": "2020-05-19T01:20:52.007326Z",
     "start_time": "2020-05-19T01:20:51.998110Z"
    },
    "slideshow": {
     "slide_type": "subslide"
    }
   },
   "outputs": [
    {
     "name": "stdout",
     "output_type": "stream",
     "text": [
      "/Users/datalab/bigdata/Pathways April 2020 (ATP W66)\n"
     ]
    }
   ],
   "source": [
    "cd \"/Users/datalab/bigdata/Pathways April 2020 (ATP W66)/\""
   ]
  },
  {
   "cell_type": "code",
   "execution_count": 3,
   "metadata": {
    "ExecuteTime": {
     "end_time": "2020-05-19T01:21:04.185920Z",
     "start_time": "2020-05-19T01:21:04.025337Z"
    },
    "slideshow": {
     "slide_type": "fragment"
    }
   },
   "outputs": [
    {
     "name": "stdout",
     "output_type": "stream",
     "text": [
      "\u001b[31mPathways April 2020 (ATP W66) Methodology.pdf\u001b[m\u001b[m*\r\n",
      "\u001b[31mPathways April 2020 (ATP W66) Questionnaire.pdf\u001b[m\u001b[m*\r\n",
      "\u001b[31mPathways April 2020 (ATP W66) Readme.txt\u001b[m\u001b[m*\r\n",
      "\u001b[31mPathways April 2020 (ATP W66) Topline.pdf\u001b[m\u001b[m*\r\n",
      "\u001b[31mPathways April 2020 (ATP W66).sav\u001b[m\u001b[m*\r\n"
     ]
    }
   ],
   "source": [
    "ls"
   ]
  },
  {
   "cell_type": "markdown",
   "metadata": {
    "slideshow": {
     "slide_type": "subslide"
    }
   },
   "source": [
    "First of all, we install the pyreadstat module, which allows us to import SPSS files as DataFrames "
   ]
  },
  {
   "cell_type": "code",
   "execution_count": 10,
   "metadata": {
    "ExecuteTime": {
     "end_time": "2020-05-13T09:16:46.180692Z",
     "start_time": "2020-05-13T09:16:41.356418Z"
    },
    "slideshow": {
     "slide_type": "fragment"
    }
   },
   "outputs": [
    {
     "name": "stdout",
     "output_type": "stream",
     "text": [
      "Collecting pyreadstat\n",
      "  Downloading pyreadstat-0.3.3-cp37-cp37m-macosx_10_9_x86_64.whl (527 kB)\n",
      "\u001b[K     |████████████████████████████████| 527 kB 233 kB/s eta 0:00:01\n",
      "\u001b[?25hRequirement already satisfied: pandas>0.24.0 in /opt/anaconda3/lib/python3.7/site-packages (from pyreadstat) (1.0.1)\n",
      "Requirement already satisfied: numpy>=1.13.3 in /opt/anaconda3/lib/python3.7/site-packages (from pandas>0.24.0->pyreadstat) (1.18.1)\n",
      "Requirement already satisfied: pytz>=2017.2 in /opt/anaconda3/lib/python3.7/site-packages (from pandas>0.24.0->pyreadstat) (2019.3)\n",
      "Requirement already satisfied: python-dateutil>=2.6.1 in /opt/anaconda3/lib/python3.7/site-packages (from pandas>0.24.0->pyreadstat) (2.8.1)\n",
      "Requirement already satisfied: six>=1.5 in /opt/anaconda3/lib/python3.7/site-packages (from python-dateutil>=2.6.1->pandas>0.24.0->pyreadstat) (1.14.0)\n",
      "Installing collected packages: pyreadstat\n",
      "Successfully installed pyreadstat-0.3.3\n"
     ]
    }
   ],
   "source": [
    "!pip install pyreadstat"
   ]
  },
  {
   "cell_type": "code",
   "execution_count": 185,
   "metadata": {
    "ExecuteTime": {
     "end_time": "2020-05-13T16:18:58.442139Z",
     "start_time": "2020-05-13T16:18:58.439798Z"
    },
    "slideshow": {
     "slide_type": "subslide"
    }
   },
   "outputs": [],
   "source": [
    "# df = pd.read_spss('Pathways April 2020 (ATP W66).sav')\n",
    "# df.head()"
   ]
  },
  {
   "cell_type": "code",
   "execution_count": 5,
   "metadata": {
    "ExecuteTime": {
     "end_time": "2020-05-19T01:21:50.999216Z",
     "start_time": "2020-05-19T01:21:50.189314Z"
    },
    "scrolled": true,
    "slideshow": {
     "slide_type": "subslide"
    }
   },
   "outputs": [
    {
     "data": {
      "text/html": [
       "<div>\n",
       "<style scoped>\n",
       "    .dataframe tbody tr th:only-of-type {\n",
       "        vertical-align: middle;\n",
       "    }\n",
       "\n",
       "    .dataframe tbody tr th {\n",
       "        vertical-align: top;\n",
       "    }\n",
       "\n",
       "    .dataframe thead th {\n",
       "        text-align: right;\n",
       "    }\n",
       "</style>\n",
       "<table border=\"1\" class=\"dataframe\">\n",
       "  <thead>\n",
       "    <tr style=\"text-align: right;\">\n",
       "      <th></th>\n",
       "      <th>QKEY</th>\n",
       "      <th>Device_Type_W66</th>\n",
       "      <th>LANG_W66</th>\n",
       "      <th>FORM_W66</th>\n",
       "      <th>COMATTACH_W66</th>\n",
       "      <th>MH_TRACK_a_W66</th>\n",
       "      <th>MH_TRACK_b_W66</th>\n",
       "      <th>MH_TRACK_c_W66</th>\n",
       "      <th>MH_TRACK_d_W66</th>\n",
       "      <th>MH_TRACK_e_W66</th>\n",
       "      <th>...</th>\n",
       "      <th>F_PARTYSUM_FINAL</th>\n",
       "      <th>F_INCOME</th>\n",
       "      <th>F_INCOME_RECODE</th>\n",
       "      <th>F_REG</th>\n",
       "      <th>F_IDEO</th>\n",
       "      <th>F_ACSWEB</th>\n",
       "      <th>F_VOLSUM</th>\n",
       "      <th>F_HISP_ORIGIN</th>\n",
       "      <th>F_YEARSINUS</th>\n",
       "      <th>WEIGHT_W66</th>\n",
       "    </tr>\n",
       "  </thead>\n",
       "  <tbody>\n",
       "    <tr>\n",
       "      <th>0</th>\n",
       "      <td>100197.0</td>\n",
       "      <td>3.0</td>\n",
       "      <td>1.0</td>\n",
       "      <td>2.0</td>\n",
       "      <td>2.0</td>\n",
       "      <td>1.0</td>\n",
       "      <td>1.0</td>\n",
       "      <td>1.0</td>\n",
       "      <td>2.0</td>\n",
       "      <td>2.0</td>\n",
       "      <td>...</td>\n",
       "      <td>2.0</td>\n",
       "      <td>3.0</td>\n",
       "      <td>3.0</td>\n",
       "      <td>1.0</td>\n",
       "      <td>3.0</td>\n",
       "      <td>1.0</td>\n",
       "      <td>1.0</td>\n",
       "      <td>6.0</td>\n",
       "      <td>5.0</td>\n",
       "      <td>0.294864</td>\n",
       "    </tr>\n",
       "    <tr>\n",
       "      <th>1</th>\n",
       "      <td>100260.0</td>\n",
       "      <td>3.0</td>\n",
       "      <td>1.0</td>\n",
       "      <td>1.0</td>\n",
       "      <td>2.0</td>\n",
       "      <td>1.0</td>\n",
       "      <td>1.0</td>\n",
       "      <td>1.0</td>\n",
       "      <td>3.0</td>\n",
       "      <td>1.0</td>\n",
       "      <td>...</td>\n",
       "      <td>1.0</td>\n",
       "      <td>6.0</td>\n",
       "      <td>2.0</td>\n",
       "      <td>1.0</td>\n",
       "      <td>1.0</td>\n",
       "      <td>1.0</td>\n",
       "      <td>2.0</td>\n",
       "      <td>6.0</td>\n",
       "      <td>5.0</td>\n",
       "      <td>0.689713</td>\n",
       "    </tr>\n",
       "    <tr>\n",
       "      <th>2</th>\n",
       "      <td>100314.0</td>\n",
       "      <td>2.0</td>\n",
       "      <td>1.0</td>\n",
       "      <td>2.0</td>\n",
       "      <td>3.0</td>\n",
       "      <td>1.0</td>\n",
       "      <td>2.0</td>\n",
       "      <td>2.0</td>\n",
       "      <td>3.0</td>\n",
       "      <td>1.0</td>\n",
       "      <td>...</td>\n",
       "      <td>1.0</td>\n",
       "      <td>4.0</td>\n",
       "      <td>2.0</td>\n",
       "      <td>1.0</td>\n",
       "      <td>3.0</td>\n",
       "      <td>1.0</td>\n",
       "      <td>1.0</td>\n",
       "      <td>6.0</td>\n",
       "      <td>5.0</td>\n",
       "      <td>0.442058</td>\n",
       "    </tr>\n",
       "    <tr>\n",
       "      <th>3</th>\n",
       "      <td>100363.0</td>\n",
       "      <td>2.0</td>\n",
       "      <td>1.0</td>\n",
       "      <td>2.0</td>\n",
       "      <td>2.0</td>\n",
       "      <td>1.0</td>\n",
       "      <td>2.0</td>\n",
       "      <td>3.0</td>\n",
       "      <td>2.0</td>\n",
       "      <td>1.0</td>\n",
       "      <td>...</td>\n",
       "      <td>2.0</td>\n",
       "      <td>9.0</td>\n",
       "      <td>1.0</td>\n",
       "      <td>1.0</td>\n",
       "      <td>3.0</td>\n",
       "      <td>1.0</td>\n",
       "      <td>1.0</td>\n",
       "      <td>6.0</td>\n",
       "      <td>5.0</td>\n",
       "      <td>0.423189</td>\n",
       "    </tr>\n",
       "    <tr>\n",
       "      <th>4</th>\n",
       "      <td>100446.0</td>\n",
       "      <td>1.0</td>\n",
       "      <td>1.0</td>\n",
       "      <td>1.0</td>\n",
       "      <td>2.0</td>\n",
       "      <td>2.0</td>\n",
       "      <td>3.0</td>\n",
       "      <td>2.0</td>\n",
       "      <td>2.0</td>\n",
       "      <td>1.0</td>\n",
       "      <td>...</td>\n",
       "      <td>2.0</td>\n",
       "      <td>8.0</td>\n",
       "      <td>1.0</td>\n",
       "      <td>1.0</td>\n",
       "      <td>4.0</td>\n",
       "      <td>1.0</td>\n",
       "      <td>1.0</td>\n",
       "      <td>6.0</td>\n",
       "      <td>5.0</td>\n",
       "      <td>0.368074</td>\n",
       "    </tr>\n",
       "  </tbody>\n",
       "</table>\n",
       "<p>5 rows × 119 columns</p>\n",
       "</div>"
      ],
      "text/plain": [
       "       QKEY  Device_Type_W66  LANG_W66  FORM_W66  COMATTACH_W66  \\\n",
       "0  100197.0              3.0       1.0       2.0            2.0   \n",
       "1  100260.0              3.0       1.0       1.0            2.0   \n",
       "2  100314.0              2.0       1.0       2.0            3.0   \n",
       "3  100363.0              2.0       1.0       2.0            2.0   \n",
       "4  100446.0              1.0       1.0       1.0            2.0   \n",
       "\n",
       "   MH_TRACK_a_W66  MH_TRACK_b_W66  MH_TRACK_c_W66  MH_TRACK_d_W66  \\\n",
       "0             1.0             1.0             1.0             2.0   \n",
       "1             1.0             1.0             1.0             3.0   \n",
       "2             1.0             2.0             2.0             3.0   \n",
       "3             1.0             2.0             3.0             2.0   \n",
       "4             2.0             3.0             2.0             2.0   \n",
       "\n",
       "   MH_TRACK_e_W66  ...  F_PARTYSUM_FINAL  F_INCOME  F_INCOME_RECODE  F_REG  \\\n",
       "0             2.0  ...               2.0       3.0              3.0    1.0   \n",
       "1             1.0  ...               1.0       6.0              2.0    1.0   \n",
       "2             1.0  ...               1.0       4.0              2.0    1.0   \n",
       "3             1.0  ...               2.0       9.0              1.0    1.0   \n",
       "4             1.0  ...               2.0       8.0              1.0    1.0   \n",
       "\n",
       "   F_IDEO  F_ACSWEB  F_VOLSUM  F_HISP_ORIGIN  F_YEARSINUS  WEIGHT_W66  \n",
       "0     3.0       1.0       1.0            6.0          5.0    0.294864  \n",
       "1     1.0       1.0       2.0            6.0          5.0    0.689713  \n",
       "2     3.0       1.0       1.0            6.0          5.0    0.442058  \n",
       "3     3.0       1.0       1.0            6.0          5.0    0.423189  \n",
       "4     4.0       1.0       1.0            6.0          5.0    0.368074  \n",
       "\n",
       "[5 rows x 119 columns]"
      ]
     },
     "execution_count": 5,
     "metadata": {},
     "output_type": "execute_result"
    }
   ],
   "source": [
    "import pyreadstat\n",
    "df, meta = pyreadstat.read_sav('Pathways April 2020 (ATP W66).sav')\n",
    "df.head(5)\n"
   ]
  },
  {
   "cell_type": "code",
   "execution_count": 26,
   "metadata": {
    "ExecuteTime": {
     "end_time": "2020-05-13T10:02:01.522119Z",
     "start_time": "2020-05-13T10:02:01.518653Z"
    },
    "slideshow": {
     "slide_type": "subslide"
    }
   },
   "outputs": [
    {
     "data": {
      "text/plain": [
       "dict_keys(['QKEY', 'Device_Type_W66', 'LANG_W66', 'FORM_W66', 'COMATTACH_W66', 'MH_TRACK_a_W66', 'MH_TRACK_b_W66', 'MH_TRACK_c_W66', 'MH_TRACK_d_W66', 'MH_TRACK_e_W66', 'COVIDFOL_W66', 'COVIDCOVER1_W66', 'COVIDTONE_a_W66', 'COVIDTONE_b_W66', 'COVIDTONE_c_W66', 'COVIDTONE_d_W66', 'COVIDNEWSPLAT_a_W66', 'COVIDNEWSPLAT_b_W66', 'COVIDNEWSPLAT_c_W66', 'COVIDNEWSPLAT_d_W66', 'COVIDNEWSPLAT_e_W66', 'COVIDNEWSPLAT_f_W66', 'COVIDNEWSPLAT_g_W66', 'COVIDNEWSPLAT_h_W66', 'COVIDNEWSPLAT_i_W66', 'COVIDNEWSPLAT_j_W66', 'COVIDNEWSRELY_W66', 'COVIDDEAL_W66', 'COVIDNATLOC_W66', 'COVIDNEWSSWITCH_W66', 'COVIDDISC_W66', 'COVIDSM_W66', 'COVIDSMSHARE_W66', 'COVIDINFO_W66', 'COVIDREPORT_W66', 'COVIDNEWSFINAN_W66', 'COVIDNEWSPAIR_a_W66', 'COVIDNEWSPAIR_b_W66', 'COVIDNEWSPAIR_c_W66', 'COVIDNEWSPAIR_d_W66', 'COVIDNEWSPAIR_e_W66', 'COVIDINFODIFF_W66', 'COVIDWORN_W66', 'COVIDNEWSFEEL_W66', 'COVIDTOPICA_a_W66', 'COVIDTOPICA_b_W66', 'COVIDTOPICA_c_W66', 'COVIDTOPICA_d_W66', 'COVIDTOPICA_e_W66', 'COVIDTOPICA_f_W66', 'COVIDTOPICB_a_W66', 'COVIDTOPICB_b_W66', 'COVIDTOPICB_c_W66', 'COVIDTOPICB_d_W66', 'COVIDTOPICB_e_W66', 'COVIDTOPICB_f_W66', 'COVIDTOPICB_g_W66', 'COVIDINFOCHECK_W66', 'MH_TRACK_CV_W66', 'COVIDCUREWORK_W66', 'COVIDCUREHEARD_a_W66', 'COVIDCUREHEARD_b_W66', 'COVIDCUREHEARD_c_W66', 'COVIDCUREHEARD_d_W66', 'COVIDCUREHEARD_e_W66', 'COVIDCUREHEARD_f_W66', 'COVIDBILL_a_W66', 'COVIDBILL_b_W66', 'COVIDBILL_c_W66', 'COVIDBILL_d_W66', 'COVIDBILL_e_W66', 'COVIDBILLSIZE_W66', 'COVIDPOLCOOP_W66', 'COVIDMISINFO_W66', 'COVIDCONFUSE_W66', 'COVIDINFOWRONG_W66', 'COVIDAVOID_W66', 'CAMPNII_W66', 'CAMP20INT_W66', 'PELECT20_STATUS_W66', 'COVIDCONG1_W66', 'COVIDCONG2_W66', 'COVIDSPIR_W66', 'GROUP_TRUST_a_W57', 'NEWS_MOST_W57', 'TALKPOL_W57', 'FOLELECT_W57', 'CR_PARTYNEWSUSE_W57', 'CR_NEWS_INFLU_W57', 'CR_DIG_SAV_W57', 'CR_MAINSOPOL_GROUPS_W57', 'CR_KNOWLEDGE_INDEX_W57', 'F_METRO', 'F_CREGION', 'F_AGECAT', 'F_SEX', 'F_EDUCCAT', 'F_EDUCCAT2', 'F_HISP', 'F_RACECMB', 'F_RACETHN', 'F_CITIZEN', 'F_NATIVITY2', 'F_MARITAL', 'F_RELIG', 'F_BORN', 'F_ATTEND', 'F_PARTY_FINAL', 'F_PARTYLN_FINAL', 'F_PARTYSUM_FINAL', 'F_INCOME', 'F_INCOME_RECODE', 'F_REG', 'F_IDEO', 'F_ACSWEB', 'F_VOLSUM', 'F_HISP_ORIGIN', 'F_YEARSINUS', 'WEIGHT_W66'])"
      ]
     },
     "execution_count": 26,
     "metadata": {},
     "output_type": "execute_result"
    }
   ],
   "source": [
    "meta_dict = dict(zip(meta.column_names, meta.column_labels))\n",
    "meta_dict.keys()"
   ]
  },
  {
   "cell_type": "code",
   "execution_count": 61,
   "metadata": {
    "ExecuteTime": {
     "end_time": "2020-05-13T10:23:25.090719Z",
     "start_time": "2020-05-13T10:23:25.086920Z"
    },
    "slideshow": {
     "slide_type": "subslide"
    }
   },
   "outputs": [
    {
     "data": {
      "text/plain": [
       "('Family income',\n",
       " 'COVIDCOVER1_W66. How well do you think the news media have covered the coronavirus outbreak?',\n",
       " 'COVIDFOL_W66. How closely have you been following news about the outbreak of the coronavirus strain known as COVID-19?')"
      ]
     },
     "execution_count": 61,
     "metadata": {},
     "output_type": "execute_result"
    }
   ],
   "source": [
    "meta_dict['F_INCOME'], meta_dict['COVIDCOVER1_W66'], meta_dict['COVIDFOL_W66']"
   ]
  },
  {
   "cell_type": "code",
   "execution_count": 162,
   "metadata": {
    "ExecuteTime": {
     "end_time": "2020-05-13T15:42:20.841147Z",
     "start_time": "2020-05-13T15:42:20.740402Z"
    },
    "slideshow": {
     "slide_type": "subslide"
    }
   },
   "outputs": [
    {
     "name": "stdout",
     "output_type": "stream",
     "text": [
      "QKEY Unique ID\n",
      "Device_Type_W66 The device used in the latest access of the survey link\n",
      "LANG_W66 Preferred language\n",
      "FORM_W66 Form number\n",
      "COMATTACH_W66 COMATTACH_W66. In general, how attached do you feel to your local community?\n",
      "MH_TRACK_a_W66 MH_TRACK_a_W66. In the past 7 days, how often have you…      Felt nervous, anxious, or on edge?\n",
      "MH_TRACK_b_W66 MH_TRACK_b_W66. In the past 7 days, how often have you…      Felt depressed?\n",
      "MH_TRACK_c_W66 MH_TRACK_c_W66. In the past 7 days, how often have you…      Felt lonely?\n",
      "MH_TRACK_d_W66 MH_TRACK_d_W66. In the past 7 days, how often have you…      Felt hopeful about the future?\n",
      "MH_TRACK_e_W66 MH_TRACK_e_W66. In the past 7 days, how often have you…      Had trouble sleeping?\n",
      "COVIDFOL_W66 COVIDFOL_W66. How closely have you been following news about the outbreak of the coronavirus strain known as COVID-19?\n",
      "COVIDCOVER1_W66 COVIDCOVER1_W66. How well do you think the news media have covered the coronavirus outbreak?\n",
      "COVIDTONE_a_W66 COVIDTONE_a_W66. Thinking about the coronavirus outbreak, how in general do you think each of the following has responded?       The news media\n",
      "COVIDTONE_b_W66 COVIDTONE_b_W66. Thinking about the coronavirus outbreak, how in general do you think each of the following has responded?        Donald Trump\n",
      "COVIDTONE_c_W66 COVIDTONE_c_W66. Thinking about the coronavirus outbreak, how in general do you think each of the following has responded?        Democratic leaders in Congress\n",
      "COVIDTONE_d_W66 COVIDTONE_d_W66. Thinking about the coronavirus outbreak, how in general do you think each of the following has responded? Public health officials such as those at the CDC (Centers for Disease Control and Prevention)\n",
      "COVIDNEWSPLAT_a_W66 COVIDNEWSPLAT_a_W66. Please indicate whether each of the following is a source of news for you about the coronavirus outbreak.          International news outlets\n",
      "COVIDNEWSPLAT_b_W66 COVIDNEWSPLAT_b_W66. Please indicate whether each of the following is a source of news for you about the coronavirus outbreak.           National news outlets\n",
      "COVIDNEWSPLAT_c_W66 COVIDNEWSPLAT_c_W66. Please indicate whether each of the following is a source of news for you about the coronavirus outbreak.            Local news outlets\n",
      "COVIDNEWSPLAT_d_W66 COVIDNEWSPLAT_d_W66. Please indicate whether each of the following is a source of news for you about the coronavirus outbreak.           Donald Trump and his coronavirus task force\n",
      "COVIDNEWSPLAT_e_W66 COVIDNEWSPLAT_e_W66. Please indicate whether each of the following is a source of news for you about the coronavirus outbreak.           Joe Biden and his campaign\n",
      "COVIDNEWSPLAT_f_W66 COVIDNEWSPLAT_f_W66. Please indicate whether each of the following is a source of news for you about the coronavirus outbreak.            State and local elected officials and their offices\n",
      "COVIDNEWSPLAT_g_W66 COVIDNEWSPLAT_g_W66. Please indicate whether each of the following is a source of news for you about the coronavirus outbreak.             Public health organizations and officials\n",
      "COVIDNEWSPLAT_h_W66 COVIDNEWSPLAT_h_W66. Please indicate whether each of the following is a source of news for you about the coronavirus outbreak.              Friends, family and neighbors\n",
      "COVIDNEWSPLAT_i_W66 COVIDNEWSPLAT_i_W66. Please indicate whether each of the following is a source of news for you about the coronavirus outbreak.               Community or neighborhood newsletter or Listserv\n",
      "COVIDNEWSPLAT_j_W66 COVIDNEWSPLAT_j_W66. Please indicate whether each of the following is a source of news for you about the coronavirus outbreak.                Online forums or discussion groups\n",
      "COVIDNEWSRELY_W66 COVIDNEWSRELY_W66. And which of these sources do you RELY ON MOST for news about the coronavirus outbreak?\n",
      "COVIDDEAL_W66 COVIDDEAL_W66. All in all, do you think that the coronavirus outbreak has been…\n",
      "COVIDNATLOC_W66 COVIDNATLOC_W66. Do you pay more attention to news about the coronavirus outbreak at...\n",
      "COVIDNEWSSWITCH_W66 COVIDNEWSSWITCH_W66. In keeping up with the coronavirus outbreak, have you turned to any different sources for news than you usually do?\n",
      "COVIDDISC_W66 COVIDDISC_W66. How often, if at all, are you discussing the coronavirus outbreak with others whether online, in person or over the phone?\n",
      "COVIDSM_W66 COVIDSM_W66. How often, if ever, do you get news and information about the coronavirus outbreak on social media (such as Facebook, Twitter, or Instagram)?\n",
      "COVIDSMSHARE_W66 COVIDSMSHARE_W66. Have you posted or shared any news and information about the coronavirus outbreak on social media?\n",
      "COVIDINFO_W66 COVIDINFO_W66. In general, do you feel like you have a handle on the issues and developments surrounding the coronavirus outbreak?\n",
      "COVIDREPORT_W66 COVIDREPORT_W66. How much, if at all, do you think journalists have had to change the way they report the news due to the coronavirus outbreak?\n",
      "COVIDNEWSFINAN_W66 COVIDNEWSFINAN_W66. To the best of your knowledge, what impact has the coronavirus outbreak had on the finances of most news organizations?\n",
      "COVIDNEWSPAIR_a_W66 COVIDNEWSPAIR_a_W66. For each pair of opposite phrases, which one do you feel better describes the news media’s coverage of the COVID-19 outbreak? If you think neither phrase applies, please indicate so.Largely accurate/ inaccurate\n",
      "COVIDNEWSPAIR_b_W66 COVIDNEWSPAIR_b_W66. For each pair of opposite phrases, which one do you feel better describes the news media’s coverage of the COVID-19 outbreak? If you think neither phrase applies, please indicate so.Helping/ Hurting the country\n",
      "COVIDNEWSPAIR_c_W66 COVIDNEWSPAIR_c_W66. For each pair of opposite phrases, which one do you feel better describes the news media’s coverage of the COVID-19 outbreak? If you think neither phrase applies, please indicate so. Working for the benefit of the public/ to benefit\n",
      "COVIDNEWSPAIR_d_W66 COVIDNEWSPAIR_d_W66. For each pair of opposite phrases, which one do you feel better describes the news media’s coverage of the COVID-19 outbreak? If you think neither phrase applies, please indicate so.Gets me the information I need/ Is not getting me t\n",
      "COVIDNEWSPAIR_e_W66 COVIDNEWSPAIR_e_W66. For each pair of opposite phrases, which one do you feel better describes the news media’s coverage of the COVID-19 outbreak? If you think neither phrase applies, please indicate so. More positive/ negative than it should be\n",
      "COVIDINFODIFF_W66 COVIDINFODIFF_W66. When you get news and information about the coronavirus outbreak, do you generally find it…\n",
      "COVIDWORN_W66 COVIDWORN_W66. Which of the following statements comes closer to how you feel?\n",
      "COVIDNEWSFEEL_W66 COVIDNEWSFEEL_W66. Does keeping up with news about the coronavirus outbreak make you feel…\n",
      "COVIDTOPICA_a_W66 COVIDTOPICA_a_W66. How closely are you following NATIONAL news and information about each of these topics related to the coronavirus outbreak?      The economic impact of the outbreak\n",
      "COVIDTOPICA_b_W66 COVIDTOPICA_b_W66. How closely are you following NATIONAL news and information about each of these topics related to the coronavirus outbreak?       Actions and statements by the federal government\n",
      "COVIDTOPICA_c_W66 COVIDTOPICA_c_W66. How closely are you following NATIONAL news and information about each of these topics related to the coronavirus outbreak?         The number of confirmed cases and deaths in the U.S.\n",
      "COVIDTOPICA_d_W66 COVIDTOPICA_d_W66. How closely are you following NATIONAL news and information about each of these topics related to the coronavirus outbreak? Advice from national health organizations, such as the CDC (Centers for Disease Control and Prevention)\n",
      "COVIDTOPICA_e_W66 COVIDTOPICA_e_W66. How closely are you following NATIONAL news and information about each of these topics related to the coronavirus outbreak?          The ability of hospitals across the country to treat patients\n",
      "COVIDTOPICA_f_W66 COVIDTOPICA_f_W66. How closely are you following NATIONAL news and information about each of these topics related to the coronavirus outbreak?            The health impact of the coronavirus on people like me\n",
      "COVIDTOPICB_a_W66 COVIDTOPICB_a_W66. And how closely are you following news and information in YOUR LOCAL AREA about each of these topics related to the coronavirus outbreak?        The status of nearby businesses\n",
      "COVIDTOPICB_b_W66 COVIDTOPICB_b_W66. And how closely are you following news and information in YOUR LOCAL AREA about each of these topics related to the coronavirus outbreak?         The status of nearby schools\n",
      "COVIDTOPICB_c_W66 COVIDTOPICB_c_W66. And how closely are you following news and information in YOUR LOCAL AREA about each of these topics related to the coronavirus outbreak?The availability of food and other essentials in stores\n",
      "COVIDTOPICB_d_W66 COVIDTOPICB_d_W66. And how closely are you following news and information in YOUR LOCAL AREA about each of these topics related to the coronavirus outbreak?Actions and statements by your state and local government\n",
      "COVIDTOPICB_e_W66 COVIDTOPICB_e_W66. And how closely are you following news and information in YOUR LOCAL AREA about each of these topics related to the coronavirus outbreak?          The availability of testing for COVID-19\n",
      "COVIDTOPICB_f_W66 COVIDTOPICB_f_W66. And how closely are you following news and information in YOUR LOCAL AREA about each of these topics related to the coronavirus outbreak?            The status of nearby hospitals\n",
      "COVIDTOPICB_g_W66 COVIDTOPICB_g_W66. And how closely are you following news and information in YOUR LOCAL AREA about each of these topics related to the coronavirus outbreak?Availability of unemployment benefits and other aid\n",
      "COVIDINFOCHECK_W66 COVIDINFOCHECK_W66. If you wanted to check the accuracy of news and information about the coronavirus, how confident are you that you would know what steps to take?\n",
      "MH_TRACK_CV_W66 MH_TRACK_CV_W66. In the past 7 days, how often have you had physical reactions, such as sweating, trouble breathing, nausea, or a pounding heart, when THINKING about your experience with the coronavirus outbreak?\n",
      "COVIDCUREWORK_W66 COVIDCUREWORK_W66. As far as you know, how effective are at-home treatments for serious cases of the coronavirus?\n",
      "COVIDCUREHEARD_a_W66 COVIDCUREHEARD_a_W66. How much, if anything, have you heard about each of the following?      Using the medicine known as hydroxychloroquine to treat the coronavirus\n",
      "COVIDCUREHEARD_b_W66 COVIDCUREHEARD_b_W66. How much, if anything, have you heard about each of the following?       Drinking a form of diluted bleach sometimes called “miracle mineral solution” (MMS) to treat the coronavirus\n",
      "COVIDCUREHEARD_c_W66 COVIDCUREHEARD_c_W66. How much, if anything, have you heard about each of the following?       Taking vitamin C to prevent getting the coronavirus\n",
      "COVIDCUREHEARD_d_W66 COVIDCUREHEARD_d_W66. How much, if anything, have you heard about each of the following?          Treating COVID-19 patients with blood plasma transfusions from recovered patients\n",
      "COVIDCUREHEARD_e_W66 COVIDCUREHEARD_e_W66. How much, if anything, have you heard about each of the following The coronavirus going away in warmer weather\n",
      "COVIDCUREHEARD_f_W66 COVIDCUREHEARD_f_W66. How much, if anything, have you heard about each of the following?          A connection between 5G mobile-phone technology and the coronavirus\n",
      "COVIDBILL_a_W66 COVIDBILL_a_W66. From what you’ve seen or heard, does the economic aid law passed by Congress and signed by Donald Trump include each of the following or not?        $1,200 in stimulus money for many American adults\n",
      "COVIDBILL_b_W66 COVIDBILL_b_W66. From what you’ve seen or heard, does the economic aid law passed by Congress and signed by Donald Trump include each of the following or not?          Pay raises for members of Congress\n",
      "COVIDBILL_c_W66 COVIDBILL_c_W66. From what you’ve seen or heard, does the economic aid law passed by Congress and signed by Donald Trump include each of the following or not?Restrictions on businesses connected to Donald Trump and other administration officials from rec\n",
      "COVIDBILL_d_W66 COVIDBILL_d_W66. From what you’ve seen or heard, does the economic aid law passed by Congress and signed by Donald Trump include each of the following or not?Increased unemployment benefits for the next four months\n",
      "COVIDBILL_e_W66 COVIDBILL_e_W66. From what you’ve seen or heard, does the economic aid law passed by Congress and signed by Donald Trump include each of the following or not?Federal aid and benefits for undocumented immigrants\n",
      "COVIDBILLSIZE_W66 COVIDBILLSIZE_W66. From what you have seen or heard, about how much economic aid was in the bill passed by Congress and Donald Trump in March?\n",
      "COVIDPOLCOOP_W66 COVIDPOLCOOP_W66. How well are elected officials working together to address the coronavirus outbreak?\n",
      "COVIDMISINFO_W66 COVIDMISINFO_W66. How much, if any, news and information have you seen or heard about the coronavirus outbreak that seemed completely made up?\n",
      "COVIDCONFUSE_W66 COVIDCONFUSE_W66. How much do you think made-up news and information leaves Americans confused about the basic facts of the coronavirus outbreak?\n",
      "COVIDINFOWRONG_W66 COVIDINFOWRONG_W66. Did you initially think any of the made-up news and information you have seen or heard was true before realizing it was made-up?\n",
      "COVIDAVOID_W66 COVIDAVOID_W66. Have you stopped going to a specific source because you thought that they were putting out made-up news and information about the coronavirus outbreak?\n",
      "CAMPNII_W66 CAMPNII_W66. How closely have you been following news about candidates for the 2020 presidential election?\n",
      "CAMP20INT_W66 CAMP20INT_W66. How important, if at all, is it to you personally to get messages and statements about the upcoming election and other important issues from the presidential campaigns of Donald Trump and Joe Biden?\n",
      "PELECT20_STATUS_W66 PELECT20_STATUS_W66. As far as you know, are states still holding primaries for the Democratic presidential nomination…\n",
      "COVIDCONG1_W66 COVIDCONG1_W66. Has the congregation or house of worship you most often attend closed its regular religious services to the public in response to the coronavirus outbreak, or are people still gathering there in person?\n",
      "COVIDCONG2_W66 COVIDCONG2_W66. Is the congregation or house of worship you most often attend streaming or recording its services so that people can watch them online or on TV?\n",
      "COVIDSPIR_W66 COVIDSPIR_W66. As a result of the coronavirus outbreak, has your own religious faith become\n",
      "GROUP_TRUST_a_W57 GROUP_TRUST_a_W57. How much, if at all, do you trust the information you get from… National news organizations\n",
      "NEWS_MOST_W57 NEWS_MOST_W57. What is the most common way you get political and election news?\n",
      "TALKPOL_W57 TALKPOL_W57. Now, thinking about the people you talk with, whether in person, over the phone, or online…How often do you discuss government and politics with others?\n",
      "FOLELECT_W57 FOLELECT_W57. How closely do you follow political and election news?\n",
      "CR_PARTYNEWSUSE_W57 Index of news consumption by leaned party and outlet audience ideology - CREATED\n",
      "CR_NEWS_INFLU_W57 News influencers, combo of FOLELECT and LEADPOL - Includes follow somewhat in News influencer - CREATED\n",
      "CR_DIG_SAV_W57 Digital savviness combo of INTFREQ and DIGCONF - CREATED\n",
      "CR_MAINSOPOL_GROUPS_W57 Main source of election news, recoded - CREATED\n",
      "CR_KNOWLEDGE_INDEX_W57 Political knowledge index - CREATED\n",
      "F_METRO Metropolitan area indicator\n",
      "F_CREGION Census region based on self-reported zipcode\n",
      "F_AGECAT Age category\n",
      "F_SEX Sex\n",
      "F_EDUCCAT Education level category\n",
      "F_EDUCCAT2 Education level category 2\n",
      "F_HISP HISP.Are you of Hispanic, Latino, or Spanish origin, such as Mexican, Puerto Rican or Cuban? - Includes RACE backcodes\n",
      "F_RACECMB Combining race\n",
      "F_RACETHN Race-Ethnicity\n",
      "F_CITIZEN Citizenship\n",
      "F_NATIVITY2 NATIVITY. Where were you born? (with Cuba and Mexico broken out)\n",
      "F_MARITAL Marital status\n",
      "F_RELIG Religion\n",
      "F_BORN BORN. Would you describe yourself as a born-again or evangelical Christian, or not?\n",
      "F_ATTEND Religious service attendance\n",
      "F_PARTY_FINAL Party\n",
      "F_PARTYLN_FINAL Party lean\n",
      "F_PARTYSUM_FINAL Party summary\n",
      "F_INCOME Family income\n",
      "F_INCOME_RECODE Family income recoded\n",
      "F_REG Registered voter\n",
      "F_IDEO Ideology\n",
      "F_ACSWEB Household internet status\n",
      "F_VOLSUM Volunteerism status\n",
      "F_HISP_ORIGIN Hispanic Origin\n",
      "F_YEARSINUS Foreign-born Hispanic Years in U.S.\n",
      "WEIGHT_W66 Wave 66 weight\n"
     ]
    }
   ],
   "source": [
    "for i, j in meta_dict.items():\n",
    "    print(i, j)"
   ]
  },
  {
   "cell_type": "code",
   "execution_count": 6,
   "metadata": {
    "ExecuteTime": {
     "end_time": "2020-05-19T01:24:21.100189Z",
     "start_time": "2020-05-19T01:24:21.081241Z"
    },
    "slideshow": {
     "slide_type": "subslide"
    }
   },
   "outputs": [
    {
     "data": {
      "text/plain": [
       "count    10139.000000\n",
       "mean         1.000000\n",
       "std          1.213926\n",
       "min          0.065288\n",
       "25%          0.351129\n",
       "50%          0.572091\n",
       "75%          1.107659\n",
       "max          7.487729\n",
       "Name: WEIGHT_W66, dtype: float64"
      ]
     },
     "execution_count": 6,
     "metadata": {},
     "output_type": "execute_result"
    }
   ],
   "source": [
    "df['WEIGHT_W66'].describe()"
   ]
  },
  {
   "cell_type": "code",
   "execution_count": 183,
   "metadata": {
    "ExecuteTime": {
     "end_time": "2020-05-13T16:11:24.055930Z",
     "start_time": "2020-05-13T16:11:24.046885Z"
    },
    "slideshow": {
     "slide_type": "subslide"
    }
   },
   "outputs": [
    {
     "data": {
      "text/plain": [
       "1.0    0.107506\n",
       "2.0    0.316698\n",
       "3.0    0.310090\n",
       "4.0    0.265707\n",
       "Name: F_AGECAT, dtype: float64"
      ]
     },
     "execution_count": 183,
     "metadata": {},
     "output_type": "execute_result"
    }
   ],
   "source": [
    "df['F_AGECAT'].value_counts(normalize=True).sort_index()\n"
   ]
  },
  {
   "cell_type": "code",
   "execution_count": 204,
   "metadata": {
    "ExecuteTime": {
     "end_time": "2020-05-13T16:43:26.673231Z",
     "start_time": "2020-05-13T16:43:26.666586Z"
    },
    "slideshow": {
     "slide_type": "subslide"
    }
   },
   "outputs": [
    {
     "data": {
      "text/plain": [
       "1.0    0.564750\n",
       "2.0    0.208798\n",
       "3.0    0.226452\n",
       "Name: COVIDNEWSPAIR_a_W66, dtype: float64"
      ]
     },
     "execution_count": 204,
     "metadata": {},
     "output_type": "execute_result"
    }
   ],
   "source": [
    "df['COVIDNEWSPAIR_a_W66'].value_counts(normalize=True).sort_index()"
   ]
  },
  {
   "cell_type": "code",
   "execution_count": 205,
   "metadata": {
    "ExecuteTime": {
     "end_time": "2020-05-13T16:43:32.512685Z",
     "start_time": "2020-05-13T16:43:32.504603Z"
    },
    "slideshow": {
     "slide_type": "subslide"
    }
   },
   "outputs": [
    {
     "data": {
      "text/plain": [
       "Largely accurate      0.564750\n",
       "Neither applies       0.226452\n",
       "Largely inaccurate    0.208798\n",
       "Name: COVIDNEWSPAIR_a_W66, dtype: float64"
      ]
     },
     "execution_count": 205,
     "metadata": {},
     "output_type": "execute_result"
    }
   ],
   "source": [
    "df['COVIDNEWSPAIR_a_W66'].map(meta.variable_value_labels['COVIDNEWSPAIR_a_W66']).value_counts(normalize=True)"
   ]
  },
  {
   "cell_type": "markdown",
   "metadata": {
    "slideshow": {
     "slide_type": "slide"
    }
   },
   "source": [
    "## Data Cleaning"
   ]
  },
  {
   "cell_type": "code",
   "execution_count": 7,
   "metadata": {
    "ExecuteTime": {
     "end_time": "2020-05-19T01:27:40.283462Z",
     "start_time": "2020-05-19T01:27:39.761310Z"
    },
    "slideshow": {
     "slide_type": "subslide"
    }
   },
   "outputs": [],
   "source": [
    "def clean_missing_data(var):\n",
    "    # raw data using 99 as missing values\n",
    "    df[var][df[var]==99] =np.nan \n",
    "    df[var] = df[var].fillna(df[var].median())\n",
    "    return df[var]\n",
    "\n",
    "for i in df.columns:\n",
    "    df[i] = clean_missing_data(i)\n",
    "    "
   ]
  },
  {
   "cell_type": "code",
   "execution_count": 8,
   "metadata": {
    "ExecuteTime": {
     "end_time": "2020-05-19T01:30:28.168337Z",
     "start_time": "2020-05-19T01:30:28.133436Z"
    },
    "slideshow": {
     "slide_type": "subslide"
    }
   },
   "outputs": [],
   "source": [
    "# dummy coding\n",
    "df['republic'] = [1 if i==1 else 0 for i in df['F_PARTYLN_FINAL'] ]\n",
    "df['edu'] = [7-i for i in df['F_EDUCCAT2']]"
   ]
  },
  {
   "attachments": {},
   "cell_type": "markdown",
   "metadata": {
    "slideshow": {
     "slide_type": "slide"
    }
   },
   "source": [
    "## Weighting\n",
    "\n",
    "![image.png](./images/pew4.png)\n",
    "\n",
    "按总体人口数据，总体平均收入应为：(5000 * 1000+4000 * 2000+3000 * 3000)/6000 = 3666.67 元。\n",
    "\n",
    "- 按样本数据（不加权）：全部人口的样本平均收入 = (5000 * 200+4000 * 100+3000 * 100)/400 = 4250 元。\n",
    "- 采用总体/样本倍数加权，总体平均收入= (5000 * 200 * 5+4000 * 100 * 20+3000 * 100 * 30)/(200 * 5+100 * 20+100 * 30) = 3666.67元。"
   ]
  },
  {
   "cell_type": "markdown",
   "metadata": {
    "slideshow": {
     "slide_type": "subslide"
    }
   },
   "source": [
    "**A weighting adjustment technique** can only be carried of proper auxiliary variables are available. \n",
    "- Such variables must have been measured in the survey, and there population distribution must be available. \n",
    "- Typical auxiliary variables are gender, age, marital status and region of the country. \n",
    "- The population distribution of such variables can usually be obtained from national statistical institutes.\n",
    "\n",
    "|            | Young | Middle | Old  |\n",
    "| ---------- | ----- | ------ | ---- |\n",
    "| Population | 30%   | 40%    | 30%  |\n",
    "| Sample     | 60%   | 30%    | 10%  |\n",
    "| Weight     | 0.5   | 1.33   |  3   |"
   ]
  },
  {
   "cell_type": "code",
   "execution_count": 160,
   "metadata": {
    "ExecuteTime": {
     "end_time": "2020-05-13T15:38:12.941037Z",
     "start_time": "2020-05-13T15:38:12.744902Z"
    },
    "slideshow": {
     "slide_type": "subslide"
    }
   },
   "outputs": [
    {
     "data": {
      "image/png": "[encoded data removed]",
      "text/plain": [
       "<Figure size 432x288 with 1 Axes>"
      ]
     },
     "metadata": {
      "needs_background": "light"
     },
     "output_type": "display_data"
    }
   ],
   "source": [
    "plt.hist(df[\"F_INCOME\"], alpha =0.5, label = 'without weight')\n",
    "plt.hist(df[\"F_INCOME\"], weights=df[\"WEIGHT_W66\"], alpha = 0.5, label = 'with weight')\n",
    "plt.legend();"
   ]
  },
  {
   "cell_type": "code",
   "execution_count": 161,
   "metadata": {
    "ExecuteTime": {
     "end_time": "2020-05-13T15:38:40.318163Z",
     "start_time": "2020-05-13T15:38:40.144117Z"
    },
    "slideshow": {
     "slide_type": "subslide"
    }
   },
   "outputs": [
    {
     "data": {
      "image/png": "[encoded data removed]",
      "text/plain": [
       "<Figure size 432x288 with 1 Axes>"
      ]
     },
     "metadata": {
      "needs_background": "light"
     },
     "output_type": "display_data"
    }
   ],
   "source": [
    "plt.hist(df[\"COVIDCOVER1_W66\"], alpha =0.5, label = 'without weight')\n",
    "plt.hist(df[\"COVIDCOVER1_W66\"], weights=df[\"WEIGHT_W66\"], alpha = 0.5, label = 'with weight')\n",
    "plt.legend();"
   ]
  },
  {
   "cell_type": "markdown",
   "metadata": {
    "slideshow": {
     "slide_type": "slide"
    }
   },
   "source": [
    "## Sampling with weight"
   ]
  },
  {
   "cell_type": "code",
   "execution_count": 108,
   "metadata": {
    "ExecuteTime": {
     "end_time": "2020-05-13T10:32:16.415270Z",
     "start_time": "2020-05-13T10:32:16.382893Z"
    },
    "slideshow": {
     "slide_type": "subslide"
    }
   },
   "outputs": [
    {
     "data": {
      "text/html": [
       "<div>\n",
       "<style scoped>\n",
       "    .dataframe tbody tr th:only-of-type {\n",
       "        vertical-align: middle;\n",
       "    }\n",
       "\n",
       "    .dataframe tbody tr th {\n",
       "        vertical-align: top;\n",
       "    }\n",
       "\n",
       "    .dataframe thead th {\n",
       "        text-align: right;\n",
       "    }\n",
       "</style>\n",
       "<table border=\"1\" class=\"dataframe\">\n",
       "  <thead>\n",
       "    <tr style=\"text-align: right;\">\n",
       "      <th></th>\n",
       "      <th>QKEY</th>\n",
       "      <th>Device_Type_W66</th>\n",
       "      <th>LANG_W66</th>\n",
       "      <th>FORM_W66</th>\n",
       "      <th>COMATTACH_W66</th>\n",
       "      <th>MH_TRACK_a_W66</th>\n",
       "      <th>MH_TRACK_b_W66</th>\n",
       "      <th>MH_TRACK_c_W66</th>\n",
       "      <th>MH_TRACK_d_W66</th>\n",
       "      <th>MH_TRACK_e_W66</th>\n",
       "      <th>...</th>\n",
       "      <th>F_PARTYSUM_FINAL</th>\n",
       "      <th>F_INCOME</th>\n",
       "      <th>F_INCOME_RECODE</th>\n",
       "      <th>F_REG</th>\n",
       "      <th>F_IDEO</th>\n",
       "      <th>F_ACSWEB</th>\n",
       "      <th>F_VOLSUM</th>\n",
       "      <th>F_HISP_ORIGIN</th>\n",
       "      <th>F_YEARSINUS</th>\n",
       "      <th>WEIGHT_W66</th>\n",
       "    </tr>\n",
       "  </thead>\n",
       "  <tbody>\n",
       "    <tr>\n",
       "      <th>9997</th>\n",
       "      <td>2.019011e+11</td>\n",
       "      <td>1.0</td>\n",
       "      <td>1.0</td>\n",
       "      <td>1.0</td>\n",
       "      <td>2.0</td>\n",
       "      <td>3.0</td>\n",
       "      <td>2.0</td>\n",
       "      <td>3.0</td>\n",
       "      <td>4.0</td>\n",
       "      <td>3.0</td>\n",
       "      <td>...</td>\n",
       "      <td>2.0</td>\n",
       "      <td>5.0</td>\n",
       "      <td>2.0</td>\n",
       "      <td>1.0</td>\n",
       "      <td>5.0</td>\n",
       "      <td>1.0</td>\n",
       "      <td>1.0</td>\n",
       "      <td>2.0</td>\n",
       "      <td>4.0</td>\n",
       "      <td>0.284252</td>\n",
       "    </tr>\n",
       "    <tr>\n",
       "      <th>8833</th>\n",
       "      <td>2.019010e+11</td>\n",
       "      <td>3.0</td>\n",
       "      <td>1.0</td>\n",
       "      <td>1.0</td>\n",
       "      <td>3.0</td>\n",
       "      <td>1.0</td>\n",
       "      <td>1.0</td>\n",
       "      <td>1.0</td>\n",
       "      <td>2.0</td>\n",
       "      <td>1.0</td>\n",
       "      <td>...</td>\n",
       "      <td>2.0</td>\n",
       "      <td>1.0</td>\n",
       "      <td>3.0</td>\n",
       "      <td>1.0</td>\n",
       "      <td>3.0</td>\n",
       "      <td>2.0</td>\n",
       "      <td>2.0</td>\n",
       "      <td>6.0</td>\n",
       "      <td>5.0</td>\n",
       "      <td>7.476299</td>\n",
       "    </tr>\n",
       "    <tr>\n",
       "      <th>4964</th>\n",
       "      <td>2.018011e+11</td>\n",
       "      <td>2.0</td>\n",
       "      <td>1.0</td>\n",
       "      <td>1.0</td>\n",
       "      <td>1.0</td>\n",
       "      <td>1.0</td>\n",
       "      <td>1.0</td>\n",
       "      <td>1.0</td>\n",
       "      <td>3.0</td>\n",
       "      <td>1.0</td>\n",
       "      <td>...</td>\n",
       "      <td>1.0</td>\n",
       "      <td>3.0</td>\n",
       "      <td>3.0</td>\n",
       "      <td>3.0</td>\n",
       "      <td>3.0</td>\n",
       "      <td>1.0</td>\n",
       "      <td>2.0</td>\n",
       "      <td>6.0</td>\n",
       "      <td>5.0</td>\n",
       "      <td>7.476299</td>\n",
       "    </tr>\n",
       "    <tr>\n",
       "      <th>2919</th>\n",
       "      <td>2.017012e+11</td>\n",
       "      <td>3.0</td>\n",
       "      <td>1.0</td>\n",
       "      <td>2.0</td>\n",
       "      <td>1.0</td>\n",
       "      <td>1.0</td>\n",
       "      <td>1.0</td>\n",
       "      <td>1.0</td>\n",
       "      <td>4.0</td>\n",
       "      <td>1.0</td>\n",
       "      <td>...</td>\n",
       "      <td>1.0</td>\n",
       "      <td>2.0</td>\n",
       "      <td>3.0</td>\n",
       "      <td>1.0</td>\n",
       "      <td>3.0</td>\n",
       "      <td>1.0</td>\n",
       "      <td>2.0</td>\n",
       "      <td>6.0</td>\n",
       "      <td>5.0</td>\n",
       "      <td>4.243243</td>\n",
       "    </tr>\n",
       "    <tr>\n",
       "      <th>3452</th>\n",
       "      <td>2.018010e+11</td>\n",
       "      <td>2.0</td>\n",
       "      <td>1.0</td>\n",
       "      <td>2.0</td>\n",
       "      <td>4.0</td>\n",
       "      <td>2.0</td>\n",
       "      <td>1.0</td>\n",
       "      <td>2.0</td>\n",
       "      <td>1.0</td>\n",
       "      <td>3.0</td>\n",
       "      <td>...</td>\n",
       "      <td>2.0</td>\n",
       "      <td>4.0</td>\n",
       "      <td>2.0</td>\n",
       "      <td>1.0</td>\n",
       "      <td>3.0</td>\n",
       "      <td>1.0</td>\n",
       "      <td>2.0</td>\n",
       "      <td>1.0</td>\n",
       "      <td>1.0</td>\n",
       "      <td>2.504054</td>\n",
       "    </tr>\n",
       "  </tbody>\n",
       "</table>\n",
       "<p>5 rows × 119 columns</p>\n",
       "</div>"
      ],
      "text/plain": [
       "              QKEY  Device_Type_W66  LANG_W66  FORM_W66  COMATTACH_W66  \\\n",
       "9997  2.019011e+11              1.0       1.0       1.0            2.0   \n",
       "8833  2.019010e+11              3.0       1.0       1.0            3.0   \n",
       "4964  2.018011e+11              2.0       1.0       1.0            1.0   \n",
       "2919  2.017012e+11              3.0       1.0       2.0            1.0   \n",
       "3452  2.018010e+11              2.0       1.0       2.0            4.0   \n",
       "\n",
       "      MH_TRACK_a_W66  MH_TRACK_b_W66  MH_TRACK_c_W66  MH_TRACK_d_W66  \\\n",
       "9997             3.0             2.0             3.0             4.0   \n",
       "8833             1.0             1.0             1.0             2.0   \n",
       "4964             1.0             1.0             1.0             3.0   \n",
       "2919             1.0             1.0             1.0             4.0   \n",
       "3452             2.0             1.0             2.0             1.0   \n",
       "\n",
       "      MH_TRACK_e_W66  ...  F_PARTYSUM_FINAL  F_INCOME  F_INCOME_RECODE  F_REG  \\\n",
       "9997             3.0  ...               2.0       5.0              2.0    1.0   \n",
       "8833             1.0  ...               2.0       1.0              3.0    1.0   \n",
       "4964             1.0  ...               1.0       3.0              3.0    3.0   \n",
       "2919             1.0  ...               1.0       2.0              3.0    1.0   \n",
       "3452             3.0  ...               2.0       4.0              2.0    1.0   \n",
       "\n",
       "      F_IDEO  F_ACSWEB  F_VOLSUM  F_HISP_ORIGIN  F_YEARSINUS  WEIGHT_W66  \n",
       "9997     5.0       1.0       1.0            2.0          4.0    0.284252  \n",
       "8833     3.0       2.0       2.0            6.0          5.0    7.476299  \n",
       "4964     3.0       1.0       2.0            6.0          5.0    7.476299  \n",
       "2919     3.0       1.0       2.0            6.0          5.0    4.243243  \n",
       "3452     3.0       1.0       2.0            1.0          1.0    2.504054  \n",
       "\n",
       "[5 rows x 119 columns]"
      ]
     },
     "execution_count": 108,
     "metadata": {},
     "output_type": "execute_result"
    }
   ],
   "source": [
    "df2 = df.sample(frac=0.66, weights=df['WEIGHT_W66'], random_state = 2020) \n",
    "df2.head(5)"
   ]
  },
  {
   "cell_type": "code",
   "execution_count": 109,
   "metadata": {
    "ExecuteTime": {
     "end_time": "2020-05-13T10:32:16.990039Z",
     "start_time": "2020-05-13T10:32:16.978774Z"
    },
    "slideshow": {
     "slide_type": "subslide"
    }
   },
   "outputs": [
    {
     "name": "stdout",
     "output_type": "stream",
     "text": [
      "F_INCOME    9.632119\n",
      "dtype: float64 \n",
      " F_INCOME    9.897722\n",
      "dtype: float64 \n",
      " F_INCOME    9.887926\n",
      "dtype: float64\n"
     ]
    }
   ],
   "source": [
    "import numpy as np\n",
    "\n",
    "print(df[['F_INCOME']].apply(np.average, weights=df['WEIGHT_W66']),'\\n',\n",
    "df[['F_INCOME']].apply(np.average),'\\n',\n",
    "df2[['F_INCOME']].apply(np.average)    )"
   ]
  },
  {
   "cell_type": "code",
   "execution_count": 55,
   "metadata": {
    "ExecuteTime": {
     "end_time": "2020-05-13T10:15:38.414051Z",
     "start_time": "2020-05-13T10:15:38.406957Z"
    },
    "slideshow": {
     "slide_type": "subslide"
    }
   },
   "outputs": [
    {
     "data": {
      "text/plain": [
       "(10139,\n",
       " 2028,\n",
       " F_INCOME    9.970414\n",
       " dtype: float64)"
      ]
     },
     "execution_count": 55,
     "metadata": {},
     "output_type": "execute_result"
    }
   ],
   "source": [
    "len(df), len(df2), df2[['F_INCOME']].apply(np.average)"
   ]
  },
  {
   "cell_type": "markdown",
   "metadata": {
    "ExecuteTime": {
     "end_time": "2020-05-13T10:28:27.247530Z",
     "start_time": "2020-05-13T10:28:27.243432Z"
    },
    "slideshow": {
     "slide_type": "slide"
    }
   },
   "source": [
    "## Weighted Regression: WLS vs. GLM\n",
    "\n",
    "\n",
    "The weights are presumed to be (proportional to) the inverse of the variance of the observations. That is, if the variables are to be transformed by 1/sqrt(W) you must supply weights = 1/W.\n",
    "\n",
    "> sm.WLS?\n",
    "\n",
    "https://www.coursera.org/learn/fitting-statistical-models-data-python\n",
    "\n",
    "https://www.coursera.org/lecture/fitting-statistical-models-data-python/should-we-use-survey-weights-when-fitting-models-Qzt5p"
   ]
  },
  {
   "cell_type": "markdown",
   "metadata": {
    "slideshow": {
     "slide_type": "subslide"
    }
   },
   "source": [
    "freq_weights : array_like\n",
    "\n",
    "    1d array of frequency weights. The default is None. If None is selected\n",
    "    or a blank value, then the algorithm will replace with an array of 1's\n",
    "    with length equal to the endog.\n",
    "    WARNING: Using weights is not verified yet for all possible options\n",
    "    and results, see Notes.\n",
    "    \n",
    "var_weights : array_like\n",
    "\n",
    "    1d array of variance (analytic) weights. The default is None. If None\n",
    "    is selected or a blank value, then the algorithm will replace with an\n",
    "    array of 1's with length equal to the endog.\n",
    "    WARNING: Using weights is not verified yet for all possible options\n",
    "    and results, see Notes."
   ]
  },
  {
   "cell_type": "code",
   "execution_count": 182,
   "metadata": {
    "ExecuteTime": {
     "end_time": "2020-05-13T16:08:50.649767Z",
     "start_time": "2020-05-13T16:08:50.638618Z"
    },
    "slideshow": {
     "slide_type": "subslide"
    }
   },
   "outputs": [
    {
     "name": "stdout",
     "output_type": "stream",
     "text": [
      "without weight, the mean value is:  50.5\n",
      "with weight, the mean value is:  67.0\n",
      "23.687784005919827\n",
      "p\n",
      "0.25    50\n",
      "0.50    71\n",
      "0.75    87\n",
      "dtype: int64\n"
     ]
    }
   ],
   "source": [
    "df1=pd.DataFrame({ 'x':range(1,101), 'wt':range(1,101) })\n",
    "\n",
    "from statsmodels.stats.weightstats import DescrStatsW\n",
    "wdf = DescrStatsW(df1.x, weights=df1.wt, ddof=1) \n",
    "print('without weight, the mean value is: ', np.mean(df1.x))\n",
    "print( 'with weight, the mean value is: ', wdf.mean )\n",
    "print( wdf.std )\n",
    "print( wdf.quantile([0.25,0.50,0.75]) )"
   ]
  },
  {
   "cell_type": "code",
   "execution_count": 201,
   "metadata": {
    "ExecuteTime": {
     "end_time": "2020-05-13T16:34:56.125458Z",
     "start_time": "2020-05-13T16:34:56.058487Z"
    },
    "code_folding": [],
    "slideshow": {
     "slide_type": "subslide"
    }
   },
   "outputs": [
    {
     "name": "stdout",
     "output_type": "stream",
     "text": [
      "                            OLS Regression Results                            \n",
      "==============================================================================\n",
      "Dep. Variable:           COVIDFOL_W66   R-squared:                       0.123\n",
      "Model:                            OLS   Adj. R-squared:                  0.123\n",
      "Method:                 Least Squares   F-statistic:                     158.4\n",
      "Date:                Thu, 14 May 2020   Prob (F-statistic):          1.33e-281\n",
      "Time:                        00:34:56   Log-Likelihood:                -9776.3\n",
      "No. Observations:               10139   AIC:                         1.957e+04\n",
      "Df Residuals:                   10129   BIC:                         1.964e+04\n",
      "Df Model:                           9                                         \n",
      "Covariance Type:            nonrobust                                         \n",
      "===================================================================================\n",
      "                      coef    std err          t      P>|t|      [0.025      0.975]\n",
      "-----------------------------------------------------------------------------------\n",
      "const               1.8951      0.046     41.361      0.000       1.805       1.985\n",
      "F_INCOME           -0.0269      0.003     -8.709      0.000      -0.033      -0.021\n",
      "F_AGECAT           -0.1573      0.007    -23.487      0.000      -0.170      -0.144\n",
      "edu                 0.0226      0.005      4.746      0.000       0.013       0.032\n",
      "republic            0.0203      0.018      1.150      0.250      -0.014       0.055\n",
      "COVIDCOVER1_W66     0.1493      0.007     20.698      0.000       0.135       0.163\n",
      "MH_TRACK_a_W66     -0.0657      0.009     -7.725      0.000      -0.082      -0.049\n",
      "MH_TRACK_b_W66      0.0125      0.009      1.325      0.185      -0.006       0.031\n",
      "MH_TRACK_d_W66     -0.0012      0.003     -0.360      0.719      -0.008       0.005\n",
      "MH_TRACK_d_W66     -0.0012      0.003     -0.360      0.719      -0.008       0.005\n",
      "MH_TRACK_e_W66      0.0038      0.007      0.550      0.583      -0.010       0.017\n",
      "==============================================================================\n",
      "Omnibus:                      985.955   Durbin-Watson:                   2.025\n",
      "Prob(Omnibus):                  0.000   Jarque-Bera (JB):             1306.676\n",
      "Skew:                           0.824   Prob(JB):                    1.81e-284\n",
      "Kurtosis:                       3.613   Cond. No.                     4.31e+16\n",
      "==============================================================================\n",
      "\n",
      "Warnings:\n",
      "[1] Standard Errors assume that the covariance matrix of the errors is correctly specified.\n",
      "[2] The smallest eigenvalue is 4.57e-28. This might indicate that there are\n",
      "strong multicollinearity problems or that the design matrix is singular.\n"
     ]
    }
   ],
   "source": [
    "# 'COVIDFOL_W66. How closely have you been following news about the outbreak of the coronavirus\n",
    "import statsmodels.api as sm\n",
    "X = sm.add_constant(df[['F_INCOME','F_AGECAT', 'edu', 'republic','COVIDCOVER1_W66', 'MH_TRACK_a_W66', \n",
    "                        'MH_TRACK_b_W66', 'MH_TRACK_d_W66', 'MH_TRACK_d_W66', 'MH_TRACK_e_W66']])\n",
    "y = df['COVIDFOL_W66']\n",
    "reg = sm.OLS(y,X, freq_weights=df['WEIGHT_W66'])\n",
    "results = reg.fit()\n",
    "reg1 = sm.GLM(y,X)\n",
    "results1 = reg1.fit()\n",
    "reg2 = sm.GLM(y,X, freq_weights=df['WEIGHT_W66'])\n",
    "results2 = reg2.fit()\n",
    "print(results.summary()) "
   ]
  },
  {
   "cell_type": "code",
   "execution_count": 202,
   "metadata": {
    "ExecuteTime": {
     "end_time": "2020-05-13T16:35:03.663599Z",
     "start_time": "2020-05-13T16:35:03.650838Z"
    },
    "slideshow": {
     "slide_type": "subslide"
    }
   },
   "outputs": [
    {
     "name": "stdout",
     "output_type": "stream",
     "text": [
      "                 Generalized Linear Model Regression Results                  \n",
      "==============================================================================\n",
      "Dep. Variable:           COVIDFOL_W66   No. Observations:                10139\n",
      "Model:                            GLM   Df Residuals:                    10129\n",
      "Model Family:                Gaussian   Df Model:                            9\n",
      "Link Function:               identity   Scale:                         0.40316\n",
      "Method:                          IRLS   Log-Likelihood:                -9776.3\n",
      "Date:                Thu, 14 May 2020   Deviance:                       4083.6\n",
      "Time:                        00:35:03   Pearson chi2:                 4.08e+03\n",
      "No. Iterations:                     3                                         \n",
      "Covariance Type:            nonrobust                                         \n",
      "===================================================================================\n",
      "                      coef    std err          z      P>|z|      [0.025      0.975]\n",
      "-----------------------------------------------------------------------------------\n",
      "const               1.8951      0.046     41.361      0.000       1.805       1.985\n",
      "F_INCOME           -0.0269      0.003     -8.709      0.000      -0.033      -0.021\n",
      "F_AGECAT           -0.1573      0.007    -23.487      0.000      -0.170      -0.144\n",
      "edu                 0.0226      0.005      4.746      0.000       0.013       0.032\n",
      "republic            0.0203      0.018      1.150      0.250      -0.014       0.055\n",
      "COVIDCOVER1_W66     0.1493      0.007     20.698      0.000       0.135       0.163\n",
      "MH_TRACK_a_W66     -0.0657      0.009     -7.725      0.000      -0.082      -0.049\n",
      "MH_TRACK_b_W66      0.0125      0.009      1.325      0.185      -0.006       0.031\n",
      "MH_TRACK_d_W66     -0.0012      0.003     -0.360      0.719      -0.008       0.005\n",
      "MH_TRACK_d_W66     -0.0012      0.003     -0.360      0.719      -0.008       0.005\n",
      "MH_TRACK_e_W66      0.0038      0.007      0.550      0.583      -0.010       0.017\n",
      "===================================================================================\n"
     ]
    }
   ],
   "source": [
    "print(results1.summary()) "
   ]
  },
  {
   "cell_type": "code",
   "execution_count": 203,
   "metadata": {
    "ExecuteTime": {
     "end_time": "2020-05-13T16:35:04.499072Z",
     "start_time": "2020-05-13T16:35:04.488162Z"
    },
    "slideshow": {
     "slide_type": "subslide"
    }
   },
   "outputs": [
    {
     "name": "stdout",
     "output_type": "stream",
     "text": [
      "                 Generalized Linear Model Regression Results                  \n",
      "==============================================================================\n",
      "Dep. Variable:           COVIDFOL_W66   No. Observations:                10139\n",
      "Model:                            GLM   Df Residuals:                 10129.00\n",
      "Model Family:                Gaussian   Df Model:                            9\n",
      "Link Function:               identity   Scale:                         0.47043\n",
      "Method:                          IRLS   Log-Likelihood:                -10559.\n",
      "Date:                Thu, 14 May 2020   Deviance:                       4765.0\n",
      "Time:                        00:35:04   Pearson chi2:                 4.76e+03\n",
      "No. Iterations:                     3                                         \n",
      "Covariance Type:            nonrobust                                         \n",
      "===================================================================================\n",
      "                      coef    std err          z      P>|z|      [0.025      0.975]\n",
      "-----------------------------------------------------------------------------------\n",
      "const               1.9164      0.047     40.841      0.000       1.824       2.008\n",
      "F_INCOME           -0.0221      0.003     -6.976      0.000      -0.028      -0.016\n",
      "F_AGECAT           -0.1773      0.007    -26.078      0.000      -0.191      -0.164\n",
      "edu                 0.0369      0.005      7.619      0.000       0.027       0.046\n",
      "republic           -0.0042      0.018     -0.229      0.819      -0.040       0.032\n",
      "COVIDCOVER1_W66     0.1803      0.008     23.747      0.000       0.165       0.195\n",
      "MH_TRACK_a_W66     -0.0709      0.009     -7.862      0.000      -0.089      -0.053\n",
      "MH_TRACK_b_W66      0.0104      0.010      1.073      0.283      -0.009       0.030\n",
      "MH_TRACK_d_W66     -0.0140      0.004     -3.912      0.000      -0.021      -0.007\n",
      "MH_TRACK_d_W66     -0.0140      0.004     -3.912      0.000      -0.021      -0.007\n",
      "MH_TRACK_e_W66      0.0072      0.007      0.993      0.321      -0.007       0.022\n",
      "===================================================================================\n"
     ]
    }
   ],
   "source": [
    "print(results2.summary()) "
   ]
  },
  {
   "attachments": {},
   "cell_type": "markdown",
   "metadata": {
    "slideshow": {
     "slide_type": "subslide"
    }
   },
   "source": [
    "## GLM Binomial Regression\n",
    "\n",
    "https://www.statsmodels.org/stable/glm.html\n",
    "\n",
    "![image.png](./images/pew5.png)"
   ]
  },
  {
   "cell_type": "code",
   "execution_count": 9,
   "metadata": {
    "ExecuteTime": {
     "end_time": "2020-05-14T05:10:17.236021Z",
     "start_time": "2020-05-14T05:10:17.165763Z"
    },
    "slideshow": {
     "slide_type": "subslide"
    }
   },
   "outputs": [
    {
     "name": "stdout",
     "output_type": "stream",
     "text": [
      "                 Generalized Linear Model Regression Results                  \n",
      "==============================================================================\n",
      "Dep. Variable:                      y   No. Observations:                 8022\n",
      "Model:                            GLM   Df Residuals:                  7694.52\n",
      "Model Family:                Binomial   Df Model:                            9\n",
      "Link Function:                  logit   Scale:                          1.0000\n",
      "Method:                          IRLS   Log-Likelihood:                -4259.8\n",
      "Date:                Thu, 14 May 2020   Deviance:                       8519.6\n",
      "Time:                        13:10:17   Pearson chi2:                 7.66e+03\n",
      "No. Iterations:                     4                                         \n",
      "Covariance Type:            nonrobust                                         \n",
      "===================================================================================\n",
      "                      coef    std err          z      P>|z|      [0.025      0.975]\n",
      "-----------------------------------------------------------------------------------\n",
      "const               2.8958      0.188     15.397      0.000       2.527       3.264\n",
      "F_INCOME            0.0275      0.012      2.200      0.028       0.003       0.052\n",
      "F_AGECAT            0.0798      0.026      3.051      0.002       0.029       0.131\n",
      "edu                -0.1463      0.019     -7.696      0.000      -0.184      -0.109\n",
      "republic           -0.5598      0.073     -7.710      0.000      -0.702      -0.417\n",
      "COVIDCOVER1_W66    -1.1353      0.039    -28.945      0.000      -1.212      -1.058\n",
      "MH_TRACK_a_W66      0.1216      0.035      3.432      0.001       0.052       0.191\n",
      "MH_TRACK_b_W66      0.0327      0.038      0.858      0.391      -0.042       0.107\n",
      "MH_TRACK_d_W66     -0.0242      0.014     -1.721      0.085      -0.052       0.003\n",
      "MH_TRACK_d_W66     -0.0242      0.014     -1.721      0.085      -0.052       0.003\n",
      "MH_TRACK_e_W66      0.0248      0.028      0.872      0.383      -0.031       0.081\n",
      "===================================================================================\n"
     ]
    }
   ],
   "source": [
    "# Largely accurate \n",
    "from statsmodels.genmod import families\n",
    "dfs = df[df['COVIDNEWSPAIR_a_W66']!=2]\n",
    "X = sm.add_constant(dfs[['F_INCOME','F_AGECAT', 'edu', 'republic','COVIDCOVER1_W66', 'MH_TRACK_a_W66', \n",
    "                        'MH_TRACK_b_W66', 'MH_TRACK_d_W66', 'MH_TRACK_d_W66', 'MH_TRACK_e_W66']])\n",
    "y =[1 if i==1 else 0 for i in  dfs['COVIDNEWSPAIR_a_W66']]\n",
    "reg1 = sm.GLM(y,X, family=families.Binomial())\n",
    "results1 = reg1.fit()\n",
    "reg2 = sm.GLM(y,X, family=families.Binomial(), freq_weights=dfs['WEIGHT_W66'])\n",
    "results2 = reg2.fit()\n",
    "print(results2.summary()) "
   ]
  },
  {
   "cell_type": "code",
   "execution_count": 10,
   "metadata": {
    "ExecuteTime": {
     "end_time": "2020-05-14T05:10:31.946742Z",
     "start_time": "2020-05-14T05:10:31.894609Z"
    },
    "slideshow": {
     "slide_type": "subslide"
    }
   },
   "outputs": [
    {
     "name": "stdout",
     "output_type": "stream",
     "text": [
      "                 Generalized Linear Model Regression Results                  \n",
      "==============================================================================\n",
      "Dep. Variable:                      y   No. Observations:                 8022\n",
      "Model:                            GLM   Df Residuals:                  7694.52\n",
      "Model Family:                Binomial   Df Model:                            9\n",
      "Link Function:                  logit   Scale:                          1.0000\n",
      "Method:                          IRLS   Log-Likelihood:                -4259.8\n",
      "Date:                Thu, 14 May 2020   Deviance:                       8519.6\n",
      "Time:                        13:10:31   Pearson chi2:                 7.66e+03\n",
      "No. Iterations:                     4                                         \n",
      "Covariance Type:            nonrobust                                         \n",
      "===================================================================================\n",
      "                      coef    std err          z      P>|z|      [0.025      0.975]\n",
      "-----------------------------------------------------------------------------------\n",
      "const              -2.8958      0.188    -15.397      0.000      -3.264      -2.527\n",
      "F_INCOME           -0.0275      0.012     -2.200      0.028      -0.052      -0.003\n",
      "F_AGECAT           -0.0798      0.026     -3.051      0.002      -0.131      -0.029\n",
      "edu                 0.1463      0.019      7.696      0.000       0.109       0.184\n",
      "republic            0.5598      0.073      7.710      0.000       0.417       0.702\n",
      "COVIDCOVER1_W66     1.1353      0.039     28.945      0.000       1.058       1.212\n",
      "MH_TRACK_a_W66     -0.1216      0.035     -3.432      0.001      -0.191      -0.052\n",
      "MH_TRACK_b_W66     -0.0327      0.038     -0.858      0.391      -0.107       0.042\n",
      "MH_TRACK_d_W66      0.0242      0.014      1.721      0.085      -0.003       0.052\n",
      "MH_TRACK_d_W66      0.0242      0.014      1.721      0.085      -0.003       0.052\n",
      "MH_TRACK_e_W66     -0.0248      0.028     -0.872      0.383      -0.081       0.031\n",
      "===================================================================================\n"
     ]
    }
   ],
   "source": [
    "# Largely inaccurate \n",
    "y =[1 if i==3 else 0 for i in  dfs['COVIDNEWSPAIR_a_W66']]\n",
    "reg1 = sm.GLM(y,X, family=families.Binomial())\n",
    "results1 = reg1.fit()\n",
    "reg2 = sm.GLM(y,X, family=families.Binomial(), freq_weights=dfs['WEIGHT_W66'])\n",
    "results2 = reg2.fit()\n",
    "print(results2.summary()) "
   ]
  },
  {
   "cell_type": "markdown",
   "metadata": {
    "slideshow": {
     "slide_type": "slide"
    }
   },
   "source": [
    "![image.png](./images/end.png)"
   ]
  }
 ],
 "metadata": {
  "celltoolbar": "Slideshow",
  "kernelspec": {
   "display_name": "Python 3",
   "language": "python",
   "name": "python3"
  },
  "language_info": {
   "codemirror_mode": {
    "name": "ipython",
    "version": 3
   },
   "file_extension": ".py",
   "mimetype": "text/x-python",
   "name": "python",
   "nbconvert_exporter": "python",
   "pygments_lexer": "ipython3",
   "version": "3.7.6"
  },
  "latex_envs": {
   "LaTeX_envs_menu_present": true,
   "autoclose": false,
   "autocomplete": true,
   "bibliofile": "biblio.bib",
   "cite_by": "apalike",
   "current_citInitial": 1,
   "eqLabelWithNumbers": true,
   "eqNumInitial": 1,
   "hotkeys": {
    "equation": "Ctrl-E",
    "itemize": "Ctrl-I"
   },
   "labels_anchors": false,
   "latex_user_defs": false,
   "report_style_numbering": false,
   "user_envs_cfg": false
  },
  "toc": {
   "base_numbering": 1,
   "nav_menu": {},
   "number_sections": false,
   "sideBar": true,
   "skip_h1_title": false,
   "title_cell": "Table of Contents",
   "title_sidebar": "Contents",
   "toc_cell": false,
   "toc_position": {},
   "toc_section_display": true,
   "toc_window_display": true
  }
 },
 "nbformat": 4,
 "nbformat_minor": 2
}
