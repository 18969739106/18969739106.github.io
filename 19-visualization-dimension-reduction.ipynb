{
 "cells": [
  {
   "cell_type": "code",
   "execution_count": 9,
   "metadata": {
    "ExecuteTime": {
     "end_time": "2021-09-28T05:45:13.038092Z",
     "start_time": "2021-09-28T05:45:13.035627Z"
    }
   },
   "outputs": [],
   "source": [
    "# pip install numpy\n",
    "# pip install scikit-learn\n",
    "# pip install annoy\n",
    "# pip install numba"
   ]
  },
  {
   "cell_type": "code",
   "execution_count": 2,
   "metadata": {
    "ExecuteTime": {
     "end_time": "2021-09-28T05:43:21.093147Z",
     "start_time": "2021-09-28T05:43:17.687273Z"
    }
   },
   "outputs": [
    {
     "name": "stdout",
     "output_type": "stream",
     "text": [
      "Requirement already satisfied: pacmap in /opt/anaconda3/lib/python3.7/site-packages (0.5.2.1)\n",
      "Requirement already satisfied: scikit-learn>=0.20 in /opt/anaconda3/lib/python3.7/site-packages (from pacmap) (1.0)\n",
      "Requirement already satisfied: numpy>=1.20 in /opt/anaconda3/lib/python3.7/site-packages (from pacmap) (1.20.3)\n",
      "Requirement already satisfied: numba>=0.50 in /opt/anaconda3/lib/python3.7/site-packages (from pacmap) (0.54.0)\n",
      "Requirement already satisfied: annoy>=1.11 in /opt/anaconda3/lib/python3.7/site-packages (from pacmap) (1.17.0)\n",
      "Requirement already satisfied: threadpoolctl>=2.0.0 in /opt/anaconda3/lib/python3.7/site-packages (from scikit-learn>=0.20->pacmap) (2.2.0)\n",
      "Requirement already satisfied: scipy>=1.1.0 in /opt/anaconda3/lib/python3.7/site-packages (from scikit-learn>=0.20->pacmap) (1.7.1)\n",
      "Requirement already satisfied: joblib>=0.11 in /opt/anaconda3/lib/python3.7/site-packages (from scikit-learn>=0.20->pacmap) (1.0.1)\n",
      "Requirement already satisfied: llvmlite<0.38,>=0.37.0rc1 in /opt/anaconda3/lib/python3.7/site-packages (from numba>=0.50->pacmap) (0.37.0)\n",
      "Requirement already satisfied: setuptools in /opt/anaconda3/lib/python3.7/site-packages (from numba>=0.50->pacmap) (58.1.0)\n"
     ]
    }
   ],
   "source": [
    "#You can use pip to install pacmap from PyPI. It will automatically install the dependencies for you:\n",
    "!pip install pacmap #--ignore-installed"
   ]
  },
  {
   "cell_type": "code",
   "execution_count": 4,
   "metadata": {
    "ExecuteTime": {
     "end_time": "2021-09-28T05:53:45.818773Z",
     "start_time": "2021-09-28T05:53:41.972446Z"
    }
   },
   "outputs": [
    {
     "name": "stdout",
     "output_type": "stream",
     "text": [
      "Requirement already up-to-date: tbb in /opt/anaconda3/lib/python3.7/site-packages (2019.0)\n",
      "Note: you may need to restart the kernel to use updated packages.\n"
     ]
    }
   ],
   "source": [
    "pip install --upgrade tbb"
   ]
  },
  {
   "cell_type": "code",
   "execution_count": 2,
   "metadata": {
    "ExecuteTime": {
     "end_time": "2021-09-28T05:53:04.122074Z",
     "start_time": "2021-09-28T05:52:51.309610Z"
    }
   },
   "outputs": [
    {
     "name": "stderr",
     "output_type": "stream",
     "text": [
      "/opt/anaconda3/lib/python3.7/site-packages/numba/np/ufunc/parallel.py:366: NumbaWarning: \u001b[1mThe TBB threading layer requires TBB version 2021 update 1 or later i.e., TBB_INTERFACE_VERSION >= 12010. Found TBB_INTERFACE_VERSION = 11000. The TBB threading layer is disabled.\u001b[0m\n",
      "  warnings.warn(problem)\n"
     ]
    }
   ],
   "source": [
    "import numpy as np\n",
    "import pacmap\n",
    "import matplotlib.pyplot as plt\n",
    "import json\n"
   ]
  },
  {
   "cell_type": "code",
   "execution_count": 2,
   "metadata": {
    "ExecuteTime": {
     "end_time": "2021-09-28T05:51:14.287652Z",
     "start_time": "2021-09-28T05:51:13.684406Z"
    }
   },
   "outputs": [],
   "source": [
    "\n",
    "# Download data from https://github.com/YingfanWang/PaCMAP\n",
    "data_path = '/Users/datalab/Downloads'\n",
    "with open(data_path + '/mammoth_3d.json', 'r') as f:\n",
    "    X = json.load(f)\n",
    "\n",
    "X = np.array(X)\n",
    "with open(data_path + '/mammoth_umap.json', 'r') as f:\n",
    "    labels = json.load(f)\n",
    "labels = labels['labels']\n",
    "labels = np.array(labels)"
   ]
  },
  {
   "cell_type": "code",
   "execution_count": null,
   "metadata": {
    "ExecuteTime": {
     "start_time": "2021-09-28T05:51:24.807Z"
    }
   },
   "outputs": [],
   "source": [
    "\n",
    "# loading preprocessed coil_20 dataset\n",
    "# you can change it with any dataset that is in the ndarray format, with the shape (N, D)\n",
    "# where N is the number of samples and D is the dimension of each sample\n",
    "# X = np.load(\"./data/coil_20.npy\", allow_pickle=True)\n",
    "# X = X.reshape(X.shape[0], -1)\n",
    "# y = np.load(\"./data/coil_20_labels.npy\", allow_pickle=True)\n",
    "\n",
    "# initializing the pacmap instance\n",
    "# Setting n_neighbors to \"None\" leads to a default choice shown below in \"parameter\" section\n",
    "embedding = pacmap.PaCMAP(n_dims=2, n_neighbors=None, MN_ratio=0.5, FP_ratio=2.0) \n",
    "\n",
    "# fit the data (The index of transformed data corresponds to the index of the original data)\n",
    "X_transformed = embedding.fit_transform(X, init=\"pca\")\n",
    "\n"
   ]
  },
  {
   "cell_type": "code",
   "execution_count": null,
   "metadata": {},
   "outputs": [],
   "source": []
  }
 ],
 "metadata": {
  "kernelspec": {
   "display_name": "Python 3",
   "language": "python",
   "name": "python3"
  },
  "language_info": {
   "codemirror_mode": {
    "name": "ipython",
    "version": 3
   },
   "file_extension": ".py",
   "mimetype": "text/x-python",
   "name": "python",
   "nbconvert_exporter": "python",
   "pygments_lexer": "ipython3",
   "version": "3.7.6"
  },
  "toc": {
   "base_numbering": 1,
   "nav_menu": {},
   "number_sections": false,
   "sideBar": true,
   "skip_h1_title": false,
   "title_cell": "Table of Contents",
   "title_sidebar": "Contents",
   "toc_cell": false,
   "toc_position": {},
   "toc_section_display": true,
   "toc_window_display": true
  }
 },
 "nbformat": 4,
 "nbformat_minor": 4
}
